{
  "nbformat": 4,
  "nbformat_minor": 0,
  "metadata": {
    "kernelspec": {
      "display_name": "Python 3",
      "language": "python",
      "name": "python3"
    },
    "language_info": {
      "codemirror_mode": {
        "name": "ipython",
        "version": 3
      },
      "file_extension": ".py",
      "mimetype": "text/x-python",
      "name": "python",
      "nbconvert_exporter": "python",
      "pygments_lexer": "ipython3",
      "version": "3.6.8"
    },
    "latex_envs": {
      "LaTeX_envs_menu_present": true,
      "autoclose": false,
      "autocomplete": true,
      "bibliofile": "biblio.bib",
      "cite_by": "apalike",
      "current_citInitial": 1,
      "eqLabelWithNumbers": true,
      "eqNumInitial": 1,
      "hotkeys": {
        "equation": "Ctrl-E",
        "itemize": "Ctrl-I"
      },
      "labels_anchors": false,
      "latex_user_defs": false,
      "report_style_numbering": false,
      "user_envs_cfg": false
    },
    "toc": {
      "base_numbering": 1,
      "nav_menu": {},
      "number_sections": true,
      "sideBar": true,
      "skip_h1_title": false,
      "title_cell": "Table of Contents",
      "title_sidebar": "Contents",
      "toc_cell": false,
      "toc_position": {
        "height": "calc(100% - 180px)",
        "left": "10px",
        "top": "150px",
        "width": "336px"
      },
      "toc_section_display": true,
      "toc_window_display": true
    },
    "colab": {
      "name": "TensorFlowReview.ipynb",
      "provenance": [],
      "toc_visible": true,
      "include_colab_link": true
    }
  },
  "cells": [
    {
      "cell_type": "markdown",
      "metadata": {
        "id": "view-in-github",
        "colab_type": "text"
      },
      "source": [
        "<a href=\"https://colab.research.google.com/github/MHadavand/Lessons/blob/master/ML/ANN/TensorFlowReview.ipynb\" target=\"_parent\"><img src=\"https://colab.research.google.com/assets/colab-badge.svg\" alt=\"Open In Colab\"/></a>"
      ]
    },
    {
      "cell_type": "markdown",
      "metadata": {
        "id": "pCR3uZTO0-DL",
        "colab_type": "text"
      },
      "source": [
        "# Introduction\n",
        "\n",
        "TensorFlow™ is an open source software library for high performance numerical computation. Its flexible architecture allows easy deployment of computation across a variety of platforms (CPUs, GPUs, TPUs), and from desktops to clusters of servers to mobile and edge devices [1].\n",
        "\n",
        "Originally developed by researchers and engineers from the Google Brain team within Google’s AI organization, it comes with strong support for machine learning and deep learning and the flexible numerical computation core is used across many other scientific domains.\n",
        "\n",
        "TensorFlow is an interface to express machine learning algorithms and provides an implementation for executing such algorithms. In this regard, TensoFlow is not a package/API that can be used to pass your training data and get a predictor/classifier/regression tool. Instead, it is a lower level library that provides features required to implement machine learning algorithms in an optimal way. Also, there are predefined implementations of algorithms that a user can use if the flexibility of designing the implementation is not desired. \n",
        "\n",
        "TensorFlow is designed to facilitate scaling your application by separating the language interface and the execution allowing the code to be executed as a prototype on your laptop or the final product on a cluster.\n",
        "\n",
        "*Language Interface:*\n",
        "\n",
        "    Python, C++, ...\n",
        "\n",
        "*Execution Environment:*\n",
        "\n",
        "    Execution master to choose Local CPU, GPU or a master node on a cluster\n",
        "\n",
        "Source of the name TensorFlow: N dimensional arrays aka Tensors along with mathematical operations are the base of the computation graph executed by TensorFlow.\n",
        "\n",
        "\n",
        "**References:**\n",
        "\n",
        "http://TensorFlow.org\n",
        "\n",
        "https://app.pluralsight.com"
      ]
    },
    {
      "cell_type": "markdown",
      "metadata": {
        "id": "PZ51q0Q80-DM",
        "colab_type": "text"
      },
      "source": [
        "# Installation\n",
        "\n",
        "The following factors can affect the installation:\n",
        "    - OS\n",
        "    - GPU (cuda enabaled) \n",
        "    - Environment (Direct, Virtual, Docer Container)\n",
        "    - Python version (assumin that python is used for the programming language)\n",
        "        Linux, MacOS --> 2.7, 3.3 or later\n",
        "        windows --> 3.5 or later\n",
        "    \n",
        "**For graphic cards info:**\n",
        "\n",
        "```shell\n",
        "$ dxdiag\n",
        "```\n",
        "or use chrome:gpu on your chrome browser\n",
        "\n",
        "**For python version:**\n",
        "\n",
        "```python\n",
        "import sys\n",
        "sys.version\n",
        "```\n",
        "\n",
        "**Installation using pip:**\n",
        "\n",
        "```shell\n",
        "pip install --upgrade tensorflow -- Chose the cpu version\n",
        "```\n",
        "\n",
        "Note that on tensorflow.org you have the option to download the source file from github and config it on your machine.\n",
        "\n"
      ]
    },
    {
      "cell_type": "code",
      "metadata": {
        "ExecuteTime": {
          "end_time": "2020-03-14T22:13:54.643739Z",
          "start_time": "2020-03-14T22:13:54.631781Z"
        },
        "id": "rfJ3srwb0-DN",
        "colab_type": "code",
        "colab": {
          "base_uri": "https://localhost:8080/",
          "height": 35
        },
        "outputId": "704cc469-693d-47ea-d33c-0a8074f7098f"
      },
      "source": [
        "import sys\n",
        "sys.version"
      ],
      "execution_count": 1,
      "outputs": [
        {
          "output_type": "execute_result",
          "data": {
            "application/vnd.google.colaboratory.intrinsic+json": {
              "type": "string"
            },
            "text/plain": [
              "'3.6.9 (default, Jul 17 2020, 12:50:27) \\n[GCC 8.4.0]'"
            ]
          },
          "metadata": {
            "tags": []
          },
          "execution_count": 1
        }
      ]
    },
    {
      "cell_type": "markdown",
      "metadata": {
        "id": "bDW8hrcF0-DS",
        "colab_type": "text"
      },
      "source": [
        "## Testing installation"
      ]
    },
    {
      "cell_type": "code",
      "metadata": {
        "ExecuteTime": {
          "end_time": "2020-03-14T22:14:07.238086Z",
          "start_time": "2020-03-14T22:13:55.283701Z"
        },
        "id": "s2x2lKG70-DT",
        "colab_type": "code",
        "colab": {
          "base_uri": "https://localhost:8080/",
          "height": 265
        },
        "outputId": "2100a1aa-e276-48c6-9542-f5ed4ef8c654"
      },
      "source": [
        "import warnings\n",
        "warnings.filterwarnings(\"ignore\") # Avoid some deprecation warnings\n",
        "import tensorflow as tf\n",
        "print('TensorFlow version {}'.format(tf.__version__))\n",
        "print(tf.__doc__)"
      ],
      "execution_count": 2,
      "outputs": [
        {
          "output_type": "stream",
          "text": [
            "TensorFlow version 2.3.0\n",
            "\n",
            "Top-level module of TensorFlow. By convention, we refer to this module as\n",
            "`tf` instead of `tensorflow`, following the common practice of importing\n",
            "TensorFlow via the command `import tensorflow as tf`.\n",
            "\n",
            "The primary function of this module is to import all of the public TensorFlow\n",
            "interfaces into a single place. The interfaces themselves are located in\n",
            "sub-modules, as described below.\n",
            "\n",
            "Note that the file `__init__.py` in the TensorFlow source code tree is actually\n",
            "only a placeholder to enable test cases to run. The TensorFlow build replaces\n",
            "this file with a file generated from [`api_template.__init__.py`](https://www.github.com/tensorflow/tensorflow/blob/master/tensorflow/api_template.__init__.py)\n",
            "\n"
          ],
          "name": "stdout"
        }
      ]
    },
    {
      "cell_type": "code",
      "metadata": {
        "ExecuteTime": {
          "end_time": "2020-03-14T22:14:30.097396Z",
          "start_time": "2020-03-14T22:14:30.072441Z"
        },
        "id": "5aPKEOM50-DX",
        "colab_type": "code",
        "colab": {
          "base_uri": "https://localhost:8080/",
          "height": 34
        },
        "outputId": "75969a23-c840-4927-8003-0b85db91ef70"
      },
      "source": [
        "a = tf.constant(20)\n",
        "b = tf.constant(50)\n",
        "print('a*b = {}'.format(a*b))"
      ],
      "execution_count": 3,
      "outputs": [
        {
          "output_type": "stream",
          "text": [
            "a*b = 1000\n"
          ],
          "name": "stdout"
        }
      ]
    },
    {
      "cell_type": "markdown",
      "metadata": {
        "id": "VZdoeX7P0-DZ",
        "colab_type": "text"
      },
      "source": [
        "# First Example\n",
        "\n",
        "A simple example of predictinh house proce based on as single variable/feature of house size."
      ]
    },
    {
      "cell_type": "code",
      "metadata": {
        "ExecuteTime": {
          "end_time": "2020-03-14T22:14:43.290383Z",
          "start_time": "2020-03-14T22:14:43.285382Z"
        },
        "id": "I-Q1--NL0-Da",
        "colab_type": "code",
        "colab": {}
      },
      "source": [
        "import tensorflow.compat.v1 as tf # In order to use V1 of tensor flow using tesnorflow 2.*\n",
        "tf.disable_v2_behavior()\n",
        "\n",
        "import numpy as np\n",
        "import pandas as pd\n",
        "import math\n",
        "import random\n",
        "from matplotlib import pyplot as plt\n",
        "from matplotlib import animation\n",
        "from matplotlib import rc\n",
        "rc('animation', html='jshtml')\n",
        "import os\n",
        "%matplotlib inline"
      ],
      "execution_count": 6,
      "outputs": []
    },
    {
      "cell_type": "markdown",
      "metadata": {
        "id": "S6Bh5Elq0-Dd",
        "colab_type": "text"
      },
      "source": [
        "## Data preparation"
      ]
    },
    {
      "cell_type": "code",
      "metadata": {
        "ExecuteTime": {
          "end_time": "2020-03-14T22:14:44.944449Z",
          "start_time": "2020-03-14T22:14:44.931449Z"
        },
        "id": "sVfeJpC70-De",
        "colab_type": "code",
        "colab": {}
      },
      "source": [
        "num_house = 200\n",
        "np.random.seed(69067)\n",
        "house_size = np.random.randint(1000, 3500, num_house)\n",
        "data_housing = pd.DataFrame(columns=['HouseSize'], data=house_size)\n",
        "\n",
        "data_housing['HousePrice'] = data_housing['HouseSize'].apply(lambda size: size* 200 + np.random.randint(10000, 60000))"
      ],
      "execution_count": 7,
      "outputs": []
    },
    {
      "cell_type": "code",
      "metadata": {
        "ExecuteTime": {
          "end_time": "2020-03-14T22:14:45.725411Z",
          "start_time": "2020-03-14T22:14:45.706438Z"
        },
        "id": "itTesgHm0-Dh",
        "colab_type": "code",
        "colab": {
          "base_uri": "https://localhost:8080/",
          "height": 197
        },
        "outputId": "3f998da1-6ba6-42fe-a2f3-65ac2651105b"
      },
      "source": [
        "data_housing.head()"
      ],
      "execution_count": 8,
      "outputs": [
        {
          "output_type": "execute_result",
          "data": {
            "text/html": [
              "<div>\n",
              "<style scoped>\n",
              "    .dataframe tbody tr th:only-of-type {\n",
              "        vertical-align: middle;\n",
              "    }\n",
              "\n",
              "    .dataframe tbody tr th {\n",
              "        vertical-align: top;\n",
              "    }\n",
              "\n",
              "    .dataframe thead th {\n",
              "        text-align: right;\n",
              "    }\n",
              "</style>\n",
              "<table border=\"1\" class=\"dataframe\">\n",
              "  <thead>\n",
              "    <tr style=\"text-align: right;\">\n",
              "      <th></th>\n",
              "      <th>HouseSize</th>\n",
              "      <th>HousePrice</th>\n",
              "    </tr>\n",
              "  </thead>\n",
              "  <tbody>\n",
              "    <tr>\n",
              "      <th>0</th>\n",
              "      <td>2888</td>\n",
              "      <td>603358</td>\n",
              "    </tr>\n",
              "    <tr>\n",
              "      <th>1</th>\n",
              "      <td>3004</td>\n",
              "      <td>645019</td>\n",
              "    </tr>\n",
              "    <tr>\n",
              "      <th>2</th>\n",
              "      <td>1020</td>\n",
              "      <td>245554</td>\n",
              "    </tr>\n",
              "    <tr>\n",
              "      <th>3</th>\n",
              "      <td>2062</td>\n",
              "      <td>446094</td>\n",
              "    </tr>\n",
              "    <tr>\n",
              "      <th>4</th>\n",
              "      <td>2518</td>\n",
              "      <td>544830</td>\n",
              "    </tr>\n",
              "  </tbody>\n",
              "</table>\n",
              "</div>"
            ],
            "text/plain": [
              "   HouseSize  HousePrice\n",
              "0       2888      603358\n",
              "1       3004      645019\n",
              "2       1020      245554\n",
              "3       2062      446094\n",
              "4       2518      544830"
            ]
          },
          "metadata": {
            "tags": []
          },
          "execution_count": 8
        }
      ]
    },
    {
      "cell_type": "markdown",
      "metadata": {
        "id": "mG22X16c0-Dk",
        "colab_type": "text"
      },
      "source": [
        "### Visualize data"
      ]
    },
    {
      "cell_type": "code",
      "metadata": {
        "ExecuteTime": {
          "end_time": "2020-03-14T22:16:00.768637Z",
          "start_time": "2020-03-14T22:16:00.629637Z"
        },
        "id": "qZkSUJpc0-Dk",
        "colab_type": "code",
        "colab": {
          "base_uri": "https://localhost:8080/",
          "height": 334
        },
        "outputId": "453b6339-080d-4a16-caef-cec328c4454e"
      },
      "source": [
        "fig,ax = plt.subplots(1,1, figsize=(5.5,5))\n",
        "# Simple scat plot\n",
        "_ = data_housing.plot(x='HouseSize', y='HousePrice', kind='scatter',ax=ax, color='gray')"
      ],
      "execution_count": 9,
      "outputs": [
        {
          "output_type": "display_data",
          "data": {
            "image/png": "[encoded data removed]",
            "text/plain": [
              "<Figure size 396x360 with 1 Axes>"
            ]
          },
          "metadata": {
            "tags": [],
            "needs_background": "light"
          }
        }
      ]
    },
    {
      "cell_type": "markdown",
      "metadata": {
        "id": "e4PaUIOg0-Do",
        "colab_type": "text"
      },
      "source": [
        "%%latext\n",
        "The price was generated based on a simple equation:\n",
        "\n",
        "$ Price = SizeFactor \\times Size + PriceOffset $"
      ]
    },
    {
      "cell_type": "markdown",
      "metadata": {
        "id": "R7nupL2z0-Do",
        "colab_type": "text"
      },
      "source": [
        "### Standardization"
      ]
    },
    {
      "cell_type": "code",
      "metadata": {
        "ExecuteTime": {
          "end_time": "2020-03-14T22:16:04.333316Z",
          "start_time": "2020-03-14T22:16:04.317332Z"
        },
        "id": "55qyD_AJ0-Dp",
        "colab_type": "code",
        "colab": {
          "base_uri": "https://localhost:8080/",
          "height": 197
        },
        "outputId": "b467b0e8-03b5-4955-a1e1-47622a2f2165"
      },
      "source": [
        "size_mean = np.mean(data_housing['HouseSize'])\n",
        "size_std = np.std(data_housing['HouseSize'])\n",
        "data_housing['HouseSize_std'] = data_housing['HouseSize'].apply(lambda x: (x - size_mean)/ size_std )\n",
        "\n",
        "price_mean = np.mean(data_housing['HousePrice'])\n",
        "price_std = np.std(data_housing['HousePrice'])\n",
        "data_housing['HousePrice_std'] = data_housing['HousePrice'].apply(lambda x: (x - price_mean)/ price_std)\n",
        "\n",
        "data_housing.head()"
      ],
      "execution_count": 10,
      "outputs": [
        {
          "output_type": "execute_result",
          "data": {
            "text/html": [
              "<div>\n",
              "<style scoped>\n",
              "    .dataframe tbody tr th:only-of-type {\n",
              "        vertical-align: middle;\n",
              "    }\n",
              "\n",
              "    .dataframe tbody tr th {\n",
              "        vertical-align: top;\n",
              "    }\n",
              "\n",
              "    .dataframe thead th {\n",
              "        text-align: right;\n",
              "    }\n",
              "</style>\n",
              "<table border=\"1\" class=\"dataframe\">\n",
              "  <thead>\n",
              "    <tr style=\"text-align: right;\">\n",
              "      <th></th>\n",
              "      <th>HouseSize</th>\n",
              "      <th>HousePrice</th>\n",
              "      <th>HouseSize_std</th>\n",
              "      <th>HousePrice_std</th>\n",
              "    </tr>\n",
              "  </thead>\n",
              "  <tbody>\n",
              "    <tr>\n",
              "      <th>0</th>\n",
              "      <td>2888</td>\n",
              "      <td>603358</td>\n",
              "      <td>0.911765</td>\n",
              "      <td>0.834757</td>\n",
              "    </tr>\n",
              "    <tr>\n",
              "      <th>1</th>\n",
              "      <td>3004</td>\n",
              "      <td>645019</td>\n",
              "      <td>1.077531</td>\n",
              "      <td>1.128504</td>\n",
              "    </tr>\n",
              "    <tr>\n",
              "      <th>2</th>\n",
              "      <td>1020</td>\n",
              "      <td>245554</td>\n",
              "      <td>-1.757644</td>\n",
              "      <td>-1.688076</td>\n",
              "    </tr>\n",
              "    <tr>\n",
              "      <th>3</th>\n",
              "      <td>2062</td>\n",
              "      <td>446094</td>\n",
              "      <td>-0.268606</td>\n",
              "      <td>-0.274092</td>\n",
              "    </tr>\n",
              "    <tr>\n",
              "      <th>4</th>\n",
              "      <td>2518</td>\n",
              "      <td>544830</td>\n",
              "      <td>0.383027</td>\n",
              "      <td>0.422083</td>\n",
              "    </tr>\n",
              "  </tbody>\n",
              "</table>\n",
              "</div>"
            ],
            "text/plain": [
              "   HouseSize  HousePrice  HouseSize_std  HousePrice_std\n",
              "0       2888      603358       0.911765        0.834757\n",
              "1       3004      645019       1.077531        1.128504\n",
              "2       1020      245554      -1.757644       -1.688076\n",
              "3       2062      446094      -0.268606       -0.274092\n",
              "4       2518      544830       0.383027        0.422083"
            ]
          },
          "metadata": {
            "tags": []
          },
          "execution_count": 10
        }
      ]
    },
    {
      "cell_type": "code",
      "metadata": {
        "ExecuteTime": {
          "end_time": "2020-03-14T22:16:35.557562Z",
          "start_time": "2020-03-14T22:16:35.392543Z"
        },
        "id": "nSI2NkRg0-Ds",
        "colab_type": "code",
        "colab": {
          "base_uri": "https://localhost:8080/",
          "height": 352
        },
        "outputId": "1e20d011-33c7-4b97-90c9-48ba8a189679"
      },
      "source": [
        "fig,ax = plt.subplots(1,1, figsize=(5.5,5))\n",
        "# Simple scat plot\n",
        "data_housing.plot(x='HouseSize_std', y='HousePrice_std', kind='scatter',ax=ax, color='gray')"
      ],
      "execution_count": 11,
      "outputs": [
        {
          "output_type": "execute_result",
          "data": {
            "text/plain": [
              "<matplotlib.axes._subplots.AxesSubplot at 0x7fa38fda55c0>"
            ]
          },
          "metadata": {
            "tags": []
          },
          "execution_count": 11
        },
        {
          "output_type": "display_data",
          "data": {
            "image/png": "[encoded data removed]",
            "text/plain": [
              "<Figure size 396x360 with 1 Axes>"
            ]
          },
          "metadata": {
            "tags": [],
            "needs_background": "light"
          }
        }
      ]
    },
    {
      "cell_type": "markdown",
      "metadata": {
        "id": "Pkpyhk5-0-Dv",
        "colab_type": "text"
      },
      "source": [
        "### Select test and train data"
      ]
    },
    {
      "cell_type": "code",
      "metadata": {
        "ExecuteTime": {
          "end_time": "2020-03-14T22:16:38.461118Z",
          "start_time": "2020-03-14T22:16:38.454120Z"
        },
        "id": "0JEenkzs0-Dv",
        "colab_type": "code",
        "colab": {
          "base_uri": "https://localhost:8080/",
          "height": 52
        },
        "outputId": "3e002cb8-50bd-42da-94d4-5a162a2476b1"
      },
      "source": [
        "tarin_portion = 0.7\n",
        "train_mask = np.random.rand(len(data_housing)) < tarin_portion\n",
        "data_housing_train = data_housing[train_mask].reset_index(drop=True)\n",
        "num_tarining_data = len(data_housing_train)\n",
        "data_housing_test = data_housing[~train_mask].reset_index(drop=True)\n",
        "print('Number of training data: {} \\nNumber of test data: {}'.format(len(data_housing_train), len(data_housing_test)))"
      ],
      "execution_count": 12,
      "outputs": [
        {
          "output_type": "stream",
          "text": [
            "Number of training data: 139 \n",
            "Number of test data: 61\n"
          ],
          "name": "stdout"
        }
      ]
    },
    {
      "cell_type": "code",
      "metadata": {
        "ExecuteTime": {
          "end_time": "2020-03-14T22:16:39.030319Z",
          "start_time": "2020-03-14T22:16:39.021315Z"
        },
        "id": "vGaHwINd0-Dy",
        "colab_type": "code",
        "colab": {
          "base_uri": "https://localhost:8080/",
          "height": 197
        },
        "outputId": "c725e8d7-a0e8-4c23-ab92-254abcfb52a2"
      },
      "source": [
        "# Inspect training data\n",
        "data_housing_train.head()"
      ],
      "execution_count": 13,
      "outputs": [
        {
          "output_type": "execute_result",
          "data": {
            "text/html": [
              "<div>\n",
              "<style scoped>\n",
              "    .dataframe tbody tr th:only-of-type {\n",
              "        vertical-align: middle;\n",
              "    }\n",
              "\n",
              "    .dataframe tbody tr th {\n",
              "        vertical-align: top;\n",
              "    }\n",
              "\n",
              "    .dataframe thead th {\n",
              "        text-align: right;\n",
              "    }\n",
              "</style>\n",
              "<table border=\"1\" class=\"dataframe\">\n",
              "  <thead>\n",
              "    <tr style=\"text-align: right;\">\n",
              "      <th></th>\n",
              "      <th>HouseSize</th>\n",
              "      <th>HousePrice</th>\n",
              "      <th>HouseSize_std</th>\n",
              "      <th>HousePrice_std</th>\n",
              "    </tr>\n",
              "  </thead>\n",
              "  <tbody>\n",
              "    <tr>\n",
              "      <th>0</th>\n",
              "      <td>2888</td>\n",
              "      <td>603358</td>\n",
              "      <td>0.911765</td>\n",
              "      <td>0.834757</td>\n",
              "    </tr>\n",
              "    <tr>\n",
              "      <th>1</th>\n",
              "      <td>3004</td>\n",
              "      <td>645019</td>\n",
              "      <td>1.077531</td>\n",
              "      <td>1.128504</td>\n",
              "    </tr>\n",
              "    <tr>\n",
              "      <th>2</th>\n",
              "      <td>1020</td>\n",
              "      <td>245554</td>\n",
              "      <td>-1.757644</td>\n",
              "      <td>-1.688076</td>\n",
              "    </tr>\n",
              "    <tr>\n",
              "      <th>3</th>\n",
              "      <td>2062</td>\n",
              "      <td>446094</td>\n",
              "      <td>-0.268606</td>\n",
              "      <td>-0.274092</td>\n",
              "    </tr>\n",
              "    <tr>\n",
              "      <th>4</th>\n",
              "      <td>2518</td>\n",
              "      <td>544830</td>\n",
              "      <td>0.383027</td>\n",
              "      <td>0.422083</td>\n",
              "    </tr>\n",
              "  </tbody>\n",
              "</table>\n",
              "</div>"
            ],
            "text/plain": [
              "   HouseSize  HousePrice  HouseSize_std  HousePrice_std\n",
              "0       2888      603358       0.911765        0.834757\n",
              "1       3004      645019       1.077531        1.128504\n",
              "2       1020      245554      -1.757644       -1.688076\n",
              "3       2062      446094      -0.268606       -0.274092\n",
              "4       2518      544830       0.383027        0.422083"
            ]
          },
          "metadata": {
            "tags": []
          },
          "execution_count": 13
        }
      ]
    },
    {
      "cell_type": "markdown",
      "metadata": {
        "ExecuteTime": {
          "end_time": "2019-01-20T20:26:05.220335Z",
          "start_time": "2019-01-20T20:26:05.206376Z"
        },
        "id": "pELQ34ux0-D3",
        "colab_type": "text"
      },
      "source": [
        "## Use tensor flow\n",
        "Note about tensor types:\n",
        "\n",
        "- Constant: Constant value that does not change\n",
        "- Variable: Value adjusted in the computation graph of TensorFlow\n",
        "- PlaceHodler: Used to pass data into the graph (e.g. from an external source)\n",
        "\n",
        "Also, the following concepts:\n",
        "- Model: A set of mathematical operations supported by tensor flow that defined the neural network part of the computation graph\n",
        "- Cost function: The target function to optimize by calculation the error and modify the weight through back propagation steps\n",
        "- Optimization algorithm"
      ]
    },
    {
      "cell_type": "code",
      "metadata": {
        "ExecuteTime": {
          "end_time": "2020-03-14T22:16:41.248336Z",
          "start_time": "2020-03-14T22:16:41.228334Z"
        },
        "id": "e6I3rrYt0-D3",
        "colab_type": "code",
        "colab": {}
      },
      "source": [
        "# DEfine the placeholders that get updated as our model gets optimized\n",
        "tf_house_size = tf.placeholder(dtype='float', name='HouseSize')\n",
        "tf_house_price =tf.placeholder(dtype='float', name='HousePrice')"
      ],
      "execution_count": 14,
      "outputs": []
    },
    {
      "cell_type": "code",
      "metadata": {
        "ExecuteTime": {
          "end_time": "2019-09-02T20:11:55.358253Z",
          "start_time": "2019-09-02T20:11:55.345291Z"
        },
        "id": "0w_jjKxp0-D6",
        "colab_type": "code",
        "colab": {}
      },
      "source": [
        "# Define variables that get modified as we train our model based on the provided data\n",
        "tf_size_factor = tf.Variable(np.random.randn(), name = 'SizeFactor')\n",
        "tf_price_offset = tf.Variable(np.random.randn(), name = 'PriceOffset')"
      ],
      "execution_count": 15,
      "outputs": []
    },
    {
      "cell_type": "code",
      "metadata": {
        "ExecuteTime": {
          "end_time": "2019-09-02T20:11:55.790106Z",
          "start_time": "2019-09-02T20:11:55.783128Z"
        },
        "id": "JT4Lk9bA0-D8",
        "colab_type": "code",
        "colab": {}
      },
      "source": [
        "# Define the operation/model that needs to be trained to provide optimal result (minimum error based on the training data)\n",
        "tf_price_predict = tf.add(tf.multiply(tf_size_factor, tf_house_size), tf_price_offset)"
      ],
      "execution_count": 16,
      "outputs": []
    },
    {
      "cell_type": "code",
      "metadata": {
        "ExecuteTime": {
          "end_time": "2019-09-02T20:11:56.199960Z",
          "start_time": "2019-09-02T20:11:56.189987Z"
        },
        "id": "oBEqaPMF0-D_",
        "colab_type": "code",
        "colab": {}
      },
      "source": [
        "# Define a cost fucntion that can be used to tarin the model i.e. mean squer error\n",
        "tf_cost = tf.reduce_sum(tf.pow(tf.subtract(tf_price_predict,tf_house_price),2))/num_tarining_data"
      ],
      "execution_count": 17,
      "outputs": []
    },
    {
      "cell_type": "code",
      "metadata": {
        "ExecuteTime": {
          "end_time": "2019-09-02T20:11:56.644897Z",
          "start_time": "2019-09-02T20:11:56.590025Z"
        },
        "id": "fVi-8UTs0-EB",
        "colab_type": "code",
        "colab": {}
      },
      "source": [
        "learning_rate = 0.1\n",
        "optimizer = tf.train.GradientDescentOptimizer(learning_rate=learning_rate)\n",
        "optimizer = optimizer.minimize(tf_cost)"
      ],
      "execution_count": 18,
      "outputs": []
    },
    {
      "cell_type": "code",
      "metadata": {
        "ExecuteTime": {
          "end_time": "2019-09-02T20:11:57.231373Z",
          "start_time": "2019-09-02T20:11:57.110987Z"
        },
        "id": "So7GDteP0-EG",
        "colab_type": "code",
        "colab": {
          "base_uri": "https://localhost:8080/",
          "height": 265
        },
        "outputId": "f25b0779-e7c2-4cca-9241-0dc7d09ba2a1"
      },
      "source": [
        "init = tf.global_variables_initializer()\n",
        "dispaly_freq = 5\n",
        "num_train_iterations = 50\n",
        "\n",
        "size_factor_calc = []\n",
        "price_offset_calc = []\n",
        "training_cost = []\n",
        "\n",
        "with tf.Session() as sess:\n",
        "    sess.run(init)\n",
        "    \n",
        "    for iteration in range(num_train_iterations):\n",
        "        \n",
        "        # This works becuase of the reduce sum over all data\n",
        "        sess.run(optimizer, feed_dict={tf_house_size: data_housing_train['HouseSize_std'],\n",
        "                                             tf_house_price: data_housing_train['HousePrice_std']})\n",
        "        \n",
        "#         # Alternatively, each training record may be passed separately (TensorFlow optimizer remembers)\n",
        "#         for (x,Y) in zip(data_housing_train['HouseSize_std'], data_housing_train['HousePrice_std']): # Note that palce holders need to be fed\n",
        "#             sess.run(optimizer, feed_dict={tf_house_size: x, tf_house_price: Y})\n",
        "        \n",
        "        # Get the cost function value\n",
        "        c = sess.run(tf_cost, feed_dict={tf_house_size: data_housing_train['HouseSize_std'],\n",
        "                                             tf_house_price: data_housing_train['HousePrice_std']})\n",
        "        training_cost.append(c)\n",
        "        # get the size factor and price offset st the current iteration\n",
        "        size_factor_calc.append(sess.run(tf_size_factor))\n",
        "        price_offset_calc.append(sess.run(tf_price_offset))\n",
        "        \n",
        "        if (iteration + 1)%dispaly_freq == 0:\n",
        "            \n",
        "            \n",
        "            print('Iteration number: %03d'%(iteration+1), 'cost = {:.9f}'.format(training_cost[iteration]),\\\n",
        "                 'size factor =', size_factor_calc[iteration], 'price offset=', price_offset_calc[iteration])\n",
        "            \n",
        "    print('Optimization is done!')\n",
        "    print('Final training cost = {:.5f}'.format(training_cost[-1]))\n",
        "    print('Final size factor = ', size_factor_calc[-1])\n",
        "    print('Final price offset = ', price_offset_calc[-1])"
      ],
      "execution_count": 19,
      "outputs": [
        {
          "output_type": "stream",
          "text": [
            "Iteration number: 005 cost = 0.335674256 size factor = 0.48411888 price offset= 0.2098495\n",
            "Iteration number: 010 cost = 0.041418154 size factor = 0.8385502 price offset= 0.05904701\n",
            "Iteration number: 015 cost = 0.013540603 size factor = 0.9478251 price offset= 0.013060032\n",
            "Iteration number: 020 cost = 0.010899332 size factor = 0.9815206 price offset= -0.0009520465\n",
            "Iteration number: 025 cost = 0.010649065 size factor = 0.9919124 price offset= -0.005217602\n",
            "Iteration number: 030 cost = 0.010625349 size factor = 0.99511784 price offset= -0.0065148063\n",
            "Iteration number: 035 cost = 0.010623102 size factor = 0.9961068 price offset= -0.006908866\n",
            "Iteration number: 040 cost = 0.010622890 size factor = 0.99641186 price offset= -0.0070284214\n",
            "Iteration number: 045 cost = 0.010622868 size factor = 0.9965061 price offset= -0.007064644\n",
            "Iteration number: 050 cost = 0.010622866 size factor = 0.9965352 price offset= -0.007075593\n",
            "Optimization is done!\n",
            "Final training cost = 0.01062\n",
            "Final size factor =  0.9965352\n",
            "Final price offset =  -0.007075593\n"
          ],
          "name": "stdout"
        }
      ]
    },
    {
      "cell_type": "markdown",
      "metadata": {
        "id": "obSGRptZ0-EJ",
        "colab_type": "text"
      },
      "source": [
        "### Visualize gradient descent evolution"
      ]
    },
    {
      "cell_type": "code",
      "metadata": {
        "ExecuteTime": {
          "end_time": "2019-09-02T20:11:58.671624Z",
          "start_time": "2019-09-02T20:11:58.377116Z"
        },
        "id": "oprfujQM0-EJ",
        "colab_type": "code",
        "colab": {
          "base_uri": "https://localhost:8080/",
          "height": 278
        },
        "outputId": "536bb16f-38c3-4701-bc19-d7ab7b26fb6e"
      },
      "source": [
        "fig, minax = plt.subplots(1,3,figsize=(15,4))\n",
        "\n",
        "ax = minax[0]\n",
        "ax.plot(training_cost, c = 'r', lw =2)\n",
        "ax.set_xlabel('Iterations'); ax.set_ylabel('Training Cost (Means Squared Error)')\n",
        "ax.grid(True)\n",
        "\n",
        "ax = minax[1]\n",
        "ax.plot(size_factor_calc, c='k', lw=2)\n",
        "ax.set_xlabel('Iterations'); ax.set_ylabel('size factor (standardized)')\n",
        "ax.grid(True)\n",
        "\n",
        "ax = minax[2]\n",
        "ax.plot(price_offset_calc, c='b', lw=2)\n",
        "ax.set_xlabel('Iterations'); ax.set_ylabel('price_offset (standardized)')\n",
        "ax.grid(True)\n",
        "\n",
        "fig.tight_layout(pad = 2.0)"
      ],
      "execution_count": 20,
      "outputs": [
        {
          "output_type": "display_data",
          "data": {
            "image/png": "[encoded data removed]",
            "text/plain": [
              "<Figure size 1080x288 with 3 Axes>"
            ]
          },
          "metadata": {
            "tags": [],
            "needs_background": "light"
          }
        }
      ]
    },
    {
      "cell_type": "code",
      "metadata": {
        "ExecuteTime": {
          "end_time": "2019-09-02T20:11:59.722382Z",
          "start_time": "2019-09-02T20:11:59.479079Z"
        },
        "id": "eCUjNVJ-0-EM",
        "colab_type": "code",
        "colab": {
          "base_uri": "https://localhost:8080/",
          "height": 405
        },
        "outputId": "51f20700-7791-4533-9bca-ee57215476ab"
      },
      "source": [
        "fig, ax = plt.subplots(1,1,figsize=(6,6))\n",
        "\n",
        "test_price_predicted = (size_factor_calc[-1]*data_housing_test.HouseSize_std + price_offset_calc[-1]) * price_std + price_mean\n",
        "\n",
        "# Predicted Model\n",
        "ax.plot(data_housing_test.HouseSize, test_price_predicted, c='gray', lw=2, label = 'Predicted')\n",
        "# Actual test data\n",
        "ax.scatter(data_housing_test.HouseSize, data_housing_test.HousePrice, s = 20, label = 'Test Data')\n",
        "\n",
        "mean_squared_error = 0\n",
        "for price_point, size_point, price_pred in zip(data_housing_test.HousePrice, data_housing_test.HouseSize, test_price_predicted):\n",
        "    ax.plot([size_point, size_point], [price_point, price_pred], c='r', lw=1.5, ls ='--')\n",
        "    mean_squared_error += (price_point - price_pred)**2\n",
        "\n",
        "mean_squared_error = mean_squared_error/len(data_housing_test)\n",
        "rmse = np.sqrt(mean_squared_error)\n",
        "\n",
        "ax.text(0.1,.7, 'RMSE = {:.2f}'.format(rmse), transform = ax.transAxes, fontsize=16)\n",
        "\n",
        "ax.set_xlabel('House Size'); ax.set_ylabel('House Price')\n",
        "ax.legend(fontsize = 16)"
      ],
      "execution_count": 21,
      "outputs": [
        {
          "output_type": "execute_result",
          "data": {
            "text/plain": [
              "<matplotlib.legend.Legend at 0x7fa389cbc630>"
            ]
          },
          "metadata": {
            "tags": []
          },
          "execution_count": 21
        },
        {
          "output_type": "display_data",
          "data": {
            "image/png": "[encoded data removed]",
            "text/plain": [
              "<Figure size 432x432 with 1 Axes>"
            ]
          },
          "metadata": {
            "tags": [],
            "needs_background": "light"
          }
        }
      ]
    },
    {
      "cell_type": "markdown",
      "metadata": {
        "id": "LQPGCMbw0-EO",
        "colab_type": "text"
      },
      "source": [
        "## Comparison with Linear Regression\n",
        "\n",
        "This example can be also solved by simple linear regression. As shown below, the result of gradient descent optimization and regression analysis are very close."
      ]
    },
    {
      "cell_type": "code",
      "metadata": {
        "ExecuteTime": {
          "end_time": "2019-09-02T20:12:00.927501Z",
          "start_time": "2019-09-02T20:12:00.920491Z"
        },
        "id": "h2h_hLxF0-EP",
        "colab_type": "code",
        "colab": {}
      },
      "source": [
        "X = data_housing_test.HouseSize\n",
        "y = data_housing_test.HousePrice\n",
        "slope = np.cov(X,y)[0][1]/np.cov(X,y)[0][0] # Covariance(X,y)/Variance(X)\n",
        "intercept = np.mean(y)-slope*np.mean(X) # mean(y) - slope * mean(X)"
      ],
      "execution_count": 22,
      "outputs": []
    },
    {
      "cell_type": "code",
      "metadata": {
        "ExecuteTime": {
          "end_time": "2019-09-02T20:12:01.751799Z",
          "start_time": "2019-09-02T20:12:01.562291Z"
        },
        "id": "tce5_NYh0-ER",
        "colab_type": "code",
        "colab": {
          "base_uri": "https://localhost:8080/",
          "height": 610
        },
        "outputId": "47e49008-e7e7-4b43-b2d1-c69a4587cc6b"
      },
      "source": [
        "fig, ax = plt.subplots(1,1,figsize=(10,10))\n",
        "# Predicted Model (TensorFlow)\n",
        "ax.plot(data_housing_test.HouseSize, test_price_predicted, c='gray', lw=2, label = 'Predicted TensorFlow')\n",
        "# Actual test data\n",
        "ax.scatter(data_housing_test.HouseSize, data_housing_test.HousePrice, s = 40, label = 'Test Data', facecolors='none', edgecolors='b')\n",
        "# Predicted linear regression\n",
        "ax.plot(data_housing_test.HouseSize, slope*data_housing_test.HouseSize+intercept, c='red', lw=0.5, linestyle=':', label = 'Linear Regression')\n",
        "ax.legend(fontsize = 16)"
      ],
      "execution_count": 23,
      "outputs": [
        {
          "output_type": "execute_result",
          "data": {
            "text/plain": [
              "<matplotlib.legend.Legend at 0x7fa389bca390>"
            ]
          },
          "metadata": {
            "tags": []
          },
          "execution_count": 23
        },
        {
          "output_type": "display_data",
          "data": {
            "image/png": "[encoded data removed]",
            "text/plain": [
              "<Figure size 720x720 with 1 Axes>"
            ]
          },
          "metadata": {
            "tags": [],
            "needs_background": "light"
          }
        }
      ]
    },
    {
      "cell_type": "markdown",
      "metadata": {
        "id": "le4cYS280-EU",
        "colab_type": "text"
      },
      "source": [
        "The root mean squared error of the optimized model for test data is shown in the plot above along with deviations of the actual price from the predicted one using the simple linear model. This is a simple linear regression example that was implemented using TensorFlow. Note that while variables rely on the initialization, placeholders are the tensors provided based on data (i.e. external source compared to the computation graph). You need to make sure the provided data result in tensors with dimensions that comply with the operation that you have added to your model."
      ]
    },
    {
      "cell_type": "markdown",
      "metadata": {
        "id": "1GqQvYOx0-EU",
        "colab_type": "text"
      },
      "source": [
        "# Tensor\n",
        "\n",
        "Some introduction to tensor properties help to better understand how TensorFlow works. Note that mathematics is the base of any algorithm developed by humans. In case of tensors, linear algebra/multilinear algebra is of great significance.\n",
        "\n",
        "Tensor may be defined as an n-dimensional array to represent data. For example 500 observations of 4 variable may be a tensor of 4 by 500 or the other way around.\n",
        "\n",
        "## Tensor Properties\n",
        "\n",
        "Tensors in an operation need to shared compatible properties. \n",
        "\n",
        "### Rank\n",
        "\n",
        "Dimensionality of a tensor.\n",
        "\n",
        "| Rank        | Object           |\n",
        "| ------------- |:-------------:|\n",
        "| 0      | scalar |\n",
        "| 1      | vector      |\n",
        "| 2 | N by N matrix   |\n",
        "| 3 | 3-Tensor(cube)   |\n",
        "| n | n-Tensor(cube)   |\n",
        "\n",
        "### Shape\n",
        "\n",
        "It is closely related to the rank and also number of data in the tensor\n",
        "\n",
        "example: \n",
        "\n",
        "| Rank        | Object           |  Example | Shape\n",
        "| ------------- |:-------------:|:-------------:| :-------------:| \n",
        "| 0 |Scalar|s = 25 | []| \n",
        "| 2 |Matrix|m = [[1,2,3], [4,5,6]] | [2,3]| \n",
        " \n",
        "### Data Type\n",
        "\n",
        "The following data types are supported by TensorFlow\n",
        "\n",
        "- float32, float64\n",
        "- int8, int16, int32, int64\n",
        "- uint8, uint16\n",
        "- string\n",
        "- bool\n",
        "- complex64, complex128\n",
        "- qint8, qint16\n",
        "\n",
        "qint short for Quantized values. The quantized data type is used to scale data/number to reduce size so it takes less bits. This helps to improve processing power of TensorFlow which is critical for scalability. Google has invested on special processing chips called TensoFlow Processing Units (TPUs) that utilize quantized values. \n",
        "\n",
        "\n",
        "### Tensor Info\n",
        "\n",
        "TensorFlow provides the following methods to inspect a tensor:\n",
        "\n",
        "- get_shape \n",
        "- reshape\n",
        "- rank\n",
        "- dtype\n",
        "- cast"
      ]
    },
    {
      "cell_type": "markdown",
      "metadata": {
        "id": "rAP_8UNR0-EU",
        "colab_type": "text"
      },
      "source": [
        "# Gradient Descent\n",
        "\n",
        "Gradient descent is a popular optimization algorithm that works based on finding sequential steps/vectors in the multivariate space of features that provide the steepest reduction in the loss/cost function or steepest increase in the profit/gain function. The learning rate corresponds to the length of the vectors. The direction is determined based on derivative based on the features. \n",
        "\n",
        "![Gradient Descent](https://github.com/MHadavand/Lessons/blob/master/ML/Figures/GradientDescent.png?raw=true \"Obtained from https://www.oreilly.com/\")"
      ]
    },
    {
      "cell_type": "markdown",
      "metadata": {
        "id": "4UjONQG30-EV",
        "colab_type": "text"
      },
      "source": [
        "## Animate Gradient Descent "
      ]
    },
    {
      "cell_type": "code",
      "metadata": {
        "id": "-p6EhsO85gx4",
        "colab_type": "code",
        "colab": {}
      },
      "source": [
        "from matplotlib import rc\n",
        "rc('animation', html='jshtml')"
      ],
      "execution_count": 24,
      "outputs": []
    },
    {
      "cell_type": "code",
      "metadata": {
        "ExecuteTime": {
          "end_time": "2019-09-02T20:12:09.944133Z",
          "start_time": "2019-09-02T20:12:08.557516Z"
        },
        "id": "heAcMQUu0-EV",
        "colab_type": "code",
        "colab": {
          "base_uri": "https://localhost:8080/",
          "height": 351
        },
        "outputId": "dc32b9a5-ea0d-4ec8-c9af-f3d9fbac8ca5"
      },
      "source": [
        "init = tf.global_variables_initializer()\n",
        "dispaly_freq = 5\n",
        "num_train_iterations = 50\n",
        "# %matplotlib notebook\n",
        "\n",
        "with tf.Session() as sess:\n",
        "    sess.run(init)\n",
        "    \n",
        "    size_factor_calc = []\n",
        "    price_offset_calc = []\n",
        "    training_cost = []\n",
        "    \n",
        "    \n",
        "    for iteration in range(num_train_iterations):\n",
        "        \n",
        "        # This works becuase of the reduce sum over all data\n",
        "        sess.run(optimizer, feed_dict={tf_house_size: data_housing_train['HouseSize_std'],\n",
        "                                             tf_house_price: data_housing_train['HousePrice_std']})\n",
        "        \n",
        "        # Get the cost function value\n",
        "        c = sess.run(tf_cost, feed_dict={tf_house_size: data_housing_train['HouseSize_std'],\n",
        "                                             tf_house_price: data_housing_train['HousePrice_std']})\n",
        "        training_cost.append(c)\n",
        "        # get the size factor and price offset st the current iteration\n",
        "        size_factor_calc.append(sess.run(tf_size_factor))\n",
        "        price_offset_calc.append(sess.run(tf_price_offset))\n",
        "\n",
        "    \n",
        "    fig, ax = plt.subplots(1,1,figsize=(5,5))\n",
        "\n",
        "    \n",
        "    # Actual tarining data\n",
        "    ax.scatter(data_housing_train.HouseSize, data_housing_train.HousePrice, s = 40, facecolors='none', edgecolors='g', label = 'Test Data')\n",
        "    ax.set_xlabel('House Size')\n",
        "    ax.set_ylabel('House Price')\n",
        "    \n",
        "    line, = ax.plot([],[], c='gray') \n",
        "    time_text = ax.text(.1, .8, '', fontsize=11, transform = ax.transAxes, color='r')\n",
        "    fig.tight_layout(pad = 2.0)\n",
        "    \n",
        "    def update(i):\n",
        "        test_price_predicted = (size_factor_calc[i]*data_housing_train.HouseSize_std + price_offset_calc[i]) * price_std + price_mean\n",
        "        line.set_xdata(data_housing_train.HouseSize)\n",
        "        line.set_ydata(test_price_predicted)\n",
        "        time_text.set_text('Cost: {:.4f}'.format(training_cost[i]))\n",
        "        return line, time_text,\n",
        "    \n",
        "    \n",
        "    def initAnim():\n",
        "        test_price_predicted = (size_factor_calc[0]*data_housing_train.HouseSize_std + price_offset_calc[0]) * price_std + price_mean\n",
        "        line.set_ydata(test_price_predicted)\n",
        "        line.set_xdata(data_housing_train.HouseSize)\n",
        "        return line,\n",
        "    \n",
        "    anim = animation.FuncAnimation(fig, update, frames=num_train_iterations, init_func=initAnim, interval=200, blit=True)\n",
        "    anim.save('animation.mp4', fps=30)"
      ],
      "execution_count": 26,
      "outputs": [
        {
          "output_type": "display_data",
          "data": {
            "image/png": "[encoded data removed]",
            "text/plain": [
              "<Figure size 360x360 with 1 Axes>"
            ]
          },
          "metadata": {
            "tags": [],
            "needs_background": "light"
          }
        }
      ]
    },
    {
      "cell_type": "markdown",
      "metadata": {
        "id": "WvCqPrnu0-EZ",
        "colab_type": "text"
      },
      "source": [
        "# MNIST example\n",
        "\n",
        "A data set containing 28 by 28 images of handwritten numbers from 0 to 9."
      ]
    },
    {
      "cell_type": "markdown",
      "metadata": {
        "id": "IhcYO-Ej0-EZ",
        "colab_type": "text"
      },
      "source": [
        "## Simple Neural Network\n",
        "\n",
        "A simple network with one layer that maps the image pixels into the output classification categories (i.e. classes)."
      ]
    },
    {
      "cell_type": "code",
      "metadata": {
        "ExecuteTime": {
          "end_time": "2019-09-02T20:46:08.068824Z",
          "start_time": "2019-09-02T20:46:07.887311Z"
        },
        "id": "wNi-k4o_0-Ea",
        "colab_type": "code",
        "colab": {}
      },
      "source": [
        "import random\n",
        "import numpy as np"
      ],
      "execution_count": 23,
      "outputs": []
    },
    {
      "cell_type": "markdown",
      "metadata": {
        "id": "50XKkpdaNwDI",
        "colab_type": "text"
      },
      "source": [
        "### Helper Functions"
      ]
    },
    {
      "cell_type": "code",
      "metadata": {
        "id": "3iJZ1HlNN5qK",
        "colab_type": "code",
        "colab": {}
      },
      "source": [
        "from matplotlib import pyplot as plt\n",
        "from matplotlib import animation\n",
        "from tensorflow import keras\n",
        "import numpy as np\n",
        "\n",
        "def image_plot(image, digit, cmap='bone_r', figsize=(5,5)):\n",
        "\n",
        "    fig, ax = plt.subplots(1,1,figsize=figsize)\n",
        "    ax.text(0.1,0.85,'Label : {}'.format(digit), fontsize=15, color ='b', transform=ax.transAxes)\n",
        "    _ = ax.imshow(image, cmap='bone_r')\n",
        "\n",
        "def transform_label(x):\n",
        "    ''' Using the one hot concept to model the 9 discrete possible integer values for classification to get\n",
        "        probability of each class. Using argmax function allows us to get the correct class i.e. 0, 1, 2, ... 9\n",
        "    '''\n",
        "    one_hot = []\n",
        "    for item in x:\n",
        "        one_hot.append([float(int(i==item)) for i in range(0,10)])\n",
        "    return np.array(one_hot)\n",
        "\n",
        "def flatten_images(image):\n",
        "    '''\n",
        "    Flatten the image\n",
        "    '''\n",
        "    original_shape = image.shape # (number_images by y_pixels(rows) by x_pixels(columns))\n",
        "    return image.reshape(original_shape[0], original_shape[1]*original_shape[1])\n",
        "\n",
        "def mnist_weight_check(weight_tensor, figsize=(20,4), shape=[28,28], cmap='jet'):\n",
        "\n",
        "    fig, mainax = plt.subplots(2,5,figsize=figsize)\n",
        "    for i, ax in enumerate(mainax.flatten()):\n",
        "        _ = ax.imshow(weight_tensor[:,i].reshape(shape[0],shape[1]), cmap=cmap)\n",
        "\n",
        "def mnist_result_anim(images, digits_true, digits_predicted, shape=[28,28], cmap='bone_r', interval=500, repeat=True, n_iterations = 100, video_file=None):\n",
        "\n",
        "    try:\n",
        "        _ = digits_true.shape[1]\n",
        "    except:\n",
        "        digits_true = transform_label(digits_true)\n",
        "\n",
        "    fig, ax = plt.subplots(1,1,figsize=(6,6))\n",
        "    image = ax.imshow(np.zeros([28,28]), cmap=cmap)\n",
        "    true_digit = ax.text(0.1, 0.9, s='True Value:', fontsize=12, transform = ax.transAxes, color='b')\n",
        "    predicted_digit = ax.text(0.1, 0.85, s='PredictedValue:', fontsize=12, transform = ax.transAxes, color='g')\n",
        "\n",
        "    def update(i):\n",
        "        image=ax.imshow(images[i].reshape(shape[0],shape[1]),cmap=cmap)\n",
        "        true_digit.set_text('True Value: {}'.format(np.argmax(digits_true[i])))\n",
        "        predicted_digit.set_text('PredictedValue: {}'.format(np.argmax(digits_predicted[i])))\n",
        "        color = '{}'.format('g' if np.argmax(digits_true[i]) == np.argmax(digits_predicted[i]) else 'r')\n",
        "        predicted_digit.set_color(color)\n",
        "        return image, true_digit, predicted_digit,\n",
        "    if n_iterations is None:\n",
        "        n_iterations = len(images)\n",
        "    anim = animation.FuncAnimation(fig, update, frames=n_iterations, interval=interval, blit=True, repeat=repeat)\n",
        "    if video_file is not None:\n",
        "        anim.save('{video_file}.mp4'.format(video_file=video_file), fps=1)\n",
        "    return anim\n",
        "\n",
        "def conv_result_anim(images, conv1, conv2, conv1_tf, conv2_tf, shape=[28,28], cmap='bone_r'):\n",
        "\n",
        "    fig, ax = plt.subplots(1,3,figsize=(12,4))\n",
        "    image1 = ax[0].imshow(images[0].reshape(shape[0],shape[1]), cmap=cmap)\n",
        "    ax[0].set_title('Input Image')\n",
        "\n",
        "    image2 = ax[1].imshow(conv1[0][:,:,np.random.randint(0,conv1_tf.shape[-1].value)].reshape(conv1_tf.shape[1].value,conv1_tf.shape[2].value), cmap=cmap)\n",
        "    ax[1].set_title('Convolution Layer 1')\n",
        "\n",
        "    image3 = ax[2].imshow(conv2[0][:,:,np.random.randint(0,conv2_tf.shape[-1].value)].reshape(conv2_tf.shape[1].value,conv2_tf.shape[2].value), cmap=cmap)\n",
        "\n",
        "    ax[2].set_title('Convolution Layer 2')\n",
        "\n",
        "    def update(i):\n",
        "            image1 = ax[0].imshow(images[i].reshape(shape[0],shape[1]), cmap=cmap)\n",
        "\n",
        "            image2 = ax[1].imshow(conv1[i][:,:,np.random.randint(0,conv1_tf.shape[-1].value)].reshape(conv1_tf.shape[1].value,conv1_tf.shape[2].value), cmap=cmap)\n",
        "\n",
        "            image3 = ax[2].imshow(conv2[i][:,:,np.random.randint(0,conv2_tf.shape[-1].value)].reshape(conv2_tf.shape[1].value,conv2_tf.shape[2].value), cmap=cmap)\n",
        "\n",
        "            return image1, image2, image3\n",
        "    plt.tight_layout()\n",
        "\n",
        "    return animation.FuncAnimation(fig, update, frames=len(images), interval=450, blit=True, repeat=True)"
      ],
      "execution_count": 24,
      "outputs": []
    },
    {
      "cell_type": "markdown",
      "metadata": {
        "id": "HXqK0eRq0-Ed",
        "colab_type": "text"
      },
      "source": [
        "The input data from TensorFlow's tutorial was not used as it has a deprecation warning. Instead, keras datasets was used to get the mnist data set. The main difference is that the image is not flatten and the labels are not classified by an array with max probability i.e. one_hot."
      ]
    },
    {
      "cell_type": "code",
      "metadata": {
        "ExecuteTime": {
          "end_time": "2019-09-02T20:46:09.405738Z",
          "start_time": "2019-09-02T20:46:08.751487Z"
        },
        "id": "HvPk_Xxj0-Ed",
        "colab_type": "code",
        "colab": {
          "base_uri": "https://localhost:8080/",
          "height": 52
        },
        "outputId": "6cbcabfb-5d4e-4074-a5d7-3c85b840a82c"
      },
      "source": [
        "mnist = tf.keras.datasets.mnist\n",
        "(x_train, y_train),(x_test, y_test) = mnist.load_data()\n",
        "x_train, x_test = x_train / 255.0, x_test / 255.0"
      ],
      "execution_count": 25,
      "outputs": [
        {
          "output_type": "stream",
          "text": [
            "Downloading data from https://storage.googleapis.com/tensorflow/tf-keras-datasets/mnist.npz\n",
            "11493376/11490434 [==============================] - 0s 0us/step\n"
          ],
          "name": "stdout"
        }
      ]
    },
    {
      "cell_type": "markdown",
      "metadata": {
        "id": "lesAqO7K0-Ef",
        "colab_type": "text"
      },
      "source": [
        "### Check an example image from the training set"
      ]
    },
    {
      "cell_type": "code",
      "metadata": {
        "ExecuteTime": {
          "end_time": "2019-09-02T20:46:10.245534Z",
          "start_time": "2019-09-02T20:46:09.952528Z"
        },
        "scrolled": true,
        "id": "1SLxymJY0-Eg",
        "colab_type": "code",
        "colab": {
          "base_uri": "https://localhost:8080/",
          "height": 320
        },
        "outputId": "ffd1369c-9c4a-4a3a-b87e-34ae844b12d8"
      },
      "source": [
        "%matplotlib inline\n",
        "image_plot(x_train[125], y_train[125])"
      ],
      "execution_count": 26,
      "outputs": [
        {
          "output_type": "display_data",
          "data": {
            "image/png": "[encoded data removed]",
            "text/plain": [
              "<Figure size 360x360 with 1 Axes>"
            ]
          },
          "metadata": {
            "tags": [],
            "needs_background": "light"
          }
        }
      ]
    },
    {
      "cell_type": "markdown",
      "metadata": {
        "id": "_CS7oYRr0-Ei",
        "colab_type": "text"
      },
      "source": [
        "### Transformations"
      ]
    },
    {
      "cell_type": "code",
      "metadata": {
        "ExecuteTime": {
          "end_time": "2019-09-02T20:46:12.521431Z",
          "start_time": "2019-09-02T20:46:10.919752Z"
        },
        "id": "Iy_k7euz0-Ej",
        "colab_type": "code",
        "colab": {}
      },
      "source": [
        "y_train, y_test = transform_label(y_train), transform_label(y_test)"
      ],
      "execution_count": 27,
      "outputs": []
    },
    {
      "cell_type": "code",
      "metadata": {
        "ExecuteTime": {
          "end_time": "2019-09-02T20:46:12.713918Z",
          "start_time": "2019-09-02T20:46:12.523427Z"
        },
        "id": "TDMF_w4g0-El",
        "colab_type": "code",
        "colab": {}
      },
      "source": [
        "x_train, x_test = flatten_images(x_train), flatten_images(x_test)"
      ],
      "execution_count": 28,
      "outputs": []
    },
    {
      "cell_type": "markdown",
      "metadata": {
        "id": "yUBQ0cEz0-Eq",
        "colab_type": "text"
      },
      "source": [
        "### Define the model"
      ]
    },
    {
      "cell_type": "code",
      "metadata": {
        "ExecuteTime": {
          "end_time": "2019-09-02T20:46:13.893698Z",
          "start_time": "2019-09-02T20:46:13.662288Z"
        },
        "id": "rn8fZrOT0-Eq",
        "colab_type": "code",
        "colab": {}
      },
      "source": [
        "# plcae holder for the input which is a 28 by 28 image data\n",
        "x = tf.placeholder(tf.float32, shape=[None,784])\n",
        "#place holder for predcicted output\n",
        "y = tf.placeholder(tf.float32, shape=[None,10])\n",
        "\n",
        "# Weights and bias for the only layer of the model\n",
        "w = tf.Variable(tf.zeros([784,10]))\n",
        "b = tf.Variable(tf.zeros([10]))\n",
        "\n",
        "layer1=tf.matmul(x,w)+b\n",
        "\n",
        "# Define model (make sure that the tensor rank an shape comply with the operation)\n",
        "y_p = tf.nn.softmax(layer1) # softmax = tf.exp(logits) / tf.reduce_sum(tf.exp(logits), axis)\n",
        "\n",
        "# Define the lost that is cross_entropy\n",
        "cross_entropy = tf.reduce_mean(tf.nn.softmax_cross_entropy_with_logits_v2(labels=y, logits=layer1))\n",
        "# Note: soft max is implmeneted so logits should be layer1 although using y_p would work too\n",
        "\n",
        "learning_rate = 0.5\n",
        "optimizer = tf.train.GradientDescentOptimizer(learning_rate=learning_rate).minimize(cross_entropy)"
      ],
      "execution_count": 29,
      "outputs": []
    },
    {
      "cell_type": "markdown",
      "metadata": {
        "id": "D-3mU7ps0-Et",
        "colab_type": "text"
      },
      "source": [
        "### Define the performance measure"
      ]
    },
    {
      "cell_type": "code",
      "metadata": {
        "ExecuteTime": {
          "end_time": "2019-09-02T20:46:16.646285Z",
          "start_time": "2019-09-02T20:46:16.465754Z"
        },
        "id": "wfvFmZKM0-Et",
        "colab_type": "code",
        "colab": {}
      },
      "source": [
        "correct = tf.equal(tf.argmax(y_p,1), tf.argmax(y,1))\n",
        "accuracy = tf.reduce_mean(tf.cast(correct, tf.float32))"
      ],
      "execution_count": 30,
      "outputs": []
    },
    {
      "cell_type": "markdown",
      "metadata": {
        "id": "CGD0LD4h0-Ev",
        "colab_type": "text"
      },
      "source": [
        "### Run the model\n",
        "\n",
        "Note that the initial guess (i.e. zeros or random normal) can significantly affect the performance of the model and depending on the type of optimization algorithm, it may get the model trapped in local optimal solutions for weights and biases."
      ]
    },
    {
      "cell_type": "code",
      "metadata": {
        "ExecuteTime": {
          "end_time": "2019-09-02T20:27:32.207298Z",
          "start_time": "2019-09-02T20:27:20.569705Z"
        },
        "scrolled": true,
        "id": "dlob6PxE0-Ew",
        "colab_type": "code",
        "colab": {
          "base_uri": "https://localhost:8080/",
          "height": 16
        },
        "outputId": "d5f7e1d9-12fd-4a01-d5bf-e10e8f7655ad"
      },
      "source": [
        "batch_size = 200\n",
        "batch_list = [ i for i in range(0,len(x_train),batch_size)] # Break training data into batches\n",
        "nump_epoch = 20\n",
        "weight_repo = [] # Get all the weights\n",
        "\n",
        "with tf.Session() as sess:\n",
        "    sess.run(tf.global_variables_initializer()) # Session initilization\n",
        "    \n",
        "    for epoch in range(nump_epoch):\n",
        "        for i in range(len(batch_list)-1):\n",
        "            start_index = batch_list[i]\n",
        "            end_index = batch_list[i+1]\n",
        "            x_batch = x_train[start_index:end_index]\n",
        "            y_batch = y_train[start_index:end_index]\n",
        "            sess.run(optimizer, feed_dict={x: x_batch, y: y_batch})\n",
        "\n",
        "        cost = sess.run(cross_entropy, feed_dict={x: x_batch, y:y_batch})\n",
        "        \n",
        "        accuracy_train = sess.run(accuracy, feed_dict={x: x_train, y:y_train})*100\n",
        "        accuracy_test = sess.run(accuracy, feed_dict={x: x_test, y:y_test})*100\n",
        "        print('Epoch: {}, Accuracy_train: %{:.2f}, Accuracy_test: %{:.2f}, Cost: {:.3f}'.format(epoch+1,\n",
        "                                                                                                accuracy_train,\n",
        "                                                                                                accuracy_test,\n",
        "                                                                                                cost),end='')\n",
        "        print('\\r', end='')\n",
        "        weight_repo.append(sess.run(w, feed_dict={x: x_batch, y:y_batch}))\n",
        "    \n",
        "    prediction = sess.run(y_p, feed_dict = {x: x_test, y: y_test})"
      ],
      "execution_count": 31,
      "outputs": [
        {
          "output_type": "stream",
          "text": [
            ""
          ],
          "name": "stdout"
        }
      ]
    },
    {
      "cell_type": "markdown",
      "metadata": {
        "id": "klMYj0pA0-E1",
        "colab_type": "text"
      },
      "source": [
        "### Visualize the final weights\n",
        "\n",
        "Note that weights that connect all the pixels into one output neuron corresponds to the class that the neuron represents. As can be seen below, the first neuron that classifies zero, assigns more weights to the pixels that form the number 0 and so on."
      ]
    },
    {
      "cell_type": "code",
      "metadata": {
        "ExecuteTime": {
          "end_time": "2019-09-02T20:27:34.017377Z",
          "start_time": "2019-09-02T20:27:33.366495Z"
        },
        "id": "PD2Lb_EW0-E1",
        "colab_type": "code",
        "colab": {
          "base_uri": "https://localhost:8080/",
          "height": 267
        },
        "outputId": "1c873ad5-442b-4105-ded1-da0d04060bce"
      },
      "source": [
        "mnist_weight_check(weight_repo[-1], shape=[28,28], cmap='jet')"
      ],
      "execution_count": 32,
      "outputs": [
        {
          "output_type": "display_data",
          "data": {
            "image/png": "[encoded data removed]",
            "text/plain": [
              "<Figure size 1440x288 with 10 Axes>"
            ]
          },
          "metadata": {
            "tags": [],
            "needs_background": "light"
          }
        }
      ]
    },
    {
      "cell_type": "markdown",
      "metadata": {
        "id": "CokcszeX0-E4",
        "colab_type": "text"
      },
      "source": [
        "### Visualize the prediction "
      ]
    },
    {
      "cell_type": "code",
      "metadata": {
        "ExecuteTime": {
          "end_time": "2019-09-02T20:28:04.958225Z",
          "start_time": "2019-09-02T20:27:35.465081Z"
        },
        "id": "uZIgwLba0-E5",
        "colab_type": "code",
        "colab": {
          "base_uri": "https://localhost:8080/",
          "height": 392
        },
        "outputId": "7bd88a68-2aa6-4d9e-c2cd-59469c6a763a"
      },
      "source": [
        "mnist_result_anim(x_test, y_test, prediction, video_file='mnist')"
      ],
      "execution_count": 33,
      "outputs": [
        {
          "output_type": "execute_result",
          "data": {
            "text/plain": [
              "<matplotlib.animation.FuncAnimation at 0x7efdc3712860>"
            ]
          },
          "metadata": {
            "tags": []
          },
          "execution_count": 33
        },
        {
          "output_type": "display_data",
          "data": {
            "image/png": "[encoded data removed]",
            "text/plain": [
              "<Figure size 432x432 with 1 Axes>"
            ]
          },
          "metadata": {
            "tags": [],
            "needs_background": "light"
          }
        }
      ]
    },
    {
      "cell_type": "markdown",
      "metadata": {
        "id": "7jzS2q5P0-E7",
        "colab_type": "text"
      },
      "source": [
        "## Convolutional Network\n",
        "\n",
        "Using convolution layer allows us to capture spatial features of the image through a moving averaging window using a random filter. As a result, one input image of a digit will be transformed to multiple possible convoluted images that helps to cover have a more generalized set of images for that digit and in turn helps to avoid over fitting."
      ]
    },
    {
      "cell_type": "code",
      "metadata": {
        "ExecuteTime": {
          "end_time": "2019-02-20T14:25:56.049682Z",
          "start_time": "2019-02-20T14:25:53.685008Z"
        },
        "id": "WVdmZ2By0-E-",
        "colab_type": "code",
        "colab": {}
      },
      "source": [
        "mnist = tf.keras.datasets.mnist\n",
        "(x_train, y_train),(x_test, y_test) = mnist.load_data()\n",
        "x_train, x_test = x_train / 255.0, x_test / 255.0\n",
        "y_train, y_test = transform_label(y_train), transform_label(y_test)\n",
        "x_train, x_test = flatten_images(x_train), flatten_images(x_test)"
      ],
      "execution_count": 34,
      "outputs": []
    },
    {
      "cell_type": "markdown",
      "metadata": {
        "id": "NBa9eCzh0-FA",
        "colab_type": "text"
      },
      "source": [
        "### Settings"
      ]
    },
    {
      "cell_type": "code",
      "metadata": {
        "ExecuteTime": {
          "end_time": "2019-02-20T14:29:51.040790Z",
          "start_time": "2019-02-20T14:29:50.803912Z"
        },
        "id": "J8jjSxKs0-FB",
        "colab_type": "code",
        "colab": {}
      },
      "source": [
        "image_nrows = 28\n",
        "image_ncolumns = 28\n",
        "image_flat_size = image_nrows*image_ncolumns\n",
        "n_channels = 1 # Gray scale\n",
        "n_classes = 10 # 0,1,... 9\n",
        "\n",
        "log_path = r'./tensorboard_log/' # Log path for tensor board\n",
        "try:\n",
        "    os.rmdir(log_path)\n",
        "except:\n",
        "    pass"
      ],
      "execution_count": 35,
      "outputs": []
    },
    {
      "cell_type": "markdown",
      "metadata": {
        "id": "igaMroYN0-FE",
        "colab_type": "text"
      },
      "source": [
        "### Define a summary helper function"
      ]
    },
    {
      "cell_type": "code",
      "metadata": {
        "ExecuteTime": {
          "end_time": "2019-02-20T14:26:06.009225Z",
          "start_time": "2019-02-20T14:26:05.771039Z"
        },
        "id": "OegaoMMJ0-FF",
        "colab_type": "code",
        "colab": {}
      },
      "source": [
        "def variable_summary(var):\n",
        "    with tf.name_scope('Summary'):\n",
        "        mean = tf.reduce_mean(var)\n",
        "        tf.summary.scalar('Mean', mean)\n",
        "        std = tf.sqrt(tf.reduce_mean(tf.square(var-mean)))\n",
        "        tf.summary.scalar('Std', std)\n",
        "        \n",
        "        tf.summary.scalar('Min', tf.reduce_min(var))\n",
        "        tf.summary.scalar('Max', tf.reduce_max(var))\n",
        "        tf.summary.histogram('HistoGram', var)"
      ],
      "execution_count": 36,
      "outputs": []
    },
    {
      "cell_type": "markdown",
      "metadata": {
        "id": "uaKQR8XA0-FI",
        "colab_type": "text"
      },
      "source": [
        "### Define the place holders"
      ]
    },
    {
      "cell_type": "code",
      "metadata": {
        "ExecuteTime": {
          "end_time": "2019-02-20T14:26:12.946759Z",
          "start_time": "2019-02-20T14:26:12.667562Z"
        },
        "id": "8zFbm1bw0-FK",
        "colab_type": "code",
        "colab": {}
      },
      "source": [
        "with tf.name_scope(name = 'InputLayer'):\n",
        "    x = tf.placeholder(tf.float32, shape=[None, image_flat_size], name='Images')\n",
        "    y = tf.placeholder(tf.float32, shape=[None,n_classes], name = 'Classes')\n",
        "\n",
        "with tf.name_scope(name='ArgmaxTransform'):\n",
        "    y_class = tf.argmax(y, axis=1, name='InputDigit') # One_Hot: The index with highest probabality\n",
        "\n",
        "with tf.name_scope(name='ReshapeTransform'):\n",
        "    # Get the image back into 28 by 28 pixels which can be used by the convolution layer\n",
        "    x_image = tf.reshape(x, [-1,image_nrows,image_ncolumns,n_channels], name='Image_2D') # -1 is used to change a list of 1D arrays to a list of 2D images\n",
        "    tf.summary.image('InputImage', x_image, 5)"
      ],
      "execution_count": 37,
      "outputs": []
    },
    {
      "cell_type": "markdown",
      "metadata": {
        "id": "ar25Ef2G0-FM",
        "colab_type": "text"
      },
      "source": [
        "Note that an image is defined by a 3D tensor in general: \\{n_height(number of rows), n_width(number of columns), n_channels\\}. A gray scale image has only 1 channel. Considering the number of images, the NHWC format can be used to have a rank 4 tensor for the input batch of images.\n",
        "\n",
        "\\{batch, in_height, in_width, in_channels\\] = \\[-1, 28, 28, 1\\} ==> NHWC format \n",
        "\n",
        "Note: -1 is use as we do not know the batch number before hand."
      ]
    },
    {
      "cell_type": "markdown",
      "metadata": {
        "id": "kZHxKosj0-FO",
        "colab_type": "text"
      },
      "source": [
        "### Defining initializer functions "
      ]
    },
    {
      "cell_type": "code",
      "metadata": {
        "ExecuteTime": {
          "end_time": "2019-02-20T14:26:23.289558Z",
          "start_time": "2019-02-20T14:26:23.043385Z"
        },
        "id": "yOBNLPx_0-FO",
        "colab_type": "code",
        "colab": {}
      },
      "source": [
        "def sample_weights(shape, name=None):\n",
        "    '''\n",
        "    This function is used to get the filters that are used as the convolution filters.\n",
        "    '''\n",
        "    return tf.Variable(tf.truncated_normal(shape, stddev=0.05), name=name) # sample withing +-2 standard deviation from the mean that corresponds to 95% of the distribution \n",
        "\n",
        "def get_bias(shape, name=None):\n",
        "    ''' \n",
        "    Constant biases added to each convolutional filter\n",
        "    '''\n",
        "    return tf.Variable(tf.constant(0.001, shape=shape), name=name)"
      ],
      "execution_count": 38,
      "outputs": []
    },
    {
      "cell_type": "markdown",
      "metadata": {
        "id": "b4mkJ3dW0-FT",
        "colab_type": "text"
      },
      "source": [
        "The convolution of f and g is written f∗g. It is defined as the integral/summation of the product of the two functions after one is reversed and shifted.\n",
        "\n",
        "$$\n",
        "f * g (t) = \\int f(\\tau)g(t-\\tau) \\, d\\tau\n",
        "$$"
      ]
    },
    {
      "cell_type": "markdown",
      "metadata": {
        "id": "p-87PgSB0-FU",
        "colab_type": "text"
      },
      "source": [
        "### Function to define the convolution layer\n",
        "\n",
        "Although the TensorFlow API/package makes it much easier to design the convolutional layer, there are a couple if steps that should be wrapped in a function to avoid repeatability and minimize changes to the code (try to align with solid design principles)."
      ]
    },
    {
      "cell_type": "code",
      "metadata": {
        "ExecuteTime": {
          "end_time": "2019-02-20T14:27:20.350881Z",
          "start_time": "2019-02-20T14:27:20.101705Z"
        },
        "id": "wniqclch0-FU",
        "colab_type": "code",
        "colab": {}
      },
      "source": [
        "def new_convolutional_layer(input_tensor, # The output of the previous layer (e.g. training images for the first conv layer)\n",
        "                            number_input_channels, # number of channels from the previous channel\n",
        "                            filter_size, # size of the averaging window (squared one for this example)\n",
        "                            number_filters, # Number of alternative filters\n",
        "                            pooling = True, # Option to apply a pooling step after the convolution\n",
        "                           ):\n",
        "    \n",
        "    '''\n",
        "    A wrapper function to summarize cretaing a new convolutional layer using tensor flow.\n",
        "    Input: Image based on NHWC format\n",
        "    Output: NHWC format\n",
        "            number of images: same as input\n",
        "            height/row number: depending on the pooling window size (e.g. if 2 by 2, then devided by two)\n",
        "            width/column number: Ditto\n",
        "            Channels: Number of filters \n",
        "    Note that: In image processing, the point of using convolution is to apply a filter to the image using a mask/kernel. This\n",
        "    can be used to blur the image or sharpen the edges and so on depending on the kernel matrix definition. The goal of applying \n",
        "    convolution layer is to get alternative represnetation of the same image using random filters that get optimized by the NN.\n",
        "    '''\n",
        "    \n",
        "    # shape of the filter defined for TensoFlow's API\n",
        "    filter_shape = [filter_size, filter_size, number_input_channels, number_filters]\n",
        "    \n",
        "    with tf.name_scope('Weights'):\n",
        "        conv_weights = sample_weights(filter_shape, name='ConvolutionFilterWeights') # Sample a truncated normal distribution to get filters for an image/convluted image\n",
        "        variable_summary(conv_weights)\n",
        "        # Note that even the convolutional filter will be optimized by learnig from the training images\n",
        "    with tf.name_scope('Biases'):\n",
        "        biases = get_bias([number_filters], name='ConvolutionBias')\n",
        "        variable_summary(biases)\n",
        "\n",
        "    # Note that the combination of filter size, strides and padding determines the output tensor/image size\n",
        "    layer = tf.nn.conv2d(input_tensor, # tensor matching the data_format provided\n",
        "                         filter = conv_weights, # The convloutional filter\n",
        "                         strides=[1,1,1,1], # the first and last one must be one to step over image and channel, second and third one are used to move the window\n",
        "                         padding='SAME', # Padding takes care of matching the window and input tensor shape (corners)  \n",
        "                         data_format='NHWC',\n",
        "                         name = 'Convolution2D'\n",
        "                        )\n",
        "    # The same initilized bias is added to each channel of the result of the convolution\n",
        "    layer += biases\n",
        "    \n",
        "    if pooling:\n",
        "        layer = tf.nn.max_pool(value=layer,\n",
        "                               ksize=[1,2,2,1], # Determines the size of the output \n",
        "                               strides=[1,2,2,1],# strides fo moving the pooling window\n",
        "                               padding='SAME', # Account for corners\n",
        "                               name='Pool2by2'\n",
        "                              )\n",
        "        \n",
        "        \n",
        "    # Using relu function (*Computes rectified linear: max(features, 0)*)\n",
        "    # A filter to truncate nagative values\n",
        "    layer = tf.nn.relu(layer)\n",
        "    \n",
        "    # Note that applying relu function is usually before pooling but for the max pool is does not matter (relu(max_pool(x)) = max_pool(relu(x)))\n",
        "    # By applying relu after pooling, we can improve the performance ny reducing number of relu filters\n",
        "    \n",
        "    return layer, conv_weights"
      ],
      "execution_count": 39,
      "outputs": []
    },
    {
      "cell_type": "markdown",
      "metadata": {
        "id": "A75jnbXm0-FY",
        "colab_type": "text"
      },
      "source": [
        "### Function to flatten the convoluted results\n",
        "\n",
        "The result of the convolution layer is a rank 4 tensor. The fully connected layer requires to flatten the convoluted tensor to a rank 2 tensor (i.e. num_tensor/images by flattened tensor and channels)"
      ]
    },
    {
      "cell_type": "code",
      "metadata": {
        "ExecuteTime": {
          "end_time": "2019-02-20T14:27:21.975760Z",
          "start_time": "2019-02-20T14:27:21.740594Z"
        },
        "id": "4PKoskuz0-FZ",
        "colab_type": "code",
        "colab": {}
      },
      "source": [
        "def make_flat(layer, name=None):\n",
        "    \n",
        "    layer_shape = layer.get_shape()\n",
        "    num_items =  layer_shape[0]\n",
        "    num_features = np.array(layer_shape[1:], dtype=int).prod()\n",
        "    \n",
        "    return tf.reshape(layer, [-1,num_features], name=name), num_features # Reshape to num_items by num_features"
      ],
      "execution_count": 40,
      "outputs": []
    },
    {
      "cell_type": "markdown",
      "metadata": {
        "id": "gCYIebBl0-Fb",
        "colab_type": "text"
      },
      "source": [
        "### Output layer"
      ]
    },
    {
      "cell_type": "code",
      "metadata": {
        "ExecuteTime": {
          "end_time": "2019-02-20T14:27:22.968641Z",
          "start_time": "2019-02-20T14:27:22.731648Z"
        },
        "id": "zcEOGYjo0-Fb",
        "colab_type": "code",
        "colab": {}
      },
      "source": [
        "def new_fc_layer(input_tensor, # NHWC\n",
        "                   num_inputs,\n",
        "                   num_outputs,\n",
        "                   use_relu=True\n",
        "                  ):\n",
        "    ''' Provides the fully connected layer'''\n",
        "    \n",
        "    weights = sample_weights([num_inputs,num_outputs], name='FullConnectedWeights')\n",
        "    \n",
        "    biases = get_bias([num_outputs], name = 'FullConnectedBias')\n",
        "    \n",
        "    layer = tf.matmul(input_tensor, weights) + biases\n",
        "    \n",
        "    if use_relu:\n",
        "        layer = tf.nn.relu(layer)\n",
        "        \n",
        "    return layer"
      ],
      "execution_count": 41,
      "outputs": []
    },
    {
      "cell_type": "markdown",
      "metadata": {
        "id": "gq9y4yvK0-Fe",
        "colab_type": "text"
      },
      "source": [
        "### Define the final model"
      ]
    },
    {
      "cell_type": "code",
      "metadata": {
        "ExecuteTime": {
          "end_time": "2019-02-20T14:27:25.366485Z",
          "start_time": "2019-02-20T14:27:25.130306Z"
        },
        "id": "MLrQu-dA0-Fe",
        "colab_type": "code",
        "colab": {}
      },
      "source": [
        "filter_size1 = 5 # Squared filter\n",
        "filter_size2 = 2\n",
        "\n",
        "number_filters1 = 15 # Creating multiple alternatives for the filter to create differen convolutional alternative\n",
        "number_filters2 = 20"
      ],
      "execution_count": 42,
      "outputs": []
    },
    {
      "cell_type": "code",
      "metadata": {
        "ExecuteTime": {
          "end_time": "2019-02-20T14:27:25.910152Z",
          "start_time": "2019-02-20T14:27:25.620948Z"
        },
        "id": "Lztc-snU0-Fh",
        "colab_type": "code",
        "colab": {
          "base_uri": "https://localhost:8080/",
          "height": 34
        },
        "outputId": "099184b6-60ce-4efa-ecc8-81c2e98e8faa"
      },
      "source": [
        "with tf.name_scope(name='ConvLayer1'):\n",
        "    conv_layer_1, conv_weights_1 = new_convolutional_layer(input_tensor=x_image, # [-1,28,28,1]\n",
        "                                                           number_input_channels= n_channels, \n",
        "                                                           filter_size=filter_size1, # Size of the averaging window \n",
        "                                                           number_filters=number_filters1,\n",
        "                                                           pooling=True)\n",
        "conv_layer_1"
      ],
      "execution_count": 43,
      "outputs": [
        {
          "output_type": "execute_result",
          "data": {
            "text/plain": [
              "<tf.Tensor 'ConvLayer1/Relu:0' shape=(?, 14, 14, 15) dtype=float32>"
            ]
          },
          "metadata": {
            "tags": []
          },
          "execution_count": 43
        }
      ]
    },
    {
      "cell_type": "code",
      "metadata": {
        "ExecuteTime": {
          "end_time": "2019-02-20T14:27:26.759737Z",
          "start_time": "2019-02-20T14:27:26.475539Z"
        },
        "id": "GHb4q2DS0-Fl",
        "colab_type": "code",
        "colab": {
          "base_uri": "https://localhost:8080/",
          "height": 34
        },
        "outputId": "6c7e6ca8-b4d5-472a-d97f-2e4530e325b2"
      },
      "source": [
        "with tf.name_scope(name='ConvLayer2'):\n",
        "    conv_layer_2, conv_weights_2 = new_convolutional_layer(input_tensor=conv_layer_1, # [-1,28/2,28/2,number_filters1] devided by 2 because of the pooling strides and ksize\n",
        "                                                           number_input_channels= number_filters1, \n",
        "                                                           filter_size=filter_size2, # Size of the averaging window \n",
        "                                                           number_filters=number_filters2,\n",
        "                                                           pooling=True)\n",
        "conv_layer_2"
      ],
      "execution_count": 44,
      "outputs": [
        {
          "output_type": "execute_result",
          "data": {
            "text/plain": [
              "<tf.Tensor 'ConvLayer2/Relu:0' shape=(?, 7, 7, 20) dtype=float32>"
            ]
          },
          "metadata": {
            "tags": []
          },
          "execution_count": 44
        }
      ]
    },
    {
      "cell_type": "code",
      "metadata": {
        "ExecuteTime": {
          "end_time": "2019-02-20T14:27:29.243518Z",
          "start_time": "2019-02-20T14:27:29.011356Z"
        },
        "id": "02PgBemx0-Fo",
        "colab_type": "code",
        "colab": {
          "base_uri": "https://localhost:8080/",
          "height": 34
        },
        "outputId": "0a00d9e9-b28e-428a-cb34-4364af3f712b"
      },
      "source": [
        "flat_layer, num_features = make_flat(conv_layer_2, name='FlatTransform')\n",
        "flat_layer, num_features"
      ],
      "execution_count": 45,
      "outputs": [
        {
          "output_type": "execute_result",
          "data": {
            "text/plain": [
              "(<tf.Tensor 'FlatTransform:0' shape=(?, 980) dtype=float32>, 980)"
            ]
          },
          "metadata": {
            "tags": []
          },
          "execution_count": 45
        }
      ]
    },
    {
      "cell_type": "code",
      "metadata": {
        "ExecuteTime": {
          "end_time": "2019-02-20T14:27:31.018378Z",
          "start_time": "2019-02-20T14:27:30.771190Z"
        },
        "id": "3SlSr06a0-Fr",
        "colab_type": "code",
        "colab": {
          "base_uri": "https://localhost:8080/",
          "height": 34
        },
        "outputId": "671fad70-16d7-4ffd-f6e7-b3029c07d0a5"
      },
      "source": [
        "with tf.name_scope(name='FcLayer1'):\n",
        "    layer_fc1= new_fc_layer(flat_layer, num_inputs=num_features, num_outputs=128, use_relu=True)# apply activation\n",
        "layer_fc1"
      ],
      "execution_count": 46,
      "outputs": [
        {
          "output_type": "execute_result",
          "data": {
            "text/plain": [
              "<tf.Tensor 'FcLayer1/Relu:0' shape=(?, 128) dtype=float32>"
            ]
          },
          "metadata": {
            "tags": []
          },
          "execution_count": 46
        }
      ]
    },
    {
      "cell_type": "code",
      "metadata": {
        "ExecuteTime": {
          "end_time": "2019-02-20T14:27:32.042397Z",
          "start_time": "2019-02-20T14:27:31.795224Z"
        },
        "id": "VWl5w5fL0-Fv",
        "colab_type": "code",
        "colab": {
          "base_uri": "https://localhost:8080/",
          "height": 34
        },
        "outputId": "5a8b4d4c-f81a-46f9-802e-b4edf9f6090c"
      },
      "source": [
        "with tf.name_scope(name='FcLayer2'):\n",
        "    layer_fc2 = new_fc_layer(layer_fc1, num_inputs=128, num_outputs=n_classes, use_relu=False) # Leave the activation\n",
        "layer_fc2"
      ],
      "execution_count": 47,
      "outputs": [
        {
          "output_type": "execute_result",
          "data": {
            "text/plain": [
              "<tf.Tensor 'FcLayer2/add:0' shape=(?, 10) dtype=float32>"
            ]
          },
          "metadata": {
            "tags": []
          },
          "execution_count": 47
        }
      ]
    },
    {
      "cell_type": "markdown",
      "metadata": {
        "id": "_2AVfDpT0-Fz",
        "colab_type": "text"
      },
      "source": [
        "#### The predicted layer\n",
        "\n",
        "Applying the proper activation for prediction layer. The 10 classes are identified based on identifying the output neuron with highest probability/likelihood. In this context, it is required to normalize the results of the final layer for classification to be between 0 and 1 and with summation to be equal to one. This can be done by TensorFlow's softmax activation function"
      ]
    },
    {
      "cell_type": "code",
      "metadata": {
        "ExecuteTime": {
          "end_time": "2019-02-20T14:27:35.029902Z",
          "start_time": "2019-02-20T14:27:34.794745Z"
        },
        "id": "HfOCTmoO0-F0",
        "colab_type": "code",
        "colab": {}
      },
      "source": [
        "with tf.name_scope('Output'):\n",
        "    y_p = tf.nn.softmax(layer_fc2, name='PredictedClasses')\n",
        "    \n",
        "with tf.name_scope(name='ArgmaxTransform'):\n",
        "    y_p_class = tf.argmax(y_p, axis=1, name='PredictedDigit')"
      ],
      "execution_count": 48,
      "outputs": []
    },
    {
      "cell_type": "markdown",
      "metadata": {
        "id": "xIb0Npq90-F2",
        "colab_type": "text"
      },
      "source": [
        "#### Define the cost\n",
        "\n",
        "The best answer that matches the true label has the correct neuron with highest normalized entropy after applying softmax function. Also, the entropy needs to be minimized meaning that the answer is more certain and the right neuron has the maximum probability that is as close as possible to 1. This can be implemented using  "
      ]
    },
    {
      "cell_type": "code",
      "metadata": {
        "ExecuteTime": {
          "end_time": "2019-02-20T14:27:38.464300Z",
          "start_time": "2019-02-20T14:27:38.202128Z"
        },
        "id": "fjh0AB280-F3",
        "colab_type": "code",
        "colab": {
          "base_uri": "https://localhost:8080/",
          "height": 34
        },
        "outputId": "f40991d6-6791-4631-8bb9-f2749ed9c970"
      },
      "source": [
        "# Softmax is implemenetd in this function so we use layer_fc2for logits instead of y_p\n",
        "with tf.name_scope('CrossEntropy'):\n",
        "    cost = tf.reduce_mean(tf.nn.softmax_cross_entropy_with_logits_v2(labels= y, logits=layer_fc2))\n",
        "tf.summary.scalar('Cost', cost)"
      ],
      "execution_count": 49,
      "outputs": [
        {
          "output_type": "execute_result",
          "data": {
            "text/plain": [
              "<tf.Tensor 'Cost:0' shape=() dtype=string>"
            ]
          },
          "metadata": {
            "tags": []
          },
          "execution_count": 49
        }
      ]
    },
    {
      "cell_type": "code",
      "metadata": {
        "ExecuteTime": {
          "end_time": "2019-02-20T14:27:39.945086Z",
          "start_time": "2019-02-20T14:27:39.547794Z"
        },
        "id": "763GNhZ80-F5",
        "colab_type": "code",
        "colab": {}
      },
      "source": [
        "with tf.name_scope('Optimizer'):\n",
        "    optimizer = tf.train.AdamOptimizer(learning_rate=0.0001).minimize(cost)"
      ],
      "execution_count": 50,
      "outputs": []
    },
    {
      "cell_type": "markdown",
      "metadata": {
        "id": "8zmStJMu0-F8",
        "colab_type": "text"
      },
      "source": [
        "### Accuracy measure"
      ]
    },
    {
      "cell_type": "code",
      "metadata": {
        "ExecuteTime": {
          "end_time": "2019-02-20T14:27:46.244930Z",
          "start_time": "2019-02-20T14:27:46.004761Z"
        },
        "id": "P9uR7vFj0-F9",
        "colab_type": "code",
        "colab": {
          "base_uri": "https://localhost:8080/",
          "height": 34
        },
        "outputId": "f5909167-906e-4ff8-d695-c2583187cdf5"
      },
      "source": [
        "with tf.name_scope(name='Accuracy'):\n",
        "    correct_prediction = tf.equal(y_p_class,y_class)\n",
        "    accuracy = tf.reduce_mean(tf.cast(correct_prediction, tf.float32))\n",
        "tf.summary.scalar('Accuracy', accuracy)"
      ],
      "execution_count": 51,
      "outputs": [
        {
          "output_type": "execute_result",
          "data": {
            "text/plain": [
              "<tf.Tensor 'Accuracy_1:0' shape=() dtype=string>"
            ]
          },
          "metadata": {
            "tags": []
          },
          "execution_count": 51
        }
      ]
    },
    {
      "cell_type": "markdown",
      "metadata": {
        "id": "eVtfDMLn0-F_",
        "colab_type": "text"
      },
      "source": [
        "### Run the model"
      ]
    },
    {
      "cell_type": "code",
      "metadata": {
        "ExecuteTime": {
          "end_time": "2019-02-20T14:42:52.582751Z",
          "start_time": "2019-02-20T14:30:08.995703Z"
        },
        "id": "k_w4brZW0-F_",
        "colab_type": "code",
        "colab": {
          "base_uri": "https://localhost:8080/",
          "height": 16
        },
        "outputId": "debaadd9-de00-4641-f89d-8485bf04e8d2"
      },
      "source": [
        "batch_size = 200\n",
        "batch_list = [ i for i in range(0,len(x_train),batch_size)] # Break training data into batches\n",
        "nump_epoch = 15\n",
        "\n",
        "all_summary = tf.summary.merge_all()\n",
        "\n",
        "sess= tf.Session()\n",
        "tb_writer = tf.summary.FileWriter(logdir = log_path, graph=sess.graph, session=sess)\n",
        "sess.run(tf.global_variables_initializer())\n",
        "\n",
        "\n",
        "for epoch in range(nump_epoch):\n",
        "    for i in range(len(batch_list)-1):\n",
        "        start_index = batch_list[i]\n",
        "        end_index = batch_list[i+1]\n",
        "        x_batch = x_train[start_index:end_index]\n",
        "        y_batch = y_train[start_index:end_index]\n",
        "        _, summary = sess.run([optimizer, all_summary], feed_dict={x: x_batch, y: y_batch})  \n",
        "        \n",
        "    accuracy_val = sess.run(accuracy, feed_dict={x: x_test, y:y_test})*100\n",
        "    print('Epoch: {}, Accuracy: %{:.2f}'.format(epoch+1, accuracy_val), end='')\n",
        "    print('\\r', end='')\n",
        "    tb_writer.add_summary(summary, epoch)"
      ],
      "execution_count": 52,
      "outputs": [
        {
          "output_type": "stream",
          "text": [
            ""
          ],
          "name": "stdout"
        }
      ]
    },
    {
      "cell_type": "code",
      "metadata": {
        "ExecuteTime": {
          "end_time": "2019-02-20T14:59:47.783998Z",
          "start_time": "2019-02-20T14:59:37.958447Z"
        },
        "id": "RYS1JKj-0-GB",
        "colab_type": "code",
        "colab": {}
      },
      "source": [
        "# get the predictions for test data\n",
        "prediction = sess.run(y_p, feed_dict = {x: x_test, y: y_test})\n",
        "\n",
        "# get the final convolution image for layer 1\n",
        "conv_1 = conv_layer_1.eval(feed_dict = {x: x_test, y: y_test}, session=sess)\n",
        "conv_weight_1 = conv_weights_1.eval(session=sess)\n",
        "\n",
        "# get the final convolution image for layer 2\n",
        "conv_2 = conv_layer_2.eval(feed_dict = {x: x_test, y: y_test}, session=sess)\n",
        "conv_weight_2 = conv_weights_2.eval(session=sess)\n",
        "\n",
        "#save the result\n",
        "import pickle\n",
        "with open('ConvResults.pickle', 'wb') as handle:\n",
        "    pickle.dump([prediction, conv_1, conv_2, conv_weight_1, conv_weight_2], handle, protocol=pickle.HIGHEST_PROTOCOL)\n",
        "\n",
        "sess.close()"
      ],
      "execution_count": 53,
      "outputs": []
    },
    {
      "cell_type": "markdown",
      "metadata": {
        "id": "wDM73ddr0-GF",
        "colab_type": "text"
      },
      "source": [
        "### Visualizations"
      ]
    },
    {
      "cell_type": "markdown",
      "metadata": {
        "id": "SmKJitoM0-GG",
        "colab_type": "text"
      },
      "source": [
        "#### Convolution layers\n",
        "The animation below, shows the result of applying convolution filters on the image. It is recommended to use visualizations to understand how the convolution is implemented in TensorFlow. I think there is a shift/drift issue with the way that convolution is implemented because the filter is placed in a way that the target pixel is on the corner of the filter and not the center of the filter. Depending on the type of padding that can result in reduced number of pixels (padding='SAME' keeps the same pixel number). Also, using strides more than 1 for the row and column shift can distort the image. \n",
        "\n",
        "I think for more complicated image recognition problems, it is better to implement some pre-processing for the image using the known convolution filters (no need for optimization)."
      ]
    },
    {
      "cell_type": "code",
      "metadata": {
        "ExecuteTime": {
          "end_time": "2019-02-20T15:00:02.590748Z",
          "start_time": "2019-02-20T15:00:02.084389Z"
        },
        "scrolled": false,
        "id": "LLbYgdyt0-GG",
        "colab_type": "code",
        "colab": {
          "base_uri": "https://localhost:8080/",
          "height": 167
        },
        "outputId": "96b3ad8f-4ebd-450b-b8fb-b443dcec79ae"
      },
      "source": [
        "conv_result_anim(x_test, conv_1, conv_2, conv_layer_1, conv_layer_2, shape=[28,28])"
      ],
      "execution_count": 55,
      "outputs": [
        {
          "output_type": "error",
          "ename": "NameError",
          "evalue": "ignored",
          "traceback": [
            "\u001b[0;31m---------------------------------------------------------------------------\u001b[0m",
            "\u001b[0;31mNameError\u001b[0m                                 Traceback (most recent call last)",
            "\u001b[0;32m<ipython-input-55-b1b54ebc0a16>\u001b[0m in \u001b[0;36m<module>\u001b[0;34m()\u001b[0m\n\u001b[0;32m----> 1\u001b[0;31m \u001b[0mconv_result_anim\u001b[0m\u001b[0;34m(\u001b[0m\u001b[0mx_test\u001b[0m\u001b[0;34m,\u001b[0m \u001b[0mconv_1\u001b[0m\u001b[0;34m,\u001b[0m \u001b[0mconv_2\u001b[0m\u001b[0;34m,\u001b[0m \u001b[0mconv_layer_1\u001b[0m\u001b[0;34m,\u001b[0m \u001b[0mconv_layer_2\u001b[0m\u001b[0;34m,\u001b[0m \u001b[0mshape\u001b[0m\u001b[0;34m=\u001b[0m\u001b[0;34m[\u001b[0m\u001b[0;36m28\u001b[0m\u001b[0;34m,\u001b[0m\u001b[0;36m28\u001b[0m\u001b[0;34m]\u001b[0m\u001b[0;34m)\u001b[0m\u001b[0;34m\u001b[0m\u001b[0;34m\u001b[0m\u001b[0m\n\u001b[0m",
            "\u001b[0;31mNameError\u001b[0m: name 'conv_result_anim' is not defined"
          ]
        }
      ]
    },
    {
      "cell_type": "markdown",
      "metadata": {
        "id": "Yn1FeCfn0-GJ",
        "colab_type": "text"
      },
      "source": [
        "#### Prediction vs True"
      ]
    },
    {
      "cell_type": "code",
      "metadata": {
        "ExecuteTime": {
          "end_time": "2019-02-20T15:00:16.251407Z",
          "start_time": "2019-02-20T15:00:15.987219Z"
        },
        "scrolled": false,
        "id": "K1lx2U1r0-GJ",
        "colab_type": "code",
        "colab": {}
      },
      "source": [
        "%matplotlib notebook\n",
        "mnist_result_anim(x_test,y_test, prediction, interval=50)"
      ],
      "execution_count": null,
      "outputs": []
    },
    {
      "cell_type": "markdown",
      "metadata": {
        "id": "DAKtP9Ww0-GL",
        "colab_type": "text"
      },
      "source": [
        "## Inception\n",
        "\n",
        "A strong tool/model developed by google for image classification with average performance better than human. The code is open source and part of tensor flow distribution. \n",
        "\n",
        "Training the model from scratch takes a lot of time and resources. However, the idea of transfer learning can be used to borrow/inherit the classification of model being trained and expand on that or use it for similar classification problems."
      ]
    },
    {
      "cell_type": "markdown",
      "metadata": {
        "id": "PKpuh8Fr0-GL",
        "colab_type": "text"
      },
      "source": [
        "The main steps:\n",
        "    - Get your data (i.e. flower images to classify)\n",
        "    - Modify the inception model's last layer to correspond to the number of classes you need\n",
        "    - Retrain the next to the last (bottleneck) layer with your own data. The layers before the bottle neck layer are used to extract image features and improve classification power of the bottleneck layer"
      ]
    },
    {
      "cell_type": "markdown",
      "metadata": {
        "id": "1pU30f5V0-GL",
        "colab_type": "text"
      },
      "source": [
        "## Using keras\n",
        " \n",
        "Keras is a high-level neural networks API, written in Python and capable of running on top of TensorFlow, CNTK, or Theano. For more information, visit Keras.io. Currently, keras is a part of TensorFlow distribution so no need to install it separately."
      ]
    },
    {
      "cell_type": "markdown",
      "metadata": {
        "id": "LcVEtrBV0-GM",
        "colab_type": "text"
      },
      "source": [
        "### Single Layer (Linear Regression)"
      ]
    },
    {
      "cell_type": "code",
      "metadata": {
        "ExecuteTime": {
          "end_time": "2019-02-26T14:28:40.286001Z",
          "start_time": "2019-02-26T14:28:39.571497Z"
        },
        "id": "bbhNH0tC0-GM",
        "colab_type": "code",
        "colab": {}
      },
      "source": [
        "import tensorflow as tf\n",
        "from tensorflow.keras.models import Sequential\n",
        "from tensorflow.keras.layers import Dense\n",
        "\n",
        "# Define the NN for doing Linear Regression\n",
        "model = Sequential()\n",
        "\n",
        "# Using Dense as the simplest layer. We use one Neuron becuase we just need the slope (one weight) plus intercept (one bias)\n",
        "# The activation is lenear becuase we are doing linear regression\n",
        "model.add(Dense(1, input_shape=(1,), activation='linear'))\n",
        "\n",
        "model.compile(loss='mean_squared_error', optimizer='sgd') # Loss and optimizer (stochastic gradient descent)\n",
        "\n",
        "#   Fit/train the model\n",
        "model.fit(data_housing_train['HouseSize_std'], data_housing_train['HousePrice_std'], epochs=20)"
      ],
      "execution_count": null,
      "outputs": []
    },
    {
      "cell_type": "markdown",
      "metadata": {
        "id": "pzYzg7Jg0-GO",
        "colab_type": "text"
      },
      "source": [
        "#### Get the prediction"
      ]
    },
    {
      "cell_type": "code",
      "metadata": {
        "ExecuteTime": {
          "end_time": "2019-02-25T14:16:46.706967Z",
          "start_time": "2019-02-25T14:16:46.701977Z"
        },
        "id": "_USmBxvG0-GO",
        "colab_type": "code",
        "colab": {}
      },
      "source": [
        "test_price_predicted = model.predict(data_housing_test['HouseSize_std'])\n",
        "test_price_predicted = test_price_predicted*price_std + price_mean\n",
        "test_price_predicted = test_price_predicted.reshape(len(data_housing_test['HouseSize_std']))"
      ],
      "execution_count": null,
      "outputs": []
    },
    {
      "cell_type": "markdown",
      "metadata": {
        "id": "TZSi1cUF0-GQ",
        "colab_type": "text"
      },
      "source": [
        "#### Visualization of the regression"
      ]
    },
    {
      "cell_type": "code",
      "metadata": {
        "ExecuteTime": {
          "end_time": "2019-02-25T14:16:47.655157Z",
          "start_time": "2019-02-25T14:16:47.307900Z"
        },
        "id": "TXLNWN240-GR",
        "colab_type": "code",
        "colab": {}
      },
      "source": [
        "fig, ax = plt.subplots(1,1,figsize=(6,6))\n",
        "\n",
        "\n",
        "# Predicted Model\n",
        "ax.plot(data_housing_test.HouseSize, test_price_predicted, c='gray', lw=2, label = 'Predicted')\n",
        "# Actual test data\n",
        "ax.scatter(data_housing_test.HouseSize, data_housing_test.HousePrice, s = 20, label = 'Test Data')\n",
        "\n",
        "mean_squared_error = 0\n",
        "for price_point, size_point, price_pred in zip(data_housing_test.HousePrice, data_housing_test.HouseSize, test_price_predicted):\n",
        "    ax.plot([size_point, size_point], [price_point, price_pred], c='r', lw=1.5, ls ='--')\n",
        "    mean_squared_error += (price_point - price_pred)**2\n",
        "\n",
        "mean_squared_error = mean_squared_error/len(data_housing_test)\n",
        "rmse = np.sqrt(mean_squared_error)\n",
        "\n",
        "ax.text(0.1,.7, 'RMSE = {:.2f}'.format(rmse), transform = ax.transAxes, fontsize=16)\n",
        "\n",
        "ax.set_xlabel('House Size'); ax.set_ylabel('House Price')\n",
        "ax.legend(fontsize = 16)"
      ],
      "execution_count": null,
      "outputs": []
    },
    {
      "cell_type": "markdown",
      "metadata": {
        "id": "j7GMFID60-GT",
        "colab_type": "text"
      },
      "source": [
        "### Deep Learning"
      ]
    },
    {
      "cell_type": "code",
      "metadata": {
        "ExecuteTime": {
          "end_time": "2019-02-26T14:39:38.440959Z",
          "start_time": "2019-02-26T14:39:26.835259Z"
        },
        "scrolled": false,
        "id": "3i2mtA0p0-GT",
        "colab_type": "code",
        "colab": {}
      },
      "source": [
        "import tensorflow as tf\n",
        "mnist = tf.keras.datasets.mnist\n",
        "\n",
        "(x_train, y_train),(x_test, y_test) = mnist.load_data()\n",
        "\n",
        "# Normalize data\n",
        "x_train = tf.keras.utils.normalize(x_train, axis=1)\n",
        "x_test = tf.keras.utils.normalize(x_test, axis=1)\n",
        "\n",
        "# Note: no need to transform the labels to one-hot format. Keras will do that for you\n",
        "\n",
        "model = tf.keras.models.Sequential()\n",
        "\n",
        "# Input layer for the firsrt layer the input shape is required\n",
        "model.add(tf.keras.layers.Flatten(input_shape=(28, 28)))\n",
        "\n",
        "# Two hiddedn layer. Keras figures out the input shape based on the previous layer\n",
        "model.add(tf.keras.layers.Dense(units = 128, activation=tf.nn.relu)) # Rectified linear\n",
        "model.add(tf.keras.layers.Dense(units = 128, activation=tf.nn.relu)) \n",
        "\n",
        "# Output layer\n",
        "model.add(tf.keras.layers.Dense(units = 10, activation=tf.nn.softmax)) # output layer\n",
        "\n",
        "model.compile(optimizer='adam', loss='sparse_categorical_crossentropy', metrics=['accuracy'])\n",
        "\n",
        "model.fit(x_train, y_train, epochs=4, batch_size=100, validation_data=(x_test, y_test), verbose=1)"
      ],
      "execution_count": null,
      "outputs": []
    },
    {
      "cell_type": "markdown",
      "metadata": {
        "id": "dGGfIBPK0-GV",
        "colab_type": "text"
      },
      "source": [
        "#### Get the prediction"
      ]
    },
    {
      "cell_type": "code",
      "metadata": {
        "ExecuteTime": {
          "end_time": "2019-02-12T14:37:43.374160Z",
          "start_time": "2019-02-12T14:37:42.661196Z"
        },
        "id": "HCH7hVbQ0-GV",
        "colab_type": "code",
        "colab": {}
      },
      "source": [
        "prediction = model.predict(x_test)"
      ],
      "execution_count": null,
      "outputs": []
    },
    {
      "cell_type": "markdown",
      "metadata": {
        "id": "CqUTiL2Q0-GX",
        "colab_type": "text"
      },
      "source": [
        "#### Visualize the predictions"
      ]
    },
    {
      "cell_type": "code",
      "metadata": {
        "ExecuteTime": {
          "end_time": "2019-02-12T14:42:32.157825Z",
          "start_time": "2019-02-12T14:42:31.579417Z"
        },
        "scrolled": false,
        "id": "X0EFubCo0-GX",
        "colab_type": "code",
        "colab": {}
      },
      "source": [
        "%matplotlib notebook\n",
        "mnist_result_anim(x_test,y_test, prediction)"
      ],
      "execution_count": null,
      "outputs": []
    },
    {
      "cell_type": "markdown",
      "metadata": {
        "id": "23cpCL_m0-Gb",
        "colab_type": "text"
      },
      "source": [
        "## Using TFLearn\n",
        "\n",
        "TFLearn is an API that only works for TensorFlow and is a part of TensorFlow distribution."
      ]
    },
    {
      "cell_type": "code",
      "metadata": {
        "ExecuteTime": {
          "end_time": "2019-02-27T14:16:27.844777Z",
          "start_time": "2019-02-27T14:16:27.432487Z"
        },
        "id": "InQ6a3ji0-Gb",
        "colab_type": "code",
        "colab": {}
      },
      "source": [
        "import tensorflow as tf\n",
        "from toolbox.utilities import image_plot, transform_label, flatten_images, mnist_weight_check, mnist_result_anim, conv_result_anim\n",
        "\n",
        "import tflearn\n",
        "from tflearn.layers.core import input_data, dropout, fully_connected\n",
        "from tflearn.layers.conv import conv_2d, max_pool_2d\n",
        "from tflearn.layers.normalization import local_response_normalization\n",
        "from tflearn.layers.estimator import regression\n",
        "%load_ext autoreload\n",
        "%autoreload 2"
      ],
      "execution_count": null,
      "outputs": []
    },
    {
      "cell_type": "code",
      "metadata": {
        "ExecuteTime": {
          "end_time": "2019-02-27T14:09:26.210880Z",
          "start_time": "2019-02-27T14:09:23.277244Z"
        },
        "id": "Zl4IOKl70-Gd",
        "colab_type": "code",
        "colab": {}
      },
      "source": [
        "mnist = tf.keras.datasets.mnist\n",
        "(x_train, y_train),(x_test, y_test) = mnist.load_data()\n",
        "x_train, x_test = x_train / 255.0, x_test / 255.0\n",
        "y_train, y_test = transform_label(y_train), transform_label(y_test)"
      ],
      "execution_count": null,
      "outputs": []
    },
    {
      "cell_type": "markdown",
      "metadata": {
        "id": "J6EM0nJd0-Gf",
        "colab_type": "text"
      },
      "source": [
        "### Settings"
      ]
    },
    {
      "cell_type": "code",
      "metadata": {
        "ExecuteTime": {
          "end_time": "2019-02-27T14:09:26.630918Z",
          "start_time": "2019-02-27T14:09:26.218617Z"
        },
        "id": "218OnE1Q0-Gf",
        "colab_type": "code",
        "colab": {}
      },
      "source": [
        "image_nrows = 28\n",
        "image_ncolumns = 28\n",
        "image_flat_size = image_nrows*image_ncolumns\n",
        "n_channels = 1 # Gray scale\n",
        "n_classes = 10 # 0,1,... 9\n",
        "keep_prob = 0.6 # pul out neorons to avoid overfitting"
      ],
      "execution_count": null,
      "outputs": []
    },
    {
      "cell_type": "code",
      "metadata": {
        "ExecuteTime": {
          "end_time": "2019-02-27T14:09:27.053429Z",
          "start_time": "2019-02-27T14:09:26.633406Z"
        },
        "id": "tFu8P2MN0-Gh",
        "colab_type": "code",
        "colab": {}
      },
      "source": [
        "image_train = x_train.reshape(x_train.shape[0], x_train.shape[1], x_train.shape[2], 1)\n",
        "image_test = x_test.reshape(x_test.shape[0], x_test.shape[1], x_test.shape[2], 1)"
      ],
      "execution_count": null,
      "outputs": []
    },
    {
      "cell_type": "markdown",
      "metadata": {
        "ExecuteTime": {
          "end_time": "2019-02-27T13:51:25.263362Z",
          "start_time": "2019-02-27T13:51:11.200054Z"
        },
        "id": "HQBgU-cp0-Gk",
        "colab_type": "text"
      },
      "source": [
        "### Defining the network using TFLearn"
      ]
    },
    {
      "cell_type": "code",
      "metadata": {
        "ExecuteTime": {
          "end_time": "2019-02-27T14:09:27.733906Z",
          "start_time": "2019-02-27T14:09:27.057432Z"
        },
        "id": "FmqWSK2o0-Gk",
        "colab_type": "code",
        "colab": {}
      },
      "source": [
        "# Define the input layer\n",
        "input_layer = input_data(shape=[None, image_nrows, image_ncolumns, 1], name='input')\n",
        "\n",
        "\n",
        "# Add the first convolutional layer\n",
        "network = conv_2d(input_layer, nb_filter=32, filter_size=3, activation='relu', regularizer=\"L2\")\n",
        "#   Notice name was not specified.  The name is defaulted to \"Conv2D\", and will be postfixed with \"_n\" \n",
        "\n",
        "# Implement pooling layer\n",
        "network = max_pool_2d(network, 2)\n",
        "\n",
        "# Add the second convolutional layer\n",
        "network = conv_2d(network, nb_filter=64, filter_size=3, activation='relu', regularizer=\"L2\")\n",
        "# Implement pooling layer\n",
        "network = max_pool_2d(network, 2)\n",
        "\n",
        "# Add fully Connected Layer\n",
        "network = fully_connected(network, 128, activation='tanh')\n",
        "\n",
        "# dropout some neurons to reduce overfitting\n",
        "network = dropout(network, keep_prob)\n",
        "\n",
        "# Readout layer (based on one-hot)\n",
        "network = fully_connected(network, 10, activation='softmax')\n",
        "\n",
        "# Set loss and measurement, optimizer\n",
        "network = regression(network, optimizer='adam', learning_rate=0.01,\n",
        "                        loss='categorical_crossentropy', name='target')\n"
      ],
      "execution_count": null,
      "outputs": []
    },
    {
      "cell_type": "markdown",
      "metadata": {
        "id": "w2oqj5Uv0-Gm",
        "colab_type": "text"
      },
      "source": [
        "### Tran the network"
      ]
    },
    {
      "cell_type": "code",
      "metadata": {
        "ExecuteTime": {
          "end_time": "2019-02-27T14:12:45.077660Z",
          "start_time": "2019-02-27T14:09:27.735908Z"
        },
        "id": "8_uXELsF0-Gn",
        "colab_type": "code",
        "colab": {}
      },
      "source": [
        "num_epoch = 2  \n",
        "model = tflearn.DNN(network, tensorboard_verbose=0)  # for more info in tenorboard turn on tensorboard_verbose\n",
        "model.fit({'input': image_train}, {'target': y_train}, n_epoch=num_epoch,\n",
        "           validation_set=({'input': image_test}, {'target': y_test}),\n",
        "            show_metric=True, run_id='TFLearn_DeepMNIST')\n"
      ],
      "execution_count": null,
      "outputs": []
    },
    {
      "cell_type": "code",
      "metadata": {
        "ExecuteTime": {
          "end_time": "2019-02-27T14:17:08.690316Z",
          "start_time": "2019-02-27T14:17:05.256923Z"
        },
        "id": "XZX85hX50-Gp",
        "colab_type": "code",
        "colab": {}
      },
      "source": [
        "prediction = model.predict(image_test)"
      ],
      "execution_count": null,
      "outputs": []
    },
    {
      "cell_type": "code",
      "metadata": {
        "ExecuteTime": {
          "end_time": "2019-02-27T14:17:38.395148Z",
          "start_time": "2019-02-27T14:17:37.793722Z"
        },
        "id": "pikVEmC10-Gr",
        "colab_type": "code",
        "colab": {}
      },
      "source": [
        "%matplotlib notebook\n",
        "mnist_result_anim(x_test,y_test, prediction)"
      ],
      "execution_count": null,
      "outputs": []
    }
  ]
}
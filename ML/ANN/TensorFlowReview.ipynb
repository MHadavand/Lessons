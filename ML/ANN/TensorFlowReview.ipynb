{
  "nbformat": 4,
  "nbformat_minor": 0,
  "metadata": {
    "kernelspec": {
      "display_name": "Python 3",
      "language": "python",
      "name": "python3"
    },
    "language_info": {
      "codemirror_mode": {
        "name": "ipython",
        "version": 3
      },
      "file_extension": ".py",
      "mimetype": "text/x-python",
      "name": "python",
      "nbconvert_exporter": "python",
      "pygments_lexer": "ipython3",
      "version": "3.6.8"
    },
    "latex_envs": {
      "LaTeX_envs_menu_present": true,
      "autoclose": false,
      "autocomplete": true,
      "bibliofile": "biblio.bib",
      "cite_by": "apalike",
      "current_citInitial": 1,
      "eqLabelWithNumbers": true,
      "eqNumInitial": 1,
      "hotkeys": {
        "equation": "Ctrl-E",
        "itemize": "Ctrl-I"
      },
      "labels_anchors": false,
      "latex_user_defs": false,
      "report_style_numbering": false,
      "user_envs_cfg": false
    },
    "toc": {
      "base_numbering": 1,
      "nav_menu": {},
      "number_sections": true,
      "sideBar": true,
      "skip_h1_title": false,
      "title_cell": "Table of Contents",
      "title_sidebar": "Contents",
      "toc_cell": false,
      "toc_position": {
        "height": "calc(100% - 180px)",
        "left": "10px",
        "top": "150px",
        "width": "336px"
      },
      "toc_section_display": true,
      "toc_window_display": true
    },
    "colab": {
      "name": "TensorFlowReview.ipynb",
      "provenance": [],
      "toc_visible": true,
      "include_colab_link": true
    }
  },
  "cells": [
    {
      "cell_type": "markdown",
      "metadata": {
        "id": "view-in-github",
        "colab_type": "text"
      },
      "source": [
        "<a href=\"https://colab.research.google.com/github/MHadavand/Lessons/blob/master/ML/ANN/TensorFlowReview.ipynb\" target=\"_parent\"><img src=\"https://colab.research.google.com/assets/colab-badge.svg\" alt=\"Open In Colab\"/></a>"
      ]
    },
    {
      "cell_type": "markdown",
      "metadata": {
        "id": "pCR3uZTO0-DL",
        "colab_type": "text"
      },
      "source": [
        "# Introduction\n",
        "\n",
        "TensorFlow™ is an open source software library for high performance numerical computation. Its flexible architecture allows easy deployment of computation across a variety of platforms (CPUs, GPUs, TPUs), and from desktops to clusters of servers to mobile and edge devices [1].\n",
        "\n",
        "Originally developed by researchers and engineers from the Google Brain team within Google’s AI organization, it comes with strong support for machine learning and deep learning and the flexible numerical computation core is used across many other scientific domains.\n",
        "\n",
        "TensorFlow is an interface to express machine learning algorithms and provides an implementation for executing such algorithms. In this regard, TensoFlow is not a package/API that can be used to pass your training data and get a predictor/classifier/regression tool. Instead, it is a lower level library that provides features required to implement machine learning algorithms in an optimal way. Also, there are predefined implementations of algorithms that a user can use if the flexibility of designing the implementation is not desired. \n",
        "\n",
        "TensorFlow is designed to facilitate scaling your application by separating the language interface and the execution allowing the code to be executed as a prototype on your laptop or the final product on a cluster.\n",
        "\n",
        "*Language Interface:*\n",
        "\n",
        "    Python, C++, ...\n",
        "\n",
        "*Execution Environment:*\n",
        "\n",
        "    Execution master to choose Local CPU, GPU or a master node on a cluster\n",
        "\n",
        "Source of the name TensorFlow: N dimensional arrays aka Tensors along with mathematical operations are the base of the computation graph executed by TensorFlow.\n",
        "\n",
        "\n",
        "**References:**\n",
        "\n",
        "http://TensorFlow.org\n",
        "\n",
        "https://app.pluralsight.com"
      ]
    },
    {
      "cell_type": "markdown",
      "metadata": {
        "id": "PZ51q0Q80-DM",
        "colab_type": "text"
      },
      "source": [
        "# Installation\n",
        "\n",
        "The following factors can affect the installation:\n",
        "    - OS\n",
        "    - GPU (cuda enabaled) \n",
        "    - Environment (Direct, Virtual, Docer Container)\n",
        "    - Python version (assumin that python is used for the programming language)\n",
        "        Linux, MacOS --> 2.7, 3.3 or later\n",
        "        windows --> 3.5 or later\n",
        "    \n",
        "**For graphic cards info:**\n",
        "\n",
        "```shell\n",
        "$ dxdiag\n",
        "```\n",
        "or use chrome:gpu on your chrome browser\n",
        "\n",
        "**For python version:**\n",
        "\n",
        "```python\n",
        "import sys\n",
        "sys.version\n",
        "```\n",
        "\n",
        "**Installation using pip:**\n",
        "\n",
        "```shell\n",
        "pip install --upgrade tensorflow -- Chose the cpu version\n",
        "```\n",
        "\n",
        "Note that on tensorflow.org you have the option to download the source file from github and config it on your machine.\n",
        "\n"
      ]
    },
    {
      "cell_type": "code",
      "metadata": {
        "ExecuteTime": {
          "end_time": "2020-03-14T22:13:54.643739Z",
          "start_time": "2020-03-14T22:13:54.631781Z"
        },
        "id": "rfJ3srwb0-DN",
        "colab_type": "code",
        "colab": {
          "base_uri": "https://localhost:8080/",
          "height": 35
        },
        "outputId": "74ba9f13-3009-4428-af48-d7d90231614f"
      },
      "source": [
        "import sys\n",
        "sys.version"
      ],
      "execution_count": 1,
      "outputs": [
        {
          "output_type": "execute_result",
          "data": {
            "application/vnd.google.colaboratory.intrinsic+json": {
              "type": "string"
            },
            "text/plain": [
              "'3.6.9 (default, Jul 17 2020, 12:50:27) \\n[GCC 8.4.0]'"
            ]
          },
          "metadata": {
            "tags": []
          },
          "execution_count": 1
        }
      ]
    },
    {
      "cell_type": "markdown",
      "metadata": {
        "id": "bDW8hrcF0-DS",
        "colab_type": "text"
      },
      "source": [
        "## Testing installation"
      ]
    },
    {
      "cell_type": "code",
      "metadata": {
        "ExecuteTime": {
          "end_time": "2020-03-14T22:14:07.238086Z",
          "start_time": "2020-03-14T22:13:55.283701Z"
        },
        "id": "s2x2lKG70-DT",
        "colab_type": "code",
        "colab": {
          "base_uri": "https://localhost:8080/",
          "height": 265
        },
        "outputId": "6450ccbd-7f36-4abc-e07c-52ac5353b33d"
      },
      "source": [
        "import warnings\n",
        "warnings.filterwarnings(\"ignore\") # Avoid some deprecation warnings\n",
        "import tensorflow as tf\n",
        "print('TensorFlow version {}'.format(tf.__version__))\n",
        "print(tf.__doc__)"
      ],
      "execution_count": 2,
      "outputs": [
        {
          "output_type": "stream",
          "text": [
            "TensorFlow version 2.3.0\n",
            "\n",
            "Top-level module of TensorFlow. By convention, we refer to this module as\n",
            "`tf` instead of `tensorflow`, following the common practice of importing\n",
            "TensorFlow via the command `import tensorflow as tf`.\n",
            "\n",
            "The primary function of this module is to import all of the public TensorFlow\n",
            "interfaces into a single place. The interfaces themselves are located in\n",
            "sub-modules, as described below.\n",
            "\n",
            "Note that the file `__init__.py` in the TensorFlow source code tree is actually\n",
            "only a placeholder to enable test cases to run. The TensorFlow build replaces\n",
            "this file with a file generated from [`api_template.__init__.py`](https://www.github.com/tensorflow/tensorflow/blob/master/tensorflow/api_template.__init__.py)\n",
            "\n"
          ],
          "name": "stdout"
        }
      ]
    },
    {
      "cell_type": "code",
      "metadata": {
        "ExecuteTime": {
          "end_time": "2020-03-14T22:14:30.097396Z",
          "start_time": "2020-03-14T22:14:30.072441Z"
        },
        "id": "5aPKEOM50-DX",
        "colab_type": "code",
        "colab": {
          "base_uri": "https://localhost:8080/",
          "height": 34
        },
        "outputId": "2e4895b4-6b93-4a51-b56a-ce595999620d"
      },
      "source": [
        "a = tf.constant(20)\n",
        "b = tf.constant(50)\n",
        "print('a*b = {}'.format(a*b))"
      ],
      "execution_count": 3,
      "outputs": [
        {
          "output_type": "stream",
          "text": [
            "a*b = 1000\n"
          ],
          "name": "stdout"
        }
      ]
    },
    {
      "cell_type": "markdown",
      "metadata": {
        "id": "VZdoeX7P0-DZ",
        "colab_type": "text"
      },
      "source": [
        "# First Example\n",
        "\n",
        "A simple example of predictinh house proce based on as single variable/feature of house size."
      ]
    },
    {
      "cell_type": "code",
      "metadata": {
        "ExecuteTime": {
          "end_time": "2020-03-14T22:14:43.290383Z",
          "start_time": "2020-03-14T22:14:43.285382Z"
        },
        "id": "I-Q1--NL0-Da",
        "colab_type": "code",
        "colab": {}
      },
      "source": [
        "import tensorflow.compat.v1 as tf # In order to use V1 of tensor flow using tesnorflow 2.*\n",
        "tf.disable_v2_behavior()\n",
        "\n",
        "import numpy as np\n",
        "import pandas as pd\n",
        "import math\n",
        "import random\n",
        "from matplotlib import pyplot as plt\n",
        "from matplotlib import animation\n",
        "import os"
      ],
      "execution_count": 57,
      "outputs": []
    },
    {
      "cell_type": "markdown",
      "metadata": {
        "id": "S6Bh5Elq0-Dd",
        "colab_type": "text"
      },
      "source": [
        "## Data preparation"
      ]
    },
    {
      "cell_type": "code",
      "metadata": {
        "ExecuteTime": {
          "end_time": "2020-03-14T22:14:44.944449Z",
          "start_time": "2020-03-14T22:14:44.931449Z"
        },
        "id": "sVfeJpC70-De",
        "colab_type": "code",
        "colab": {}
      },
      "source": [
        "num_house = 200\n",
        "np.random.seed(69067)\n",
        "house_size = np.random.randint(1000, 3500, num_house)\n",
        "data_housing = pd.DataFrame(columns=['HouseSize'], data=house_size)\n",
        "\n",
        "data_housing['HousePrice'] = data_housing['HouseSize'].apply(lambda size: size* 200 + np.random.randint(10000, 60000))"
      ],
      "execution_count": 15,
      "outputs": []
    },
    {
      "cell_type": "code",
      "metadata": {
        "ExecuteTime": {
          "end_time": "2020-03-14T22:14:45.725411Z",
          "start_time": "2020-03-14T22:14:45.706438Z"
        },
        "id": "itTesgHm0-Dh",
        "colab_type": "code",
        "colab": {
          "base_uri": "https://localhost:8080/",
          "height": 197
        },
        "outputId": "0a7d246c-d4db-440b-a201-b1cfcb8ecdd0"
      },
      "source": [
        "data_housing.head()"
      ],
      "execution_count": 16,
      "outputs": [
        {
          "output_type": "execute_result",
          "data": {
            "text/html": [
              "<div>\n",
              "<style scoped>\n",
              "    .dataframe tbody tr th:only-of-type {\n",
              "        vertical-align: middle;\n",
              "    }\n",
              "\n",
              "    .dataframe tbody tr th {\n",
              "        vertical-align: top;\n",
              "    }\n",
              "\n",
              "    .dataframe thead th {\n",
              "        text-align: right;\n",
              "    }\n",
              "</style>\n",
              "<table border=\"1\" class=\"dataframe\">\n",
              "  <thead>\n",
              "    <tr style=\"text-align: right;\">\n",
              "      <th></th>\n",
              "      <th>HouseSize</th>\n",
              "      <th>HousePrice</th>\n",
              "    </tr>\n",
              "  </thead>\n",
              "  <tbody>\n",
              "    <tr>\n",
              "      <th>0</th>\n",
              "      <td>2888</td>\n",
              "      <td>603358</td>\n",
              "    </tr>\n",
              "    <tr>\n",
              "      <th>1</th>\n",
              "      <td>3004</td>\n",
              "      <td>645019</td>\n",
              "    </tr>\n",
              "    <tr>\n",
              "      <th>2</th>\n",
              "      <td>1020</td>\n",
              "      <td>245554</td>\n",
              "    </tr>\n",
              "    <tr>\n",
              "      <th>3</th>\n",
              "      <td>2062</td>\n",
              "      <td>446094</td>\n",
              "    </tr>\n",
              "    <tr>\n",
              "      <th>4</th>\n",
              "      <td>2518</td>\n",
              "      <td>544830</td>\n",
              "    </tr>\n",
              "  </tbody>\n",
              "</table>\n",
              "</div>"
            ],
            "text/plain": [
              "   HouseSize  HousePrice\n",
              "0       2888      603358\n",
              "1       3004      645019\n",
              "2       1020      245554\n",
              "3       2062      446094\n",
              "4       2518      544830"
            ]
          },
          "metadata": {
            "tags": []
          },
          "execution_count": 16
        }
      ]
    },
    {
      "cell_type": "markdown",
      "metadata": {
        "id": "mG22X16c0-Dk",
        "colab_type": "text"
      },
      "source": [
        "### Visualize data"
      ]
    },
    {
      "cell_type": "code",
      "metadata": {
        "ExecuteTime": {
          "end_time": "2020-03-14T22:16:00.768637Z",
          "start_time": "2020-03-14T22:16:00.629637Z"
        },
        "id": "qZkSUJpc0-Dk",
        "colab_type": "code",
        "colab": {
          "base_uri": "https://localhost:8080/",
          "height": 334
        },
        "outputId": "57a207e5-5a75-49f9-95ec-45ac0ff50bb2"
      },
      "source": [
        "fig,ax = plt.subplots(1,1, figsize=(5.5,5))\n",
        "# Simple scat plot\n",
        "_ = data_housing.plot(x='HouseSize', y='HousePrice', kind='scatter',ax=ax, color='gray')"
      ],
      "execution_count": 17,
      "outputs": [
        {
          "output_type": "display_data",
          "data": {
            "image/png": "[encoded data removed]",
            "text/plain": [
              "<Figure size 396x360 with 1 Axes>"
            ]
          },
          "metadata": {
            "tags": [],
            "needs_background": "light"
          }
        }
      ]
    },
    {
      "cell_type": "markdown",
      "metadata": {
        "id": "e4PaUIOg0-Do",
        "colab_type": "text"
      },
      "source": [
        "%%latext\n",
        "The price was generated based on a simple equation:\n",
        "\n",
        "$ Price = SizeFactor \\times Size + PriceOffset $"
      ]
    },
    {
      "cell_type": "markdown",
      "metadata": {
        "id": "R7nupL2z0-Do",
        "colab_type": "text"
      },
      "source": [
        "### Standardization"
      ]
    },
    {
      "cell_type": "code",
      "metadata": {
        "ExecuteTime": {
          "end_time": "2020-03-14T22:16:04.333316Z",
          "start_time": "2020-03-14T22:16:04.317332Z"
        },
        "id": "55qyD_AJ0-Dp",
        "colab_type": "code",
        "colab": {
          "base_uri": "https://localhost:8080/",
          "height": 197
        },
        "outputId": "0811dea1-9eda-4c53-a887-a3a15ceb0c5f"
      },
      "source": [
        "size_mean = np.mean(data_housing['HouseSize'])\n",
        "size_std = np.std(data_housing['HouseSize'])\n",
        "data_housing['HouseSize_std'] = data_housing['HouseSize'].apply(lambda x: (x - size_mean)/ size_std )\n",
        "\n",
        "price_mean = np.mean(data_housing['HousePrice'])\n",
        "price_std = np.std(data_housing['HousePrice'])\n",
        "data_housing['HousePrice_std'] = data_housing['HousePrice'].apply(lambda x: (x - price_mean)/ price_std)\n",
        "\n",
        "data_housing.head()"
      ],
      "execution_count": 18,
      "outputs": [
        {
          "output_type": "execute_result",
          "data": {
            "text/html": [
              "<div>\n",
              "<style scoped>\n",
              "    .dataframe tbody tr th:only-of-type {\n",
              "        vertical-align: middle;\n",
              "    }\n",
              "\n",
              "    .dataframe tbody tr th {\n",
              "        vertical-align: top;\n",
              "    }\n",
              "\n",
              "    .dataframe thead th {\n",
              "        text-align: right;\n",
              "    }\n",
              "</style>\n",
              "<table border=\"1\" class=\"dataframe\">\n",
              "  <thead>\n",
              "    <tr style=\"text-align: right;\">\n",
              "      <th></th>\n",
              "      <th>HouseSize</th>\n",
              "      <th>HousePrice</th>\n",
              "      <th>HouseSize_std</th>\n",
              "      <th>HousePrice_std</th>\n",
              "    </tr>\n",
              "  </thead>\n",
              "  <tbody>\n",
              "    <tr>\n",
              "      <th>0</th>\n",
              "      <td>2888</td>\n",
              "      <td>603358</td>\n",
              "      <td>0.911765</td>\n",
              "      <td>0.834757</td>\n",
              "    </tr>\n",
              "    <tr>\n",
              "      <th>1</th>\n",
              "      <td>3004</td>\n",
              "      <td>645019</td>\n",
              "      <td>1.077531</td>\n",
              "      <td>1.128504</td>\n",
              "    </tr>\n",
              "    <tr>\n",
              "      <th>2</th>\n",
              "      <td>1020</td>\n",
              "      <td>245554</td>\n",
              "      <td>-1.757644</td>\n",
              "      <td>-1.688076</td>\n",
              "    </tr>\n",
              "    <tr>\n",
              "      <th>3</th>\n",
              "      <td>2062</td>\n",
              "      <td>446094</td>\n",
              "      <td>-0.268606</td>\n",
              "      <td>-0.274092</td>\n",
              "    </tr>\n",
              "    <tr>\n",
              "      <th>4</th>\n",
              "      <td>2518</td>\n",
              "      <td>544830</td>\n",
              "      <td>0.383027</td>\n",
              "      <td>0.422083</td>\n",
              "    </tr>\n",
              "  </tbody>\n",
              "</table>\n",
              "</div>"
            ],
            "text/plain": [
              "   HouseSize  HousePrice  HouseSize_std  HousePrice_std\n",
              "0       2888      603358       0.911765        0.834757\n",
              "1       3004      645019       1.077531        1.128504\n",
              "2       1020      245554      -1.757644       -1.688076\n",
              "3       2062      446094      -0.268606       -0.274092\n",
              "4       2518      544830       0.383027        0.422083"
            ]
          },
          "metadata": {
            "tags": []
          },
          "execution_count": 18
        }
      ]
    },
    {
      "cell_type": "code",
      "metadata": {
        "ExecuteTime": {
          "end_time": "2020-03-14T22:16:35.557562Z",
          "start_time": "2020-03-14T22:16:35.392543Z"
        },
        "id": "nSI2NkRg0-Ds",
        "colab_type": "code",
        "colab": {
          "base_uri": "https://localhost:8080/",
          "height": 352
        },
        "outputId": "f17eac6f-15ba-4f99-daa4-62928b8be5b2"
      },
      "source": [
        "fig,ax = plt.subplots(1,1, figsize=(5.5,5))\n",
        "# Simple scat plot\n",
        "data_housing.plot(x='HouseSize_std', y='HousePrice_std', kind='scatter',ax=ax, color='gray')"
      ],
      "execution_count": 19,
      "outputs": [
        {
          "output_type": "execute_result",
          "data": {
            "text/plain": [
              "<matplotlib.axes._subplots.AxesSubplot at 0x7f88cec95d30>"
            ]
          },
          "metadata": {
            "tags": []
          },
          "execution_count": 19
        },
        {
          "output_type": "display_data",
          "data": {
            "image/png": "[encoded data removed]",
            "text/plain": [
              "<Figure size 396x360 with 1 Axes>"
            ]
          },
          "metadata": {
            "tags": [],
            "needs_background": "light"
          }
        }
      ]
    },
    {
      "cell_type": "markdown",
      "metadata": {
        "id": "Pkpyhk5-0-Dv",
        "colab_type": "text"
      },
      "source": [
        "### Select test and train data"
      ]
    },
    {
      "cell_type": "code",
      "metadata": {
        "ExecuteTime": {
          "end_time": "2020-03-14T22:16:38.461118Z",
          "start_time": "2020-03-14T22:16:38.454120Z"
        },
        "id": "0JEenkzs0-Dv",
        "colab_type": "code",
        "colab": {
          "base_uri": "https://localhost:8080/",
          "height": 52
        },
        "outputId": "7f0c1e08-3447-492b-8acf-24c485b9d944"
      },
      "source": [
        "tarin_portion = 0.7\n",
        "train_mask = np.random.rand(len(data_housing)) < tarin_portion\n",
        "data_housing_train = data_housing[train_mask].reset_index(drop=True)\n",
        "num_tarining_data = len(data_housing_train)\n",
        "data_housing_test = data_housing[~train_mask].reset_index(drop=True)\n",
        "print('Number of training data: {} \\nNumber of test data: {}'.format(len(data_housing_train), len(data_housing_test)))"
      ],
      "execution_count": 20,
      "outputs": [
        {
          "output_type": "stream",
          "text": [
            "Number of training data: 139 \n",
            "Number of test data: 61\n"
          ],
          "name": "stdout"
        }
      ]
    },
    {
      "cell_type": "code",
      "metadata": {
        "ExecuteTime": {
          "end_time": "2020-03-14T22:16:39.030319Z",
          "start_time": "2020-03-14T22:16:39.021315Z"
        },
        "id": "vGaHwINd0-Dy",
        "colab_type": "code",
        "colab": {
          "base_uri": "https://localhost:8080/",
          "height": 197
        },
        "outputId": "8edf76df-7610-4392-a0df-91fb46b814a3"
      },
      "source": [
        "# Inspect training data\n",
        "data_housing_train.head()"
      ],
      "execution_count": 21,
      "outputs": [
        {
          "output_type": "execute_result",
          "data": {
            "text/html": [
              "<div>\n",
              "<style scoped>\n",
              "    .dataframe tbody tr th:only-of-type {\n",
              "        vertical-align: middle;\n",
              "    }\n",
              "\n",
              "    .dataframe tbody tr th {\n",
              "        vertical-align: top;\n",
              "    }\n",
              "\n",
              "    .dataframe thead th {\n",
              "        text-align: right;\n",
              "    }\n",
              "</style>\n",
              "<table border=\"1\" class=\"dataframe\">\n",
              "  <thead>\n",
              "    <tr style=\"text-align: right;\">\n",
              "      <th></th>\n",
              "      <th>HouseSize</th>\n",
              "      <th>HousePrice</th>\n",
              "      <th>HouseSize_std</th>\n",
              "      <th>HousePrice_std</th>\n",
              "    </tr>\n",
              "  </thead>\n",
              "  <tbody>\n",
              "    <tr>\n",
              "      <th>0</th>\n",
              "      <td>2888</td>\n",
              "      <td>603358</td>\n",
              "      <td>0.911765</td>\n",
              "      <td>0.834757</td>\n",
              "    </tr>\n",
              "    <tr>\n",
              "      <th>1</th>\n",
              "      <td>3004</td>\n",
              "      <td>645019</td>\n",
              "      <td>1.077531</td>\n",
              "      <td>1.128504</td>\n",
              "    </tr>\n",
              "    <tr>\n",
              "      <th>2</th>\n",
              "      <td>1020</td>\n",
              "      <td>245554</td>\n",
              "      <td>-1.757644</td>\n",
              "      <td>-1.688076</td>\n",
              "    </tr>\n",
              "    <tr>\n",
              "      <th>3</th>\n",
              "      <td>2062</td>\n",
              "      <td>446094</td>\n",
              "      <td>-0.268606</td>\n",
              "      <td>-0.274092</td>\n",
              "    </tr>\n",
              "    <tr>\n",
              "      <th>4</th>\n",
              "      <td>2518</td>\n",
              "      <td>544830</td>\n",
              "      <td>0.383027</td>\n",
              "      <td>0.422083</td>\n",
              "    </tr>\n",
              "  </tbody>\n",
              "</table>\n",
              "</div>"
            ],
            "text/plain": [
              "   HouseSize  HousePrice  HouseSize_std  HousePrice_std\n",
              "0       2888      603358       0.911765        0.834757\n",
              "1       3004      645019       1.077531        1.128504\n",
              "2       1020      245554      -1.757644       -1.688076\n",
              "3       2062      446094      -0.268606       -0.274092\n",
              "4       2518      544830       0.383027        0.422083"
            ]
          },
          "metadata": {
            "tags": []
          },
          "execution_count": 21
        }
      ]
    },
    {
      "cell_type": "markdown",
      "metadata": {
        "ExecuteTime": {
          "end_time": "2019-01-20T20:26:05.220335Z",
          "start_time": "2019-01-20T20:26:05.206376Z"
        },
        "id": "pELQ34ux0-D3",
        "colab_type": "text"
      },
      "source": [
        "## Use tensor flow\n",
        "Note about tensor types:\n",
        "\n",
        "- Constant: Constant value that does not change\n",
        "- Variable: Value adjusted in the computation graph of TensorFlow\n",
        "- PlaceHodler: Used to pass data into the graph (e.g. from an external source)\n",
        "\n",
        "Also, the following concepts:\n",
        "- Model: A set of mathematical operations supported by tensor flow that defined the neural network part of the computation graph\n",
        "- Cost function: The target function to optimize by calculation the error and modify the weight through back propagation steps\n",
        "- Optimization algorithm"
      ]
    },
    {
      "cell_type": "code",
      "metadata": {
        "ExecuteTime": {
          "end_time": "2020-03-14T22:16:41.248336Z",
          "start_time": "2020-03-14T22:16:41.228334Z"
        },
        "id": "e6I3rrYt0-D3",
        "colab_type": "code",
        "colab": {}
      },
      "source": [
        "# DEfine the placeholders that get updated as our model gets optimized\n",
        "tf_house_size = tf.placeholder(dtype='float', name='HouseSize')\n",
        "tf_house_price =tf.placeholder(dtype='float', name='HousePrice')"
      ],
      "execution_count": 22,
      "outputs": []
    },
    {
      "cell_type": "code",
      "metadata": {
        "ExecuteTime": {
          "end_time": "2019-09-02T20:11:55.358253Z",
          "start_time": "2019-09-02T20:11:55.345291Z"
        },
        "id": "0w_jjKxp0-D6",
        "colab_type": "code",
        "colab": {}
      },
      "source": [
        "# Define variables that get modified as we train our model based on the provided data\n",
        "tf_size_factor = tf.Variable(np.random.randn(), name = 'SizeFactor')\n",
        "tf_price_offset = tf.Variable(np.random.randn(), name = 'PriceOffset')"
      ],
      "execution_count": 23,
      "outputs": []
    },
    {
      "cell_type": "code",
      "metadata": {
        "ExecuteTime": {
          "end_time": "2019-09-02T20:11:55.790106Z",
          "start_time": "2019-09-02T20:11:55.783128Z"
        },
        "id": "JT4Lk9bA0-D8",
        "colab_type": "code",
        "colab": {}
      },
      "source": [
        "# Define the operation/model that needs to be trained to provide optimal result (minimum error based on the training data)\n",
        "tf_price_predict = tf.add(tf.multiply(tf_size_factor, tf_house_size), tf_price_offset)"
      ],
      "execution_count": 24,
      "outputs": []
    },
    {
      "cell_type": "code",
      "metadata": {
        "ExecuteTime": {
          "end_time": "2019-09-02T20:11:56.199960Z",
          "start_time": "2019-09-02T20:11:56.189987Z"
        },
        "id": "oBEqaPMF0-D_",
        "colab_type": "code",
        "colab": {}
      },
      "source": [
        "# Define a cost fucntion that can be used to tarin the model i.e. mean squer error\n",
        "tf_cost = tf.reduce_sum(tf.pow(tf.subtract(tf_price_predict,tf_house_price),2))/num_tarining_data"
      ],
      "execution_count": 25,
      "outputs": []
    },
    {
      "cell_type": "code",
      "metadata": {
        "ExecuteTime": {
          "end_time": "2019-09-02T20:11:56.644897Z",
          "start_time": "2019-09-02T20:11:56.590025Z"
        },
        "id": "fVi-8UTs0-EB",
        "colab_type": "code",
        "colab": {}
      },
      "source": [
        "learning_rate = 0.1\n",
        "optimizer = tf.train.GradientDescentOptimizer(learning_rate=learning_rate)\n",
        "optimizer = optimizer.minimize(tf_cost)"
      ],
      "execution_count": 26,
      "outputs": []
    },
    {
      "cell_type": "code",
      "metadata": {
        "ExecuteTime": {
          "end_time": "2019-09-02T20:11:57.231373Z",
          "start_time": "2019-09-02T20:11:57.110987Z"
        },
        "id": "So7GDteP0-EG",
        "colab_type": "code",
        "colab": {
          "base_uri": "https://localhost:8080/",
          "height": 265
        },
        "outputId": "792fffbf-fb0d-49a8-c6c8-6b4e21ef64d5"
      },
      "source": [
        "init = tf.global_variables_initializer()\n",
        "dispaly_freq = 5\n",
        "num_train_iterations = 50\n",
        "\n",
        "size_factor_calc = []\n",
        "price_offset_calc = []\n",
        "training_cost = []\n",
        "\n",
        "with tf.Session() as sess:\n",
        "    sess.run(init)\n",
        "    \n",
        "    for iteration in range(num_train_iterations):\n",
        "        \n",
        "        # This works becuase of the reduce sum over all data\n",
        "        sess.run(optimizer, feed_dict={tf_house_size: data_housing_train['HouseSize_std'],\n",
        "                                             tf_house_price: data_housing_train['HousePrice_std']})\n",
        "        \n",
        "#         # Alternatively, each training record may be passed separately (TensorFlow optimizer remembers)\n",
        "#         for (x,Y) in zip(data_housing_train['HouseSize_std'], data_housing_train['HousePrice_std']): # Note that palce holders need to be fed\n",
        "#             sess.run(optimizer, feed_dict={tf_house_size: x, tf_house_price: Y})\n",
        "        \n",
        "        # Get the cost function value\n",
        "        c = sess.run(tf_cost, feed_dict={tf_house_size: data_housing_train['HouseSize_std'],\n",
        "                                             tf_house_price: data_housing_train['HousePrice_std']})\n",
        "        training_cost.append(c)\n",
        "        # get the size factor and price offset st the current iteration\n",
        "        size_factor_calc.append(sess.run(tf_size_factor))\n",
        "        price_offset_calc.append(sess.run(tf_price_offset))\n",
        "        \n",
        "        if (iteration + 1)%dispaly_freq == 0:\n",
        "            \n",
        "            \n",
        "            print('Iteration number: %03d'%(iteration+1), 'cost = {:.9f}'.format(training_cost[iteration]),\\\n",
        "                 'size factor =', size_factor_calc[iteration], 'price offset=', price_offset_calc[iteration])\n",
        "            \n",
        "    print('Optimization is done!')\n",
        "    print('Final training cost = {:.5f}'.format(training_cost[-1]))\n",
        "    print('Final size factor = ', size_factor_calc[-1])\n",
        "    print('Final price offset = ', price_offset_calc[-1])"
      ],
      "execution_count": 27,
      "outputs": [
        {
          "output_type": "stream",
          "text": [
            "Iteration number: 005 cost = 0.335674256 size factor = 0.48411888 price offset= 0.2098495\n",
            "Iteration number: 010 cost = 0.041418154 size factor = 0.8385502 price offset= 0.05904701\n",
            "Iteration number: 015 cost = 0.013540603 size factor = 0.9478251 price offset= 0.013060032\n",
            "Iteration number: 020 cost = 0.010899332 size factor = 0.9815206 price offset= -0.0009520465\n",
            "Iteration number: 025 cost = 0.010649065 size factor = 0.9919124 price offset= -0.005217602\n",
            "Iteration number: 030 cost = 0.010625349 size factor = 0.99511784 price offset= -0.0065148063\n",
            "Iteration number: 035 cost = 0.010623102 size factor = 0.9961068 price offset= -0.006908866\n",
            "Iteration number: 040 cost = 0.010622890 size factor = 0.99641186 price offset= -0.0070284214\n",
            "Iteration number: 045 cost = 0.010622868 size factor = 0.9965061 price offset= -0.007064644\n",
            "Iteration number: 050 cost = 0.010622866 size factor = 0.9965352 price offset= -0.007075593\n",
            "Optimization is done!\n",
            "Final training cost = 0.01062\n",
            "Final size factor =  0.9965352\n",
            "Final price offset =  -0.007075593\n"
          ],
          "name": "stdout"
        }
      ]
    },
    {
      "cell_type": "markdown",
      "metadata": {
        "id": "obSGRptZ0-EJ",
        "colab_type": "text"
      },
      "source": [
        "### Visualize gradient descent evolution"
      ]
    },
    {
      "cell_type": "code",
      "metadata": {
        "ExecuteTime": {
          "end_time": "2019-09-02T20:11:58.671624Z",
          "start_time": "2019-09-02T20:11:58.377116Z"
        },
        "id": "oprfujQM0-EJ",
        "colab_type": "code",
        "colab": {
          "base_uri": "https://localhost:8080/",
          "height": 278
        },
        "outputId": "3ac860ec-39e6-4f0e-da7b-5f8292562add"
      },
      "source": [
        "fig, minax = plt.subplots(1,3,figsize=(15,4))\n",
        "\n",
        "ax = minax[0]\n",
        "ax.plot(training_cost, c = 'r', lw =2)\n",
        "ax.set_xlabel('Iterations'); ax.set_ylabel('Training Cost (Means Squared Error)')\n",
        "ax.grid(True)\n",
        "\n",
        "ax = minax[1]\n",
        "ax.plot(size_factor_calc, c='k', lw=2)\n",
        "ax.set_xlabel('Iterations'); ax.set_ylabel('size factor (standardized)')\n",
        "ax.grid(True)\n",
        "\n",
        "ax = minax[2]\n",
        "ax.plot(price_offset_calc, c='b', lw=2)\n",
        "ax.set_xlabel('Iterations'); ax.set_ylabel('price_offset (standardized)')\n",
        "ax.grid(True)\n",
        "\n",
        "fig.tight_layout(pad = 2.0)"
      ],
      "execution_count": 28,
      "outputs": [
        {
          "output_type": "display_data",
          "data": {
            "image/png": "[encoded data removed]",
            "text/plain": [
              "<Figure size 1080x288 with 3 Axes>"
            ]
          },
          "metadata": {
            "tags": [],
            "needs_background": "light"
          }
        }
      ]
    },
    {
      "cell_type": "code",
      "metadata": {
        "ExecuteTime": {
          "end_time": "2019-09-02T20:11:59.722382Z",
          "start_time": "2019-09-02T20:11:59.479079Z"
        },
        "id": "eCUjNVJ-0-EM",
        "colab_type": "code",
        "colab": {
          "base_uri": "https://localhost:8080/",
          "height": 405
        },
        "outputId": "2ddaa6f7-e0d6-43c6-f6f6-1103a259d370"
      },
      "source": [
        "fig, ax = plt.subplots(1,1,figsize=(6,6))\n",
        "\n",
        "test_price_predicted = (size_factor_calc[-1]*data_housing_test.HouseSize_std + price_offset_calc[-1]) * price_std + price_mean\n",
        "\n",
        "# Predicted Model\n",
        "ax.plot(data_housing_test.HouseSize, test_price_predicted, c='gray', lw=2, label = 'Predicted')\n",
        "# Actual test data\n",
        "ax.scatter(data_housing_test.HouseSize, data_housing_test.HousePrice, s = 20, label = 'Test Data')\n",
        "\n",
        "mean_squared_error = 0\n",
        "for price_point, size_point, price_pred in zip(data_housing_test.HousePrice, data_housing_test.HouseSize, test_price_predicted):\n",
        "    ax.plot([size_point, size_point], [price_point, price_pred], c='r', lw=1.5, ls ='--')\n",
        "    mean_squared_error += (price_point - price_pred)**2\n",
        "\n",
        "mean_squared_error = mean_squared_error/len(data_housing_test)\n",
        "rmse = np.sqrt(mean_squared_error)\n",
        "\n",
        "ax.text(0.1,.7, 'RMSE = {:.2f}'.format(rmse), transform = ax.transAxes, fontsize=16)\n",
        "\n",
        "ax.set_xlabel('House Size'); ax.set_ylabel('House Price')\n",
        "ax.legend(fontsize = 16)"
      ],
      "execution_count": 29,
      "outputs": [
        {
          "output_type": "execute_result",
          "data": {
            "text/plain": [
              "<matplotlib.legend.Legend at 0x7f88c8f5ed68>"
            ]
          },
          "metadata": {
            "tags": []
          },
          "execution_count": 29
        },
        {
          "output_type": "display_data",
          "data": {
            "image/png": "[encoded data removed]",
            "text/plain": [
              "<Figure size 432x432 with 1 Axes>"
            ]
          },
          "metadata": {
            "tags": [],
            "needs_background": "light"
          }
        }
      ]
    },
    {
      "cell_type": "markdown",
      "metadata": {
        "id": "LQPGCMbw0-EO",
        "colab_type": "text"
      },
      "source": [
        "## Comparison with Linear Regression\n",
        "\n",
        "This example can be also solved by simple linear regression. As shown below, the result of gradient descent optimization and regression analysis are very close."
      ]
    },
    {
      "cell_type": "code",
      "metadata": {
        "ExecuteTime": {
          "end_time": "2019-09-02T20:12:00.927501Z",
          "start_time": "2019-09-02T20:12:00.920491Z"
        },
        "id": "h2h_hLxF0-EP",
        "colab_type": "code",
        "colab": {}
      },
      "source": [
        "X = data_housing_test.HouseSize\n",
        "y = data_housing_test.HousePrice\n",
        "slope = np.cov(X,y)[0][1]/np.cov(X,y)[0][0] # Covariance(X,y)/Variance(X)\n",
        "intercept = np.mean(y)-slope*np.mean(X) # mean(y) - slope * mean(X)"
      ],
      "execution_count": 30,
      "outputs": []
    },
    {
      "cell_type": "code",
      "metadata": {
        "ExecuteTime": {
          "end_time": "2019-09-02T20:12:01.751799Z",
          "start_time": "2019-09-02T20:12:01.562291Z"
        },
        "id": "tce5_NYh0-ER",
        "colab_type": "code",
        "colab": {
          "base_uri": "https://localhost:8080/",
          "height": 610
        },
        "outputId": "6e2c9324-d8a5-4aad-d810-771dc314004b"
      },
      "source": [
        "fig, ax = plt.subplots(1,1,figsize=(10,10))\n",
        "# Predicted Model (TensorFlow)\n",
        "ax.plot(data_housing_test.HouseSize, test_price_predicted, c='gray', lw=2, label = 'Predicted TensorFlow')\n",
        "# Actual test data\n",
        "ax.scatter(data_housing_test.HouseSize, data_housing_test.HousePrice, s = 40, label = 'Test Data', facecolors='none', edgecolors='b')\n",
        "# Predicted linear regression\n",
        "ax.plot(data_housing_test.HouseSize, slope*data_housing_test.HouseSize+intercept, c='red', lw=0.5, linestyle=':', label = 'Linear Regression')\n",
        "ax.legend(fontsize = 16)"
      ],
      "execution_count": 31,
      "outputs": [
        {
          "output_type": "execute_result",
          "data": {
            "text/plain": [
              "<matplotlib.legend.Legend at 0x7f88c8ef4a58>"
            ]
          },
          "metadata": {
            "tags": []
          },
          "execution_count": 31
        },
        {
          "output_type": "display_data",
          "data": {
            "image/png": "[encoded data removed]",
            "text/plain": [
              "<Figure size 720x720 with 1 Axes>"
            ]
          },
          "metadata": {
            "tags": [],
            "needs_background": "light"
          }
        }
      ]
    },
    {
      "cell_type": "markdown",
      "metadata": {
        "id": "le4cYS280-EU",
        "colab_type": "text"
      },
      "source": [
        "The root mean squared error of the optimized model for test data is shown in the plot above along with deviations of the actual price from the predicted one using the simple linear model. This is a simple linear regression example that was implemented using TensorFlow. Note that while variables rely on the initialization, placeholders are the tensors provided based on data (i.e. external source compared to the computation graph). You need to make sure the provided data result in tensors with dimensions that comply with the operation that you have added to your model."
      ]
    },
    {
      "cell_type": "markdown",
      "metadata": {
        "id": "1GqQvYOx0-EU",
        "colab_type": "text"
      },
      "source": [
        "# Tensor\n",
        "\n",
        "Some introduction to tensor properties help to better understand how TensorFlow works. Note that mathematics is the base of any algorithm developed by humans. In case of tensors, linear algebra/multilinear algebra is of great significance.\n",
        "\n",
        "Tensor may be defined as an n-dimensional array to represent data. For example 500 observations of 4 variable may be a tensor of 4 by 500 or the other way around.\n",
        "\n",
        "## Tensor Properties\n",
        "\n",
        "Tensors in an operation need to shared compatible properties. \n",
        "\n",
        "### Rank\n",
        "\n",
        "Dimensionality of a tensor.\n",
        "\n",
        "| Rank        | Object           |\n",
        "| ------------- |:-------------:|\n",
        "| 0      | scalar |\n",
        "| 1      | vector      |\n",
        "| 2 | N by N matrix   |\n",
        "| 3 | 3-Tensor(cube)   |\n",
        "| n | n-Tensor(cube)   |\n",
        "\n",
        "### Shape\n",
        "\n",
        "It is closely related to the rank and also number of data in the tensor\n",
        "\n",
        "example: \n",
        "\n",
        "| Rank        | Object           |  Example | Shape\n",
        "| ------------- |:-------------:|:-------------:| :-------------:| \n",
        "| 0 |Scalar|s = 25 | []| \n",
        "| 2 |Matrix|m = [[1,2,3], [4,5,6]] | [2,3]| \n",
        " \n",
        "### Data Type\n",
        "\n",
        "The following data types are supported by TensorFlow\n",
        "\n",
        "- float32, float64\n",
        "- int8, int16, int32, int64\n",
        "- uint8, uint16\n",
        "- string\n",
        "- bool\n",
        "- complex64, complex128\n",
        "- qint8, qint16\n",
        "\n",
        "qint short for Quantized values. The quantized data type is used to scale data/number to reduce size so it takes less bits. This helps to improve processing power of TensorFlow which is critical for scalability. Google has invested on special processing chips called TensoFlow Processing Units (TPUs) that utilize quantized values. \n",
        "\n",
        "\n",
        "### Tensor Info\n",
        "\n",
        "TensorFlow provides the following methods to inspect a tensor:\n",
        "\n",
        "- get_shape \n",
        "- reshape\n",
        "- rank\n",
        "- dtype\n",
        "- cast"
      ]
    },
    {
      "cell_type": "markdown",
      "metadata": {
        "id": "rAP_8UNR0-EU",
        "colab_type": "text"
      },
      "source": [
        "# Gradient Descent\n",
        "\n",
        "Gradient descent is a popular optimization algorithm that works based on finding sequential steps/vectors in the multivariate space of features that provide the steepest reduction in the loss/cost function or steepest increase in the profit/gain function. The learning rate corresponds to the length of the vectors. The direction is determined based on derivative based on the features. \n",
        "\n",
        "![Gradient Descent](https://github.com/MHadavand/Lessons/blob/master/ML/Figures/GradientDescent.png?raw=true \"Obtained from https://www.oreilly.com/\")"
      ]
    },
    {
      "cell_type": "markdown",
      "metadata": {
        "id": "4UjONQG30-EV",
        "colab_type": "text"
      },
      "source": [
        "## Animate Gradient Descent "
      ]
    },
    {
      "cell_type": "code",
      "metadata": {
        "ExecuteTime": {
          "end_time": "2019-09-02T20:12:09.944133Z",
          "start_time": "2019-09-02T20:12:08.557516Z"
        },
        "id": "heAcMQUu0-EV",
        "colab_type": "code",
        "colab": {}
      },
      "source": [
        "init = tf.global_variables_initializer()\n",
        "dispaly_freq = 5\n",
        "num_train_iterations = 50\n",
        "%matplotlib notebook\n",
        "\n",
        "with tf.Session() as sess:\n",
        "    sess.run(init)\n",
        "    \n",
        "    size_factor_calc = []\n",
        "    price_offset_calc = []\n",
        "    training_cost = []\n",
        "    \n",
        "    \n",
        "    for iteration in range(num_train_iterations):\n",
        "        \n",
        "        # This works becuase of the reduce sum over all data\n",
        "        sess.run(optimizer, feed_dict={tf_house_size: data_housing_train['HouseSize_std'],\n",
        "                                             tf_house_price: data_housing_train['HousePrice_std']})\n",
        "        \n",
        "        # Get the cost function value\n",
        "        c = sess.run(tf_cost, feed_dict={tf_house_size: data_housing_train['HouseSize_std'],\n",
        "                                             tf_house_price: data_housing_train['HousePrice_std']})\n",
        "        training_cost.append(c)\n",
        "        # get the size factor and price offset st the current iteration\n",
        "        size_factor_calc.append(sess.run(tf_size_factor))\n",
        "        price_offset_calc.append(sess.run(tf_price_offset))\n",
        "\n",
        "    \n",
        "    fig, ax = plt.subplots(1,1,figsize=(5,5))\n",
        "\n",
        "    \n",
        "    # Actual tarining data\n",
        "    ax.scatter(data_housing_train.HouseSize, data_housing_train.HousePrice, s = 40, facecolors='none', edgecolors='g', label = 'Test Data')\n",
        "    ax.set_xlabel('House Size')\n",
        "    ax.set_ylabel('House Price')\n",
        "    \n",
        "    line, = ax.plot([],[], c='gray') \n",
        "    time_text = ax.text(.1, .8, '', fontsize=11, transform = ax.transAxes, color='r')\n",
        "    fig.tight_layout(pad = 2.0)\n",
        "    \n",
        "    def update(i):\n",
        "        test_price_predicted = (size_factor_calc[i]*data_housing_train.HouseSize_std + price_offset_calc[i]) * price_std + price_mean\n",
        "        line.set_xdata(data_housing_train.HouseSize)\n",
        "        line.set_ydata(test_price_predicted)\n",
        "        time_text.set_text('Cost: {:.4f}'.format(training_cost[i]))\n",
        "        return line, time_text,\n",
        "    \n",
        "    \n",
        "    def initAnim():\n",
        "        test_price_predicted = (size_factor_calc[0]*data_housing_train.HouseSize_std + price_offset_calc[0]) * price_std + price_mean\n",
        "        line.set_ydata(test_price_predicted)\n",
        "        line.set_xdata(data_housing_train.HouseSize)\n",
        "        return line,\n",
        "    \n",
        "    anim = animation.FuncAnimation(fig, update, frames=num_train_iterations, init_func=initAnim, interval=200, blit=True)\n",
        "    anim.save('animation.mp4', fps=30)"
      ],
      "execution_count": null,
      "outputs": []
    },
    {
      "cell_type": "markdown",
      "metadata": {
        "id": "WvCqPrnu0-EZ",
        "colab_type": "text"
      },
      "source": [
        "# MNIST example\n",
        "\n",
        "A data set containing 28 by 28 images of handwritten numbers from 0 to 9."
      ]
    },
    {
      "cell_type": "markdown",
      "metadata": {
        "id": "IhcYO-Ej0-EZ",
        "colab_type": "text"
      },
      "source": [
        "## Simple Neural Network\n",
        "\n",
        "A simple network with one layer that maps the image pixels into the output classification categories (i.e. classes)."
      ]
    },
    {
      "cell_type": "code",
      "metadata": {
        "ExecuteTime": {
          "end_time": "2019-09-02T20:46:08.068824Z",
          "start_time": "2019-09-02T20:46:07.887311Z"
        },
        "id": "wNi-k4o_0-Ea",
        "colab_type": "code",
        "colab": {}
      },
      "source": [
        "import random\n",
        "import numpy as np"
      ],
      "execution_count": 44,
      "outputs": []
    },
    {
      "cell_type": "markdown",
      "metadata": {
        "id": "50XKkpdaNwDI",
        "colab_type": "text"
      },
      "source": [
        "### Helper Functions"
      ]
    },
    {
      "cell_type": "code",
      "metadata": {
        "id": "3iJZ1HlNN5qK",
        "colab_type": "code",
        "colab": {}
      },
      "source": [
        "from matplotlib import pyplot as plt\n",
        "from matplotlib import animation\n",
        "from tensorflow import keras\n",
        "import numpy as np\n",
        "\n",
        "def image_plot(image, digit, cmap='bone_r', figsize=(5,5)):\n",
        "\n",
        "    fig, ax = plt.subplots(1,1,figsize=figsize)\n",
        "    ax.text(0.1,0.85,'Label : {}'.format(digit), fontsize=15, color ='b', transform=ax.transAxes)\n",
        "    _ = ax.imshow(image, cmap='bone_r')\n",
        "\n",
        "def transform_label(x):\n",
        "    ''' Using the one hot concept to model the 9 discrete possible integer values for classification to get\n",
        "        probability of each class. Using argmax function allows us to get the correct class i.e. 0, 1, 2, ... 9\n",
        "    '''\n",
        "    one_hot = []\n",
        "    for item in x:\n",
        "        one_hot.append([float(int(i==item)) for i in range(0,10)])\n",
        "    return np.array(one_hot)\n",
        "\n",
        "def flatten_images(image):\n",
        "    '''\n",
        "    Flatten the image\n",
        "    '''\n",
        "    original_shape = image.shape # (number_images by y_pixels(rows) by x_pixels(columns))\n",
        "    return image.reshape(original_shape[0], original_shape[1]*original_shape[1])\n",
        "\n",
        "def mnist_weight_check(weight_tensor, figsize=(20,4), shape=[28,28], cmap='jet'):\n",
        "\n",
        "    fig, mainax = plt.subplots(2,5,figsize=figsize)\n",
        "    for i, ax in enumerate(mainax.flatten()):\n",
        "        _ = ax.imshow(weight_tensor[:,i].reshape(shape[0],shape[1]), cmap=cmap)\n",
        "\n",
        "def mnist_result_anim(images, digits_true, digits_predicted, shape=[28,28], cmap='bone_r', interval=500, repeat=True, n_iterations = 100, video_file=None):\n",
        "\n",
        "    try:\n",
        "        _ = digits_true.shape[1]\n",
        "    except:\n",
        "        digits_true = transform_label(digits_true)\n",
        "\n",
        "    fig, ax = plt.subplots(1,1,figsize=(6,6))\n",
        "    image = ax.imshow(np.zeros([28,28]), cmap=cmap)\n",
        "    true_digit = ax.text(0.1, 0.9, s='True Value:', fontsize=12, transform = ax.transAxes, color='b')\n",
        "    predicted_digit = ax.text(0.1, 0.85, s='PredictedValue:', fontsize=12, transform = ax.transAxes, color='g')\n",
        "\n",
        "    def update(i):\n",
        "        image=ax.imshow(images[i].reshape(shape[0],shape[1]),cmap=cmap)\n",
        "        true_digit.set_text('True Value: {}'.format(np.argmax(digits_true[i])))\n",
        "        predicted_digit.set_text('PredictedValue: {}'.format(np.argmax(digits_predicted[i])))\n",
        "        color = '{}'.format('g' if np.argmax(digits_true[i]) == np.argmax(digits_predicted[i]) else 'r')\n",
        "        predicted_digit.set_color(color)\n",
        "        return image, true_digit, predicted_digit,\n",
        "    if n_iterations is None:\n",
        "        n_iterations = len(images)\n",
        "    anim = animation.FuncAnimation(fig, update, frames=n_iterations, interval=interval, blit=True, repeat=repeat)\n",
        "    if video_file is not None:\n",
        "        anim.save('{video_file}.mp4'.format(video_file=video_file), fps=1)\n",
        "    return anim"
      ],
      "execution_count": 45,
      "outputs": []
    },
    {
      "cell_type": "markdown",
      "metadata": {
        "id": "HXqK0eRq0-Ed",
        "colab_type": "text"
      },
      "source": [
        "The input data from TensorFlow's tutorial was not used as it has a deprecation warning. Instead, keras datasets was used to get the mnist data set. The main difference is that the image is not flatten and the labels are not classified by an array with max probability i.e. one_hot."
      ]
    },
    {
      "cell_type": "code",
      "metadata": {
        "ExecuteTime": {
          "end_time": "2019-09-02T20:46:09.405738Z",
          "start_time": "2019-09-02T20:46:08.751487Z"
        },
        "id": "HvPk_Xxj0-Ed",
        "colab_type": "code",
        "colab": {
          "base_uri": "https://localhost:8080/",
          "height": 52
        },
        "outputId": "b944e8d5-00a8-4ae6-a7c7-0bfb6fc5de78"
      },
      "source": [
        "mnist = tf.keras.datasets.mnist\n",
        "(x_train, y_train),(x_test, y_test) = mnist.load_data()\n",
        "x_train, x_test = x_train / 255.0, x_test / 255.0"
      ],
      "execution_count": 46,
      "outputs": [
        {
          "output_type": "stream",
          "text": [
            "Downloading data from https://storage.googleapis.com/tensorflow/tf-keras-datasets/mnist.npz\n",
            "11493376/11490434 [==============================] - 0s 0us/step\n"
          ],
          "name": "stdout"
        }
      ]
    },
    {
      "cell_type": "markdown",
      "metadata": {
        "id": "lesAqO7K0-Ef",
        "colab_type": "text"
      },
      "source": [
        "### Check an example image from the training set"
      ]
    },
    {
      "cell_type": "code",
      "metadata": {
        "ExecuteTime": {
          "end_time": "2019-09-02T20:46:10.245534Z",
          "start_time": "2019-09-02T20:46:09.952528Z"
        },
        "scrolled": true,
        "id": "1SLxymJY0-Eg",
        "colab_type": "code",
        "colab": {},
        "outputId": "b1aeb1c6-872b-402e-9ee9-2be6e606273d"
      },
      "source": [
        "%matplotlib inline\n",
        "image_plot(x_train[125], y_train[125])"
      ],
      "execution_count": null,
      "outputs": [
        {
          "output_type": "display_data",
          "data": {
            "image/png": "[encoded data removed]",
            "text/plain": [
              "<Figure size 360x360 with 1 Axes>"
            ]
          },
          "metadata": {
            "tags": []
          }
        }
      ]
    },
    {
      "cell_type": "markdown",
      "metadata": {
        "id": "_CS7oYRr0-Ei",
        "colab_type": "text"
      },
      "source": [
        "### Transformations"
      ]
    },
    {
      "cell_type": "code",
      "metadata": {
        "ExecuteTime": {
          "end_time": "2019-09-02T20:46:12.521431Z",
          "start_time": "2019-09-02T20:46:10.919752Z"
        },
        "id": "Iy_k7euz0-Ej",
        "colab_type": "code",
        "colab": {}
      },
      "source": [
        "y_train, y_test = transform_label(y_train), transform_label(y_test)"
      ],
      "execution_count": 47,
      "outputs": []
    },
    {
      "cell_type": "code",
      "metadata": {
        "ExecuteTime": {
          "end_time": "2019-09-02T20:46:12.713918Z",
          "start_time": "2019-09-02T20:46:12.523427Z"
        },
        "id": "TDMF_w4g0-El",
        "colab_type": "code",
        "colab": {}
      },
      "source": [
        "x_train, x_test = flatten_images(x_train), flatten_images(x_test)"
      ],
      "execution_count": 48,
      "outputs": []
    },
    {
      "cell_type": "markdown",
      "metadata": {
        "id": "yUBQ0cEz0-Eq",
        "colab_type": "text"
      },
      "source": [
        "### Define the model"
      ]
    },
    {
      "cell_type": "code",
      "metadata": {
        "ExecuteTime": {
          "end_time": "2019-09-02T20:46:13.893698Z",
          "start_time": "2019-09-02T20:46:13.662288Z"
        },
        "id": "rn8fZrOT0-Eq",
        "colab_type": "code",
        "colab": {}
      },
      "source": [
        "# plcae holder for the input which is a 28 by 28 image data\n",
        "x = tf.placeholder(tf.float32, shape=[None,784])\n",
        "#place holder for predcicted output\n",
        "y = tf.placeholder(tf.float32, shape=[None,10])\n",
        "\n",
        "# Weights and bias for the only layer of the model\n",
        "w = tf.Variable(tf.zeros([784,10]))\n",
        "b = tf.Variable(tf.zeros([10]))\n",
        "\n",
        "layer1=tf.matmul(x,w)+b\n",
        "\n",
        "# Define model (make sure that the tensor rank an shape comply with the operation)\n",
        "y_p = tf.nn.softmax(layer1) # softmax = tf.exp(logits) / tf.reduce_sum(tf.exp(logits), axis)\n",
        "\n",
        "# Define the lost that is cross_entropy\n",
        "cross_entropy = tf.reduce_mean(tf.nn.softmax_cross_entropy_with_logits_v2(labels=y, logits=layer1))\n",
        "# Note: soft max is implmeneted so logits should be layer1 although using y_p would work too\n",
        "\n",
        "learning_rate = 0.5\n",
        "optimizer = tf.train.GradientDescentOptimizer(learning_rate=learning_rate).minimize(cross_entropy)"
      ],
      "execution_count": 49,
      "outputs": []
    },
    {
      "cell_type": "markdown",
      "metadata": {
        "id": "D-3mU7ps0-Et",
        "colab_type": "text"
      },
      "source": [
        "### Define the performance measure"
      ]
    },
    {
      "cell_type": "code",
      "metadata": {
        "ExecuteTime": {
          "end_time": "2019-09-02T20:46:16.646285Z",
          "start_time": "2019-09-02T20:46:16.465754Z"
        },
        "id": "wfvFmZKM0-Et",
        "colab_type": "code",
        "colab": {}
      },
      "source": [
        "correct = tf.equal(tf.argmax(y_p,1), tf.argmax(y,1))\n",
        "accuracy = tf.reduce_mean(tf.cast(correct, tf.float32))"
      ],
      "execution_count": 50,
      "outputs": []
    },
    {
      "cell_type": "markdown",
      "metadata": {
        "id": "CGD0LD4h0-Ev",
        "colab_type": "text"
      },
      "source": [
        "### Run the model\n",
        "\n",
        "Note that the initial guess (i.e. zeros or random normal) can significantly affect the performance of the model and depending on the type of optimization algorithm, it may get the model trapped in local optimal solutions for weights and biases."
      ]
    },
    {
      "cell_type": "code",
      "metadata": {
        "ExecuteTime": {
          "end_time": "2019-09-02T20:27:32.207298Z",
          "start_time": "2019-09-02T20:27:20.569705Z"
        },
        "scrolled": true,
        "id": "dlob6PxE0-Ew",
        "colab_type": "code",
        "colab": {
          "base_uri": "https://localhost:8080/",
          "height": 16
        },
        "outputId": "cab35f51-ac6b-4f51-96cc-cf6bdabfdd58"
      },
      "source": [
        "batch_size = 200\n",
        "batch_list = [ i for i in range(0,len(x_train),batch_size)] # Break training data into batches\n",
        "nump_epoch = 20\n",
        "weight_repo = [] # Get all the weights\n",
        "\n",
        "with tf.Session() as sess:\n",
        "    sess.run(tf.global_variables_initializer()) # Session initilization\n",
        "    \n",
        "    for epoch in range(nump_epoch):\n",
        "        for i in range(len(batch_list)-1):\n",
        "            start_index = batch_list[i]\n",
        "            end_index = batch_list[i+1]\n",
        "            x_batch = x_train[start_index:end_index]\n",
        "            y_batch = y_train[start_index:end_index]\n",
        "            sess.run(optimizer, feed_dict={x: x_batch, y: y_batch})\n",
        "\n",
        "        cost = sess.run(cross_entropy, feed_dict={x: x_batch, y:y_batch})\n",
        "        \n",
        "        accuracy_train = sess.run(accuracy, feed_dict={x: x_train, y:y_train})*100\n",
        "        accuracy_test = sess.run(accuracy, feed_dict={x: x_test, y:y_test})*100\n",
        "        print('Epoch: {}, Accuracy_train: %{:.2f}, Accuracy_test: %{:.2f}, Cost: {:.3f}'.format(epoch+1,\n",
        "                                                                                                accuracy_train,\n",
        "                                                                                                accuracy_test,\n",
        "                                                                                                cost),end='')\n",
        "        print('\\r', end='')\n",
        "        weight_repo.append(sess.run(w, feed_dict={x: x_batch, y:y_batch}))\n",
        "    \n",
        "    prediction = sess.run(y_p, feed_dict = {x: x_test, y: y_test})"
      ],
      "execution_count": 51,
      "outputs": [
        {
          "output_type": "stream",
          "text": [
            ""
          ],
          "name": "stdout"
        }
      ]
    },
    {
      "cell_type": "markdown",
      "metadata": {
        "id": "klMYj0pA0-E1",
        "colab_type": "text"
      },
      "source": [
        "### Visualize the final weights\n",
        "\n",
        "Note that weights that connect all the pixels into one output neuron corresponds to the class that the neuron represents. As can be seen below, the first neuron that classifies zero, assigns more weights to the pixels that form the number 0 and so on."
      ]
    },
    {
      "cell_type": "code",
      "metadata": {
        "ExecuteTime": {
          "end_time": "2019-09-02T20:27:34.017377Z",
          "start_time": "2019-09-02T20:27:33.366495Z"
        },
        "id": "PD2Lb_EW0-E1",
        "colab_type": "code",
        "colab": {
          "base_uri": "https://localhost:8080/",
          "height": 267
        },
        "outputId": "4b43b045-3ccb-4a94-d825-640c4e7bc0e0"
      },
      "source": [
        "mnist_weight_check(weight_repo[-1], shape=[28,28], cmap='jet')"
      ],
      "execution_count": 55,
      "outputs": [
        {
          "output_type": "display_data",
          "data": {
            "image/png": "[encoded data removed]",
            "text/plain": [
              "<Figure size 1440x288 with 10 Axes>"
            ]
          },
          "metadata": {
            "tags": [],
            "needs_background": "light"
          }
        }
      ]
    },
    {
      "cell_type": "markdown",
      "metadata": {
        "id": "CokcszeX0-E4",
        "colab_type": "text"
      },
      "source": [
        "### Visualize the prediction "
      ]
    },
    {
      "cell_type": "code",
      "metadata": {
        "ExecuteTime": {
          "end_time": "2019-09-02T20:28:04.958225Z",
          "start_time": "2019-09-02T20:27:35.465081Z"
        },
        "id": "uZIgwLba0-E5",
        "colab_type": "code",
        "colab": {
          "base_uri": "https://localhost:8080/",
          "height": 392
        },
        "outputId": "0157353e-9033-48e2-b39a-cf52eb9b142a"
      },
      "source": [
        "mnist_result_anim(x_test, y_test, prediction, video_file='mnist')"
      ],
      "execution_count": 56,
      "outputs": [
        {
          "output_type": "execute_result",
          "data": {
            "text/plain": [
              "<matplotlib.animation.FuncAnimation at 0x7f88c04abe48>"
            ]
          },
          "metadata": {
            "tags": []
          },
          "execution_count": 56
        },
        {
          "output_type": "display_data",
          "data": {
            "image/png": "[encoded data removed]",
            "text/plain": [
              "<Figure size 432x432 with 1 Axes>"
            ]
          },
          "metadata": {
            "tags": [],
            "needs_background": "light"
          }
        }
      ]
    },
    {
      "cell_type": "markdown",
      "metadata": {
        "id": "7jzS2q5P0-E7",
        "colab_type": "text"
      },
      "source": [
        "## Convolutional Network\n",
        "\n",
        "Using convolution layer allows us to capture spatial features of the image through a moving averaging window using a random filter. As a result, one input image of a digit will be transformed to multiple possible convoluted images that helps to cover have a more generalized set of images for that digit and in turn helps to avoid over fitting."
      ]
    },
    {
      "cell_type": "code",
      "metadata": {
        "ExecuteTime": {
          "end_time": "2019-02-20T14:25:56.049682Z",
          "start_time": "2019-02-20T14:25:53.685008Z"
        },
        "id": "WVdmZ2By0-E-",
        "colab_type": "code",
        "colab": {}
      },
      "source": [
        "mnist = tf.keras.datasets.mnist\n",
        "(x_train, y_train),(x_test, y_test) = mnist.load_data()\n",
        "x_train, x_test = x_train / 255.0, x_test / 255.0\n",
        "y_train, y_test = transform_label(y_train), transform_label(y_test)\n",
        "x_train, x_test = flatten_images(x_train), flatten_images(x_test)"
      ],
      "execution_count": 58,
      "outputs": []
    },
    {
      "cell_type": "markdown",
      "metadata": {
        "id": "NBa9eCzh0-FA",
        "colab_type": "text"
      },
      "source": [
        "### Settings"
      ]
    },
    {
      "cell_type": "code",
      "metadata": {
        "ExecuteTime": {
          "end_time": "2019-02-20T14:29:51.040790Z",
          "start_time": "2019-02-20T14:29:50.803912Z"
        },
        "id": "J8jjSxKs0-FB",
        "colab_type": "code",
        "colab": {}
      },
      "source": [
        "image_nrows = 28\n",
        "image_ncolumns = 28\n",
        "image_flat_size = image_nrows*image_ncolumns\n",
        "n_channels = 1 # Gray scale\n",
        "n_classes = 10 # 0,1,... 9\n",
        "\n",
        "log_path = r'./tensorboard_log/' # Log path for tensor board\n",
        "try:\n",
        "    os.rmdir(log_path)\n",
        "except:\n",
        "    pass"
      ],
      "execution_count": 59,
      "outputs": []
    },
    {
      "cell_type": "markdown",
      "metadata": {
        "id": "igaMroYN0-FE",
        "colab_type": "text"
      },
      "source": [
        "### Define a summary helper function"
      ]
    },
    {
      "cell_type": "code",
      "metadata": {
        "ExecuteTime": {
          "end_time": "2019-02-20T14:26:06.009225Z",
          "start_time": "2019-02-20T14:26:05.771039Z"
        },
        "id": "OegaoMMJ0-FF",
        "colab_type": "code",
        "colab": {}
      },
      "source": [
        "def variable_summary(var):\n",
        "    with tf.name_scope('Summary'):\n",
        "        mean = tf.reduce_mean(var)\n",
        "        tf.summary.scalar('Mean', mean)\n",
        "        std = tf.sqrt(tf.reduce_mean(tf.square(var-mean)))\n",
        "        tf.summary.scalar('Std', std)\n",
        "        \n",
        "        tf.summary.scalar('Min', tf.reduce_min(var))\n",
        "        tf.summary.scalar('Max', tf.reduce_max(var))\n",
        "        tf.summary.histogram('HistoGram', var)"
      ],
      "execution_count": 60,
      "outputs": []
    },
    {
      "cell_type": "markdown",
      "metadata": {
        "id": "uaKQR8XA0-FI",
        "colab_type": "text"
      },
      "source": [
        "### Define the place holders"
      ]
    },
    {
      "cell_type": "code",
      "metadata": {
        "ExecuteTime": {
          "end_time": "2019-02-20T14:26:12.946759Z",
          "start_time": "2019-02-20T14:26:12.667562Z"
        },
        "id": "8zFbm1bw0-FK",
        "colab_type": "code",
        "colab": {}
      },
      "source": [
        "with tf.name_scope(name = 'InputLayer'):\n",
        "    x = tf.placeholder(tf.float32, shape=[None, image_flat_size], name='Images')\n",
        "    y = tf.placeholder(tf.float32, shape=[None,n_classes], name = 'Classes')\n",
        "\n",
        "with tf.name_scope(name='ArgmaxTransform'):\n",
        "    y_class = tf.argmax(y, axis=1, name='InputDigit') # One_Hot: The index with highest probabality\n",
        "\n",
        "with tf.name_scope(name='ReshapeTransform'):\n",
        "    # Get the image back into 28 by 28 pixels which can be used by the convolution layer\n",
        "    x_image = tf.reshape(x, [-1,image_nrows,image_ncolumns,n_channels], name='Image_2D') # -1 is used to change a list of 1D arrays to a list of 2D images\n",
        "    tf.summary.image('InputImage', x_image, 5)"
      ],
      "execution_count": 61,
      "outputs": []
    },
    {
      "cell_type": "markdown",
      "metadata": {
        "id": "ar25Ef2G0-FM",
        "colab_type": "text"
      },
      "source": [
        "Note that an image is defined by a 3D tensor in general: \\{n_height(number of rows), n_width(number of columns), n_channels\\}. A gray scale image has only 1 channel. Considering the number of images, the NHWC format can be used to have a rank 4 tensor for the input batch of images.\n",
        "\n",
        "\\{batch, in_height, in_width, in_channels\\] = \\[-1, 28, 28, 1\\} ==> NHWC format \n",
        "\n",
        "Note: -1 is use as we do not know the batch number before hand."
      ]
    },
    {
      "cell_type": "markdown",
      "metadata": {
        "id": "kZHxKosj0-FO",
        "colab_type": "text"
      },
      "source": [
        "### Defining initializer functions "
      ]
    },
    {
      "cell_type": "code",
      "metadata": {
        "ExecuteTime": {
          "end_time": "2019-02-20T14:26:23.289558Z",
          "start_time": "2019-02-20T14:26:23.043385Z"
        },
        "id": "yOBNLPx_0-FO",
        "colab_type": "code",
        "colab": {}
      },
      "source": [
        "def sample_weights(shape, name=None):\n",
        "    '''\n",
        "    This function is used to get the filters that are used as the convolution filters.\n",
        "    '''\n",
        "    return tf.Variable(tf.truncated_normal(shape, stddev=0.05), name=name) # sample withing +-2 standard deviation from the mean that corresponds to 95% of the distribution \n",
        "\n",
        "def get_bias(shape, name=None):\n",
        "    ''' \n",
        "    Constant biases added to each convolutional filter\n",
        "    '''\n",
        "    return tf.Variable(tf.constant(0.001, shape=shape), name=name)"
      ],
      "execution_count": 67,
      "outputs": []
    },
    {
      "cell_type": "markdown",
      "metadata": {
        "id": "b4mkJ3dW0-FT",
        "colab_type": "text"
      },
      "source": [
        "The convolution of f and g is written f∗g. It is defined as the integral/summation of the product of the two functions after one is reversed and shifted.\n",
        "\n",
        "$$\n",
        "f * g (t) = \\int f(\\tau)g(t-\\tau) \\, d\\tau\n",
        "$$"
      ]
    },
    {
      "cell_type": "markdown",
      "metadata": {
        "id": "p-87PgSB0-FU",
        "colab_type": "text"
      },
      "source": [
        "### Function to define the convolution layer\n",
        "\n",
        "Although the TensorFlow API/package makes it much easier to design the convolutional layer, there are a couple if steps that should be wrapped in a function to avoid repeatability and minimize changes to the code (try to align with solid design principles)."
      ]
    },
    {
      "cell_type": "code",
      "metadata": {
        "ExecuteTime": {
          "end_time": "2019-02-20T14:27:20.350881Z",
          "start_time": "2019-02-20T14:27:20.101705Z"
        },
        "id": "wniqclch0-FU",
        "colab_type": "code",
        "colab": {}
      },
      "source": [
        "def new_convolutional_layer(input_tensor, # The output of the previous layer (e.g. training images for the first conv layer)\n",
        "                            number_input_channels, # number of channels from the previous channel\n",
        "                            filter_size, # size of the averaging window (squared one for this example)\n",
        "                            number_filters, # Number of alternative filters\n",
        "                            pooling = True, # Option to apply a pooling step after the convolution\n",
        "                           ):\n",
        "    \n",
        "    '''\n",
        "    A wrapper function to summarize cretaing a new convolutional layer using tensor flow.\n",
        "    Input: Image based on NHWC format\n",
        "    Output: NHWC format\n",
        "            number of images: same as input\n",
        "            height/row number: depending on the pooling window size (e.g. if 2 by 2, then devided by two)\n",
        "            width/column number: Ditto\n",
        "            Channels: Number of filters \n",
        "    Note that: In image processing, the point of using convolution is to apply a filter to the image using a mask/kernel. This\n",
        "    can be used to blur the image or sharpen the edges and so on depending on the kernel matrix definition. The goal of applying \n",
        "    convolution layer is to get alternative represnetation of the same image using random filters that get optimized by the NN.\n",
        "    '''\n",
        "    \n",
        "    # shape of the filter defined for TensoFlow's API\n",
        "    filter_shape = [filter_size, filter_size, number_input_channels, number_filters]\n",
        "    \n",
        "    with tf.name_scope('Weights'):\n",
        "        conv_weights = sample_weights(filter_shape, name='ConvolutionFilterWeights') # Sample a truncated normal distribution to get filters for an image/convluted image\n",
        "        variable_summary(conv_weights)\n",
        "        # Note that even the convolutional filter will be optimized by learnig from the training images\n",
        "    with tf.name_scope('Biases'):\n",
        "        biases = get_bias([number_filters], name='ConvolutionBias')\n",
        "        variable_summary(biases)\n",
        "\n",
        "    # Note that the combination of filter size, strides and padding determines the output tensor/image size\n",
        "    layer = tf.nn.conv2d(input_tensor, # tensor matching the data_format provided\n",
        "                         filter = conv_weights, # The convloutional filter\n",
        "                         strides=[1,1,1,1], # the first and last one must be one to step over image and channel, second and third one are used to move the window\n",
        "                         padding='SAME', # Padding takes care of matching the window and input tensor shape (corners)  \n",
        "                         data_format='NHWC',\n",
        "                         name = 'Convolution2D'\n",
        "                        )\n",
        "    # The same initilized bias is added to each channel of the result of the convolution\n",
        "    layer += biases\n",
        "    \n",
        "    if pooling:\n",
        "        layer = tf.nn.max_pool(value=layer,\n",
        "                               ksize=[1,2,2,1], # Determines the size of the output \n",
        "                               strides=[1,2,2,1],# strides fo moving the pooling window\n",
        "                               padding='SAME', # Account for corners\n",
        "                               name='Pool2by2'\n",
        "                              )\n",
        "        \n",
        "        \n",
        "    # Using relu function (*Computes rectified linear: max(features, 0)*)\n",
        "    # A filter to truncate nagative values\n",
        "    layer = tf.nn.relu(layer)\n",
        "    \n",
        "    # Note that applying relu function is usually before pooling but for the max pool is does not matter (relu(max_pool(x)) = max_pool(relu(x)))\n",
        "    # By applying relu after pooling, we can improve the performance ny reducing number of relu filters\n",
        "    \n",
        "    return layer, conv_weights"
      ],
      "execution_count": 68,
      "outputs": []
    },
    {
      "cell_type": "markdown",
      "metadata": {
        "id": "A75jnbXm0-FY",
        "colab_type": "text"
      },
      "source": [
        "### Function to flatten the convoluted results\n",
        "\n",
        "The result of the convolution layer is a rank 4 tensor. The fully connected layer requires to flatten the convoluted tensor to a rank 2 tensor (i.e. num_tensor/images by flattened tensor and channels)"
      ]
    },
    {
      "cell_type": "code",
      "metadata": {
        "ExecuteTime": {
          "end_time": "2019-02-20T14:27:21.975760Z",
          "start_time": "2019-02-20T14:27:21.740594Z"
        },
        "id": "4PKoskuz0-FZ",
        "colab_type": "code",
        "colab": {}
      },
      "source": [
        "def make_flat(layer, name=None):\n",
        "    \n",
        "    layer_shape = layer.get_shape()\n",
        "    num_items =  layer_shape[0]\n",
        "    num_features = np.array(layer_shape[1:], dtype=int).prod()\n",
        "    \n",
        "    return tf.reshape(layer, [-1,num_features], name=name), num_features # Reshape to num_items by num_features"
      ],
      "execution_count": 69,
      "outputs": []
    },
    {
      "cell_type": "markdown",
      "metadata": {
        "id": "gCYIebBl0-Fb",
        "colab_type": "text"
      },
      "source": [
        "### Output layer"
      ]
    },
    {
      "cell_type": "code",
      "metadata": {
        "ExecuteTime": {
          "end_time": "2019-02-20T14:27:22.968641Z",
          "start_time": "2019-02-20T14:27:22.731648Z"
        },
        "id": "zcEOGYjo0-Fb",
        "colab_type": "code",
        "colab": {}
      },
      "source": [
        "def new_fc_layer(input_tensor, # NHWC\n",
        "                   num_inputs,\n",
        "                   num_outputs,\n",
        "                   use_relu=True\n",
        "                  ):\n",
        "    ''' Provides the fully connected layer'''\n",
        "    \n",
        "    weights = sample_weights([num_inputs,num_outputs], name='FullConnectedWeights')\n",
        "    \n",
        "    biases = get_bias([num_outputs], name = 'FullConnectedBias')\n",
        "    \n",
        "    layer = tf.matmul(input_tensor, weights) + biases\n",
        "    \n",
        "    if use_relu:\n",
        "        layer = tf.nn.relu(layer)\n",
        "        \n",
        "    return layer"
      ],
      "execution_count": 70,
      "outputs": []
    },
    {
      "cell_type": "markdown",
      "metadata": {
        "id": "gq9y4yvK0-Fe",
        "colab_type": "text"
      },
      "source": [
        "### Define the final model"
      ]
    },
    {
      "cell_type": "code",
      "metadata": {
        "ExecuteTime": {
          "end_time": "2019-02-20T14:27:25.366485Z",
          "start_time": "2019-02-20T14:27:25.130306Z"
        },
        "id": "MLrQu-dA0-Fe",
        "colab_type": "code",
        "colab": {}
      },
      "source": [
        "filter_size1 = 5 # Squared filter\n",
        "filter_size2 = 2\n",
        "\n",
        "number_filters1 = 15 # Creating multiple alternatives for the filter to create differen convolutional alternative\n",
        "number_filters2 = 20"
      ],
      "execution_count": 71,
      "outputs": []
    },
    {
      "cell_type": "code",
      "metadata": {
        "ExecuteTime": {
          "end_time": "2019-02-20T14:27:25.910152Z",
          "start_time": "2019-02-20T14:27:25.620948Z"
        },
        "id": "Lztc-snU0-Fh",
        "colab_type": "code",
        "colab": {
          "base_uri": "https://localhost:8080/",
          "height": 34
        },
        "outputId": "dd37ac86-f584-4100-9af2-ef07f1ea15f9"
      },
      "source": [
        "with tf.name_scope(name='ConvLayer1'):\n",
        "    conv_layer_1, conv_weights_1 = new_convolutional_layer(input_tensor=x_image, # [-1,28,28,1]\n",
        "                                                           number_input_channels= n_channels, \n",
        "                                                           filter_size=filter_size1, # Size of the averaging window \n",
        "                                                           number_filters=number_filters1,\n",
        "                                                           pooling=True)\n",
        "conv_layer_1"
      ],
      "execution_count": 72,
      "outputs": [
        {
          "output_type": "execute_result",
          "data": {
            "text/plain": [
              "<tf.Tensor 'ConvLayer1_1/Relu:0' shape=(?, 14, 14, 15) dtype=float32>"
            ]
          },
          "metadata": {
            "tags": []
          },
          "execution_count": 72
        }
      ]
    },
    {
      "cell_type": "code",
      "metadata": {
        "ExecuteTime": {
          "end_time": "2019-02-20T14:27:26.759737Z",
          "start_time": "2019-02-20T14:27:26.475539Z"
        },
        "id": "GHb4q2DS0-Fl",
        "colab_type": "code",
        "colab": {
          "base_uri": "https://localhost:8080/",
          "height": 34
        },
        "outputId": "eeff196f-b2a9-489d-d089-7509c8d86062"
      },
      "source": [
        "with tf.name_scope(name='ConvLayer2'):\n",
        "    conv_layer_2, conv_weights_2 = new_convolutional_layer(input_tensor=conv_layer_1, # [-1,28/2,28/2,number_filters1] devided by 2 because of the pooling strides and ksize\n",
        "                                                           number_input_channels= number_filters1, \n",
        "                                                           filter_size=filter_size2, # Size of the averaging window \n",
        "                                                           number_filters=number_filters2,\n",
        "                                                           pooling=True)\n",
        "conv_layer_2"
      ],
      "execution_count": 73,
      "outputs": [
        {
          "output_type": "execute_result",
          "data": {
            "text/plain": [
              "<tf.Tensor 'ConvLayer2/Relu:0' shape=(?, 7, 7, 20) dtype=float32>"
            ]
          },
          "metadata": {
            "tags": []
          },
          "execution_count": 73
        }
      ]
    },
    {
      "cell_type": "code",
      "metadata": {
        "ExecuteTime": {
          "end_time": "2019-02-20T14:27:29.243518Z",
          "start_time": "2019-02-20T14:27:29.011356Z"
        },
        "id": "02PgBemx0-Fo",
        "colab_type": "code",
        "colab": {
          "base_uri": "https://localhost:8080/",
          "height": 34
        },
        "outputId": "8032c906-8482-4720-cb3c-145a8c3afb89"
      },
      "source": [
        "flat_layer, num_features = make_flat(conv_layer_2, name='FlatTransform')\n",
        "flat_layer, num_features"
      ],
      "execution_count": 74,
      "outputs": [
        {
          "output_type": "execute_result",
          "data": {
            "text/plain": [
              "(<tf.Tensor 'FlatTransform:0' shape=(?, 980) dtype=float32>, 980)"
            ]
          },
          "metadata": {
            "tags": []
          },
          "execution_count": 74
        }
      ]
    },
    {
      "cell_type": "code",
      "metadata": {
        "ExecuteTime": {
          "end_time": "2019-02-20T14:27:31.018378Z",
          "start_time": "2019-02-20T14:27:30.771190Z"
        },
        "id": "3SlSr06a0-Fr",
        "colab_type": "code",
        "colab": {
          "base_uri": "https://localhost:8080/",
          "height": 34
        },
        "outputId": "101493a1-1074-4ec3-8a67-8b799e209712"
      },
      "source": [
        "with tf.name_scope(name='FcLayer1'):\n",
        "    layer_fc1= new_fc_layer(flat_layer, num_inputs=num_features, num_outputs=128, use_relu=True)# apply activation\n",
        "layer_fc1"
      ],
      "execution_count": 75,
      "outputs": [
        {
          "output_type": "execute_result",
          "data": {
            "text/plain": [
              "<tf.Tensor 'FcLayer1/Relu:0' shape=(?, 128) dtype=float32>"
            ]
          },
          "metadata": {
            "tags": []
          },
          "execution_count": 75
        }
      ]
    },
    {
      "cell_type": "code",
      "metadata": {
        "ExecuteTime": {
          "end_time": "2019-02-20T14:27:32.042397Z",
          "start_time": "2019-02-20T14:27:31.795224Z"
        },
        "id": "VWl5w5fL0-Fv",
        "colab_type": "code",
        "colab": {
          "base_uri": "https://localhost:8080/",
          "height": 34
        },
        "outputId": "e9a7fd36-7582-43e0-f8aa-f5e4e4d18ff3"
      },
      "source": [
        "with tf.name_scope(name='FcLayer2'):\n",
        "    layer_fc2 = new_fc_layer(layer_fc1, num_inputs=128, num_outputs=n_classes, use_relu=False) # Leave the activation\n",
        "layer_fc2"
      ],
      "execution_count": 76,
      "outputs": [
        {
          "output_type": "execute_result",
          "data": {
            "text/plain": [
              "<tf.Tensor 'FcLayer2/add:0' shape=(?, 10) dtype=float32>"
            ]
          },
          "metadata": {
            "tags": []
          },
          "execution_count": 76
        }
      ]
    },
    {
      "cell_type": "markdown",
      "metadata": {
        "id": "_2AVfDpT0-Fz",
        "colab_type": "text"
      },
      "source": [
        "#### The predicted layer\n",
        "\n",
        "Applying the proper activation for prediction layer. The 10 classes are identified based on identifying the output neuron with highest probability/likelihood. In this context, it is required to normalize the results of the final layer for classification to be between 0 and 1 and with summation to be equal to one. This can be done by TensorFlow's softmax activation function"
      ]
    },
    {
      "cell_type": "code",
      "metadata": {
        "ExecuteTime": {
          "end_time": "2019-02-20T14:27:35.029902Z",
          "start_time": "2019-02-20T14:27:34.794745Z"
        },
        "id": "HfOCTmoO0-F0",
        "colab_type": "code",
        "colab": {}
      },
      "source": [
        "with tf.name_scope('Output'):\n",
        "    y_p = tf.nn.softmax(layer_fc2, name='PredictedClasses')\n",
        "    \n",
        "with tf.name_scope(name='ArgmaxTransform'):\n",
        "    y_p_class = tf.argmax(y_p, axis=1, name='PredictedDigit')"
      ],
      "execution_count": 77,
      "outputs": []
    },
    {
      "cell_type": "markdown",
      "metadata": {
        "id": "xIb0Npq90-F2",
        "colab_type": "text"
      },
      "source": [
        "#### Define the cost\n",
        "\n",
        "The best answer that matches the true label has the correct neuron with highest normalized entropy after applying softmax function. Also, the entropy needs to be minimized meaning that the answer is more certain and the right neuron has the maximum probability that is as close as possible to 1. This can be implemented using  "
      ]
    },
    {
      "cell_type": "code",
      "metadata": {
        "ExecuteTime": {
          "end_time": "2019-02-20T14:27:38.464300Z",
          "start_time": "2019-02-20T14:27:38.202128Z"
        },
        "id": "fjh0AB280-F3",
        "colab_type": "code",
        "colab": {
          "base_uri": "https://localhost:8080/",
          "height": 34
        },
        "outputId": "a8f291a1-023b-43a1-a2ce-e70ef99e36a7"
      },
      "source": [
        "# Softmax is implemenetd in this function so we use layer_fc2for logits instead of y_p\n",
        "with tf.name_scope('CrossEntropy'):\n",
        "    cost = tf.reduce_mean(tf.nn.softmax_cross_entropy_with_logits_v2(labels= y, logits=layer_fc2))\n",
        "tf.summary.scalar('Cost', cost)"
      ],
      "execution_count": 78,
      "outputs": [
        {
          "output_type": "execute_result",
          "data": {
            "text/plain": [
              "<tf.Tensor 'Cost:0' shape=() dtype=string>"
            ]
          },
          "metadata": {
            "tags": []
          },
          "execution_count": 78
        }
      ]
    },
    {
      "cell_type": "code",
      "metadata": {
        "ExecuteTime": {
          "end_time": "2019-02-20T14:27:39.945086Z",
          "start_time": "2019-02-20T14:27:39.547794Z"
        },
        "id": "763GNhZ80-F5",
        "colab_type": "code",
        "colab": {}
      },
      "source": [
        "with tf.name_scope('Optimizer'):\n",
        "    optimizer = tf.train.AdamOptimizer(learning_rate=0.0001).minimize(cost)"
      ],
      "execution_count": 79,
      "outputs": []
    },
    {
      "cell_type": "markdown",
      "metadata": {
        "id": "8zmStJMu0-F8",
        "colab_type": "text"
      },
      "source": [
        "### Accuracy measure"
      ]
    },
    {
      "cell_type": "code",
      "metadata": {
        "ExecuteTime": {
          "end_time": "2019-02-20T14:27:46.244930Z",
          "start_time": "2019-02-20T14:27:46.004761Z"
        },
        "id": "P9uR7vFj0-F9",
        "colab_type": "code",
        "colab": {
          "base_uri": "https://localhost:8080/",
          "height": 34
        },
        "outputId": "3be9b62d-b5fb-48bc-a661-281ef291927a"
      },
      "source": [
        "with tf.name_scope(name='Accuracy'):\n",
        "    correct_prediction = tf.equal(y_p_class,y_class)\n",
        "    accuracy = tf.reduce_mean(tf.cast(correct_prediction, tf.float32))\n",
        "tf.summary.scalar('Accuracy', accuracy)"
      ],
      "execution_count": 80,
      "outputs": [
        {
          "output_type": "execute_result",
          "data": {
            "text/plain": [
              "<tf.Tensor 'Accuracy_1:0' shape=() dtype=string>"
            ]
          },
          "metadata": {
            "tags": []
          },
          "execution_count": 80
        }
      ]
    },
    {
      "cell_type": "markdown",
      "metadata": {
        "id": "eVtfDMLn0-F_",
        "colab_type": "text"
      },
      "source": [
        "### Run the model"
      ]
    },
    {
      "cell_type": "code",
      "metadata": {
        "ExecuteTime": {
          "end_time": "2019-02-20T14:42:52.582751Z",
          "start_time": "2019-02-20T14:30:08.995703Z"
        },
        "id": "k_w4brZW0-F_",
        "colab_type": "code",
        "colab": {
          "base_uri": "https://localhost:8080/",
          "height": 16
        },
        "outputId": "dc67b19a-904b-45c9-ad46-57a684347735"
      },
      "source": [
        "batch_size = 200\n",
        "batch_list = [ i for i in range(0,len(x_train),batch_size)] # Break training data into batches\n",
        "nump_epoch = 15\n",
        "\n",
        "all_summary = tf.summary.merge_all()\n",
        "\n",
        "sess= tf.Session()\n",
        "tb_writer = tf.summary.FileWriter(logdir = log_path, graph=sess.graph, session=sess)\n",
        "sess.run(tf.global_variables_initializer())\n",
        "\n",
        "\n",
        "for epoch in range(nump_epoch):\n",
        "    for i in range(len(batch_list)-1):\n",
        "        start_index = batch_list[i]\n",
        "        end_index = batch_list[i+1]\n",
        "        x_batch = x_train[start_index:end_index]\n",
        "        y_batch = y_train[start_index:end_index]\n",
        "        _, summary = sess.run([optimizer, all_summary], feed_dict={x: x_batch, y: y_batch})  \n",
        "        \n",
        "    accuracy_val = sess.run(accuracy, feed_dict={x: x_test, y:y_test})*100\n",
        "    print('Epoch: {}, Accuracy: %{:.2f}'.format(epoch+1, accuracy_val), end='')\n",
        "    print('\\r', end='')\n",
        "    tb_writer.add_summary(summary, epoch)"
      ],
      "execution_count": null,
      "outputs": [
        {
          "output_type": "stream",
          "text": [
            ""
          ],
          "name": "stdout"
        }
      ]
    },
    {
      "cell_type": "code",
      "metadata": {
        "ExecuteTime": {
          "end_time": "2019-02-20T14:59:47.783998Z",
          "start_time": "2019-02-20T14:59:37.958447Z"
        },
        "id": "RYS1JKj-0-GB",
        "colab_type": "code",
        "colab": {}
      },
      "source": [
        "# get the predictions for test data\n",
        "prediction = sess.run(y_p, feed_dict = {x: x_test, y: y_test})\n",
        "\n",
        "# get the final convolution image for layer 1\n",
        "conv_1 = conv_layer_1.eval(feed_dict = {x: x_test, y: y_test}, session=sess)\n",
        "conv_weight_1 = conv_weights_1.eval(session=sess)\n",
        "\n",
        "# get the final convolution image for layer 2\n",
        "conv_2 = conv_layer_2.eval(feed_dict = {x: x_test, y: y_test}, session=sess)\n",
        "conv_weight_2 = conv_weights_2.eval(session=sess)\n",
        "\n",
        "#save the result\n",
        "import pickle\n",
        "with open('ConvResults.pickle', 'wb') as handle:\n",
        "    pickle.dump([prediction, conv_1, conv_2, conv_weight_1, conv_weight_2], handle, protocol=pickle.HIGHEST_PROTOCOL)\n",
        "\n",
        "sess.close()"
      ],
      "execution_count": null,
      "outputs": []
    },
    {
      "cell_type": "markdown",
      "metadata": {
        "id": "wDM73ddr0-GF",
        "colab_type": "text"
      },
      "source": [
        "### Visualizations"
      ]
    },
    {
      "cell_type": "markdown",
      "metadata": {
        "id": "SmKJitoM0-GG",
        "colab_type": "text"
      },
      "source": [
        "#### Convolution layers\n",
        "The animation below, shows the result of applying convolution filters on the image. It is recommended to use visualizations to understand how the convolution is implemented in TensorFlow. I think there is a shift/drift issue with the way that convolution is implemented because the filter is placed in a way that the target pixel is on the corner of the filter and not the center of the filter. Depending on the type of padding that can result in reduced number of pixels (padding='SAME' keeps the same pixel number). Also, using strides more than 1 for the row and column shift can distort the image. \n",
        "\n",
        "I think for more complicated image recognition problems, it is better to implement some pre-processing for the image using the known convolution filters (no need for optimization)."
      ]
    },
    {
      "cell_type": "code",
      "metadata": {
        "ExecuteTime": {
          "end_time": "2019-02-20T15:00:02.590748Z",
          "start_time": "2019-02-20T15:00:02.084389Z"
        },
        "scrolled": false,
        "id": "LLbYgdyt0-GG",
        "colab_type": "code",
        "colab": {}
      },
      "source": [
        "%matplotlib notebook\n",
        "conv_result_anim(x_test, conv_1, conv_2, conv_layer_1, conv_layer_2, shape=[28,28])"
      ],
      "execution_count": null,
      "outputs": []
    },
    {
      "cell_type": "markdown",
      "metadata": {
        "id": "Yn1FeCfn0-GJ",
        "colab_type": "text"
      },
      "source": [
        "#### Prediction vs True"
      ]
    },
    {
      "cell_type": "code",
      "metadata": {
        "ExecuteTime": {
          "end_time": "2019-02-20T15:00:16.251407Z",
          "start_time": "2019-02-20T15:00:15.987219Z"
        },
        "scrolled": false,
        "id": "K1lx2U1r0-GJ",
        "colab_type": "code",
        "colab": {},
        "outputId": "b295b596-8db7-4f69-d17f-a71649780fc5"
      },
      "source": [
        "%matplotlib notebook\n",
        "mnist_result_anim(x_test,y_test, prediction, interval=50)"
      ],
      "execution_count": null,
      "outputs": [
        {
          "output_type": "display_data",
          "data": {
            "application/javascript": [
              "/* Put everything inside the global mpl namespace */\n",
              "window.mpl = {};\n",
              "\n",
              "\n",
              "mpl.get_websocket_type = function() {\n",
              "    if (typeof(WebSocket) !== 'undefined') {\n",
              "        return WebSocket;\n",
              "    } else if (typeof(MozWebSocket) !== 'undefined') {\n",
              "        return MozWebSocket;\n",
              "    } else {\n",
              "        alert('Your browser does not have WebSocket support.' +\n",
              "              'Please try Chrome, Safari or Firefox ≥ 6. ' +\n",
              "              'Firefox 4 and 5 are also supported but you ' +\n",
              "              'have to enable WebSockets in about:config.');\n",
              "    };\n",
              "}\n",
              "\n",
              "mpl.figure = function(figure_id, websocket, ondownload, parent_element) {\n",
              "    this.id = figure_id;\n",
              "\n",
              "    this.ws = websocket;\n",
              "\n",
              "    this.supports_binary = (this.ws.binaryType != undefined);\n",
              "\n",
              "    if (!this.supports_binary) {\n",
              "        var warnings = document.getElementById(\"mpl-warnings\");\n",
              "        if (warnings) {\n",
              "            warnings.style.display = 'block';\n",
              "            warnings.textContent = (\n",
              "                \"This browser does not support binary websocket messages. \" +\n",
              "                    \"Performance may be slow.\");\n",
              "        }\n",
              "    }\n",
              "\n",
              "    this.imageObj = new Image();\n",
              "\n",
              "    this.context = undefined;\n",
              "    this.message = undefined;\n",
              "    this.canvas = undefined;\n",
              "    this.rubberband_canvas = undefined;\n",
              "    this.rubberband_context = undefined;\n",
              "    this.format_dropdown = undefined;\n",
              "\n",
              "    this.image_mode = 'full';\n",
              "\n",
              "    this.root = $('<div/>');\n",
              "    this._root_extra_style(this.root)\n",
              "    this.root.attr('style', 'display: inline-block');\n",
              "\n",
              "    $(parent_element).append(this.root);\n",
              "\n",
              "    this._init_header(this);\n",
              "    this._init_canvas(this);\n",
              "    this._init_toolbar(this);\n",
              "\n",
              "    var fig = this;\n",
              "\n",
              "    this.waiting = false;\n",
              "\n",
              "    this.ws.onopen =  function () {\n",
              "            fig.send_message(\"supports_binary\", {value: fig.supports_binary});\n",
              "            fig.send_message(\"send_image_mode\", {});\n",
              "            if (mpl.ratio != 1) {\n",
              "                fig.send_message(\"set_dpi_ratio\", {'dpi_ratio': mpl.ratio});\n",
              "            }\n",
              "            fig.send_message(\"refresh\", {});\n",
              "        }\n",
              "\n",
              "    this.imageObj.onload = function() {\n",
              "            if (fig.image_mode == 'full') {\n",
              "                // Full images could contain transparency (where diff images\n",
              "                // almost always do), so we need to clear the canvas so that\n",
              "                // there is no ghosting.\n",
              "                fig.context.clearRect(0, 0, fig.canvas.width, fig.canvas.height);\n",
              "            }\n",
              "            fig.context.drawImage(fig.imageObj, 0, 0);\n",
              "        };\n",
              "\n",
              "    this.imageObj.onunload = function() {\n",
              "        fig.ws.close();\n",
              "    }\n",
              "\n",
              "    this.ws.onmessage = this._make_on_message_function(this);\n",
              "\n",
              "    this.ondownload = ondownload;\n",
              "}\n",
              "\n",
              "mpl.figure.prototype._init_header = function() {\n",
              "    var titlebar = $(\n",
              "        '<div class=\"ui-dialog-titlebar ui-widget-header ui-corner-all ' +\n",
              "        'ui-helper-clearfix\"/>');\n",
              "    var titletext = $(\n",
              "        '<div class=\"ui-dialog-title\" style=\"width: 100%; ' +\n",
              "        'text-align: center; padding: 3px;\"/>');\n",
              "    titlebar.append(titletext)\n",
              "    this.root.append(titlebar);\n",
              "    this.header = titletext[0];\n",
              "}\n",
              "\n",
              "\n",
              "\n",
              "mpl.figure.prototype._canvas_extra_style = function(canvas_div) {\n",
              "\n",
              "}\n",
              "\n",
              "\n",
              "mpl.figure.prototype._root_extra_style = function(canvas_div) {\n",
              "\n",
              "}\n",
              "\n",
              "mpl.figure.prototype._init_canvas = function() {\n",
              "    var fig = this;\n",
              "\n",
              "    var canvas_div = $('<div/>');\n",
              "\n",
              "    canvas_div.attr('style', 'position: relative; clear: both; outline: 0');\n",
              "\n",
              "    function canvas_keyboard_event(event) {\n",
              "        return fig.key_event(event, event['data']);\n",
              "    }\n",
              "\n",
              "    canvas_div.keydown('key_press', canvas_keyboard_event);\n",
              "    canvas_div.keyup('key_release', canvas_keyboard_event);\n",
              "    this.canvas_div = canvas_div\n",
              "    this._canvas_extra_style(canvas_div)\n",
              "    this.root.append(canvas_div);\n",
              "\n",
              "    var canvas = $('<canvas/>');\n",
              "    canvas.addClass('mpl-canvas');\n",
              "    canvas.attr('style', \"left: 0; top: 0; z-index: 0; outline: 0\")\n",
              "\n",
              "    this.canvas = canvas[0];\n",
              "    this.context = canvas[0].getContext(\"2d\");\n",
              "\n",
              "    var backingStore = this.context.backingStorePixelRatio ||\n",
              "\tthis.context.webkitBackingStorePixelRatio ||\n",
              "\tthis.context.mozBackingStorePixelRatio ||\n",
              "\tthis.context.msBackingStorePixelRatio ||\n",
              "\tthis.context.oBackingStorePixelRatio ||\n",
              "\tthis.context.backingStorePixelRatio || 1;\n",
              "\n",
              "    mpl.ratio = (window.devicePixelRatio || 1) / backingStore;\n",
              "\n",
              "    var rubberband = $('<canvas/>');\n",
              "    rubberband.attr('style', \"position: absolute; left: 0; top: 0; z-index: 1;\")\n",
              "\n",
              "    var pass_mouse_events = true;\n",
              "\n",
              "    canvas_div.resizable({\n",
              "        start: function(event, ui) {\n",
              "            pass_mouse_events = false;\n",
              "        },\n",
              "        resize: function(event, ui) {\n",
              "            fig.request_resize(ui.size.width, ui.size.height);\n",
              "        },\n",
              "        stop: function(event, ui) {\n",
              "            pass_mouse_events = true;\n",
              "            fig.request_resize(ui.size.width, ui.size.height);\n",
              "        },\n",
              "    });\n",
              "\n",
              "    function mouse_event_fn(event) {\n",
              "        if (pass_mouse_events)\n",
              "            return fig.mouse_event(event, event['data']);\n",
              "    }\n",
              "\n",
              "    rubberband.mousedown('button_press', mouse_event_fn);\n",
              "    rubberband.mouseup('button_release', mouse_event_fn);\n",
              "    // Throttle sequential mouse events to 1 every 20ms.\n",
              "    rubberband.mousemove('motion_notify', mouse_event_fn);\n",
              "\n",
              "    rubberband.mouseenter('figure_enter', mouse_event_fn);\n",
              "    rubberband.mouseleave('figure_leave', mouse_event_fn);\n",
              "\n",
              "    canvas_div.on(\"wheel\", function (event) {\n",
              "        event = event.originalEvent;\n",
              "        event['data'] = 'scroll'\n",
              "        if (event.deltaY < 0) {\n",
              "            event.step = 1;\n",
              "        } else {\n",
              "            event.step = -1;\n",
              "        }\n",
              "        mouse_event_fn(event);\n",
              "    });\n",
              "\n",
              "    canvas_div.append(canvas);\n",
              "    canvas_div.append(rubberband);\n",
              "\n",
              "    this.rubberband = rubberband;\n",
              "    this.rubberband_canvas = rubberband[0];\n",
              "    this.rubberband_context = rubberband[0].getContext(\"2d\");\n",
              "    this.rubberband_context.strokeStyle = \"#000000\";\n",
              "\n",
              "    this._resize_canvas = function(width, height) {\n",
              "        // Keep the size of the canvas, canvas container, and rubber band\n",
              "        // canvas in synch.\n",
              "        canvas_div.css('width', width)\n",
              "        canvas_div.css('height', height)\n",
              "\n",
              "        canvas.attr('width', width * mpl.ratio);\n",
              "        canvas.attr('height', height * mpl.ratio);\n",
              "        canvas.attr('style', 'width: ' + width + 'px; height: ' + height + 'px;');\n",
              "\n",
              "        rubberband.attr('width', width);\n",
              "        rubberband.attr('height', height);\n",
              "    }\n",
              "\n",
              "    // Set the figure to an initial 600x600px, this will subsequently be updated\n",
              "    // upon first draw.\n",
              "    this._resize_canvas(600, 600);\n",
              "\n",
              "    // Disable right mouse context menu.\n",
              "    $(this.rubberband_canvas).bind(\"contextmenu\",function(e){\n",
              "        return false;\n",
              "    });\n",
              "\n",
              "    function set_focus () {\n",
              "        canvas.focus();\n",
              "        canvas_div.focus();\n",
              "    }\n",
              "\n",
              "    window.setTimeout(set_focus, 100);\n",
              "}\n",
              "\n",
              "mpl.figure.prototype._init_toolbar = function() {\n",
              "    var fig = this;\n",
              "\n",
              "    var nav_element = $('<div/>')\n",
              "    nav_element.attr('style', 'width: 100%');\n",
              "    this.root.append(nav_element);\n",
              "\n",
              "    // Define a callback function for later on.\n",
              "    function toolbar_event(event) {\n",
              "        return fig.toolbar_button_onclick(event['data']);\n",
              "    }\n",
              "    function toolbar_mouse_event(event) {\n",
              "        return fig.toolbar_button_onmouseover(event['data']);\n",
              "    }\n",
              "\n",
              "    for(var toolbar_ind in mpl.toolbar_items) {\n",
              "        var name = mpl.toolbar_items[toolbar_ind][0];\n",
              "        var tooltip = mpl.toolbar_items[toolbar_ind][1];\n",
              "        var image = mpl.toolbar_items[toolbar_ind][2];\n",
              "        var method_name = mpl.toolbar_items[toolbar_ind][3];\n",
              "\n",
              "        if (!name) {\n",
              "            // put a spacer in here.\n",
              "            continue;\n",
              "        }\n",
              "        var button = $('<button/>');\n",
              "        button.addClass('ui-button ui-widget ui-state-default ui-corner-all ' +\n",
              "                        'ui-button-icon-only');\n",
              "        button.attr('role', 'button');\n",
              "        button.attr('aria-disabled', 'false');\n",
              "        button.click(method_name, toolbar_event);\n",
              "        button.mouseover(tooltip, toolbar_mouse_event);\n",
              "\n",
              "        var icon_img = $('<span/>');\n",
              "        icon_img.addClass('ui-button-icon-primary ui-icon');\n",
              "        icon_img.addClass(image);\n",
              "        icon_img.addClass('ui-corner-all');\n",
              "\n",
              "        var tooltip_span = $('<span/>');\n",
              "        tooltip_span.addClass('ui-button-text');\n",
              "        tooltip_span.html(tooltip);\n",
              "\n",
              "        button.append(icon_img);\n",
              "        button.append(tooltip_span);\n",
              "\n",
              "        nav_element.append(button);\n",
              "    }\n",
              "\n",
              "    var fmt_picker_span = $('<span/>');\n",
              "\n",
              "    var fmt_picker = $('<select/>');\n",
              "    fmt_picker.addClass('mpl-toolbar-option ui-widget ui-widget-content');\n",
              "    fmt_picker_span.append(fmt_picker);\n",
              "    nav_element.append(fmt_picker_span);\n",
              "    this.format_dropdown = fmt_picker[0];\n",
              "\n",
              "    for (var ind in mpl.extensions) {\n",
              "        var fmt = mpl.extensions[ind];\n",
              "        var option = $(\n",
              "            '<option/>', {selected: fmt === mpl.default_extension}).html(fmt);\n",
              "        fmt_picker.append(option)\n",
              "    }\n",
              "\n",
              "    // Add hover states to the ui-buttons\n",
              "    $( \".ui-button\" ).hover(\n",
              "        function() { $(this).addClass(\"ui-state-hover\");},\n",
              "        function() { $(this).removeClass(\"ui-state-hover\");}\n",
              "    );\n",
              "\n",
              "    var status_bar = $('<span class=\"mpl-message\"/>');\n",
              "    nav_element.append(status_bar);\n",
              "    this.message = status_bar[0];\n",
              "}\n",
              "\n",
              "mpl.figure.prototype.request_resize = function(x_pixels, y_pixels) {\n",
              "    // Request matplotlib to resize the figure. Matplotlib will then trigger a resize in the client,\n",
              "    // which will in turn request a refresh of the image.\n",
              "    this.send_message('resize', {'width': x_pixels, 'height': y_pixels});\n",
              "}\n",
              "\n",
              "mpl.figure.prototype.send_message = function(type, properties) {\n",
              "    properties['type'] = type;\n",
              "    properties['figure_id'] = this.id;\n",
              "    this.ws.send(JSON.stringify(properties));\n",
              "}\n",
              "\n",
              "mpl.figure.prototype.send_draw_message = function() {\n",
              "    if (!this.waiting) {\n",
              "        this.waiting = true;\n",
              "        this.ws.send(JSON.stringify({type: \"draw\", figure_id: this.id}));\n",
              "    }\n",
              "}\n",
              "\n",
              "\n",
              "mpl.figure.prototype.handle_save = function(fig, msg) {\n",
              "    var format_dropdown = fig.format_dropdown;\n",
              "    var format = format_dropdown.options[format_dropdown.selectedIndex].value;\n",
              "    fig.ondownload(fig, format);\n",
              "}\n",
              "\n",
              "\n",
              "mpl.figure.prototype.handle_resize = function(fig, msg) {\n",
              "    var size = msg['size'];\n",
              "    if (size[0] != fig.canvas.width || size[1] != fig.canvas.height) {\n",
              "        fig._resize_canvas(size[0], size[1]);\n",
              "        fig.send_message(\"refresh\", {});\n",
              "    };\n",
              "}\n",
              "\n",
              "mpl.figure.prototype.handle_rubberband = function(fig, msg) {\n",
              "    var x0 = msg['x0'] / mpl.ratio;\n",
              "    var y0 = (fig.canvas.height - msg['y0']) / mpl.ratio;\n",
              "    var x1 = msg['x1'] / mpl.ratio;\n",
              "    var y1 = (fig.canvas.height - msg['y1']) / mpl.ratio;\n",
              "    x0 = Math.floor(x0) + 0.5;\n",
              "    y0 = Math.floor(y0) + 0.5;\n",
              "    x1 = Math.floor(x1) + 0.5;\n",
              "    y1 = Math.floor(y1) + 0.5;\n",
              "    var min_x = Math.min(x0, x1);\n",
              "    var min_y = Math.min(y0, y1);\n",
              "    var width = Math.abs(x1 - x0);\n",
              "    var height = Math.abs(y1 - y0);\n",
              "\n",
              "    fig.rubberband_context.clearRect(\n",
              "        0, 0, fig.canvas.width, fig.canvas.height);\n",
              "\n",
              "    fig.rubberband_context.strokeRect(min_x, min_y, width, height);\n",
              "}\n",
              "\n",
              "mpl.figure.prototype.handle_figure_label = function(fig, msg) {\n",
              "    // Updates the figure title.\n",
              "    fig.header.textContent = msg['label'];\n",
              "}\n",
              "\n",
              "mpl.figure.prototype.handle_cursor = function(fig, msg) {\n",
              "    var cursor = msg['cursor'];\n",
              "    switch(cursor)\n",
              "    {\n",
              "    case 0:\n",
              "        cursor = 'pointer';\n",
              "        break;\n",
              "    case 1:\n",
              "        cursor = 'default';\n",
              "        break;\n",
              "    case 2:\n",
              "        cursor = 'crosshair';\n",
              "        break;\n",
              "    case 3:\n",
              "        cursor = 'move';\n",
              "        break;\n",
              "    }\n",
              "    fig.rubberband_canvas.style.cursor = cursor;\n",
              "}\n",
              "\n",
              "mpl.figure.prototype.handle_message = function(fig, msg) {\n",
              "    fig.message.textContent = msg['message'];\n",
              "}\n",
              "\n",
              "mpl.figure.prototype.handle_draw = function(fig, msg) {\n",
              "    // Request the server to send over a new figure.\n",
              "    fig.send_draw_message();\n",
              "}\n",
              "\n",
              "mpl.figure.prototype.handle_image_mode = function(fig, msg) {\n",
              "    fig.image_mode = msg['mode'];\n",
              "}\n",
              "\n",
              "mpl.figure.prototype.updated_canvas_event = function() {\n",
              "    // Called whenever the canvas gets updated.\n",
              "    this.send_message(\"ack\", {});\n",
              "}\n",
              "\n",
              "// A function to construct a web socket function for onmessage handling.\n",
              "// Called in the figure constructor.\n",
              "mpl.figure.prototype._make_on_message_function = function(fig) {\n",
              "    return function socket_on_message(evt) {\n",
              "        if (evt.data instanceof Blob) {\n",
              "            /* FIXME: We get \"Resource interpreted as Image but\n",
              "             * transferred with MIME type text/plain:\" errors on\n",
              "             * Chrome.  But how to set the MIME type?  It doesn't seem\n",
              "             * to be part of the websocket stream */\n",
              "            evt.data.type = \"image/png\";\n",
              "\n",
              "            /* Free the memory for the previous frames */\n",
              "            if (fig.imageObj.src) {\n",
              "                (window.URL || window.webkitURL).revokeObjectURL(\n",
              "                    fig.imageObj.src);\n",
              "            }\n",
              "\n",
              "            fig.imageObj.src = (window.URL || window.webkitURL).createObjectURL(\n",
              "                evt.data);\n",
              "            fig.updated_canvas_event();\n",
              "            fig.waiting = false;\n",
              "            return;\n",
              "        }\n",
              "        else if (typeof evt.data === 'string' && evt.data.slice(0, 21) == \"data:image/png;base64\") {\n",
              "            fig.imageObj.src = evt.data;\n",
              "            fig.updated_canvas_event();\n",
              "            fig.waiting = false;\n",
              "            return;\n",
              "        }\n",
              "\n",
              "        var msg = JSON.parse(evt.data);\n",
              "        var msg_type = msg['type'];\n",
              "\n",
              "        // Call the  \"handle_{type}\" callback, which takes\n",
              "        // the figure and JSON message as its only arguments.\n",
              "        try {\n",
              "            var callback = fig[\"handle_\" + msg_type];\n",
              "        } catch (e) {\n",
              "            console.log(\"No handler for the '\" + msg_type + \"' message type: \", msg);\n",
              "            return;\n",
              "        }\n",
              "\n",
              "        if (callback) {\n",
              "            try {\n",
              "                // console.log(\"Handling '\" + msg_type + \"' message: \", msg);\n",
              "                callback(fig, msg);\n",
              "            } catch (e) {\n",
              "                console.log(\"Exception inside the 'handler_\" + msg_type + \"' callback:\", e, e.stack, msg);\n",
              "            }\n",
              "        }\n",
              "    };\n",
              "}\n",
              "\n",
              "// from http://stackoverflow.com/questions/1114465/getting-mouse-location-in-canvas\n",
              "mpl.findpos = function(e) {\n",
              "    //this section is from http://www.quirksmode.org/js/events_properties.html\n",
              "    var targ;\n",
              "    if (!e)\n",
              "        e = window.event;\n",
              "    if (e.target)\n",
              "        targ = e.target;\n",
              "    else if (e.srcElement)\n",
              "        targ = e.srcElement;\n",
              "    if (targ.nodeType == 3) // defeat Safari bug\n",
              "        targ = targ.parentNode;\n",
              "\n",
              "    // jQuery normalizes the pageX and pageY\n",
              "    // pageX,Y are the mouse positions relative to the document\n",
              "    // offset() returns the position of the element relative to the document\n",
              "    var x = e.pageX - $(targ).offset().left;\n",
              "    var y = e.pageY - $(targ).offset().top;\n",
              "\n",
              "    return {\"x\": x, \"y\": y};\n",
              "};\n",
              "\n",
              "/*\n",
              " * return a copy of an object with only non-object keys\n",
              " * we need this to avoid circular references\n",
              " * http://stackoverflow.com/a/24161582/3208463\n",
              " */\n",
              "function simpleKeys (original) {\n",
              "  return Object.keys(original).reduce(function (obj, key) {\n",
              "    if (typeof original[key] !== 'object')\n",
              "        obj[key] = original[key]\n",
              "    return obj;\n",
              "  }, {});\n",
              "}\n",
              "\n",
              "mpl.figure.prototype.mouse_event = function(event, name) {\n",
              "    var canvas_pos = mpl.findpos(event)\n",
              "\n",
              "    if (name === 'button_press')\n",
              "    {\n",
              "        this.canvas.focus();\n",
              "        this.canvas_div.focus();\n",
              "    }\n",
              "\n",
              "    var x = canvas_pos.x * mpl.ratio;\n",
              "    var y = canvas_pos.y * mpl.ratio;\n",
              "\n",
              "    this.send_message(name, {x: x, y: y, button: event.button,\n",
              "                             step: event.step,\n",
              "                             guiEvent: simpleKeys(event)});\n",
              "\n",
              "    /* This prevents the web browser from automatically changing to\n",
              "     * the text insertion cursor when the button is pressed.  We want\n",
              "     * to control all of the cursor setting manually through the\n",
              "     * 'cursor' event from matplotlib */\n",
              "    event.preventDefault();\n",
              "    return false;\n",
              "}\n",
              "\n",
              "mpl.figure.prototype._key_event_extra = function(event, name) {\n",
              "    // Handle any extra behaviour associated with a key event\n",
              "}\n",
              "\n",
              "mpl.figure.prototype.key_event = function(event, name) {\n",
              "\n",
              "    // Prevent repeat events\n",
              "    if (name == 'key_press')\n",
              "    {\n",
              "        if (event.which === this._key)\n",
              "            return;\n",
              "        else\n",
              "            this._key = event.which;\n",
              "    }\n",
              "    if (name == 'key_release')\n",
              "        this._key = null;\n",
              "\n",
              "    var value = '';\n",
              "    if (event.ctrlKey && event.which != 17)\n",
              "        value += \"ctrl+\";\n",
              "    if (event.altKey && event.which != 18)\n",
              "        value += \"alt+\";\n",
              "    if (event.shiftKey && event.which != 16)\n",
              "        value += \"shift+\";\n",
              "\n",
              "    value += 'k';\n",
              "    value += event.which.toString();\n",
              "\n",
              "    this._key_event_extra(event, name);\n",
              "\n",
              "    this.send_message(name, {key: value,\n",
              "                             guiEvent: simpleKeys(event)});\n",
              "    return false;\n",
              "}\n",
              "\n",
              "mpl.figure.prototype.toolbar_button_onclick = function(name) {\n",
              "    if (name == 'download') {\n",
              "        this.handle_save(this, null);\n",
              "    } else {\n",
              "        this.send_message(\"toolbar_button\", {name: name});\n",
              "    }\n",
              "};\n",
              "\n",
              "mpl.figure.prototype.toolbar_button_onmouseover = function(tooltip) {\n",
              "    this.message.textContent = tooltip;\n",
              "};\n",
              "mpl.toolbar_items = [[\"Home\", \"Reset original view\", \"fa fa-home icon-home\", \"home\"], [\"Back\", \"Back to previous view\", \"fa fa-arrow-left icon-arrow-left\", \"back\"], [\"Forward\", \"Forward to next view\", \"fa fa-arrow-right icon-arrow-right\", \"forward\"], [\"\", \"\", \"\", \"\"], [\"Pan\", \"Pan axes with left mouse, zoom with right\", \"fa fa-arrows icon-move\", \"pan\"], [\"Zoom\", \"Zoom to rectangle\", \"fa fa-square-o icon-check-empty\", \"zoom\"], [\"\", \"\", \"\", \"\"], [\"Download\", \"Download plot\", \"fa fa-floppy-o icon-save\", \"download\"]];\n",
              "\n",
              "mpl.extensions = [\"eps\", \"jpeg\", \"pdf\", \"png\", \"ps\", \"raw\", \"svg\", \"tif\"];\n",
              "\n",
              "mpl.default_extension = \"png\";var comm_websocket_adapter = function(comm) {\n",
              "    // Create a \"websocket\"-like object which calls the given IPython comm\n",
              "    // object with the appropriate methods. Currently this is a non binary\n",
              "    // socket, so there is still some room for performance tuning.\n",
              "    var ws = {};\n",
              "\n",
              "    ws.close = function() {\n",
              "        comm.close()\n",
              "    };\n",
              "    ws.send = function(m) {\n",
              "        //console.log('sending', m);\n",
              "        comm.send(m);\n",
              "    };\n",
              "    // Register the callback with on_msg.\n",
              "    comm.on_msg(function(msg) {\n",
              "        //console.log('receiving', msg['content']['data'], msg);\n",
              "        // Pass the mpl event to the overridden (by mpl) onmessage function.\n",
              "        ws.onmessage(msg['content']['data'])\n",
              "    });\n",
              "    return ws;\n",
              "}\n",
              "\n",
              "mpl.mpl_figure_comm = function(comm, msg) {\n",
              "    // This is the function which gets called when the mpl process\n",
              "    // starts-up an IPython Comm through the \"matplotlib\" channel.\n",
              "\n",
              "    var id = msg.content.data.id;\n",
              "    // Get hold of the div created by the display call when the Comm\n",
              "    // socket was opened in Python.\n",
              "    var element = $(\"#\" + id);\n",
              "    var ws_proxy = comm_websocket_adapter(comm)\n",
              "\n",
              "    function ondownload(figure, format) {\n",
              "        window.open(figure.imageObj.src);\n",
              "    }\n",
              "\n",
              "    var fig = new mpl.figure(id, ws_proxy,\n",
              "                           ondownload,\n",
              "                           element.get(0));\n",
              "\n",
              "    // Call onopen now - mpl needs it, as it is assuming we've passed it a real\n",
              "    // web socket which is closed, not our websocket->open comm proxy.\n",
              "    ws_proxy.onopen();\n",
              "\n",
              "    fig.parent_element = element.get(0);\n",
              "    fig.cell_info = mpl.find_output_cell(\"<div id='\" + id + \"'></div>\");\n",
              "    if (!fig.cell_info) {\n",
              "        console.error(\"Failed to find cell for figure\", id, fig);\n",
              "        return;\n",
              "    }\n",
              "\n",
              "    var output_index = fig.cell_info[2]\n",
              "    var cell = fig.cell_info[0];\n",
              "\n",
              "};\n",
              "\n",
              "mpl.figure.prototype.handle_close = function(fig, msg) {\n",
              "    var width = fig.canvas.width/mpl.ratio\n",
              "    fig.root.unbind('remove')\n",
              "\n",
              "    // Update the output cell to use the data from the current canvas.\n",
              "    fig.push_to_output();\n",
              "    var dataURL = fig.canvas.toDataURL();\n",
              "    // Re-enable the keyboard manager in IPython - without this line, in FF,\n",
              "    // the notebook keyboard shortcuts fail.\n",
              "    IPython.keyboard_manager.enable()\n",
              "    $(fig.parent_element).html('<img src=\"' + dataURL + '\" width=\"' + width + '\">');\n",
              "    fig.close_ws(fig, msg);\n",
              "}\n",
              "\n",
              "mpl.figure.prototype.close_ws = function(fig, msg){\n",
              "    fig.send_message('closing', msg);\n",
              "    // fig.ws.close()\n",
              "}\n",
              "\n",
              "mpl.figure.prototype.push_to_output = function(remove_interactive) {\n",
              "    // Turn the data on the canvas into data in the output cell.\n",
              "    var width = this.canvas.width/mpl.ratio\n",
              "    var dataURL = this.canvas.toDataURL();\n",
              "    this.cell_info[1]['text/html'] = '<img src=\"' + dataURL + '\" width=\"' + width + '\">';\n",
              "}\n",
              "\n",
              "mpl.figure.prototype.updated_canvas_event = function() {\n",
              "    // Tell IPython that the notebook contents must change.\n",
              "    IPython.notebook.set_dirty(true);\n",
              "    this.send_message(\"ack\", {});\n",
              "    var fig = this;\n",
              "    // Wait a second, then push the new image to the DOM so\n",
              "    // that it is saved nicely (might be nice to debounce this).\n",
              "    setTimeout(function () { fig.push_to_output() }, 1000);\n",
              "}\n",
              "\n",
              "mpl.figure.prototype._init_toolbar = function() {\n",
              "    var fig = this;\n",
              "\n",
              "    var nav_element = $('<div/>')\n",
              "    nav_element.attr('style', 'width: 100%');\n",
              "    this.root.append(nav_element);\n",
              "\n",
              "    // Define a callback function for later on.\n",
              "    function toolbar_event(event) {\n",
              "        return fig.toolbar_button_onclick(event['data']);\n",
              "    }\n",
              "    function toolbar_mouse_event(event) {\n",
              "        return fig.toolbar_button_onmouseover(event['data']);\n",
              "    }\n",
              "\n",
              "    for(var toolbar_ind in mpl.toolbar_items){\n",
              "        var name = mpl.toolbar_items[toolbar_ind][0];\n",
              "        var tooltip = mpl.toolbar_items[toolbar_ind][1];\n",
              "        var image = mpl.toolbar_items[toolbar_ind][2];\n",
              "        var method_name = mpl.toolbar_items[toolbar_ind][3];\n",
              "\n",
              "        if (!name) { continue; };\n",
              "\n",
              "        var button = $('<button class=\"btn btn-default\" href=\"#\" title=\"' + name + '\"><i class=\"fa ' + image + ' fa-lg\"></i></button>');\n",
              "        button.click(method_name, toolbar_event);\n",
              "        button.mouseover(tooltip, toolbar_mouse_event);\n",
              "        nav_element.append(button);\n",
              "    }\n",
              "\n",
              "    // Add the status bar.\n",
              "    var status_bar = $('<span class=\"mpl-message\" style=\"text-align:right; float: right;\"/>');\n",
              "    nav_element.append(status_bar);\n",
              "    this.message = status_bar[0];\n",
              "\n",
              "    // Add the close button to the window.\n",
              "    var buttongrp = $('<div class=\"btn-group inline pull-right\"></div>');\n",
              "    var button = $('<button class=\"btn btn-mini btn-primary\" href=\"#\" title=\"Stop Interaction\"><i class=\"fa fa-power-off icon-remove icon-large\"></i></button>');\n",
              "    button.click(function (evt) { fig.handle_close(fig, {}); } );\n",
              "    button.mouseover('Stop Interaction', toolbar_mouse_event);\n",
              "    buttongrp.append(button);\n",
              "    var titlebar = this.root.find($('.ui-dialog-titlebar'));\n",
              "    titlebar.prepend(buttongrp);\n",
              "}\n",
              "\n",
              "mpl.figure.prototype._root_extra_style = function(el){\n",
              "    var fig = this\n",
              "    el.on(\"remove\", function(){\n",
              "\tfig.close_ws(fig, {});\n",
              "    });\n",
              "}\n",
              "\n",
              "mpl.figure.prototype._canvas_extra_style = function(el){\n",
              "    // this is important to make the div 'focusable\n",
              "    el.attr('tabindex', 0)\n",
              "    // reach out to IPython and tell the keyboard manager to turn it's self\n",
              "    // off when our div gets focus\n",
              "\n",
              "    // location in version 3\n",
              "    if (IPython.notebook.keyboard_manager) {\n",
              "        IPython.notebook.keyboard_manager.register_events(el);\n",
              "    }\n",
              "    else {\n",
              "        // location in version 2\n",
              "        IPython.keyboard_manager.register_events(el);\n",
              "    }\n",
              "\n",
              "}\n",
              "\n",
              "mpl.figure.prototype._key_event_extra = function(event, name) {\n",
              "    var manager = IPython.notebook.keyboard_manager;\n",
              "    if (!manager)\n",
              "        manager = IPython.keyboard_manager;\n",
              "\n",
              "    // Check for shift+enter\n",
              "    if (event.shiftKey && event.which == 13) {\n",
              "        this.canvas_div.blur();\n",
              "        event.shiftKey = false;\n",
              "        // Send a \"J\" for go to next cell\n",
              "        event.which = 74;\n",
              "        event.keyCode = 74;\n",
              "        manager.command_mode();\n",
              "        manager.handle_keydown(event);\n",
              "    }\n",
              "}\n",
              "\n",
              "mpl.figure.prototype.handle_save = function(fig, msg) {\n",
              "    fig.ondownload(fig, null);\n",
              "}\n",
              "\n",
              "\n",
              "mpl.find_output_cell = function(html_output) {\n",
              "    // Return the cell and output element which can be found *uniquely* in the notebook.\n",
              "    // Note - this is a bit hacky, but it is done because the \"notebook_saving.Notebook\"\n",
              "    // IPython event is triggered only after the cells have been serialised, which for\n",
              "    // our purposes (turning an active figure into a static one), is too late.\n",
              "    var cells = IPython.notebook.get_cells();\n",
              "    var ncells = cells.length;\n",
              "    for (var i=0; i<ncells; i++) {\n",
              "        var cell = cells[i];\n",
              "        if (cell.cell_type === 'code'){\n",
              "            for (var j=0; j<cell.output_area.outputs.length; j++) {\n",
              "                var data = cell.output_area.outputs[j];\n",
              "                if (data.data) {\n",
              "                    // IPython >= 3 moved mimebundle to data attribute of output\n",
              "                    data = data.data;\n",
              "                }\n",
              "                if (data['text/html'] == html_output) {\n",
              "                    return [cell, data, j];\n",
              "                }\n",
              "            }\n",
              "        }\n",
              "    }\n",
              "}\n",
              "\n",
              "// Register the function which deals with the matplotlib target/channel.\n",
              "// The kernel may be null if the page has been refreshed.\n",
              "if (IPython.notebook.kernel != null) {\n",
              "    IPython.notebook.kernel.comm_manager.register_target('matplotlib', mpl.mpl_figure_comm);\n",
              "}\n"
            ],
            "text/plain": [
              "<IPython.core.display.Javascript object>"
            ]
          },
          "metadata": {
            "tags": []
          }
        },
        {
          "output_type": "display_data",
          "data": {
            "text/html": [
              "<img src=\"data:image/png;base64,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\" width=\"600\">"
            ],
            "text/plain": [
              "<IPython.core.display.HTML object>"
            ]
          },
          "metadata": {
            "tags": []
          }
        },
        {
          "output_type": "execute_result",
          "data": {
            "text/plain": [
              "<matplotlib.animation.FuncAnimation at 0x18d01891898>"
            ]
          },
          "metadata": {
            "tags": []
          },
          "execution_count": 29
        }
      ]
    },
    {
      "cell_type": "markdown",
      "metadata": {
        "id": "DAKtP9Ww0-GL",
        "colab_type": "text"
      },
      "source": [
        "## Inception\n",
        "\n",
        "A strong tool/model developed by google for image classification with average performance better than human. The code is open source and part of tensor flow distribution. \n",
        "\n",
        "Training the model from scratch takes a lot of time and resources. However, the idea of transfer learning can be used to borrow/inherit the classification of model being trained and expand on that or use it for similar classification problems."
      ]
    },
    {
      "cell_type": "markdown",
      "metadata": {
        "id": "PKpuh8Fr0-GL",
        "colab_type": "text"
      },
      "source": [
        "The main steps:\n",
        "    - Get your data (i.e. flower images to classify)\n",
        "    - Modify the inception model's last layer to correspond to the number of classes you need\n",
        "    - Retrain the next to the last (bottleneck) layer with your own data. The layers before the bottle neck layer are used to extract image features and improve classification power of the bottleneck layer"
      ]
    },
    {
      "cell_type": "markdown",
      "metadata": {
        "id": "1pU30f5V0-GL",
        "colab_type": "text"
      },
      "source": [
        "## Using keras\n",
        " \n",
        "Keras is a high-level neural networks API, written in Python and capable of running on top of TensorFlow, CNTK, or Theano. For more information, visit Keras.io. Currently, keras is a part of TensorFlow distribution so no need to install it separately."
      ]
    },
    {
      "cell_type": "markdown",
      "metadata": {
        "id": "LcVEtrBV0-GM",
        "colab_type": "text"
      },
      "source": [
        "### Single Layer (Linear Regression)"
      ]
    },
    {
      "cell_type": "code",
      "metadata": {
        "ExecuteTime": {
          "end_time": "2019-02-26T14:28:40.286001Z",
          "start_time": "2019-02-26T14:28:39.571497Z"
        },
        "id": "bbhNH0tC0-GM",
        "colab_type": "code",
        "colab": {},
        "outputId": "35689043-727b-4e02-8815-b51f27101572"
      },
      "source": [
        "import tensorflow as tf\n",
        "from tensorflow.keras.models import Sequential\n",
        "from tensorflow.keras.layers import Dense\n",
        "\n",
        "# Define the NN for doing Linear Regression\n",
        "model = Sequential()\n",
        "\n",
        "# Using Dense as the simplest layer. We use one Neuron becuase we just need the slope (one weight) plus intercept (one bias)\n",
        "# The activation is lenear becuase we are doing linear regression\n",
        "model.add(Dense(1, input_shape=(1,), activation='linear'))\n",
        "\n",
        "model.compile(loss='mean_squared_error', optimizer='sgd') # Loss and optimizer (stochastic gradient descent)\n",
        "\n",
        "#   Fit/train the model\n",
        "model.fit(data_housing_train['HouseSize_std'], data_housing_train['HousePrice_std'], epochs=20)"
      ],
      "execution_count": null,
      "outputs": [
        {
          "output_type": "stream",
          "text": [
            "Epoch 1/20\n",
            "139/139 [==============================] - 0s 3ms/step - loss: 1.3053\n",
            "Epoch 2/20\n",
            "139/139 [==============================] - 0s 43us/step - loss: 1.0667\n",
            "Epoch 3/20\n",
            "139/139 [==============================] - 0s 36us/step - loss: 0.8671\n",
            "Epoch 4/20\n",
            "139/139 [==============================] - 0s 58us/step - loss: 0.6995\n",
            "Epoch 5/20\n",
            "139/139 [==============================] - 0s 58us/step - loss: 0.5667\n",
            "Epoch 6/20\n",
            "139/139 [==============================] - 0s 36us/step - loss: 0.4575\n",
            "Epoch 7/20\n",
            "139/139 [==============================] - 0s 50us/step - loss: 0.3742\n",
            "Epoch 8/20\n",
            "139/139 [==============================] - 0s 43us/step - loss: 0.3026\n",
            "Epoch 9/20\n",
            "139/139 [==============================] - 0s 36us/step - loss: 0.2484\n",
            "Epoch 10/20\n",
            "139/139 [==============================] - 0s 58us/step - loss: 0.2030\n",
            "Epoch 11/20\n",
            "139/139 [==============================] - 0s 65us/step - loss: 0.1672\n",
            "Epoch 12/20\n",
            "139/139 [==============================] - 0s 36us/step - loss: 0.1379\n",
            "Epoch 13/20\n",
            "139/139 [==============================] - 0s 86us/step - loss: 0.1142\n",
            "Epoch 14/20\n",
            "139/139 [==============================] - 0s 58us/step - loss: 0.0938\n",
            "Epoch 15/20\n",
            "139/139 [==============================] - 0s 65us/step - loss: 0.0778\n",
            "Epoch 16/20\n",
            "139/139 [==============================] - 0s 58us/step - loss: 0.0651\n",
            "Epoch 17/20\n",
            "139/139 [==============================] - 0s 50us/step - loss: 0.0547\n",
            "Epoch 18/20\n",
            "139/139 [==============================] - 0s 43us/step - loss: 0.0462\n",
            "Epoch 19/20\n",
            "139/139 [==============================] - 0s 36us/step - loss: 0.0399\n",
            "Epoch 20/20\n",
            "139/139 [==============================] - 0s 86us/step - loss: 0.0340\n"
          ],
          "name": "stdout"
        },
        {
          "output_type": "execute_result",
          "data": {
            "text/plain": [
              "<tensorflow.python.keras.callbacks.History at 0x1aea2436080>"
            ]
          },
          "metadata": {
            "tags": []
          },
          "execution_count": 47
        }
      ]
    },
    {
      "cell_type": "markdown",
      "metadata": {
        "id": "pzYzg7Jg0-GO",
        "colab_type": "text"
      },
      "source": [
        "#### Get the prediction"
      ]
    },
    {
      "cell_type": "code",
      "metadata": {
        "ExecuteTime": {
          "end_time": "2019-02-25T14:16:46.706967Z",
          "start_time": "2019-02-25T14:16:46.701977Z"
        },
        "id": "_USmBxvG0-GO",
        "colab_type": "code",
        "colab": {}
      },
      "source": [
        "test_price_predicted = model.predict(data_housing_test['HouseSize_std'])\n",
        "test_price_predicted = test_price_predicted*price_std + price_mean\n",
        "test_price_predicted = test_price_predicted.reshape(len(data_housing_test['HouseSize_std']))"
      ],
      "execution_count": null,
      "outputs": []
    },
    {
      "cell_type": "markdown",
      "metadata": {
        "id": "TZSi1cUF0-GQ",
        "colab_type": "text"
      },
      "source": [
        "#### Visualization of the regression"
      ]
    },
    {
      "cell_type": "code",
      "metadata": {
        "ExecuteTime": {
          "end_time": "2019-02-25T14:16:47.655157Z",
          "start_time": "2019-02-25T14:16:47.307900Z"
        },
        "id": "TXLNWN240-GR",
        "colab_type": "code",
        "colab": {},
        "outputId": "5c84c40e-5085-4937-ce80-83f27077a350"
      },
      "source": [
        "fig, ax = plt.subplots(1,1,figsize=(6,6))\n",
        "\n",
        "\n",
        "# Predicted Model\n",
        "ax.plot(data_housing_test.HouseSize, test_price_predicted, c='gray', lw=2, label = 'Predicted')\n",
        "# Actual test data\n",
        "ax.scatter(data_housing_test.HouseSize, data_housing_test.HousePrice, s = 20, label = 'Test Data')\n",
        "\n",
        "mean_squared_error = 0\n",
        "for price_point, size_point, price_pred in zip(data_housing_test.HousePrice, data_housing_test.HouseSize, test_price_predicted):\n",
        "    ax.plot([size_point, size_point], [price_point, price_pred], c='r', lw=1.5, ls ='--')\n",
        "    mean_squared_error += (price_point - price_pred)**2\n",
        "\n",
        "mean_squared_error = mean_squared_error/len(data_housing_test)\n",
        "rmse = np.sqrt(mean_squared_error)\n",
        "\n",
        "ax.text(0.1,.7, 'RMSE = {:.2f}'.format(rmse), transform = ax.transAxes, fontsize=16)\n",
        "\n",
        "ax.set_xlabel('House Size'); ax.set_ylabel('House Price')\n",
        "ax.legend(fontsize = 16)"
      ],
      "execution_count": null,
      "outputs": [
        {
          "output_type": "execute_result",
          "data": {
            "text/plain": [
              "<matplotlib.legend.Legend at 0x1aea0a7c908>"
            ]
          },
          "metadata": {
            "tags": []
          },
          "execution_count": 42
        },
        {
          "output_type": "display_data",
          "data": {
            "image/png": "[encoded data removed]",
            "text/plain": [
              "<Figure size 432x432 with 1 Axes>"
            ]
          },
          "metadata": {
            "tags": [],
            "needs_background": "light"
          }
        }
      ]
    },
    {
      "cell_type": "markdown",
      "metadata": {
        "id": "j7GMFID60-GT",
        "colab_type": "text"
      },
      "source": [
        "### Deep Learning"
      ]
    },
    {
      "cell_type": "code",
      "metadata": {
        "ExecuteTime": {
          "end_time": "2019-02-26T14:39:38.440959Z",
          "start_time": "2019-02-26T14:39:26.835259Z"
        },
        "scrolled": false,
        "id": "3i2mtA0p0-GT",
        "colab_type": "code",
        "colab": {},
        "outputId": "e8dc1d4c-47a1-4991-8222-c4e4b00aa437"
      },
      "source": [
        "import tensorflow as tf\n",
        "mnist = tf.keras.datasets.mnist\n",
        "\n",
        "(x_train, y_train),(x_test, y_test) = mnist.load_data()\n",
        "\n",
        "# Normalize data\n",
        "x_train = tf.keras.utils.normalize(x_train, axis=1)\n",
        "x_test = tf.keras.utils.normalize(x_test, axis=1)\n",
        "\n",
        "# Note: no need to transform the labels to one-hot format. Keras will do that for you\n",
        "\n",
        "model = tf.keras.models.Sequential()\n",
        "\n",
        "# Input layer for the firsrt layer the input shape is required\n",
        "model.add(tf.keras.layers.Flatten(input_shape=(28, 28)))\n",
        "\n",
        "# Two hiddedn layer. Keras figures out the input shape based on the previous layer\n",
        "model.add(tf.keras.layers.Dense(units = 128, activation=tf.nn.relu)) # Rectified linear\n",
        "model.add(tf.keras.layers.Dense(units = 128, activation=tf.nn.relu)) \n",
        "\n",
        "# Output layer\n",
        "model.add(tf.keras.layers.Dense(units = 10, activation=tf.nn.softmax)) # output layer\n",
        "\n",
        "model.compile(optimizer='adam', loss='sparse_categorical_crossentropy', metrics=['accuracy'])\n",
        "\n",
        "model.fit(x_train, y_train, epochs=4, batch_size=100, validation_data=(x_test, y_test), verbose=1)"
      ],
      "execution_count": null,
      "outputs": [
        {
          "output_type": "stream",
          "text": [
            "Train on 60000 samples, validate on 10000 samples\n",
            "Epoch 1/4\n",
            "60000/60000 [==============================] - 3s 50us/step - loss: 0.3520 - acc: 0.9017 - val_loss: 0.1756 - val_acc: 0.9480\n",
            "Epoch 2/4\n",
            "60000/60000 [==============================] - 2s 39us/step - loss: 0.1435 - acc: 0.9570 - val_loss: 0.1241 - val_acc: 0.9617\n",
            "Epoch 3/4\n",
            "60000/60000 [==============================] - 2s 34us/step - loss: 0.0973 - acc: 0.9703 - val_loss: 0.1103 - val_acc: 0.9660\n",
            "Epoch 4/4\n",
            "60000/60000 [==============================] - 2s 35us/step - loss: 0.0710 - acc: 0.9779 - val_loss: 0.0995 - val_acc: 0.9689\n"
          ],
          "name": "stdout"
        },
        {
          "output_type": "execute_result",
          "data": {
            "text/plain": [
              "<tensorflow.python.keras.callbacks.History at 0x1aec1e7a080>"
            ]
          },
          "metadata": {
            "tags": []
          },
          "execution_count": 49
        }
      ]
    },
    {
      "cell_type": "markdown",
      "metadata": {
        "id": "dGGfIBPK0-GV",
        "colab_type": "text"
      },
      "source": [
        "#### Get the prediction"
      ]
    },
    {
      "cell_type": "code",
      "metadata": {
        "ExecuteTime": {
          "end_time": "2019-02-12T14:37:43.374160Z",
          "start_time": "2019-02-12T14:37:42.661196Z"
        },
        "id": "HCH7hVbQ0-GV",
        "colab_type": "code",
        "colab": {}
      },
      "source": [
        "prediction = model.predict(x_test)"
      ],
      "execution_count": null,
      "outputs": []
    },
    {
      "cell_type": "markdown",
      "metadata": {
        "id": "CqUTiL2Q0-GX",
        "colab_type": "text"
      },
      "source": [
        "#### Visualize the predictions"
      ]
    },
    {
      "cell_type": "code",
      "metadata": {
        "ExecuteTime": {
          "end_time": "2019-02-12T14:42:32.157825Z",
          "start_time": "2019-02-12T14:42:31.579417Z"
        },
        "scrolled": false,
        "id": "X0EFubCo0-GX",
        "colab_type": "code",
        "colab": {},
        "outputId": "98f0ca79-94c6-4775-8a55-ccaf6548a6c8"
      },
      "source": [
        "%matplotlib notebook\n",
        "mnist_result_anim(x_test,y_test, prediction)"
      ],
      "execution_count": null,
      "outputs": [
        {
          "output_type": "display_data",
          "data": {
            "application/javascript": [
              "/* Put everything inside the global mpl namespace */\n",
              "window.mpl = {};\n",
              "\n",
              "\n",
              "mpl.get_websocket_type = function() {\n",
              "    if (typeof(WebSocket) !== 'undefined') {\n",
              "        return WebSocket;\n",
              "    } else if (typeof(MozWebSocket) !== 'undefined') {\n",
              "        return MozWebSocket;\n",
              "    } else {\n",
              "        alert('Your browser does not have WebSocket support.' +\n",
              "              'Please try Chrome, Safari or Firefox ≥ 6. ' +\n",
              "              'Firefox 4 and 5 are also supported but you ' +\n",
              "              'have to enable WebSockets in about:config.');\n",
              "    };\n",
              "}\n",
              "\n",
              "mpl.figure = function(figure_id, websocket, ondownload, parent_element) {\n",
              "    this.id = figure_id;\n",
              "\n",
              "    this.ws = websocket;\n",
              "\n",
              "    this.supports_binary = (this.ws.binaryType != undefined);\n",
              "\n",
              "    if (!this.supports_binary) {\n",
              "        var warnings = document.getElementById(\"mpl-warnings\");\n",
              "        if (warnings) {\n",
              "            warnings.style.display = 'block';\n",
              "            warnings.textContent = (\n",
              "                \"This browser does not support binary websocket messages. \" +\n",
              "                    \"Performance may be slow.\");\n",
              "        }\n",
              "    }\n",
              "\n",
              "    this.imageObj = new Image();\n",
              "\n",
              "    this.context = undefined;\n",
              "    this.message = undefined;\n",
              "    this.canvas = undefined;\n",
              "    this.rubberband_canvas = undefined;\n",
              "    this.rubberband_context = undefined;\n",
              "    this.format_dropdown = undefined;\n",
              "\n",
              "    this.image_mode = 'full';\n",
              "\n",
              "    this.root = $('<div/>');\n",
              "    this._root_extra_style(this.root)\n",
              "    this.root.attr('style', 'display: inline-block');\n",
              "\n",
              "    $(parent_element).append(this.root);\n",
              "\n",
              "    this._init_header(this);\n",
              "    this._init_canvas(this);\n",
              "    this._init_toolbar(this);\n",
              "\n",
              "    var fig = this;\n",
              "\n",
              "    this.waiting = false;\n",
              "\n",
              "    this.ws.onopen =  function () {\n",
              "            fig.send_message(\"supports_binary\", {value: fig.supports_binary});\n",
              "            fig.send_message(\"send_image_mode\", {});\n",
              "            if (mpl.ratio != 1) {\n",
              "                fig.send_message(\"set_dpi_ratio\", {'dpi_ratio': mpl.ratio});\n",
              "            }\n",
              "            fig.send_message(\"refresh\", {});\n",
              "        }\n",
              "\n",
              "    this.imageObj.onload = function() {\n",
              "            if (fig.image_mode == 'full') {\n",
              "                // Full images could contain transparency (where diff images\n",
              "                // almost always do), so we need to clear the canvas so that\n",
              "                // there is no ghosting.\n",
              "                fig.context.clearRect(0, 0, fig.canvas.width, fig.canvas.height);\n",
              "            }\n",
              "            fig.context.drawImage(fig.imageObj, 0, 0);\n",
              "        };\n",
              "\n",
              "    this.imageObj.onunload = function() {\n",
              "        fig.ws.close();\n",
              "    }\n",
              "\n",
              "    this.ws.onmessage = this._make_on_message_function(this);\n",
              "\n",
              "    this.ondownload = ondownload;\n",
              "}\n",
              "\n",
              "mpl.figure.prototype._init_header = function() {\n",
              "    var titlebar = $(\n",
              "        '<div class=\"ui-dialog-titlebar ui-widget-header ui-corner-all ' +\n",
              "        'ui-helper-clearfix\"/>');\n",
              "    var titletext = $(\n",
              "        '<div class=\"ui-dialog-title\" style=\"width: 100%; ' +\n",
              "        'text-align: center; padding: 3px;\"/>');\n",
              "    titlebar.append(titletext)\n",
              "    this.root.append(titlebar);\n",
              "    this.header = titletext[0];\n",
              "}\n",
              "\n",
              "\n",
              "\n",
              "mpl.figure.prototype._canvas_extra_style = function(canvas_div) {\n",
              "\n",
              "}\n",
              "\n",
              "\n",
              "mpl.figure.prototype._root_extra_style = function(canvas_div) {\n",
              "\n",
              "}\n",
              "\n",
              "mpl.figure.prototype._init_canvas = function() {\n",
              "    var fig = this;\n",
              "\n",
              "    var canvas_div = $('<div/>');\n",
              "\n",
              "    canvas_div.attr('style', 'position: relative; clear: both; outline: 0');\n",
              "\n",
              "    function canvas_keyboard_event(event) {\n",
              "        return fig.key_event(event, event['data']);\n",
              "    }\n",
              "\n",
              "    canvas_div.keydown('key_press', canvas_keyboard_event);\n",
              "    canvas_div.keyup('key_release', canvas_keyboard_event);\n",
              "    this.canvas_div = canvas_div\n",
              "    this._canvas_extra_style(canvas_div)\n",
              "    this.root.append(canvas_div);\n",
              "\n",
              "    var canvas = $('<canvas/>');\n",
              "    canvas.addClass('mpl-canvas');\n",
              "    canvas.attr('style', \"left: 0; top: 0; z-index: 0; outline: 0\")\n",
              "\n",
              "    this.canvas = canvas[0];\n",
              "    this.context = canvas[0].getContext(\"2d\");\n",
              "\n",
              "    var backingStore = this.context.backingStorePixelRatio ||\n",
              "\tthis.context.webkitBackingStorePixelRatio ||\n",
              "\tthis.context.mozBackingStorePixelRatio ||\n",
              "\tthis.context.msBackingStorePixelRatio ||\n",
              "\tthis.context.oBackingStorePixelRatio ||\n",
              "\tthis.context.backingStorePixelRatio || 1;\n",
              "\n",
              "    mpl.ratio = (window.devicePixelRatio || 1) / backingStore;\n",
              "\n",
              "    var rubberband = $('<canvas/>');\n",
              "    rubberband.attr('style', \"position: absolute; left: 0; top: 0; z-index: 1;\")\n",
              "\n",
              "    var pass_mouse_events = true;\n",
              "\n",
              "    canvas_div.resizable({\n",
              "        start: function(event, ui) {\n",
              "            pass_mouse_events = false;\n",
              "        },\n",
              "        resize: function(event, ui) {\n",
              "            fig.request_resize(ui.size.width, ui.size.height);\n",
              "        },\n",
              "        stop: function(event, ui) {\n",
              "            pass_mouse_events = true;\n",
              "            fig.request_resize(ui.size.width, ui.size.height);\n",
              "        },\n",
              "    });\n",
              "\n",
              "    function mouse_event_fn(event) {\n",
              "        if (pass_mouse_events)\n",
              "            return fig.mouse_event(event, event['data']);\n",
              "    }\n",
              "\n",
              "    rubberband.mousedown('button_press', mouse_event_fn);\n",
              "    rubberband.mouseup('button_release', mouse_event_fn);\n",
              "    // Throttle sequential mouse events to 1 every 20ms.\n",
              "    rubberband.mousemove('motion_notify', mouse_event_fn);\n",
              "\n",
              "    rubberband.mouseenter('figure_enter', mouse_event_fn);\n",
              "    rubberband.mouseleave('figure_leave', mouse_event_fn);\n",
              "\n",
              "    canvas_div.on(\"wheel\", function (event) {\n",
              "        event = event.originalEvent;\n",
              "        event['data'] = 'scroll'\n",
              "        if (event.deltaY < 0) {\n",
              "            event.step = 1;\n",
              "        } else {\n",
              "            event.step = -1;\n",
              "        }\n",
              "        mouse_event_fn(event);\n",
              "    });\n",
              "\n",
              "    canvas_div.append(canvas);\n",
              "    canvas_div.append(rubberband);\n",
              "\n",
              "    this.rubberband = rubberband;\n",
              "    this.rubberband_canvas = rubberband[0];\n",
              "    this.rubberband_context = rubberband[0].getContext(\"2d\");\n",
              "    this.rubberband_context.strokeStyle = \"#000000\";\n",
              "\n",
              "    this._resize_canvas = function(width, height) {\n",
              "        // Keep the size of the canvas, canvas container, and rubber band\n",
              "        // canvas in synch.\n",
              "        canvas_div.css('width', width)\n",
              "        canvas_div.css('height', height)\n",
              "\n",
              "        canvas.attr('width', width * mpl.ratio);\n",
              "        canvas.attr('height', height * mpl.ratio);\n",
              "        canvas.attr('style', 'width: ' + width + 'px; height: ' + height + 'px;');\n",
              "\n",
              "        rubberband.attr('width', width);\n",
              "        rubberband.attr('height', height);\n",
              "    }\n",
              "\n",
              "    // Set the figure to an initial 600x600px, this will subsequently be updated\n",
              "    // upon first draw.\n",
              "    this._resize_canvas(600, 600);\n",
              "\n",
              "    // Disable right mouse context menu.\n",
              "    $(this.rubberband_canvas).bind(\"contextmenu\",function(e){\n",
              "        return false;\n",
              "    });\n",
              "\n",
              "    function set_focus () {\n",
              "        canvas.focus();\n",
              "        canvas_div.focus();\n",
              "    }\n",
              "\n",
              "    window.setTimeout(set_focus, 100);\n",
              "}\n",
              "\n",
              "mpl.figure.prototype._init_toolbar = function() {\n",
              "    var fig = this;\n",
              "\n",
              "    var nav_element = $('<div/>')\n",
              "    nav_element.attr('style', 'width: 100%');\n",
              "    this.root.append(nav_element);\n",
              "\n",
              "    // Define a callback function for later on.\n",
              "    function toolbar_event(event) {\n",
              "        return fig.toolbar_button_onclick(event['data']);\n",
              "    }\n",
              "    function toolbar_mouse_event(event) {\n",
              "        return fig.toolbar_button_onmouseover(event['data']);\n",
              "    }\n",
              "\n",
              "    for(var toolbar_ind in mpl.toolbar_items) {\n",
              "        var name = mpl.toolbar_items[toolbar_ind][0];\n",
              "        var tooltip = mpl.toolbar_items[toolbar_ind][1];\n",
              "        var image = mpl.toolbar_items[toolbar_ind][2];\n",
              "        var method_name = mpl.toolbar_items[toolbar_ind][3];\n",
              "\n",
              "        if (!name) {\n",
              "            // put a spacer in here.\n",
              "            continue;\n",
              "        }\n",
              "        var button = $('<button/>');\n",
              "        button.addClass('ui-button ui-widget ui-state-default ui-corner-all ' +\n",
              "                        'ui-button-icon-only');\n",
              "        button.attr('role', 'button');\n",
              "        button.attr('aria-disabled', 'false');\n",
              "        button.click(method_name, toolbar_event);\n",
              "        button.mouseover(tooltip, toolbar_mouse_event);\n",
              "\n",
              "        var icon_img = $('<span/>');\n",
              "        icon_img.addClass('ui-button-icon-primary ui-icon');\n",
              "        icon_img.addClass(image);\n",
              "        icon_img.addClass('ui-corner-all');\n",
              "\n",
              "        var tooltip_span = $('<span/>');\n",
              "        tooltip_span.addClass('ui-button-text');\n",
              "        tooltip_span.html(tooltip);\n",
              "\n",
              "        button.append(icon_img);\n",
              "        button.append(tooltip_span);\n",
              "\n",
              "        nav_element.append(button);\n",
              "    }\n",
              "\n",
              "    var fmt_picker_span = $('<span/>');\n",
              "\n",
              "    var fmt_picker = $('<select/>');\n",
              "    fmt_picker.addClass('mpl-toolbar-option ui-widget ui-widget-content');\n",
              "    fmt_picker_span.append(fmt_picker);\n",
              "    nav_element.append(fmt_picker_span);\n",
              "    this.format_dropdown = fmt_picker[0];\n",
              "\n",
              "    for (var ind in mpl.extensions) {\n",
              "        var fmt = mpl.extensions[ind];\n",
              "        var option = $(\n",
              "            '<option/>', {selected: fmt === mpl.default_extension}).html(fmt);\n",
              "        fmt_picker.append(option)\n",
              "    }\n",
              "\n",
              "    // Add hover states to the ui-buttons\n",
              "    $( \".ui-button\" ).hover(\n",
              "        function() { $(this).addClass(\"ui-state-hover\");},\n",
              "        function() { $(this).removeClass(\"ui-state-hover\");}\n",
              "    );\n",
              "\n",
              "    var status_bar = $('<span class=\"mpl-message\"/>');\n",
              "    nav_element.append(status_bar);\n",
              "    this.message = status_bar[0];\n",
              "}\n",
              "\n",
              "mpl.figure.prototype.request_resize = function(x_pixels, y_pixels) {\n",
              "    // Request matplotlib to resize the figure. Matplotlib will then trigger a resize in the client,\n",
              "    // which will in turn request a refresh of the image.\n",
              "    this.send_message('resize', {'width': x_pixels, 'height': y_pixels});\n",
              "}\n",
              "\n",
              "mpl.figure.prototype.send_message = function(type, properties) {\n",
              "    properties['type'] = type;\n",
              "    properties['figure_id'] = this.id;\n",
              "    this.ws.send(JSON.stringify(properties));\n",
              "}\n",
              "\n",
              "mpl.figure.prototype.send_draw_message = function() {\n",
              "    if (!this.waiting) {\n",
              "        this.waiting = true;\n",
              "        this.ws.send(JSON.stringify({type: \"draw\", figure_id: this.id}));\n",
              "    }\n",
              "}\n",
              "\n",
              "\n",
              "mpl.figure.prototype.handle_save = function(fig, msg) {\n",
              "    var format_dropdown = fig.format_dropdown;\n",
              "    var format = format_dropdown.options[format_dropdown.selectedIndex].value;\n",
              "    fig.ondownload(fig, format);\n",
              "}\n",
              "\n",
              "\n",
              "mpl.figure.prototype.handle_resize = function(fig, msg) {\n",
              "    var size = msg['size'];\n",
              "    if (size[0] != fig.canvas.width || size[1] != fig.canvas.height) {\n",
              "        fig._resize_canvas(size[0], size[1]);\n",
              "        fig.send_message(\"refresh\", {});\n",
              "    };\n",
              "}\n",
              "\n",
              "mpl.figure.prototype.handle_rubberband = function(fig, msg) {\n",
              "    var x0 = msg['x0'] / mpl.ratio;\n",
              "    var y0 = (fig.canvas.height - msg['y0']) / mpl.ratio;\n",
              "    var x1 = msg['x1'] / mpl.ratio;\n",
              "    var y1 = (fig.canvas.height - msg['y1']) / mpl.ratio;\n",
              "    x0 = Math.floor(x0) + 0.5;\n",
              "    y0 = Math.floor(y0) + 0.5;\n",
              "    x1 = Math.floor(x1) + 0.5;\n",
              "    y1 = Math.floor(y1) + 0.5;\n",
              "    var min_x = Math.min(x0, x1);\n",
              "    var min_y = Math.min(y0, y1);\n",
              "    var width = Math.abs(x1 - x0);\n",
              "    var height = Math.abs(y1 - y0);\n",
              "\n",
              "    fig.rubberband_context.clearRect(\n",
              "        0, 0, fig.canvas.width, fig.canvas.height);\n",
              "\n",
              "    fig.rubberband_context.strokeRect(min_x, min_y, width, height);\n",
              "}\n",
              "\n",
              "mpl.figure.prototype.handle_figure_label = function(fig, msg) {\n",
              "    // Updates the figure title.\n",
              "    fig.header.textContent = msg['label'];\n",
              "}\n",
              "\n",
              "mpl.figure.prototype.handle_cursor = function(fig, msg) {\n",
              "    var cursor = msg['cursor'];\n",
              "    switch(cursor)\n",
              "    {\n",
              "    case 0:\n",
              "        cursor = 'pointer';\n",
              "        break;\n",
              "    case 1:\n",
              "        cursor = 'default';\n",
              "        break;\n",
              "    case 2:\n",
              "        cursor = 'crosshair';\n",
              "        break;\n",
              "    case 3:\n",
              "        cursor = 'move';\n",
              "        break;\n",
              "    }\n",
              "    fig.rubberband_canvas.style.cursor = cursor;\n",
              "}\n",
              "\n",
              "mpl.figure.prototype.handle_message = function(fig, msg) {\n",
              "    fig.message.textContent = msg['message'];\n",
              "}\n",
              "\n",
              "mpl.figure.prototype.handle_draw = function(fig, msg) {\n",
              "    // Request the server to send over a new figure.\n",
              "    fig.send_draw_message();\n",
              "}\n",
              "\n",
              "mpl.figure.prototype.handle_image_mode = function(fig, msg) {\n",
              "    fig.image_mode = msg['mode'];\n",
              "}\n",
              "\n",
              "mpl.figure.prototype.updated_canvas_event = function() {\n",
              "    // Called whenever the canvas gets updated.\n",
              "    this.send_message(\"ack\", {});\n",
              "}\n",
              "\n",
              "// A function to construct a web socket function for onmessage handling.\n",
              "// Called in the figure constructor.\n",
              "mpl.figure.prototype._make_on_message_function = function(fig) {\n",
              "    return function socket_on_message(evt) {\n",
              "        if (evt.data instanceof Blob) {\n",
              "            /* FIXME: We get \"Resource interpreted as Image but\n",
              "             * transferred with MIME type text/plain:\" errors on\n",
              "             * Chrome.  But how to set the MIME type?  It doesn't seem\n",
              "             * to be part of the websocket stream */\n",
              "            evt.data.type = \"image/png\";\n",
              "\n",
              "            /* Free the memory for the previous frames */\n",
              "            if (fig.imageObj.src) {\n",
              "                (window.URL || window.webkitURL).revokeObjectURL(\n",
              "                    fig.imageObj.src);\n",
              "            }\n",
              "\n",
              "            fig.imageObj.src = (window.URL || window.webkitURL).createObjectURL(\n",
              "                evt.data);\n",
              "            fig.updated_canvas_event();\n",
              "            fig.waiting = false;\n",
              "            return;\n",
              "        }\n",
              "        else if (typeof evt.data === 'string' && evt.data.slice(0, 21) == \"data:image/png;base64\") {\n",
              "            fig.imageObj.src = evt.data;\n",
              "            fig.updated_canvas_event();\n",
              "            fig.waiting = false;\n",
              "            return;\n",
              "        }\n",
              "\n",
              "        var msg = JSON.parse(evt.data);\n",
              "        var msg_type = msg['type'];\n",
              "\n",
              "        // Call the  \"handle_{type}\" callback, which takes\n",
              "        // the figure and JSON message as its only arguments.\n",
              "        try {\n",
              "            var callback = fig[\"handle_\" + msg_type];\n",
              "        } catch (e) {\n",
              "            console.log(\"No handler for the '\" + msg_type + \"' message type: \", msg);\n",
              "            return;\n",
              "        }\n",
              "\n",
              "        if (callback) {\n",
              "            try {\n",
              "                // console.log(\"Handling '\" + msg_type + \"' message: \", msg);\n",
              "                callback(fig, msg);\n",
              "            } catch (e) {\n",
              "                console.log(\"Exception inside the 'handler_\" + msg_type + \"' callback:\", e, e.stack, msg);\n",
              "            }\n",
              "        }\n",
              "    };\n",
              "}\n",
              "\n",
              "// from http://stackoverflow.com/questions/1114465/getting-mouse-location-in-canvas\n",
              "mpl.findpos = function(e) {\n",
              "    //this section is from http://www.quirksmode.org/js/events_properties.html\n",
              "    var targ;\n",
              "    if (!e)\n",
              "        e = window.event;\n",
              "    if (e.target)\n",
              "        targ = e.target;\n",
              "    else if (e.srcElement)\n",
              "        targ = e.srcElement;\n",
              "    if (targ.nodeType == 3) // defeat Safari bug\n",
              "        targ = targ.parentNode;\n",
              "\n",
              "    // jQuery normalizes the pageX and pageY\n",
              "    // pageX,Y are the mouse positions relative to the document\n",
              "    // offset() returns the position of the element relative to the document\n",
              "    var x = e.pageX - $(targ).offset().left;\n",
              "    var y = e.pageY - $(targ).offset().top;\n",
              "\n",
              "    return {\"x\": x, \"y\": y};\n",
              "};\n",
              "\n",
              "/*\n",
              " * return a copy of an object with only non-object keys\n",
              " * we need this to avoid circular references\n",
              " * http://stackoverflow.com/a/24161582/3208463\n",
              " */\n",
              "function simpleKeys (original) {\n",
              "  return Object.keys(original).reduce(function (obj, key) {\n",
              "    if (typeof original[key] !== 'object')\n",
              "        obj[key] = original[key]\n",
              "    return obj;\n",
              "  }, {});\n",
              "}\n",
              "\n",
              "mpl.figure.prototype.mouse_event = function(event, name) {\n",
              "    var canvas_pos = mpl.findpos(event)\n",
              "\n",
              "    if (name === 'button_press')\n",
              "    {\n",
              "        this.canvas.focus();\n",
              "        this.canvas_div.focus();\n",
              "    }\n",
              "\n",
              "    var x = canvas_pos.x * mpl.ratio;\n",
              "    var y = canvas_pos.y * mpl.ratio;\n",
              "\n",
              "    this.send_message(name, {x: x, y: y, button: event.button,\n",
              "                             step: event.step,\n",
              "                             guiEvent: simpleKeys(event)});\n",
              "\n",
              "    /* This prevents the web browser from automatically changing to\n",
              "     * the text insertion cursor when the button is pressed.  We want\n",
              "     * to control all of the cursor setting manually through the\n",
              "     * 'cursor' event from matplotlib */\n",
              "    event.preventDefault();\n",
              "    return false;\n",
              "}\n",
              "\n",
              "mpl.figure.prototype._key_event_extra = function(event, name) {\n",
              "    // Handle any extra behaviour associated with a key event\n",
              "}\n",
              "\n",
              "mpl.figure.prototype.key_event = function(event, name) {\n",
              "\n",
              "    // Prevent repeat events\n",
              "    if (name == 'key_press')\n",
              "    {\n",
              "        if (event.which === this._key)\n",
              "            return;\n",
              "        else\n",
              "            this._key = event.which;\n",
              "    }\n",
              "    if (name == 'key_release')\n",
              "        this._key = null;\n",
              "\n",
              "    var value = '';\n",
              "    if (event.ctrlKey && event.which != 17)\n",
              "        value += \"ctrl+\";\n",
              "    if (event.altKey && event.which != 18)\n",
              "        value += \"alt+\";\n",
              "    if (event.shiftKey && event.which != 16)\n",
              "        value += \"shift+\";\n",
              "\n",
              "    value += 'k';\n",
              "    value += event.which.toString();\n",
              "\n",
              "    this._key_event_extra(event, name);\n",
              "\n",
              "    this.send_message(name, {key: value,\n",
              "                             guiEvent: simpleKeys(event)});\n",
              "    return false;\n",
              "}\n",
              "\n",
              "mpl.figure.prototype.toolbar_button_onclick = function(name) {\n",
              "    if (name == 'download') {\n",
              "        this.handle_save(this, null);\n",
              "    } else {\n",
              "        this.send_message(\"toolbar_button\", {name: name});\n",
              "    }\n",
              "};\n",
              "\n",
              "mpl.figure.prototype.toolbar_button_onmouseover = function(tooltip) {\n",
              "    this.message.textContent = tooltip;\n",
              "};\n",
              "mpl.toolbar_items = [[\"Home\", \"Reset original view\", \"fa fa-home icon-home\", \"home\"], [\"Back\", \"Back to previous view\", \"fa fa-arrow-left icon-arrow-left\", \"back\"], [\"Forward\", \"Forward to next view\", \"fa fa-arrow-right icon-arrow-right\", \"forward\"], [\"\", \"\", \"\", \"\"], [\"Pan\", \"Pan axes with left mouse, zoom with right\", \"fa fa-arrows icon-move\", \"pan\"], [\"Zoom\", \"Zoom to rectangle\", \"fa fa-square-o icon-check-empty\", \"zoom\"], [\"\", \"\", \"\", \"\"], [\"Download\", \"Download plot\", \"fa fa-floppy-o icon-save\", \"download\"]];\n",
              "\n",
              "mpl.extensions = [\"eps\", \"jpeg\", \"pdf\", \"png\", \"ps\", \"raw\", \"svg\", \"tif\"];\n",
              "\n",
              "mpl.default_extension = \"png\";var comm_websocket_adapter = function(comm) {\n",
              "    // Create a \"websocket\"-like object which calls the given IPython comm\n",
              "    // object with the appropriate methods. Currently this is a non binary\n",
              "    // socket, so there is still some room for performance tuning.\n",
              "    var ws = {};\n",
              "\n",
              "    ws.close = function() {\n",
              "        comm.close()\n",
              "    };\n",
              "    ws.send = function(m) {\n",
              "        //console.log('sending', m);\n",
              "        comm.send(m);\n",
              "    };\n",
              "    // Register the callback with on_msg.\n",
              "    comm.on_msg(function(msg) {\n",
              "        //console.log('receiving', msg['content']['data'], msg);\n",
              "        // Pass the mpl event to the overridden (by mpl) onmessage function.\n",
              "        ws.onmessage(msg['content']['data'])\n",
              "    });\n",
              "    return ws;\n",
              "}\n",
              "\n",
              "mpl.mpl_figure_comm = function(comm, msg) {\n",
              "    // This is the function which gets called when the mpl process\n",
              "    // starts-up an IPython Comm through the \"matplotlib\" channel.\n",
              "\n",
              "    var id = msg.content.data.id;\n",
              "    // Get hold of the div created by the display call when the Comm\n",
              "    // socket was opened in Python.\n",
              "    var element = $(\"#\" + id);\n",
              "    var ws_proxy = comm_websocket_adapter(comm)\n",
              "\n",
              "    function ondownload(figure, format) {\n",
              "        window.open(figure.imageObj.src);\n",
              "    }\n",
              "\n",
              "    var fig = new mpl.figure(id, ws_proxy,\n",
              "                           ondownload,\n",
              "                           element.get(0));\n",
              "\n",
              "    // Call onopen now - mpl needs it, as it is assuming we've passed it a real\n",
              "    // web socket which is closed, not our websocket->open comm proxy.\n",
              "    ws_proxy.onopen();\n",
              "\n",
              "    fig.parent_element = element.get(0);\n",
              "    fig.cell_info = mpl.find_output_cell(\"<div id='\" + id + \"'></div>\");\n",
              "    if (!fig.cell_info) {\n",
              "        console.error(\"Failed to find cell for figure\", id, fig);\n",
              "        return;\n",
              "    }\n",
              "\n",
              "    var output_index = fig.cell_info[2]\n",
              "    var cell = fig.cell_info[0];\n",
              "\n",
              "};\n",
              "\n",
              "mpl.figure.prototype.handle_close = function(fig, msg) {\n",
              "    var width = fig.canvas.width/mpl.ratio\n",
              "    fig.root.unbind('remove')\n",
              "\n",
              "    // Update the output cell to use the data from the current canvas.\n",
              "    fig.push_to_output();\n",
              "    var dataURL = fig.canvas.toDataURL();\n",
              "    // Re-enable the keyboard manager in IPython - without this line, in FF,\n",
              "    // the notebook keyboard shortcuts fail.\n",
              "    IPython.keyboard_manager.enable()\n",
              "    $(fig.parent_element).html('<img src=\"' + dataURL + '\" width=\"' + width + '\">');\n",
              "    fig.close_ws(fig, msg);\n",
              "}\n",
              "\n",
              "mpl.figure.prototype.close_ws = function(fig, msg){\n",
              "    fig.send_message('closing', msg);\n",
              "    // fig.ws.close()\n",
              "}\n",
              "\n",
              "mpl.figure.prototype.push_to_output = function(remove_interactive) {\n",
              "    // Turn the data on the canvas into data in the output cell.\n",
              "    var width = this.canvas.width/mpl.ratio\n",
              "    var dataURL = this.canvas.toDataURL();\n",
              "    this.cell_info[1]['text/html'] = '<img src=\"' + dataURL + '\" width=\"' + width + '\">';\n",
              "}\n",
              "\n",
              "mpl.figure.prototype.updated_canvas_event = function() {\n",
              "    // Tell IPython that the notebook contents must change.\n",
              "    IPython.notebook.set_dirty(true);\n",
              "    this.send_message(\"ack\", {});\n",
              "    var fig = this;\n",
              "    // Wait a second, then push the new image to the DOM so\n",
              "    // that it is saved nicely (might be nice to debounce this).\n",
              "    setTimeout(function () { fig.push_to_output() }, 1000);\n",
              "}\n",
              "\n",
              "mpl.figure.prototype._init_toolbar = function() {\n",
              "    var fig = this;\n",
              "\n",
              "    var nav_element = $('<div/>')\n",
              "    nav_element.attr('style', 'width: 100%');\n",
              "    this.root.append(nav_element);\n",
              "\n",
              "    // Define a callback function for later on.\n",
              "    function toolbar_event(event) {\n",
              "        return fig.toolbar_button_onclick(event['data']);\n",
              "    }\n",
              "    function toolbar_mouse_event(event) {\n",
              "        return fig.toolbar_button_onmouseover(event['data']);\n",
              "    }\n",
              "\n",
              "    for(var toolbar_ind in mpl.toolbar_items){\n",
              "        var name = mpl.toolbar_items[toolbar_ind][0];\n",
              "        var tooltip = mpl.toolbar_items[toolbar_ind][1];\n",
              "        var image = mpl.toolbar_items[toolbar_ind][2];\n",
              "        var method_name = mpl.toolbar_items[toolbar_ind][3];\n",
              "\n",
              "        if (!name) { continue; };\n",
              "\n",
              "        var button = $('<button class=\"btn btn-default\" href=\"#\" title=\"' + name + '\"><i class=\"fa ' + image + ' fa-lg\"></i></button>');\n",
              "        button.click(method_name, toolbar_event);\n",
              "        button.mouseover(tooltip, toolbar_mouse_event);\n",
              "        nav_element.append(button);\n",
              "    }\n",
              "\n",
              "    // Add the status bar.\n",
              "    var status_bar = $('<span class=\"mpl-message\" style=\"text-align:right; float: right;\"/>');\n",
              "    nav_element.append(status_bar);\n",
              "    this.message = status_bar[0];\n",
              "\n",
              "    // Add the close button to the window.\n",
              "    var buttongrp = $('<div class=\"btn-group inline pull-right\"></div>');\n",
              "    var button = $('<button class=\"btn btn-mini btn-primary\" href=\"#\" title=\"Stop Interaction\"><i class=\"fa fa-power-off icon-remove icon-large\"></i></button>');\n",
              "    button.click(function (evt) { fig.handle_close(fig, {}); } );\n",
              "    button.mouseover('Stop Interaction', toolbar_mouse_event);\n",
              "    buttongrp.append(button);\n",
              "    var titlebar = this.root.find($('.ui-dialog-titlebar'));\n",
              "    titlebar.prepend(buttongrp);\n",
              "}\n",
              "\n",
              "mpl.figure.prototype._root_extra_style = function(el){\n",
              "    var fig = this\n",
              "    el.on(\"remove\", function(){\n",
              "\tfig.close_ws(fig, {});\n",
              "    });\n",
              "}\n",
              "\n",
              "mpl.figure.prototype._canvas_extra_style = function(el){\n",
              "    // this is important to make the div 'focusable\n",
              "    el.attr('tabindex', 0)\n",
              "    // reach out to IPython and tell the keyboard manager to turn it's self\n",
              "    // off when our div gets focus\n",
              "\n",
              "    // location in version 3\n",
              "    if (IPython.notebook.keyboard_manager) {\n",
              "        IPython.notebook.keyboard_manager.register_events(el);\n",
              "    }\n",
              "    else {\n",
              "        // location in version 2\n",
              "        IPython.keyboard_manager.register_events(el);\n",
              "    }\n",
              "\n",
              "}\n",
              "\n",
              "mpl.figure.prototype._key_event_extra = function(event, name) {\n",
              "    var manager = IPython.notebook.keyboard_manager;\n",
              "    if (!manager)\n",
              "        manager = IPython.keyboard_manager;\n",
              "\n",
              "    // Check for shift+enter\n",
              "    if (event.shiftKey && event.which == 13) {\n",
              "        this.canvas_div.blur();\n",
              "        event.shiftKey = false;\n",
              "        // Send a \"J\" for go to next cell\n",
              "        event.which = 74;\n",
              "        event.keyCode = 74;\n",
              "        manager.command_mode();\n",
              "        manager.handle_keydown(event);\n",
              "    }\n",
              "}\n",
              "\n",
              "mpl.figure.prototype.handle_save = function(fig, msg) {\n",
              "    fig.ondownload(fig, null);\n",
              "}\n",
              "\n",
              "\n",
              "mpl.find_output_cell = function(html_output) {\n",
              "    // Return the cell and output element which can be found *uniquely* in the notebook.\n",
              "    // Note - this is a bit hacky, but it is done because the \"notebook_saving.Notebook\"\n",
              "    // IPython event is triggered only after the cells have been serialised, which for\n",
              "    // our purposes (turning an active figure into a static one), is too late.\n",
              "    var cells = IPython.notebook.get_cells();\n",
              "    var ncells = cells.length;\n",
              "    for (var i=0; i<ncells; i++) {\n",
              "        var cell = cells[i];\n",
              "        if (cell.cell_type === 'code'){\n",
              "            for (var j=0; j<cell.output_area.outputs.length; j++) {\n",
              "                var data = cell.output_area.outputs[j];\n",
              "                if (data.data) {\n",
              "                    // IPython >= 3 moved mimebundle to data attribute of output\n",
              "                    data = data.data;\n",
              "                }\n",
              "                if (data['text/html'] == html_output) {\n",
              "                    return [cell, data, j];\n",
              "                }\n",
              "            }\n",
              "        }\n",
              "    }\n",
              "}\n",
              "\n",
              "// Register the function which deals with the matplotlib target/channel.\n",
              "// The kernel may be null if the page has been refreshed.\n",
              "if (IPython.notebook.kernel != null) {\n",
              "    IPython.notebook.kernel.comm_manager.register_target('matplotlib', mpl.mpl_figure_comm);\n",
              "}\n"
            ],
            "text/plain": [
              "<IPython.core.display.Javascript object>"
            ]
          },
          "metadata": {
            "tags": []
          }
        },
        {
          "output_type": "display_data",
          "data": {
            "text/html": [
              "<img src=\"data:image/png;base64,iVBORw0KGgoAAAANSUhEUgAAAbAAAAGwCAYAAADITjAqAAAgAElEQVR4Xu2dCZgV1ZmGP1DcwA0V0UiLuICjw6AQlLghLqDiGnGNSnAhcZkYN1ySiaMxGjXELY8LxhHc1+hIxF1cQiSiRhlxQ6XdEEFBNg0qzHOqb2vT3qarbt1zbv1V783DE7X/Ouev9zv3vpyq6u424gUBCEAAAhAwSKCNwZ5pGQIQgAAEICAExiKAAAQgAAGTBBCYydhoGgIQgAAEEBhrAAIQgAAETBJAYCZjo2kIQAACEEBgrAEIQAACEDBJAIGZjI2mIQABCEAAgbEGIAABCEDAJAEEZjI2moYABCAAAQTGGoAABCAAAZMEEJjJ2GgaAhCAAAQQGGsAAhCAAARMEkBgJmOjaQhAAAIQQGCsAQhAAAIQMEkAgZmMjaYhAAEIQACBsQYgAAEIQMAkAQRmMjaahgAEIAABBMYagAAEIAABkwQQmMnYaBoCEIAABBAYawACEIAABEwSQGAmY6NpCEAAAhBAYKwBCEAAAhAwSQCBmYyNpiEAAQhAAIGxBiAAAQhAwCQBBGYyNpqGAAQgAAEExhqAAAQgAAGTBBCYydhoGgIQgAAEEBhrAAIQgAAETBJAYCZjo2kIQAACEEBgrAEIQAACEDBJAIGZjI2mIQABCEAAgbEGIAABCEDAJAEEZjI2moYABCAAAQTGGoAABCAAAZMEEJjJ2GgaAhCAAAQQGGsAAhCAAARMEkBgJmOjaQhAAAIQQGCsAQhAAAIQMEkAgZmMjaYhAAEIQACBsQYgAAEIQMAkAQRmMjaahgAEIAABBMYagAAEIAABkwQQmMnYaBoCEIAABBAYawACEIAABEwSQGAmY6NpCEAAAhBAYKwBCEAAAhAwSQCBmYyNpiEAAQhAAIGxBiAAAQhAwCQBBGYyNpqGAAQgAAEExhqAAAQgAAGTBBCYydhoGgIQgAAECiOwtdZaa0nXrl1JHAIQgAAESgSmTZumTz/91KwHzDaedAX27t17yaRJk5IeRj0EIACB3BLo06ePXnjhBbMeMNt4aUUNknS5pOUkXS/popZWGgLL7XuQE4MABCokgMAqBFeFw5y03pS0m6QPJD0v6VBJU8qNjcCqQJwhIACBXBFAYLWLs5+kcyUNLLVwVun/L0RgtQuFmSEAATsEEFjtsjpQkruEeEyphSMkbSPpRARWu1CYGQIQsEMAgdUuqyGl3VdTgfWVdFKTlo6T5P6orq6ud319fe26ZWYIQAACGSOAwGoXCJcQa8eemSEAgRwQQGC1C3H50kMcu0j6sPQQx2GSXuUSYu1CYWYIQMAOAQRW26z2lHRZ6TH6GyRd0FI7PIVY26CYHQIQyB4BBJa9TMp2hMCMBEWbEIBAMAIILBjqdBMhsHT8OBoCEMgfAQRmJFMEZiQo2oQABIIRQGDBUKebCIGl48fREIBA/gggMCOZIjAjQdEmBCAQjAACC4Y63UQILB0/joYABPJHAIEZyRSBGQmKNiEAgWAEEFgw1OkmQmDp+HE0BCCQPwIIzEimCMxIULQJAQgEI4DAgqFONxECS8ePoyEAgfwRQGBGMkVgRoKiTQhAIBgBBBYMdbqJEFg6fhwNAQjkjwACM5IpAksf1AYbSDffLPXvn36svI3wydzPY5/ShLemxq51heuvsUai+r4bb5yonuLiEkBgRrLPgsA6dPgO1sKF0oorSsst1/Dfrr1WOvxwfzDPP1968knpiSeWnmPGDMmJafJkqUePZc8fSmAXXSTddJP03nvSOutIJ54onXKKPzbVGBmBVYMiY4QmgMBCE69wviwIrGnrXbtK118v7bpryyf09dfS8u63nlXh5X4ZtfuL+TvvuN9O/d2Al10m3XabNHFi65OEFNjAgVLPntKbb0q77y798Y/SgQe23mOtKhBYrcgzbxoCCCwNvYDHWhDYr34lvfWW1LatNHasdOWV0mOPSZtsIp17bgMs9+/HHCNNm9bw7x98IJ10kvTss5Lb4Z12mnTCCeXBDhjQIMyzz/7u61tv3TDe8cc3zH3ccdIrr0ht2kh77CFddZW0+uoN9U0F9pOfVK+v1paB683tVp3EsvpCYFlNhr6WRQCBGVkfVgR28cXSPfdIe+0l/etf0rHHtiyKb76ReveWDjqoQVzukpsT1J//LO3ifk91s9fo0dKFF0qvv97whVdflZzApk+XOnZs2O28/760ww7SnDnS/vtL/fpJl16aTGCt9fXUU9KPfyzNmtX64lm8WOrVS/rP/2wQbVZfCCyrydAXAsvBGrAisAkTlr5Ptaydzt/+Jh1xRMNlwcaXu9flRDZq1PdDmz9f6ty5Yfy+faURI6SpUxuEWe51993S738vPf98MoEl7WtZy+ucc6Rx46TnnpNWWCG7CxGBZTcbOmuZADswI6vDisDcDsjtlBpfyxLYrbdKRx7ZcOmw8eV2P+4pwQceKB/MUUdJq64qXXGFtOGG0p/+JO2zT0Ptxx837HScgObNk9zuxz1E8e67yQRWSV/lur388oY+n3lGWn/9bC80BJbtfOiuPAEEZmRlWBGYu6d1443fQR0+vOEelLu06F7uMXZ3r8zdA3Mf7O6e1WuvxQ/B7b7cJUf3lJ+T30cfSe3aNRzv5Oak5cThLim6HZi7NNl4v63pPbBq99X8DK67Tvrtb6Wnn5bcAy9ZfyGwrCdEf+UIIDAj68KqwK6+uuFBCveQxpdfSvvuK33ySYNU3FOK7h6YE5F7cMOJaMoUadGihv9e7rVkSYMQ3EMabiwnq8bXAQdInTo17Mqc2IYMadiVlRNYtftq2qvbgZ55pjR+vNS9u40FhsBs5ESXSxNAYEZWhFWBffFFw32uRx6RNtqoYZfkLqs1SuXDDxu+R8o9GOEe+th8c+mCC6Sdd245GLeDczWTJi0tOve9YG589zDHpptKhx3WILNyAkvTlxPTfvs1PChS7tWli+S+P63pPa+hQxtEntUXAstqMvS1LAIIzMj6yJrAjGCjzZgEEFhMUJRligACy1QcLTeDwIwEZbRNBGY0uIK3jcCMLAAEZiQoo22OfmJ87M6/WvR17FpXuHDuwkT1fbbaPHb9j9y1Yl6FJYDAjESPwIwEZbRNBGY0uIK3jcCMLAAEZiQoo20iMKPBFbxtBGZkASAwI0EZbROBGQ2u4G0jMCMLAIEZCcpomwjMaHAFbxuBGVkARRDYtDnTtNHlG+mrX3+l5dsurz1u2UOHbHGIjup1lNeUzh1/rqZ+NlU3H3Bz6nlu/OeNuv7F6/XssGdTjxVyAAQWkjZzVYsAAqsWSc/jZEVgXS/rqhkLZmi5Nsup/Qrtteeme+rKPa5UhxWa/EDDClk0F1jcYVxP1+9zvXbttoxfTraMwRoF5sbofGln3XvwvRqw0YCljvjlQ7/U+3Pf190H3b3MtkIJ7M1P39Tpj56uCe9P0DeLv9EPf/BDXTHoCnVfu7If/YHA4q426rJEAIFlKY1l9JIlgTXK4sO5H2rgzQM1eLPBumjXi5bqfsmSJXL/a9umbWzCtRaY24ENf2C4/vXNv3Tjft/9QEcniB+M/IFG7T1Ke3ffOxMC+8eH/9DkGZO1/+b7a9UVVtV5T52nu6bcpddPLP2umdjUGwoRWEJglGeCAALLRAytN5FFgbmuT3/kdL026zWNPWys+t/YX9t12U7j68frxekvavLPJ2udVdbRKQ+fogenPhjJ7Ke9fqr/7v/fWq7tctHOYcRjI+R2LautuJpO7XeqThx34reXEN14P+n5Ex2zdcMv0hr1wiiNfG6kPpj7gbqs1iW65PfH5/6oW165RSsuv2K0K/yvnf5LZ2x3hp774Llo3ikzp2jDNTbU5YMuV/+u/aNx3p39robePzTqcdsNtlX3tbprzpdzovHcjsZJecZpM7RKu1Wi+gffelBD7xuqj079KLq0edGzF2nUi6P0yYJPoj4uGHBBJBL3aroDKyfk5ud0w0s36JIJl+jj+R+r7w/66rrB10X9Jn199sVnWuvitTTr9Flaa5W1kh6OwBIT44AsEEBgWUghRg9ZFNj7n7+vQbcM0gE9DtD5A86PBPbO7Hc07vBx0aUstwsbctcQrdt+XY0cOFILvlqgwbcO1tFbHa3hfYbrmknX6LLnLtOjRzwaXY788Z0/1vhp48sK7K5X79LJD5+s+w6+T33W76O3Z7+tdm3bRR/2zS8hup1hz2t66qb9b9KgTQbp8Xce1yH3HKLXT3hd67RfR/3+3E/9NuinC3e5UBM/nKi9bt1L+3bf99t7YJtduVkkQidP9zr0nkOjc7hs0GXRv7tetqvbTp07dI7+edj/DtPUk6ZqvVXXSySw+16/T6c9cpoeOPQBbbrWppEYnSwnHD0hmsex2r5ue525/ZmtrhA31s//+nNNP3V6q7XlCtiBVYSNg2pMAIHVOIC402dJYLMWzop2IquvtLr22nQv/WH3P2jlditHAttxwx113s7nRac1Y/4M1V1Wpzkj5kRfd6/bJt+m6168Tk8e9aQGjB6gg7Y4SD/r87Poa4+8/Ui0+2l8iKPpbsX99z032VO/2PYX30PWXGC/f/b3+r+Z/xcJrPHljj9sy8O080Y7q9vl3fT5mZ9H0nSvw+45LNodNj7E8dunf6un65/WI0c8orn/mhvdF/vbsL9pq/W2KhtXr2t6RbvKfXvsm0hg7iGVAzc/UEdvfXQ07uIli9Xhdx302gmvJdqFuR3pNtdvo0t3u1SH/vuhcZfUUnUIrCJsHFRjAgisxgHEnT5LAmvpgQknnMP//XAd2/vY6LTcfZptr982ujzY+HIf0l1W76JXj39VPa7qEclvr832ir78xqw31ONPPcoK7N/+9G+6eLeLo/ttzV/NBXb8X4+XuzS30vIrfVv61eKv9Osdfx1dRtz7tr018/SZ337trMfOih7QaBTYe5+/p42v2FjTfjFND7/9cLRLfOXnr3xbP+blMRr595Fylwjda/6i+bp28LWRiJJcQnTn5OZyfxlofLn7b48f+bh+1OVHsZbGzAUztdONO0Xcz9nxnFjHlCtCYBWj48AaEkBgNYSfZGorAmt6z2r6vOnqdkU3zTtr3lIf0o3nvfPonXXwFgd/uwN79O1HtfvNuyfegblH790DFo1PIV74zIXRpcxR+4z6HuL6OfWRnJruwA6/93C1UZulHqN3u0N3+XHc1HHRLvO0H50WjeWO3+yqzSLJuMuQ7l6e24Gd2PfE6F5dU4E5uXS6tFM0V6PEnbTdWK7W7QqP7HmkDu95eJKl8G3t7C9ma8CYARq48cDvPUSTdMB/vP127EMmT20Qd9zXgs8XxC2N6r6Y/0Xs+hHDDo5dS2H+CCAwI5laFJhDu+/t+6rr6l2je2TuUXv3AIW75LVT15109fNX68p/XBldqmvfrr0OvOtAPfHuEy3eAzvlkVOie2Bbr7f1UvfA3C5v2FbDdFzv46I03b25H476oUbvNzqSmtt9uYc6Num4iTZYbYNoV+juLf1ul99Fu8Q9b9lT+3TfZymBjf7naP36yV9HD1fUn1wf3d9yL/dQyNbXbq2Xf/ZyNJ7bjR37wLG6ZvA13xOYq99g5AY6e4ezNbz3cI1+ebSGjx2uq/e6Oqr9y2t/iea448A7tEWnLfT5l59Hl1GHbDGk1VXpLm3uOmbX6MGPq/ZM/4vGEFiryCnIIAEElsFQyrVkVWDuQ/nMx87UA28+oHmL5qnbmt00YrsROmTLQ/T14q+jpxjHvDIm2qGc1u+0ZT6F6B76cE8duoc0uq7RNbrH5e5L3f/6/Tpp3EnR/apf7firaIcz8YOJOuOxM6JHzd0uyX3QO3HUrV4X7c6Ouu8ovTT9JfXr0m+ppxAb2S9YtECd/9A5Ep17KKXp65zHz9HVk66O7psd+R9H6oXpL+iInkeUFdi4t8bp+AePl9stuYdXJk2f9G2tG/Oml2/SxRMujnZ27p7ibt120w373hBN5+6R7VC3QyTA5i8nWPckpXtS0u0eG19TTpgSnWPSFwJLSoz6LBBAYFlIIUYPWRFYjFYpMUgAgRkMjZaFwIwsAgRmJCijbSIwo8EVvG0EZmQBIDAjQRltE4EZDa7gbSMwIwsAgRkJymibCMxocAVvG4EZWQAIzEhQRttEYEaDK3jbCMzIAkBgRoIy2iYCMxpcwdtGYEYWAAIzEpTRNhGY0eAK3jYCM7IAEJiRoIy2icCMBlfwthGYkQWAwIwEVYA2b3j0iURnOX/2/ET1/CipRLgKXYzAjMSPwIwEVYA2EVgBQjZyigjMSFAIzEhQBWgTgRUgZCOniMBqG5T7sd7zJH0j6WtJfVpqB4HVNihm/44AAmM1ZIUAAqttEk5gTlqzWmsDgbVGiK+HIoDAQpFmntYIILDWCPn9OgLzy5fRPRBAYB6gMmRFBBBYRdiqdtC7kmZLWiLpWknXcQmxamwZyBMBBOYJLMMmJoDAEiOr6gHrS/pIUidJj0o6SdLTTWZwv6Ex+i2NdXV1vevr66s6OYNBoBICCKwSahzjgwAC80G1sjHPleS+YebScodzD6wyqBxVfQIIrPpMGbEyAgisMm7VOKq9pLalpxDdP7sd2HmSHkJg1cDLGL4IIDBfZBk3KQEElpRY9eq7SfpLabjlJd0q6YKWhmcHVj3wjJSOAAJLx4+jq0cAgVWPpdeREJhXvAyegAACSwCLUq8EEJhXvNUbHIFVjyUjfZ/AuzM/iY3liRcnx651hQs+X5Conp+FmAhXoYsRmJH4EZiRoIy2icCMBlfwthGYkQWAwIwEZbRNBGY0uIK3jcCMLAAEZiQoo20iMKPBFbxtBGZkASAwI0EZbROBGQ2u4G0jMCMLAIEZCcpomwjMaHAFbxuBGVkACMxIUEbbRGBGgyt42wjMyAJAYEaCMtomAjMaXMHbRmBGFgACMxKU0TYRmNHgCt42AjOyABCYkaCMtonAjAZX8LYRmJEFgMCMBGW0TQRmNLiCt43AjCwABGYkKKNtIjCjwRW8bQRmZAEgMCNBGW3znwl+Weqk195KdJYL5y5MVM/PQkyEq9DFCMxI/AjMSFBG20RgRoMreNsIzMgCQGBGgjLaJgIzGlzB20ZgRhYAAjMSlNE2EZjR4AreNgIzsgAQmJGgjLaJwIwGV/C2EZiRBYDAjARltE0EZjS4greNwIwsAARmJCijbSIwo8EVvG0EZmQBIDAjQRltE4EZDa7gbSMwIwsAgRkJymibCMxocAVvG4EZWQAIzEhQRttEYEaDK3jbCMzIAkBgRoIy2iYCMxpcwdtGYEYWAAIzEpTRNp+cMiV252+/91HsWlf4xbxkP0pq0A59Y4+/aefOsWspzB8BBGYkUwRmJCijbSIwo8EVvG0EZmQBIDAjQRltE4EZDa7gbSMwIwsAgRkJymibCMxocAVvG4EZWQAIzEhQRttEYEaDK3jbCMzIAkBgRoIy2iYCMxpcwdtGYEYWAAIzEpTRNhGY0eAK3jYCM7IAEJiRoIy2icCMBlfwthGYkQWAwIwEZbRNBGY0uIK3jcCMLAAEZiQoo20iMKPBFbxtBGZkASAwI0EZbROBGQ2u4G0jMCMLAIEZCcpomwjMaHAFbxuBGVkACMxIUEbbHP3E+Nidf7Xo69i1rvDrhPU/22dQovEpLi4BBGYkewRmJCijbSIwo8EVvG0EZmQBIDAjQRltE4EZDa7gbSMwIwsAgRkJymibCMxocAVvG4EZWQAIzEhQRttEYEaDK3jbCMzIAkBgRoIy2iYCMxpcwdtGYEYWAAIzEpTRNhGY0eAK3jYCM7IAEJiRoIy2icCMBlfwthGYkQWAwIwEZbRNBGY0uIK3jcCMLAAEZiQoo20iMKPBFbxtBGZkASAwI0EZbROBGQ2u4G0jMCMLAIEZCcpomwjMaHAFbxuBGVkACMxIUEbb9CmwnptulIhK3403TlRPcXEJIDAj2SMwI0EZbROBGQ2u4G0jMP8L4AZJgyV9ImnL0nQdJd0hqaukaZIOkjR7Wa0gMP9BFXkGBFbk9O2eOwLzn92OkuZLGtNEYBdL+kzSRZLOlLSmpBEIzH8YzFCeAAJjZVgkgMDCpOZ2WmObCOwNSf0lTZe0niT3y5i6I7AwYTDL9wkgMFaFRQIILExqzQU2R9IaTaZ2lw/dLqzFF5cQwwRV1FkQWFGTt33eCCxMfpUK7DhJ7o/q6up619fXh+mWWQpHAIEVLvJcnDACCxMjlxDDcGaWCgkgsArBcVhNCSCwMPibC+wSSZ82eYjDPZV4BpcQw4TBLNwDYw3kgwAC85/jbaUHNtaWNEPSbyTdJ+lOd2VQ0nuShpSeSuQemP88mKEMAXZgLAuLBBCYkdR4iMNIUEbbRGBGgyt42wjMyAJAYEaCykibE6dOTdTJs8+9HLu+Y2d3xTv+a+9t+sQvlrT2qqsmqqe4uAQQmJHsEZiRoDLSJgLLSBC04ZUAAvOKt3qDI7DqsSzCSAisCClzjgjMyBpAYEaCykibCCwjQdCGVwIIzCve6g2OwKrHsggjIbAipMw5IjAjawCBGQkqI20isIwEQRteCSAwr3irNzgCqx7LIoyEwIqQMueIwIysAQRmJKiMtInAMhIEbXglgMC84q3e4AiseiyLMBICK0LKnCMCM7IGEJiRoDLSJgLLSBC04ZUAAvOKt3qDI7DqsSzCSAisCClzjgjMyBpAYEaCykibCCwjQdCGVwIIzCve6g2OwKrHsggj/c9jTyY6zc8+/ix2fa+tesSudYW7bLFFonqKIRCXAAKLS6rGdQisxgEYmx6BGQuMdisigMAqwhb+IAQWnrnlGRGY5fToPS4BBBaXVI3rEFiNAzA2PQIzFhjtVkQAgVWELfxBCCw8c8szIjDL6dF7XAIILC6pGtchsBoHYGx6BGYsMNqtiAACqwhb+IMQWHjmlmdEYJbTo/e4BBBYXFI1rkNgNQ7A2PQIzFhgtFsRAQRWEbbwByGw8Mwtz4jALKdH73EJILC4pGpch8BqHICx6RGYscBotyICCKwibOEPQmDhmVueEYFZTo/e4xJAYHFJ1bgOgdU4AGPTIzBjgdFuRQQQWEXYwh+EwMIzz9KM7878JFE7t9/3eKL6FVZeIXb9AQN3iF3rCjdap1OieoohEJcAAotLqsZ1CKzGAdR4egRW4wCYPpMEEFgmY/l+UwjMSFCe2kRgnsAyrGkCCMxIfAjMSFCe2kRgnsAyrGkCCMxIfAjMSFCe2kRgnsAyrGkCCMxIfAjMSFCe2kRgnsAyrGkCCMxIfAjMSFCe2kRgnsAyrGkCCMxIfAjMSFCe2kRgnsAyrGkCCMxIfAjMSFCe2kRgnsAyrGkCCMxIfAjMSFCe2kRgnsAyrGkCCMxIfAjMSFCe2kRgnsAyrGkCCMxIfAjMSFAJ2vxi0aLY1dfc/dfYta5w4byFieq79ewWu/7Qfv1i11IIAZ8EEJhPulUcG4FVEWZGhkJgGQmCNswSQGBGokNgRoJK0CYCSwCLUgiUIYDAjCwLBGYkqARtIrAEsCiFAAKzuwYQmN3sWuocgeUvU84oLAF2YGF5VzwbAqsYXWYPRGCZjYbGjBBAYEaCQmBGgkrQJgJLAItSCHAJ0e4aQGB2s+MSYv6y44yyQYAdWDZyaLULBNYqInMF7MDMRUbDGSOAwDIWSEvtIDAjQSVoE4ElgEUpBLiEaHcNIDC72XEJMX/ZcUbZIMAOLBs5tNoFAmsVkbkCdmDmIqPhjBFAYBkLhEuIRgKpQpt3TZwYe5SXxr8cu9YVtl+jfaL6wXvsELv+P+rqYtdSCAGfBBCYT7pVHJsdWBVhZmQoBJaRIGjDLAEE5j+6GyQNlvSJpC1L050r6VhJM0v/frakB5fVCgLzH1ToGRBYaOLMlzcCCMx/ojtKmi9pTDOBuf92adzpEVhcUnbqEJidrOg0mwQQWJhcukoai8DCwLYyCwKzkhR9ZpUAAguTTDmBDZU0V9IkSadKms0lxDBhZGUWBJaVJOjDKgEEFia55gJbV9IsSUsknS9pPUnDyrRynCT3R3V1db3r6+vDdMssQQggsCCYmSTHBBBYmHCbC6zprMv62rd13AMLE1TIWRBYSNrMlUcCCCxMqs0l5XZc00tT/1LSNpIO4RJimDCyMgsCy0oS9GGVAALzn9xtkvpLWlvSDEm/Kf17r9IlxGmShjcRWtmO2IH5Dyr0DAgsNHHmyxsBBGYkUQRmJKgEbSKwBLAohUAZAgjMyLJAYEaCStAmAksAi1IIIDC7awCBZT+7CW+9lajJu28aF7t+pfYrxa51hZ3qOiWqH7rv7rHr11hlldi1FELAJwF2YD7pVnFsBFZFmJ6GQmCewDIsBFoggMCMLA0Elv2gEFj2M6LDfBFAYEbyRGDZDwqBZT8jOswXAQRmJE8Elv2gEFj2M6LDfBFAYEbyRGDZDwqBZT8jOswXAQRmJE8Elv2gEFj2M6LDfBFAYEbyRGDZDwqBZT8jOswXAQRmJE8Elv2gEFj2M6LDfBFAYEbyRGDZDwqBZT8jOswXAQRmJE8Elv2gEFj2M6LDfBFAYEbyRGDZDwqBZT8jOswXAQRmJE8EFj6otz7+ONGkf7rq9kT1bdq0iV3f/YfdY9e6ws033TBR/TqrrRa7fuUV2sWudYWLvv4mUf1nCxbErq+fOTN2rSvcvnsyjht07JhofIrDEkBgYXlXPBsCqxhdxQcisPLoEFjFS4oDq0wAgVUZqK/hEJgvsi2Pi8AQGDuw8O+7JDMisCS0aliLwMLDR2AIDIGFf98lmRGBJaFVw1oEFh4+AkNgCCz8+y7JjAgsCa0a1iKw8PARGAJDYOHfd0lmRGBJaNWwFoGFh4/AEBgCC/++SzIjAktCq4a1CCw8fASGwBBY+PddkhkRWBJaNaxFYOHhIzAEhsDCv++SzIjAktCqYS0CCw8fgSEwBBb+fZdkRgSWhFYNaxFYePgIDIEhsPDvuyQzIrAktGpYi8DKw1+8ZEmiVCa981wBBeMAABClSURBVE7s+lF/TPajoWIPXCrssGaH2Ies3GHl2LWusP0a7RPVr9R+pdj1q6+9euxaV7hw7sJE9VNfnBq7/umHxsaudYUdO66fqH7rnbZNVL/ngTvHrt9p881j17rC5dq2TVRfhGIEZiRlBIbAkixVBFaeFgJLsoqyX4vAsp9R1CECQ2BJlioCQ2BJ1ovVWgRmJDkEhsCSLFUEhsCSrBertQjMSHIIDIElWaoIDIElWS9WaxGYkeQQGAJLslQRGAJLsl6s1iIwI8khMASWZKkiMASWZL1YrUVgRpJDYAgsyVJFYAgsyXqxWovAjCSHwBBYkqWKwBBYkvVitRaBGUkOgSGwJEsVgSGwJOvFai0CM5IcAkNgSZYqAkNgSdaL1VoEZiQ5BIbAkixVBIbAkqwXq7UIzEhyRRFYkp9V6KK769aHEiX4+vOvx65fpUOynyeY5GcbuiaS1Pv+WYhrr792bC4rtV8xdq0rbLNcsp/h9+GbH8Ye//lxz8eudYUzZkzzWt+p04axx+++Za/Yta7wp6ccnKh+xx49EtVbLEZgRlJDYOWDQmDluSTdgSGw8hyTCg+Bhf1ARWBheVc8GwJDYEkWDwKrjpAQWJJVF74WgYVnXtGMCAyBJVk4CAyBcQkxyTumNrVtajNt+FkRGAJLsuoQGAJDYEneMbWpRWC14e5tVh7iKI+WhzjKc+EhjpbfigjM28dU1QZGYFVDmY2BEBgC4ynE8muApxC/z4V7YNn43G61Cy4hcgmx1UXSpIBLiFxCZAeW5B1Tm1p2YLXh7m1WdmDswNiBsQOL+wHDDiwuqRrXsQNjB5ZkCbIDYwfGDizJO6Y2tezAasPd26zswNiBsQNjBxb3A4YdWFxSNa5jB8YOLMkSZAfGDowdWJJ3TG1q2YHVhru3Wdu0SRbp7rsPS9TLSivF//mGHVbvkGjsrltulKi+z4CtYtdv2nnd2LWucONOyepXWH75ROMnKU6a6ZIlS2IP/+VXi2LXusJn3ngzUf1LE19NVP/Y7Q/Grk/6Uz5WWWW12GO7wn677hq7vudOPWPXusKjB+6SqN5XMTswX2SrPG5RdmBJP+wQWPmFhsDKc0Fg5bkgsCp/YMccLtlf12MOWsWyLpLGSOosabGk6yRdLqmjpDskdZXkfjz2QZJmL2teBFaeDgJDYEnerwgMgSVZL75rsy6w9SS5Py9KWlXSC5L2kzRU0meSLpJ0pqQ1JY1AYBI7sPKrgEuI5blwCbHlTw0uIfrWT/rxsy6w5md4v6SrSn/6S5peEtx4Sd0RGAJraQ0gMATGPbDvrwHugaWXaNwR3OXCpyVtKek9SWs0OdBdPnS7sBZfXELkEmLchebquAdWnhaXELmEmOR95LvWyg7MPc72lKQLJN0raU5MgR0nyf1RXV1d7/r6et88az4+lxC5hMhTiOXXADswdmC1+IBuJ2mspIcljSw18IYkLiGWSQOBITAEhsDiflBzCTEuqcrq3A5xdOmBjZObDHGJpE+bPMThnko8g0uI3ANraQ1wD6w8GR7iaPlTg4c4KvvQDnlU1i8hbu++d1LS5NJj9I7N2ZImSrrTXRks3Q8bUpIc98D4RuayawCBITAuIXIJMaRcqzoXD3GUx8n3gZXnwkMc5bnwEEd5Lnwjc1U/rmMPlvUdWOwTaa2wKAK7/e9/bw3FUl+/85K7EtVv3Gvj2PV9B/aJXesKh2yzTaJ6ivNH4PWPPop9Uo9NcN8WGv91/7V3xy+W9NJLj8Wu//TT+H27QZPcp4zdRAWF3AOrAFotDkFg5akjsFqsRuZsiQACC7s2EFhY3hXPhsAQWMWLhwODEUBgwVBHEyGwsLwrng2BIbCKFw8HBiOAwIKhRmBhUaebDYEhsHQriKNDEEBgISh/Nwc7sLC8K54NgSGwihcPBwYjgMCCoWYHFhZ1utkQGAJLt4I4OgQBBBaCMjuwsJSrMBsCQ2BVWEYM4ZkAAvMMuNnwXEIMy7vi2RAYAqt48XBgMAIILBhqLiGGRZ1uNgSGwNKtII4OQQCBhaDMJcSwlKswGwJDYFVYRgzhmQAC8wyYS4hhAVdrNgSGwKq1lhjHHwEE5o9tuZG5BxaWd8WzFUVgFQPiQAhAoHAEEJiRyBGYkaBoEwIQCEYAgQVDnW4iBJaOH0dDAAL5I4DAjGSKwIwERZsQgEAwAggsGOp0EyGwdPw4GgIQyB8BBGYkUwRmJCjahAAEghFAYMFQp5sIgaXjx9EQgED+CCAwI5kiMCNB0SYEIBCMAAILhjrdRAgsHT+OhgAE8kcAgRnJFIEZCYo2IQCBYAQQWDDU6SZCYOn4cTQEIJA/AgjMSKYIzEhQtAkBCAQjgMCCoU43EQJLx4+jIQCB/BFAYEYyRWBGgqJNCEAgGAEEFgx1uokQWDp+HA0BCOSPAAIzkikCMxIUbUIAAsEIILBgqNNNhMDS8eNoCEAgfwQQmJFMEZiRoGgTAhAIRgCBBUOdbiIElo4fR0MAAvkjgMCMZIrAjARFmxCAQDACCCwY6nQTIbB0/DgaAhDIHwEEZiRTBGYkKNqEAASCEUBgwVCnmwiBpePH0RCAQP4IIDAjmSIwI0HRJgQgEIwAAguGOt1ECCwdP46GAATyRwCBGckUgRkJijYhAIFgBBBYMNTpJkJg6fhxNAQgkD8CCMxIpgjMSFC0CQEIBCOAwIKhTjcRAkvHj6MhAIH8EUBgRjJFYEaCok0IQCAYAQQWDHW6iRBYOn4cDQEI5I8AAjOSKQIzEhRtQgACwQggsGCo002EwNLx42gIQCB/BBCYkUwRmJGgaBMCEAhGAIEFQ51uIgSWjh9HQwAC+SOAwIxkisCMBEWbEIBAMAIILBjqdBMhsHT8OBoCEMgfAQTmN9MuksZI6ixpsaTrJF0u6VxJx0qaWZr+bEkPLqsVBOY3KEaHAATsEUBgfjNbT5L786KkVSW9IGk/SQdJmi/p0rjTI7C4pKiDAASKQgCBhU36fklXSdoOgYUFz2wQgED+CCCwcJl2lfS0pC0lnSJpqKS5kiZJOlXSbC4hhguDmSAAAfsEEFiYDDtIekrSBZLulbSupFmSlkg6v3SZcViZVo6T5P6orq6ud319fZhumQUCEICAAQIIzH9I7SSNlfSwpJFlpnM7M/d1tzNr8cU9MP9BMQMEIGCLAALzm1cbSaMlfSbp5CZTuQc7ppf+/ZeStpF0CALzGwajQwAC+SKAwPzmub2kZyRNLj1G72Zzj8wfKqlX6RLiNEnDmwitbEfswPwGxegQgIA9AgjMSGYIzEhQtAkBCAQjgMCCoU43EQJLx4+jIQCB/BFAYEYyRWBGgqJNCEAgGAEEFgx1uokQWDp+HA0BCOSPAAIzkikCMxIUbUIAAsEIILBgqNNNhMDS8eNoCEAgfwQQmJFMEZiRoGgTAhAIRgCBBUOdbiIElo4fR0MAAvkjgMCMZIrAjARFmxCAQDACCCwY6nQTIbB0/DgaAhDIHwEEZiRTBGYkKNqEAASCEUBgwVCnmwiBpePH0RCAQP4IIDAjmSIwI0HRJgQgEIwAAguGOt1ECCwdP46GAATyRwCBGckUgRkJijYhAIFgBBBYMNTpJkJg6fhxNAQgkD8CCMxIpgjMSFC0CQEIBCOAwIKhTjcRAkvHj6MhAIH8EUBgRjJFYEaCok0IQCAYAQQWDHW6iRBYOn4cDQEI5I8AAjOSKQIzEhRtQgACwQggsGCo002EwNLx42gIQCB/BBCYkUwRmJGgaBMCEAhGAIEFQ51uIgSWjh9HQwAC+SOAwIxkisCMBEWbEIBAMAIILBjq1BPNlFRfZpS1Jc1KPXr2ByjKebokinKunGf233dJOqxFnhtKWidJk1mqbZOlZmrUyyRJfWo0d8hpi3KejmlRzpXzDPkO8j9XUfKsGkkExodd1RZThgYqygcB55mhRVeFVoqSZxVQNQyBwBBY1RZThgYqygcB55mhRVeFVoqSZxVQIbBGiMdJuq5qRLM7UFHO0yVQlHPlPLP7fquks6LkWQmbssewA6saSgaCAAQgAIGQBBBYSNrMBQEIQAACVSNQdIENknS5pOUkXS/poqqRzdZA0yTNk/SNpK9z9NTlDZIGS/pE0pYl5B0l3SGpqyR33gdJmp2tOCrqpty5nivpWEnuW0Tc62xJD1Y0enYO6iJpjKTOkhaXLu+792jecm3pPPOYqbfVVWSBOWm9KWk3SR9Iel7SoZKmeKNdu4HdB7n7VoG8fb/bjpLmlz7wGgV2saTPSn8ZOVPSmpJG1A591WYud67uw86d/6VVm6X2A60nyf15UdKqkl6QtJ+koTnLtaXzdH/hylum3lZVkQXWT5L7ABhYontW6f8v9Ea7dgPnVWCOqNtpjW2yA3tDUn9J00sfhOMlda8d+qrO3Pxc8yiw5sDul3RV6U9ec3Xn3Hie2yGw+O+ZIgvsQEnuEuIxJVxHSNpG0onx8ZmpfLd0GW2JpGtz9tRl8w/1OZLWaJKMu3zodmF5eJUTmNuZzC198/apOblc2piVO9+nS385eS/nuTae5yml3WZeM63q+7DIAhtS2n01FVhfSSdVlXA2Bltf0keSOkl6tHSO7g2Th1eRBbZu6bKw+4vJ+aUd57A8hCqpg6SnJF0g6V5Jef2LSfPzzHOmVV+aRRZYkS4hNl04ebvsVORLiE1zbc6h6h8WAQdsV7os/LCkkaV583hpuNx55jVTL8unyAJbvvQQxy6SPiw9xHGYpFe9kK7doO0ltS09hej+2e3AzpP0UO1aqurMzT+4L5H0aZOHONzTa2dUdcbaDdb8XN2DAO5en3v9snQJ/JDatVeVmd1n0ujSAxsnNxkxb7m2dJ55zLQqC6PcIEUWmOOxp6TLSo/Ru8eU3eWKvL26SfpL6aSctG/N0XneVnpgw/0U7xmSfiPpPkl3SqqT5O6buEvF7qlE669y5+oeauglyV1CdA/qDG8iNKvnu72kZyRNLj1G787DfXvAxJzl2tJ5uieh85apt7VYdIF5A8vAEIAABCDglwAC88uX0SEAAQhAwBMBBOYJLMNCAAIQgIBfAgjML19GhwAEIAABTwQQmCewDAsBCEAAAn4JIDC/fBkdAhCAAAQ8EUBgnsAyLAQgAAEI+CWAwPzyZXQIQAACEPBEAIF5AsuwEIAABCDglwAC88uX0SEAAQhAwBMBBOYJLMNCAAIQgIBfAgjML19GhwAEIAABTwQQmCewDAsBCEAAAn4JIDC/fBkdAhCAAAQ8EUBgnsAyLAQgAAEI+CWAwPzyZXQIQAACEPBEAIF5AsuwEIAABCDglwAC88uX0SEAAQhAwBMBBOYJLMNCAAIQgIBfAgjML19GhwAEIAABTwQQmCewDAsBCEAAAn4JIDC/fBkdAhCAAAQ8EUBgnsAyLAQgAAEI+CWAwPzyZXQIQAACEPBEAIF5AsuwEIAABCDglwAC88uX0SEAAQhAwBMBBOYJLMNCAAIQgIBfAgjML19GhwAEIAABTwQQmCewDAsBCEAAAn4JIDC/fBkdAhCAAAQ8EUBgnsAyLAQgAAEI+CWAwPzyZXQIQAACEPBEAIF5AsuwEIAABCDglwAC88uX0SEAAQhAwBMBBOYJLMNCAAIQgIBfAgjML19GhwAEIAABTwQQmCewDAsBCEAAAn4JIDC/fBkdAhCAAAQ8EUBgnsAyLAQgAAEI+CXw/+7upyguuNSeAAAAAElFTkSuQmCC\" width=\"NaN\">"
            ],
            "text/plain": [
              "<IPython.core.display.HTML object>"
            ]
          },
          "metadata": {
            "tags": []
          }
        },
        {
          "output_type": "execute_result",
          "data": {
            "text/plain": [
              "<matplotlib.animation.FuncAnimation at 0x2170db53390>"
            ]
          },
          "metadata": {
            "tags": []
          },
          "execution_count": 47
        }
      ]
    },
    {
      "cell_type": "markdown",
      "metadata": {
        "id": "23cpCL_m0-Gb",
        "colab_type": "text"
      },
      "source": [
        "## Using TFLearn\n",
        "\n",
        "TFLearn is an API that only works for TensorFlow and is a part of TensorFlow distribution."
      ]
    },
    {
      "cell_type": "code",
      "metadata": {
        "ExecuteTime": {
          "end_time": "2019-02-27T14:16:27.844777Z",
          "start_time": "2019-02-27T14:16:27.432487Z"
        },
        "id": "InQ6a3ji0-Gb",
        "colab_type": "code",
        "colab": {},
        "outputId": "7a80fae1-4c3b-48b1-d085-698371d3918e"
      },
      "source": [
        "import tensorflow as tf\n",
        "from toolbox.utilities import image_plot, transform_label, flatten_images, mnist_weight_check, mnist_result_anim, conv_result_anim\n",
        "\n",
        "import tflearn\n",
        "from tflearn.layers.core import input_data, dropout, fully_connected\n",
        "from tflearn.layers.conv import conv_2d, max_pool_2d\n",
        "from tflearn.layers.normalization import local_response_normalization\n",
        "from tflearn.layers.estimator import regression\n",
        "%load_ext autoreload\n",
        "%autoreload 2"
      ],
      "execution_count": null,
      "outputs": [
        {
          "output_type": "stream",
          "text": [
            "The autoreload extension is already loaded. To reload it, use:\n",
            "  %reload_ext autoreload\n"
          ],
          "name": "stdout"
        }
      ]
    },
    {
      "cell_type": "code",
      "metadata": {
        "ExecuteTime": {
          "end_time": "2019-02-27T14:09:26.210880Z",
          "start_time": "2019-02-27T14:09:23.277244Z"
        },
        "id": "Zl4IOKl70-Gd",
        "colab_type": "code",
        "colab": {}
      },
      "source": [
        "mnist = tf.keras.datasets.mnist\n",
        "(x_train, y_train),(x_test, y_test) = mnist.load_data()\n",
        "x_train, x_test = x_train / 255.0, x_test / 255.0\n",
        "y_train, y_test = transform_label(y_train), transform_label(y_test)"
      ],
      "execution_count": null,
      "outputs": []
    },
    {
      "cell_type": "markdown",
      "metadata": {
        "id": "J6EM0nJd0-Gf",
        "colab_type": "text"
      },
      "source": [
        "### Settings"
      ]
    },
    {
      "cell_type": "code",
      "metadata": {
        "ExecuteTime": {
          "end_time": "2019-02-27T14:09:26.630918Z",
          "start_time": "2019-02-27T14:09:26.218617Z"
        },
        "id": "218OnE1Q0-Gf",
        "colab_type": "code",
        "colab": {}
      },
      "source": [
        "image_nrows = 28\n",
        "image_ncolumns = 28\n",
        "image_flat_size = image_nrows*image_ncolumns\n",
        "n_channels = 1 # Gray scale\n",
        "n_classes = 10 # 0,1,... 9\n",
        "keep_prob = 0.6 # pul out neorons to avoid overfitting"
      ],
      "execution_count": null,
      "outputs": []
    },
    {
      "cell_type": "code",
      "metadata": {
        "ExecuteTime": {
          "end_time": "2019-02-27T14:09:27.053429Z",
          "start_time": "2019-02-27T14:09:26.633406Z"
        },
        "id": "tFu8P2MN0-Gh",
        "colab_type": "code",
        "colab": {}
      },
      "source": [
        "image_train = x_train.reshape(x_train.shape[0], x_train.shape[1], x_train.shape[2], 1)\n",
        "image_test = x_test.reshape(x_test.shape[0], x_test.shape[1], x_test.shape[2], 1)"
      ],
      "execution_count": null,
      "outputs": []
    },
    {
      "cell_type": "markdown",
      "metadata": {
        "ExecuteTime": {
          "end_time": "2019-02-27T13:51:25.263362Z",
          "start_time": "2019-02-27T13:51:11.200054Z"
        },
        "id": "HQBgU-cp0-Gk",
        "colab_type": "text"
      },
      "source": [
        "### Defining the network using TFLearn"
      ]
    },
    {
      "cell_type": "code",
      "metadata": {
        "ExecuteTime": {
          "end_time": "2019-02-27T14:09:27.733906Z",
          "start_time": "2019-02-27T14:09:27.057432Z"
        },
        "id": "FmqWSK2o0-Gk",
        "colab_type": "code",
        "colab": {},
        "outputId": "3470097f-9c67-408c-b0e6-e838322ebf3d"
      },
      "source": [
        "# Define the input layer\n",
        "input_layer = input_data(shape=[None, image_nrows, image_ncolumns, 1], name='input')\n",
        "\n",
        "\n",
        "# Add the first convolutional layer\n",
        "network = conv_2d(input_layer, nb_filter=32, filter_size=3, activation='relu', regularizer=\"L2\")\n",
        "#   Notice name was not specified.  The name is defaulted to \"Conv2D\", and will be postfixed with \"_n\" \n",
        "\n",
        "# Implement pooling layer\n",
        "network = max_pool_2d(network, 2)\n",
        "\n",
        "# Add the second convolutional layer\n",
        "network = conv_2d(network, nb_filter=64, filter_size=3, activation='relu', regularizer=\"L2\")\n",
        "# Implement pooling layer\n",
        "network = max_pool_2d(network, 2)\n",
        "\n",
        "# Add fully Connected Layer\n",
        "network = fully_connected(network, 128, activation='tanh')\n",
        "\n",
        "# dropout some neurons to reduce overfitting\n",
        "network = dropout(network, keep_prob)\n",
        "\n",
        "# Readout layer (based on one-hot)\n",
        "network = fully_connected(network, 10, activation='softmax')\n",
        "\n",
        "# Set loss and measurement, optimizer\n",
        "network = regression(network, optimizer='adam', learning_rate=0.01,\n",
        "                        loss='categorical_crossentropy', name='target')\n"
      ],
      "execution_count": null,
      "outputs": [
        {
          "output_type": "stream",
          "text": [
            "WARNING:tensorflow:From D:\\Anaconda3\\lib\\site-packages\\tflearn\\initializations.py:119: UniformUnitScaling.__init__ (from tensorflow.python.ops.init_ops) is deprecated and will be removed in a future version.\n",
            "Instructions for updating:\n",
            "Use tf.initializers.variance_scaling instead with distribution=uniform to get equivalent behavior.\n"
          ],
          "name": "stdout"
        }
      ]
    },
    {
      "cell_type": "markdown",
      "metadata": {
        "id": "w2oqj5Uv0-Gm",
        "colab_type": "text"
      },
      "source": [
        "### Tran the network"
      ]
    },
    {
      "cell_type": "code",
      "metadata": {
        "ExecuteTime": {
          "end_time": "2019-02-27T14:12:45.077660Z",
          "start_time": "2019-02-27T14:09:27.735908Z"
        },
        "id": "8_uXELsF0-Gn",
        "colab_type": "code",
        "colab": {},
        "outputId": "06c3621a-02e1-452a-8598-df65e9a5d05d"
      },
      "source": [
        "num_epoch = 2  \n",
        "model = tflearn.DNN(network, tensorboard_verbose=0)  # for more info in tenorboard turn on tensorboard_verbose\n",
        "model.fit({'input': image_train}, {'target': y_train}, n_epoch=num_epoch,\n",
        "           validation_set=({'input': image_test}, {'target': y_test}),\n",
        "            show_metric=True, run_id='TFLearn_DeepMNIST')\n"
      ],
      "execution_count": null,
      "outputs": [
        {
          "output_type": "stream",
          "text": [
            "Training Step: 1875  | total loss: \u001b[1m\u001b[32m0.09312\u001b[0m\u001b[0m | time: 96.567s\n",
            "| Adam | epoch: 002 | loss: 0.09312 - acc: 0.9739 -- iter: 59968/60000\n",
            "Training Step: 1876  | total loss: \u001b[1m\u001b[32m0.09604\u001b[0m\u001b[0m | time: 102.093s\n",
            "| Adam | epoch: 002 | loss: 0.09604 - acc: 0.9749 | val_loss: 0.06309 - val_acc: 0.9801 -- iter: 60000/60000\n",
            "--\n"
          ],
          "name": "stdout"
        }
      ]
    },
    {
      "cell_type": "code",
      "metadata": {
        "ExecuteTime": {
          "end_time": "2019-02-27T14:17:08.690316Z",
          "start_time": "2019-02-27T14:17:05.256923Z"
        },
        "id": "XZX85hX50-Gp",
        "colab_type": "code",
        "colab": {}
      },
      "source": [
        "prediction = model.predict(image_test)"
      ],
      "execution_count": null,
      "outputs": []
    },
    {
      "cell_type": "code",
      "metadata": {
        "ExecuteTime": {
          "end_time": "2019-02-27T14:17:38.395148Z",
          "start_time": "2019-02-27T14:17:37.793722Z"
        },
        "id": "pikVEmC10-Gr",
        "colab_type": "code",
        "colab": {},
        "outputId": "ad2f08f7-1e2e-42ee-893b-e7f97ea66735"
      },
      "source": [
        "%matplotlib notebook\n",
        "mnist_result_anim(x_test,y_test, prediction)"
      ],
      "execution_count": null,
      "outputs": [
        {
          "output_type": "display_data",
          "data": {
            "application/javascript": [
              "/* Put everything inside the global mpl namespace */\n",
              "window.mpl = {};\n",
              "\n",
              "\n",
              "mpl.get_websocket_type = function() {\n",
              "    if (typeof(WebSocket) !== 'undefined') {\n",
              "        return WebSocket;\n",
              "    } else if (typeof(MozWebSocket) !== 'undefined') {\n",
              "        return MozWebSocket;\n",
              "    } else {\n",
              "        alert('Your browser does not have WebSocket support.' +\n",
              "              'Please try Chrome, Safari or Firefox ≥ 6. ' +\n",
              "              'Firefox 4 and 5 are also supported but you ' +\n",
              "              'have to enable WebSockets in about:config.');\n",
              "    };\n",
              "}\n",
              "\n",
              "mpl.figure = function(figure_id, websocket, ondownload, parent_element) {\n",
              "    this.id = figure_id;\n",
              "\n",
              "    this.ws = websocket;\n",
              "\n",
              "    this.supports_binary = (this.ws.binaryType != undefined);\n",
              "\n",
              "    if (!this.supports_binary) {\n",
              "        var warnings = document.getElementById(\"mpl-warnings\");\n",
              "        if (warnings) {\n",
              "            warnings.style.display = 'block';\n",
              "            warnings.textContent = (\n",
              "                \"This browser does not support binary websocket messages. \" +\n",
              "                    \"Performance may be slow.\");\n",
              "        }\n",
              "    }\n",
              "\n",
              "    this.imageObj = new Image();\n",
              "\n",
              "    this.context = undefined;\n",
              "    this.message = undefined;\n",
              "    this.canvas = undefined;\n",
              "    this.rubberband_canvas = undefined;\n",
              "    this.rubberband_context = undefined;\n",
              "    this.format_dropdown = undefined;\n",
              "\n",
              "    this.image_mode = 'full';\n",
              "\n",
              "    this.root = $('<div/>');\n",
              "    this._root_extra_style(this.root)\n",
              "    this.root.attr('style', 'display: inline-block');\n",
              "\n",
              "    $(parent_element).append(this.root);\n",
              "\n",
              "    this._init_header(this);\n",
              "    this._init_canvas(this);\n",
              "    this._init_toolbar(this);\n",
              "\n",
              "    var fig = this;\n",
              "\n",
              "    this.waiting = false;\n",
              "\n",
              "    this.ws.onopen =  function () {\n",
              "            fig.send_message(\"supports_binary\", {value: fig.supports_binary});\n",
              "            fig.send_message(\"send_image_mode\", {});\n",
              "            if (mpl.ratio != 1) {\n",
              "                fig.send_message(\"set_dpi_ratio\", {'dpi_ratio': mpl.ratio});\n",
              "            }\n",
              "            fig.send_message(\"refresh\", {});\n",
              "        }\n",
              "\n",
              "    this.imageObj.onload = function() {\n",
              "            if (fig.image_mode == 'full') {\n",
              "                // Full images could contain transparency (where diff images\n",
              "                // almost always do), so we need to clear the canvas so that\n",
              "                // there is no ghosting.\n",
              "                fig.context.clearRect(0, 0, fig.canvas.width, fig.canvas.height);\n",
              "            }\n",
              "            fig.context.drawImage(fig.imageObj, 0, 0);\n",
              "        };\n",
              "\n",
              "    this.imageObj.onunload = function() {\n",
              "        fig.ws.close();\n",
              "    }\n",
              "\n",
              "    this.ws.onmessage = this._make_on_message_function(this);\n",
              "\n",
              "    this.ondownload = ondownload;\n",
              "}\n",
              "\n",
              "mpl.figure.prototype._init_header = function() {\n",
              "    var titlebar = $(\n",
              "        '<div class=\"ui-dialog-titlebar ui-widget-header ui-corner-all ' +\n",
              "        'ui-helper-clearfix\"/>');\n",
              "    var titletext = $(\n",
              "        '<div class=\"ui-dialog-title\" style=\"width: 100%; ' +\n",
              "        'text-align: center; padding: 3px;\"/>');\n",
              "    titlebar.append(titletext)\n",
              "    this.root.append(titlebar);\n",
              "    this.header = titletext[0];\n",
              "}\n",
              "\n",
              "\n",
              "\n",
              "mpl.figure.prototype._canvas_extra_style = function(canvas_div) {\n",
              "\n",
              "}\n",
              "\n",
              "\n",
              "mpl.figure.prototype._root_extra_style = function(canvas_div) {\n",
              "\n",
              "}\n",
              "\n",
              "mpl.figure.prototype._init_canvas = function() {\n",
              "    var fig = this;\n",
              "\n",
              "    var canvas_div = $('<div/>');\n",
              "\n",
              "    canvas_div.attr('style', 'position: relative; clear: both; outline: 0');\n",
              "\n",
              "    function canvas_keyboard_event(event) {\n",
              "        return fig.key_event(event, event['data']);\n",
              "    }\n",
              "\n",
              "    canvas_div.keydown('key_press', canvas_keyboard_event);\n",
              "    canvas_div.keyup('key_release', canvas_keyboard_event);\n",
              "    this.canvas_div = canvas_div\n",
              "    this._canvas_extra_style(canvas_div)\n",
              "    this.root.append(canvas_div);\n",
              "\n",
              "    var canvas = $('<canvas/>');\n",
              "    canvas.addClass('mpl-canvas');\n",
              "    canvas.attr('style', \"left: 0; top: 0; z-index: 0; outline: 0\")\n",
              "\n",
              "    this.canvas = canvas[0];\n",
              "    this.context = canvas[0].getContext(\"2d\");\n",
              "\n",
              "    var backingStore = this.context.backingStorePixelRatio ||\n",
              "\tthis.context.webkitBackingStorePixelRatio ||\n",
              "\tthis.context.mozBackingStorePixelRatio ||\n",
              "\tthis.context.msBackingStorePixelRatio ||\n",
              "\tthis.context.oBackingStorePixelRatio ||\n",
              "\tthis.context.backingStorePixelRatio || 1;\n",
              "\n",
              "    mpl.ratio = (window.devicePixelRatio || 1) / backingStore;\n",
              "\n",
              "    var rubberband = $('<canvas/>');\n",
              "    rubberband.attr('style', \"position: absolute; left: 0; top: 0; z-index: 1;\")\n",
              "\n",
              "    var pass_mouse_events = true;\n",
              "\n",
              "    canvas_div.resizable({\n",
              "        start: function(event, ui) {\n",
              "            pass_mouse_events = false;\n",
              "        },\n",
              "        resize: function(event, ui) {\n",
              "            fig.request_resize(ui.size.width, ui.size.height);\n",
              "        },\n",
              "        stop: function(event, ui) {\n",
              "            pass_mouse_events = true;\n",
              "            fig.request_resize(ui.size.width, ui.size.height);\n",
              "        },\n",
              "    });\n",
              "\n",
              "    function mouse_event_fn(event) {\n",
              "        if (pass_mouse_events)\n",
              "            return fig.mouse_event(event, event['data']);\n",
              "    }\n",
              "\n",
              "    rubberband.mousedown('button_press', mouse_event_fn);\n",
              "    rubberband.mouseup('button_release', mouse_event_fn);\n",
              "    // Throttle sequential mouse events to 1 every 20ms.\n",
              "    rubberband.mousemove('motion_notify', mouse_event_fn);\n",
              "\n",
              "    rubberband.mouseenter('figure_enter', mouse_event_fn);\n",
              "    rubberband.mouseleave('figure_leave', mouse_event_fn);\n",
              "\n",
              "    canvas_div.on(\"wheel\", function (event) {\n",
              "        event = event.originalEvent;\n",
              "        event['data'] = 'scroll'\n",
              "        if (event.deltaY < 0) {\n",
              "            event.step = 1;\n",
              "        } else {\n",
              "            event.step = -1;\n",
              "        }\n",
              "        mouse_event_fn(event);\n",
              "    });\n",
              "\n",
              "    canvas_div.append(canvas);\n",
              "    canvas_div.append(rubberband);\n",
              "\n",
              "    this.rubberband = rubberband;\n",
              "    this.rubberband_canvas = rubberband[0];\n",
              "    this.rubberband_context = rubberband[0].getContext(\"2d\");\n",
              "    this.rubberband_context.strokeStyle = \"#000000\";\n",
              "\n",
              "    this._resize_canvas = function(width, height) {\n",
              "        // Keep the size of the canvas, canvas container, and rubber band\n",
              "        // canvas in synch.\n",
              "        canvas_div.css('width', width)\n",
              "        canvas_div.css('height', height)\n",
              "\n",
              "        canvas.attr('width', width * mpl.ratio);\n",
              "        canvas.attr('height', height * mpl.ratio);\n",
              "        canvas.attr('style', 'width: ' + width + 'px; height: ' + height + 'px;');\n",
              "\n",
              "        rubberband.attr('width', width);\n",
              "        rubberband.attr('height', height);\n",
              "    }\n",
              "\n",
              "    // Set the figure to an initial 600x600px, this will subsequently be updated\n",
              "    // upon first draw.\n",
              "    this._resize_canvas(600, 600);\n",
              "\n",
              "    // Disable right mouse context menu.\n",
              "    $(this.rubberband_canvas).bind(\"contextmenu\",function(e){\n",
              "        return false;\n",
              "    });\n",
              "\n",
              "    function set_focus () {\n",
              "        canvas.focus();\n",
              "        canvas_div.focus();\n",
              "    }\n",
              "\n",
              "    window.setTimeout(set_focus, 100);\n",
              "}\n",
              "\n",
              "mpl.figure.prototype._init_toolbar = function() {\n",
              "    var fig = this;\n",
              "\n",
              "    var nav_element = $('<div/>')\n",
              "    nav_element.attr('style', 'width: 100%');\n",
              "    this.root.append(nav_element);\n",
              "\n",
              "    // Define a callback function for later on.\n",
              "    function toolbar_event(event) {\n",
              "        return fig.toolbar_button_onclick(event['data']);\n",
              "    }\n",
              "    function toolbar_mouse_event(event) {\n",
              "        return fig.toolbar_button_onmouseover(event['data']);\n",
              "    }\n",
              "\n",
              "    for(var toolbar_ind in mpl.toolbar_items) {\n",
              "        var name = mpl.toolbar_items[toolbar_ind][0];\n",
              "        var tooltip = mpl.toolbar_items[toolbar_ind][1];\n",
              "        var image = mpl.toolbar_items[toolbar_ind][2];\n",
              "        var method_name = mpl.toolbar_items[toolbar_ind][3];\n",
              "\n",
              "        if (!name) {\n",
              "            // put a spacer in here.\n",
              "            continue;\n",
              "        }\n",
              "        var button = $('<button/>');\n",
              "        button.addClass('ui-button ui-widget ui-state-default ui-corner-all ' +\n",
              "                        'ui-button-icon-only');\n",
              "        button.attr('role', 'button');\n",
              "        button.attr('aria-disabled', 'false');\n",
              "        button.click(method_name, toolbar_event);\n",
              "        button.mouseover(tooltip, toolbar_mouse_event);\n",
              "\n",
              "        var icon_img = $('<span/>');\n",
              "        icon_img.addClass('ui-button-icon-primary ui-icon');\n",
              "        icon_img.addClass(image);\n",
              "        icon_img.addClass('ui-corner-all');\n",
              "\n",
              "        var tooltip_span = $('<span/>');\n",
              "        tooltip_span.addClass('ui-button-text');\n",
              "        tooltip_span.html(tooltip);\n",
              "\n",
              "        button.append(icon_img);\n",
              "        button.append(tooltip_span);\n",
              "\n",
              "        nav_element.append(button);\n",
              "    }\n",
              "\n",
              "    var fmt_picker_span = $('<span/>');\n",
              "\n",
              "    var fmt_picker = $('<select/>');\n",
              "    fmt_picker.addClass('mpl-toolbar-option ui-widget ui-widget-content');\n",
              "    fmt_picker_span.append(fmt_picker);\n",
              "    nav_element.append(fmt_picker_span);\n",
              "    this.format_dropdown = fmt_picker[0];\n",
              "\n",
              "    for (var ind in mpl.extensions) {\n",
              "        var fmt = mpl.extensions[ind];\n",
              "        var option = $(\n",
              "            '<option/>', {selected: fmt === mpl.default_extension}).html(fmt);\n",
              "        fmt_picker.append(option)\n",
              "    }\n",
              "\n",
              "    // Add hover states to the ui-buttons\n",
              "    $( \".ui-button\" ).hover(\n",
              "        function() { $(this).addClass(\"ui-state-hover\");},\n",
              "        function() { $(this).removeClass(\"ui-state-hover\");}\n",
              "    );\n",
              "\n",
              "    var status_bar = $('<span class=\"mpl-message\"/>');\n",
              "    nav_element.append(status_bar);\n",
              "    this.message = status_bar[0];\n",
              "}\n",
              "\n",
              "mpl.figure.prototype.request_resize = function(x_pixels, y_pixels) {\n",
              "    // Request matplotlib to resize the figure. Matplotlib will then trigger a resize in the client,\n",
              "    // which will in turn request a refresh of the image.\n",
              "    this.send_message('resize', {'width': x_pixels, 'height': y_pixels});\n",
              "}\n",
              "\n",
              "mpl.figure.prototype.send_message = function(type, properties) {\n",
              "    properties['type'] = type;\n",
              "    properties['figure_id'] = this.id;\n",
              "    this.ws.send(JSON.stringify(properties));\n",
              "}\n",
              "\n",
              "mpl.figure.prototype.send_draw_message = function() {\n",
              "    if (!this.waiting) {\n",
              "        this.waiting = true;\n",
              "        this.ws.send(JSON.stringify({type: \"draw\", figure_id: this.id}));\n",
              "    }\n",
              "}\n",
              "\n",
              "\n",
              "mpl.figure.prototype.handle_save = function(fig, msg) {\n",
              "    var format_dropdown = fig.format_dropdown;\n",
              "    var format = format_dropdown.options[format_dropdown.selectedIndex].value;\n",
              "    fig.ondownload(fig, format);\n",
              "}\n",
              "\n",
              "\n",
              "mpl.figure.prototype.handle_resize = function(fig, msg) {\n",
              "    var size = msg['size'];\n",
              "    if (size[0] != fig.canvas.width || size[1] != fig.canvas.height) {\n",
              "        fig._resize_canvas(size[0], size[1]);\n",
              "        fig.send_message(\"refresh\", {});\n",
              "    };\n",
              "}\n",
              "\n",
              "mpl.figure.prototype.handle_rubberband = function(fig, msg) {\n",
              "    var x0 = msg['x0'] / mpl.ratio;\n",
              "    var y0 = (fig.canvas.height - msg['y0']) / mpl.ratio;\n",
              "    var x1 = msg['x1'] / mpl.ratio;\n",
              "    var y1 = (fig.canvas.height - msg['y1']) / mpl.ratio;\n",
              "    x0 = Math.floor(x0) + 0.5;\n",
              "    y0 = Math.floor(y0) + 0.5;\n",
              "    x1 = Math.floor(x1) + 0.5;\n",
              "    y1 = Math.floor(y1) + 0.5;\n",
              "    var min_x = Math.min(x0, x1);\n",
              "    var min_y = Math.min(y0, y1);\n",
              "    var width = Math.abs(x1 - x0);\n",
              "    var height = Math.abs(y1 - y0);\n",
              "\n",
              "    fig.rubberband_context.clearRect(\n",
              "        0, 0, fig.canvas.width, fig.canvas.height);\n",
              "\n",
              "    fig.rubberband_context.strokeRect(min_x, min_y, width, height);\n",
              "}\n",
              "\n",
              "mpl.figure.prototype.handle_figure_label = function(fig, msg) {\n",
              "    // Updates the figure title.\n",
              "    fig.header.textContent = msg['label'];\n",
              "}\n",
              "\n",
              "mpl.figure.prototype.handle_cursor = function(fig, msg) {\n",
              "    var cursor = msg['cursor'];\n",
              "    switch(cursor)\n",
              "    {\n",
              "    case 0:\n",
              "        cursor = 'pointer';\n",
              "        break;\n",
              "    case 1:\n",
              "        cursor = 'default';\n",
              "        break;\n",
              "    case 2:\n",
              "        cursor = 'crosshair';\n",
              "        break;\n",
              "    case 3:\n",
              "        cursor = 'move';\n",
              "        break;\n",
              "    }\n",
              "    fig.rubberband_canvas.style.cursor = cursor;\n",
              "}\n",
              "\n",
              "mpl.figure.prototype.handle_message = function(fig, msg) {\n",
              "    fig.message.textContent = msg['message'];\n",
              "}\n",
              "\n",
              "mpl.figure.prototype.handle_draw = function(fig, msg) {\n",
              "    // Request the server to send over a new figure.\n",
              "    fig.send_draw_message();\n",
              "}\n",
              "\n",
              "mpl.figure.prototype.handle_image_mode = function(fig, msg) {\n",
              "    fig.image_mode = msg['mode'];\n",
              "}\n",
              "\n",
              "mpl.figure.prototype.updated_canvas_event = function() {\n",
              "    // Called whenever the canvas gets updated.\n",
              "    this.send_message(\"ack\", {});\n",
              "}\n",
              "\n",
              "// A function to construct a web socket function for onmessage handling.\n",
              "// Called in the figure constructor.\n",
              "mpl.figure.prototype._make_on_message_function = function(fig) {\n",
              "    return function socket_on_message(evt) {\n",
              "        if (evt.data instanceof Blob) {\n",
              "            /* FIXME: We get \"Resource interpreted as Image but\n",
              "             * transferred with MIME type text/plain:\" errors on\n",
              "             * Chrome.  But how to set the MIME type?  It doesn't seem\n",
              "             * to be part of the websocket stream */\n",
              "            evt.data.type = \"image/png\";\n",
              "\n",
              "            /* Free the memory for the previous frames */\n",
              "            if (fig.imageObj.src) {\n",
              "                (window.URL || window.webkitURL).revokeObjectURL(\n",
              "                    fig.imageObj.src);\n",
              "            }\n",
              "\n",
              "            fig.imageObj.src = (window.URL || window.webkitURL).createObjectURL(\n",
              "                evt.data);\n",
              "            fig.updated_canvas_event();\n",
              "            fig.waiting = false;\n",
              "            return;\n",
              "        }\n",
              "        else if (typeof evt.data === 'string' && evt.data.slice(0, 21) == \"data:image/png;base64\") {\n",
              "            fig.imageObj.src = evt.data;\n",
              "            fig.updated_canvas_event();\n",
              "            fig.waiting = false;\n",
              "            return;\n",
              "        }\n",
              "\n",
              "        var msg = JSON.parse(evt.data);\n",
              "        var msg_type = msg['type'];\n",
              "\n",
              "        // Call the  \"handle_{type}\" callback, which takes\n",
              "        // the figure and JSON message as its only arguments.\n",
              "        try {\n",
              "            var callback = fig[\"handle_\" + msg_type];\n",
              "        } catch (e) {\n",
              "            console.log(\"No handler for the '\" + msg_type + \"' message type: \", msg);\n",
              "            return;\n",
              "        }\n",
              "\n",
              "        if (callback) {\n",
              "            try {\n",
              "                // console.log(\"Handling '\" + msg_type + \"' message: \", msg);\n",
              "                callback(fig, msg);\n",
              "            } catch (e) {\n",
              "                console.log(\"Exception inside the 'handler_\" + msg_type + \"' callback:\", e, e.stack, msg);\n",
              "            }\n",
              "        }\n",
              "    };\n",
              "}\n",
              "\n",
              "// from http://stackoverflow.com/questions/1114465/getting-mouse-location-in-canvas\n",
              "mpl.findpos = function(e) {\n",
              "    //this section is from http://www.quirksmode.org/js/events_properties.html\n",
              "    var targ;\n",
              "    if (!e)\n",
              "        e = window.event;\n",
              "    if (e.target)\n",
              "        targ = e.target;\n",
              "    else if (e.srcElement)\n",
              "        targ = e.srcElement;\n",
              "    if (targ.nodeType == 3) // defeat Safari bug\n",
              "        targ = targ.parentNode;\n",
              "\n",
              "    // jQuery normalizes the pageX and pageY\n",
              "    // pageX,Y are the mouse positions relative to the document\n",
              "    // offset() returns the position of the element relative to the document\n",
              "    var x = e.pageX - $(targ).offset().left;\n",
              "    var y = e.pageY - $(targ).offset().top;\n",
              "\n",
              "    return {\"x\": x, \"y\": y};\n",
              "};\n",
              "\n",
              "/*\n",
              " * return a copy of an object with only non-object keys\n",
              " * we need this to avoid circular references\n",
              " * http://stackoverflow.com/a/24161582/3208463\n",
              " */\n",
              "function simpleKeys (original) {\n",
              "  return Object.keys(original).reduce(function (obj, key) {\n",
              "    if (typeof original[key] !== 'object')\n",
              "        obj[key] = original[key]\n",
              "    return obj;\n",
              "  }, {});\n",
              "}\n",
              "\n",
              "mpl.figure.prototype.mouse_event = function(event, name) {\n",
              "    var canvas_pos = mpl.findpos(event)\n",
              "\n",
              "    if (name === 'button_press')\n",
              "    {\n",
              "        this.canvas.focus();\n",
              "        this.canvas_div.focus();\n",
              "    }\n",
              "\n",
              "    var x = canvas_pos.x * mpl.ratio;\n",
              "    var y = canvas_pos.y * mpl.ratio;\n",
              "\n",
              "    this.send_message(name, {x: x, y: y, button: event.button,\n",
              "                             step: event.step,\n",
              "                             guiEvent: simpleKeys(event)});\n",
              "\n",
              "    /* This prevents the web browser from automatically changing to\n",
              "     * the text insertion cursor when the button is pressed.  We want\n",
              "     * to control all of the cursor setting manually through the\n",
              "     * 'cursor' event from matplotlib */\n",
              "    event.preventDefault();\n",
              "    return false;\n",
              "}\n",
              "\n",
              "mpl.figure.prototype._key_event_extra = function(event, name) {\n",
              "    // Handle any extra behaviour associated with a key event\n",
              "}\n",
              "\n",
              "mpl.figure.prototype.key_event = function(event, name) {\n",
              "\n",
              "    // Prevent repeat events\n",
              "    if (name == 'key_press')\n",
              "    {\n",
              "        if (event.which === this._key)\n",
              "            return;\n",
              "        else\n",
              "            this._key = event.which;\n",
              "    }\n",
              "    if (name == 'key_release')\n",
              "        this._key = null;\n",
              "\n",
              "    var value = '';\n",
              "    if (event.ctrlKey && event.which != 17)\n",
              "        value += \"ctrl+\";\n",
              "    if (event.altKey && event.which != 18)\n",
              "        value += \"alt+\";\n",
              "    if (event.shiftKey && event.which != 16)\n",
              "        value += \"shift+\";\n",
              "\n",
              "    value += 'k';\n",
              "    value += event.which.toString();\n",
              "\n",
              "    this._key_event_extra(event, name);\n",
              "\n",
              "    this.send_message(name, {key: value,\n",
              "                             guiEvent: simpleKeys(event)});\n",
              "    return false;\n",
              "}\n",
              "\n",
              "mpl.figure.prototype.toolbar_button_onclick = function(name) {\n",
              "    if (name == 'download') {\n",
              "        this.handle_save(this, null);\n",
              "    } else {\n",
              "        this.send_message(\"toolbar_button\", {name: name});\n",
              "    }\n",
              "};\n",
              "\n",
              "mpl.figure.prototype.toolbar_button_onmouseover = function(tooltip) {\n",
              "    this.message.textContent = tooltip;\n",
              "};\n",
              "mpl.toolbar_items = [[\"Home\", \"Reset original view\", \"fa fa-home icon-home\", \"home\"], [\"Back\", \"Back to previous view\", \"fa fa-arrow-left icon-arrow-left\", \"back\"], [\"Forward\", \"Forward to next view\", \"fa fa-arrow-right icon-arrow-right\", \"forward\"], [\"\", \"\", \"\", \"\"], [\"Pan\", \"Pan axes with left mouse, zoom with right\", \"fa fa-arrows icon-move\", \"pan\"], [\"Zoom\", \"Zoom to rectangle\", \"fa fa-square-o icon-check-empty\", \"zoom\"], [\"\", \"\", \"\", \"\"], [\"Download\", \"Download plot\", \"fa fa-floppy-o icon-save\", \"download\"]];\n",
              "\n",
              "mpl.extensions = [\"eps\", \"jpeg\", \"pdf\", \"png\", \"ps\", \"raw\", \"svg\", \"tif\"];\n",
              "\n",
              "mpl.default_extension = \"png\";var comm_websocket_adapter = function(comm) {\n",
              "    // Create a \"websocket\"-like object which calls the given IPython comm\n",
              "    // object with the appropriate methods. Currently this is a non binary\n",
              "    // socket, so there is still some room for performance tuning.\n",
              "    var ws = {};\n",
              "\n",
              "    ws.close = function() {\n",
              "        comm.close()\n",
              "    };\n",
              "    ws.send = function(m) {\n",
              "        //console.log('sending', m);\n",
              "        comm.send(m);\n",
              "    };\n",
              "    // Register the callback with on_msg.\n",
              "    comm.on_msg(function(msg) {\n",
              "        //console.log('receiving', msg['content']['data'], msg);\n",
              "        // Pass the mpl event to the overridden (by mpl) onmessage function.\n",
              "        ws.onmessage(msg['content']['data'])\n",
              "    });\n",
              "    return ws;\n",
              "}\n",
              "\n",
              "mpl.mpl_figure_comm = function(comm, msg) {\n",
              "    // This is the function which gets called when the mpl process\n",
              "    // starts-up an IPython Comm through the \"matplotlib\" channel.\n",
              "\n",
              "    var id = msg.content.data.id;\n",
              "    // Get hold of the div created by the display call when the Comm\n",
              "    // socket was opened in Python.\n",
              "    var element = $(\"#\" + id);\n",
              "    var ws_proxy = comm_websocket_adapter(comm)\n",
              "\n",
              "    function ondownload(figure, format) {\n",
              "        window.open(figure.imageObj.src);\n",
              "    }\n",
              "\n",
              "    var fig = new mpl.figure(id, ws_proxy,\n",
              "                           ondownload,\n",
              "                           element.get(0));\n",
              "\n",
              "    // Call onopen now - mpl needs it, as it is assuming we've passed it a real\n",
              "    // web socket which is closed, not our websocket->open comm proxy.\n",
              "    ws_proxy.onopen();\n",
              "\n",
              "    fig.parent_element = element.get(0);\n",
              "    fig.cell_info = mpl.find_output_cell(\"<div id='\" + id + \"'></div>\");\n",
              "    if (!fig.cell_info) {\n",
              "        console.error(\"Failed to find cell for figure\", id, fig);\n",
              "        return;\n",
              "    }\n",
              "\n",
              "    var output_index = fig.cell_info[2]\n",
              "    var cell = fig.cell_info[0];\n",
              "\n",
              "};\n",
              "\n",
              "mpl.figure.prototype.handle_close = function(fig, msg) {\n",
              "    var width = fig.canvas.width/mpl.ratio\n",
              "    fig.root.unbind('remove')\n",
              "\n",
              "    // Update the output cell to use the data from the current canvas.\n",
              "    fig.push_to_output();\n",
              "    var dataURL = fig.canvas.toDataURL();\n",
              "    // Re-enable the keyboard manager in IPython - without this line, in FF,\n",
              "    // the notebook keyboard shortcuts fail.\n",
              "    IPython.keyboard_manager.enable()\n",
              "    $(fig.parent_element).html('<img src=\"' + dataURL + '\" width=\"' + width + '\">');\n",
              "    fig.close_ws(fig, msg);\n",
              "}\n",
              "\n",
              "mpl.figure.prototype.close_ws = function(fig, msg){\n",
              "    fig.send_message('closing', msg);\n",
              "    // fig.ws.close()\n",
              "}\n",
              "\n",
              "mpl.figure.prototype.push_to_output = function(remove_interactive) {\n",
              "    // Turn the data on the canvas into data in the output cell.\n",
              "    var width = this.canvas.width/mpl.ratio\n",
              "    var dataURL = this.canvas.toDataURL();\n",
              "    this.cell_info[1]['text/html'] = '<img src=\"' + dataURL + '\" width=\"' + width + '\">';\n",
              "}\n",
              "\n",
              "mpl.figure.prototype.updated_canvas_event = function() {\n",
              "    // Tell IPython that the notebook contents must change.\n",
              "    IPython.notebook.set_dirty(true);\n",
              "    this.send_message(\"ack\", {});\n",
              "    var fig = this;\n",
              "    // Wait a second, then push the new image to the DOM so\n",
              "    // that it is saved nicely (might be nice to debounce this).\n",
              "    setTimeout(function () { fig.push_to_output() }, 1000);\n",
              "}\n",
              "\n",
              "mpl.figure.prototype._init_toolbar = function() {\n",
              "    var fig = this;\n",
              "\n",
              "    var nav_element = $('<div/>')\n",
              "    nav_element.attr('style', 'width: 100%');\n",
              "    this.root.append(nav_element);\n",
              "\n",
              "    // Define a callback function for later on.\n",
              "    function toolbar_event(event) {\n",
              "        return fig.toolbar_button_onclick(event['data']);\n",
              "    }\n",
              "    function toolbar_mouse_event(event) {\n",
              "        return fig.toolbar_button_onmouseover(event['data']);\n",
              "    }\n",
              "\n",
              "    for(var toolbar_ind in mpl.toolbar_items){\n",
              "        var name = mpl.toolbar_items[toolbar_ind][0];\n",
              "        var tooltip = mpl.toolbar_items[toolbar_ind][1];\n",
              "        var image = mpl.toolbar_items[toolbar_ind][2];\n",
              "        var method_name = mpl.toolbar_items[toolbar_ind][3];\n",
              "\n",
              "        if (!name) { continue; };\n",
              "\n",
              "        var button = $('<button class=\"btn btn-default\" href=\"#\" title=\"' + name + '\"><i class=\"fa ' + image + ' fa-lg\"></i></button>');\n",
              "        button.click(method_name, toolbar_event);\n",
              "        button.mouseover(tooltip, toolbar_mouse_event);\n",
              "        nav_element.append(button);\n",
              "    }\n",
              "\n",
              "    // Add the status bar.\n",
              "    var status_bar = $('<span class=\"mpl-message\" style=\"text-align:right; float: right;\"/>');\n",
              "    nav_element.append(status_bar);\n",
              "    this.message = status_bar[0];\n",
              "\n",
              "    // Add the close button to the window.\n",
              "    var buttongrp = $('<div class=\"btn-group inline pull-right\"></div>');\n",
              "    var button = $('<button class=\"btn btn-mini btn-primary\" href=\"#\" title=\"Stop Interaction\"><i class=\"fa fa-power-off icon-remove icon-large\"></i></button>');\n",
              "    button.click(function (evt) { fig.handle_close(fig, {}); } );\n",
              "    button.mouseover('Stop Interaction', toolbar_mouse_event);\n",
              "    buttongrp.append(button);\n",
              "    var titlebar = this.root.find($('.ui-dialog-titlebar'));\n",
              "    titlebar.prepend(buttongrp);\n",
              "}\n",
              "\n",
              "mpl.figure.prototype._root_extra_style = function(el){\n",
              "    var fig = this\n",
              "    el.on(\"remove\", function(){\n",
              "\tfig.close_ws(fig, {});\n",
              "    });\n",
              "}\n",
              "\n",
              "mpl.figure.prototype._canvas_extra_style = function(el){\n",
              "    // this is important to make the div 'focusable\n",
              "    el.attr('tabindex', 0)\n",
              "    // reach out to IPython and tell the keyboard manager to turn it's self\n",
              "    // off when our div gets focus\n",
              "\n",
              "    // location in version 3\n",
              "    if (IPython.notebook.keyboard_manager) {\n",
              "        IPython.notebook.keyboard_manager.register_events(el);\n",
              "    }\n",
              "    else {\n",
              "        // location in version 2\n",
              "        IPython.keyboard_manager.register_events(el);\n",
              "    }\n",
              "\n",
              "}\n",
              "\n",
              "mpl.figure.prototype._key_event_extra = function(event, name) {\n",
              "    var manager = IPython.notebook.keyboard_manager;\n",
              "    if (!manager)\n",
              "        manager = IPython.keyboard_manager;\n",
              "\n",
              "    // Check for shift+enter\n",
              "    if (event.shiftKey && event.which == 13) {\n",
              "        this.canvas_div.blur();\n",
              "        event.shiftKey = false;\n",
              "        // Send a \"J\" for go to next cell\n",
              "        event.which = 74;\n",
              "        event.keyCode = 74;\n",
              "        manager.command_mode();\n",
              "        manager.handle_keydown(event);\n",
              "    }\n",
              "}\n",
              "\n",
              "mpl.figure.prototype.handle_save = function(fig, msg) {\n",
              "    fig.ondownload(fig, null);\n",
              "}\n",
              "\n",
              "\n",
              "mpl.find_output_cell = function(html_output) {\n",
              "    // Return the cell and output element which can be found *uniquely* in the notebook.\n",
              "    // Note - this is a bit hacky, but it is done because the \"notebook_saving.Notebook\"\n",
              "    // IPython event is triggered only after the cells have been serialised, which for\n",
              "    // our purposes (turning an active figure into a static one), is too late.\n",
              "    var cells = IPython.notebook.get_cells();\n",
              "    var ncells = cells.length;\n",
              "    for (var i=0; i<ncells; i++) {\n",
              "        var cell = cells[i];\n",
              "        if (cell.cell_type === 'code'){\n",
              "            for (var j=0; j<cell.output_area.outputs.length; j++) {\n",
              "                var data = cell.output_area.outputs[j];\n",
              "                if (data.data) {\n",
              "                    // IPython >= 3 moved mimebundle to data attribute of output\n",
              "                    data = data.data;\n",
              "                }\n",
              "                if (data['text/html'] == html_output) {\n",
              "                    return [cell, data, j];\n",
              "                }\n",
              "            }\n",
              "        }\n",
              "    }\n",
              "}\n",
              "\n",
              "// Register the function which deals with the matplotlib target/channel.\n",
              "// The kernel may be null if the page has been refreshed.\n",
              "if (IPython.notebook.kernel != null) {\n",
              "    IPython.notebook.kernel.comm_manager.register_target('matplotlib', mpl.mpl_figure_comm);\n",
              "}\n"
            ],
            "text/plain": [
              "<IPython.core.display.Javascript object>"
            ]
          },
          "metadata": {
            "tags": []
          }
        },
        {
          "output_type": "display_data",
          "data": {
            "text/html": [
              "<img src=\"data:image/png;base64,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\" width=\"600\">"
            ],
            "text/plain": [
              "<IPython.core.display.HTML object>"
            ]
          },
          "metadata": {
            "tags": []
          }
        },
        {
          "output_type": "execute_result",
          "data": {
            "text/plain": [
              "<matplotlib.animation.FuncAnimation at 0x245d1c0abe0>"
            ]
          },
          "metadata": {
            "tags": []
          },
          "execution_count": 10
        }
      ]
    },
    {
      "cell_type": "code",
      "metadata": {
        "id": "scmjoItUST2U",
        "colab_type": "code",
        "colab": {}
      },
      "source": [
        ""
      ],
      "execution_count": null,
      "outputs": []
    }
  ]
}
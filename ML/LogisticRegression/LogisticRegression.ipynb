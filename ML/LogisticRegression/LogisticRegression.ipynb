{
 "cells": [
  {
   "cell_type": "markdown",
   "metadata": {
    "ExecuteTime": {
     "end_time": "2020-06-02T18:25:08.112321Z",
     "start_time": "2020-06-02T18:25:08.086320Z"
    }
   },
   "source": [
    "# Logistic Regression\n",
    "\n",
    "\n",
    "Logistic regression is a statistical model for probability of a binary (Bernoulli) event given the feature variables that explain the event. This can be extended to more classes by determining the probability of each class between 0 and q while the summation adds up to 1.\n",
    "\n",
    "Logistic regression is a classifier that uses a logistic (logit) function to map a probability between 0 and 1 to a value between $-\\infty$ and $\\infty$. \n",
    "\n",
    "In order to understand logistic regression, consider a model with two predictors/features and one binary response variable $Y$. We assume a linear relationship between the predictor variables and the log-odds (logit) of the event $Y=1$. \n",
    "\n",
    "$ l = log_e (\\frac{P}{1-P}) = \\beta_0 + \\beta_1 x_1 + \\beta_2 x_2$\n",
    "\n",
    "Note that $log_e (\\frac{P}{1-P})$ transforms the probability values between 0 and 1 to $-\\infty$ and $\\infty$.\n",
    "\n",
    "$P = \\frac{1}{1+e^{-(\\beta_0 + \\beta_1 x_1 + \\beta_2 x_2)}}$\n",
    "\n",
    "In general, for a linear cases:\n",
    "\n",
    "$P = \\frac{1}{1+e^{-(w x +b )}}$\n",
    "\n",
    "The interpretation of the logistic regression with a linear relationship for predictors ore linear classifier (i.e. $wx+b$) is that the hyper plane defined by $ wx+b = 0$ is the decision boundary for the binary event $Y$ as on that plane, the probability of $Y=1$ is 0.5. Given such interpretation, we could define the probability given the model of the hyper plane. In this context, we need a mapping function to convert the linear function $wx + b$ to probability of $Y = 1$ in a way that:\n",
    "\n",
    "    - The probability increases as the linear function grows and vice versa\n",
    "    - Is 50% when the linear function \n",
    "    \n",
    "The mapping function is the squashing function $\\frac{1}{1+exp-(z)}$. Thus, $P = \\frac{1}{1+e^{-(w x +b )}}$"
   ]
  },
  {
   "cell_type": "code",
   "execution_count": 2,
   "metadata": {
    "ExecuteTime": {
     "end_time": "2020-06-02T18:25:33.378315Z",
     "start_time": "2020-06-02T18:25:31.936328Z"
    }
   },
   "outputs": [],
   "source": [
    "from matplotlib import pyplot as plt\n",
    "import numpy as np"
   ]
  },
  {
   "cell_type": "code",
   "execution_count": 3,
   "metadata": {
    "ExecuteTime": {
     "end_time": "2020-06-02T18:25:38.879416Z",
     "start_time": "2020-06-02T18:25:38.673413Z"
    }
   },
   "outputs": [
    {
     "data": {
      "text/plain": [
       "[<matplotlib.lines.Line2D at 0x2344413b588>]"
      ]
     },
     "execution_count": 3,
     "metadata": {},
     "output_type": "execute_result"
    },
    {
     "data": {
      "image/png": "[encoded data removed]",
      "text/plain": [
       "<Figure size 432x288 with 1 Axes>"
      ]
     },
     "metadata": {
      "needs_background": "light"
     },
     "output_type": "display_data"
    }
   ],
   "source": [
    "x = np.linspace(-5,5,500)\n",
    "y = 1/(1+np.exp(-x))\n",
    "\n",
    "fig,ax = plt.subplots(1,1)\n",
    "ax.set_xlabel('X'); ax.set_ylabel('Probabaility')\n",
    "ax.plot(x,y)"
   ]
  },
  {
   "cell_type": "markdown",
   "metadata": {
    "ExecuteTime": {
     "end_time": "2020-06-02T18:25:45.924129Z",
     "start_time": "2020-06-02T18:25:45.906128Z"
    }
   },
   "source": [
    "For a binary case, probability of $Y \\ne 1$ is\n",
    "\n",
    "$1 - \\frac{1}{1+e^{-(w x +b )}} = \\frac{e^{-(w x +b )}}{1+e^{-(w x +b )}} = \\frac{1}{1+e^{(w x +b )}}$\n",
    "\n",
    "We can integrate $Y$ binary value (i.e. y) in the definition of probability by considering $ y \\in \\{1, -1\\}$. With $x \\in R^d$ and binary labels $y \\in \\{1, -1\\}$, we need to find parameters $w \\in R^d$ and $b \\in R$:\n",
    "\n",
    "$P(y|x) = \\frac{1}{1+e^{-y(w.x +b )}}$\n",
    "\n",
    "The learning process is based on maximum likelihood principle give the $n$ data observations $(x^{(1)}, y^{(1)}), ..., (x^{(n)}, y^{(n)})$ to pick $w \\in R^d$ and $b \\in R$ to maximize the likelihood \n",
    "\n",
    "$\\prod_{i = 1}^{n} P(y^{(i)}| x^{(i)})$ \n",
    "    \n",
    "In order to simplify this, log likelihood will be used to get the summation and a negative will be added to minimize the function to get the maximum likelihood. So, the loss function is given by\n",
    "\n",
    "$L(w, b) = - \\sum_{i=1}^{n} ln ( P(y^{(i)}| x^{(i)})) = \\sum_{i=1}^{n} ln( 1+e^{-y^i(w.x^i +b )} )$\n",
    "\n",
    "    Note that b can be integrated into w vector by adding a vector of ones to the feature. Similar to multiple linear regression solution.\n",
    "\n",
    "Since there is no closed form solution, gradient descent or one of its derivatives can be used to minimize the loss function and find the weights and bias/intercept value. The solution is convex so there is no concern about local optimal points.\n",
    "\n",
    "- Initial guess for w i.e. $w_0$\n",
    "- Iterations of moving with a step size ($\\eta$) in reverse of the gradient vector to minimize the loss function.\n",
    "\n",
    "    $w_{t+1} = w_t + \\eta_t \\sum_{i=1}^{n} y^{(i)} x^{(i)} P(y^{(i)}|x^{(i)})$ "
   ]
  }
 ],
 "metadata": {
  "kernelspec": {
   "display_name": "Python 3",
   "language": "python",
   "name": "python3"
  },
  "toc": {
   "base_numbering": 1,
   "nav_menu": {},
   "number_sections": true,
   "sideBar": true,
   "skip_h1_title": false,
   "title_cell": "Table of Contents",
   "title_sidebar": "Contents",
   "toc_cell": false,
   "toc_position": {},
   "toc_section_display": true,
   "toc_window_display": false
  }
 },
 "nbformat": 4,
 "nbformat_minor": 4
}

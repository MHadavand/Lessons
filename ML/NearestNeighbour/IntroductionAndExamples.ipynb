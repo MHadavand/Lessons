{
  "nbformat": 4,
  "nbformat_minor": 0,
  "metadata": {
    "kernelspec": {
      "display_name": "Python 3",
      "language": "python",
      "name": "python3"
    },
    "language_info": {
      "codemirror_mode": {
        "name": "ipython",
        "version": 3
      },
      "file_extension": ".py",
      "mimetype": "text/x-python",
      "name": "python",
      "nbconvert_exporter": "python",
      "pygments_lexer": "ipython3",
      "version": "3.6.8"
    },
    "toc": {
      "base_numbering": 1,
      "nav_menu": {},
      "number_sections": true,
      "sideBar": true,
      "skip_h1_title": false,
      "title_cell": "Table of Contents",
      "title_sidebar": "Contents",
      "toc_cell": false,
      "toc_position": {},
      "toc_section_display": true,
      "toc_window_display": false
    },
    "colab": {
      "name": "IntroductionAndExamples.ipynb",
      "provenance": [],
      "include_colab_link": true
    }
  },
  "cells": [
    {
      "cell_type": "markdown",
      "metadata": {
        "id": "view-in-github",
        "colab_type": "text"
      },
      "source": [
        "<a href=\"https://colab.research.google.com/github/MHadavand/Lessons/blob/master/ML/NearestNeighbour/IntroductionAndExamples.ipynb\" target=\"_parent\"><img src=\"https://colab.research.google.com/assets/colab-badge.svg\" alt=\"Open In Colab\"/></a>"
      ]
    },
    {
      "cell_type": "markdown",
      "metadata": {
        "id": "4Re7d6T68cd0",
        "colab_type": "text"
      },
      "source": [
        "# Introduction (Nearest Neighbor )\n",
        "\n",
        "<font color=\"green\">*Nearest neighbor*</font> is one of the oldest machine learning techniques that is often used for classification. The base idea is to find the closets data record(s) to a target data record based on a measure of distance. Euclidean distance is one the alternatives to define the distance which is one of the Minkowski distance ($L_p$ norms) options where p = 2.\n",
        "\n",
        "\n",
        "$X = (x_1, x_2, x_3, ..., x_n) \\;\\;and\\;\\;  Y = (y_1, y_2, y_3, ..., y_n)$\n",
        "\n",
        "$D(X,Y) = (\\sum | x_i - y_i |^{p})^{\\frac{1}{p}}$ \n",
        "\n",
        "\n",
        "Nearest neighbor can also be used to identify collocated data in a cartezian framework. The idea is very simple and there are different algorithm to make the calculation fast based (e.g. Ball Tree K-d Tree)."
      ]
    },
    {
      "cell_type": "code",
      "metadata": {
        "ExecuteTime": {
          "end_time": "2020-03-17T13:31:04.725290Z",
          "start_time": "2020-03-17T13:31:02.557291Z"
        },
        "id": "F5HIuuAA8cd1",
        "colab_type": "code",
        "colab": {}
      },
      "source": [
        "import numpy as np\n",
        "import matplotlib.pyplot as plt \n",
        "import time\n",
        "from ipywidgets import widgets, interactive"
      ],
      "execution_count": null,
      "outputs": []
    },
    {
      "cell_type": "markdown",
      "metadata": {
        "id": "YdZJ2MEl8cd5",
        "colab_type": "text"
      },
      "source": [
        "# Helper functions/classes"
      ]
    },
    {
      "cell_type": "code",
      "metadata": {
        "ExecuteTime": {
          "end_time": "2020-03-17T13:54:59.064880Z",
          "start_time": "2020-03-17T13:54:59.052878Z"
        },
        "id": "RQpQxeU-8cd5",
        "colab_type": "code",
        "colab": {}
      },
      "source": [
        "def image_plot(image, digit, cmap='bone_r', figsize=(5,5), ax=None):\n",
        "    '''\n",
        "    A function to plot images of hand written digits\n",
        "    '''\n",
        "    \n",
        "    from matplotlib import pyplot as plt\n",
        "    \n",
        "    if ax is None:\n",
        "        fig, ax = plt.subplots(1,1,figsize=figsize)\n",
        "    ax.text(0.1,0.92,'Label : {}'.format(digit), fontsize=10, color ='b', transform=ax.transAxes)\n",
        "    _ = ax.imshow(image, cmap='bone_r')\n",
        "    ax.set_axis_off()\n",
        "\n",
        "def image_plot_check(image, predicted_digit, true_digit, cmap='bone_r', figsize=(6,6), ax=None):\n",
        "    '''\n",
        "    A function to plot images of hand written digits\n",
        "    '''\n",
        "    \n",
        "    from matplotlib import pyplot as plt\n",
        "    \n",
        "    if ax is None:\n",
        "        fig, ax = plt.subplots(1,1,figsize=figsize)\n",
        "    \n",
        "    color = 'g' if predicted_digit==true_digit else 'r'\n",
        "    \n",
        "    ax.text(0.1,0.92,'Predicted_Label : {}'.format(predicted_digit), fontsize=10, color =color, transform=ax.transAxes)\n",
        "    _ = ax.imshow(image, cmap='bone_r')\n",
        "    \n",
        "    if predicted_digit!=true_digit:\n",
        "        ax.text(0.7,0.92,'Correct_Label : {}'.format(true_digit), fontsize=10, color ='g', transform=ax.transAxes)\n",
        "    ax.set_axis_off()\n",
        "\n",
        "def get_squared_dist(x,y):\n",
        "    '''\n",
        "    computes squared Euclidean distance between two arrays\n",
        "    '''\n",
        "    return np.sum(np.square(x-y))"
      ],
      "execution_count": null,
      "outputs": []
    },
    {
      "cell_type": "markdown",
      "metadata": {
        "id": "xRQFzu1m8cd-",
        "colab_type": "text"
      },
      "source": [
        "# MNIST Example\n",
        "\n",
        "In this example, nearest neighbor is used to create a classifier that takes images of hand written digits and outputs a label between 0 and 9. MNIST data set is used for this example.\n",
        "\n",
        "MNIST is a classic dataset in machine learning (the hello world example), consisting of 28x28 gray-scale images handwritten digits. The original training set contains 60,000 examples and the test set contains 10,000 examples. In this notebook we will be working with a subset of this data: a training set of 7,500 examples and a test set of 1,000 examples."
      ]
    },
    {
      "cell_type": "code",
      "metadata": {
        "ExecuteTime": {
          "end_time": "2020-03-17T13:55:00.353166Z",
          "start_time": "2020-03-17T13:55:00.300114Z"
        },
        "id": "Gg73OI-P8cd-",
        "colab_type": "code",
        "colab": {}
      },
      "source": [
        "## Load the training set\n",
        "train_data = np.load('../Data/MNIST/train_data.npy')\n",
        "train_labels = np.load('../Data/MNIST/train_labels.npy')\n",
        "\n",
        "## Load the testing set\n",
        "test_data = np.load('../Data/MNIST/test_data.npy')\n",
        "test_labels = np.load('../Data/MNIST/test_labels.npy')"
      ],
      "execution_count": null,
      "outputs": []
    },
    {
      "cell_type": "code",
      "metadata": {
        "ExecuteTime": {
          "end_time": "2020-03-17T13:55:00.532092Z",
          "start_time": "2020-03-17T13:55:00.526091Z"
        },
        "id": "wHZclTzm8ceE",
        "colab_type": "code",
        "colab": {},
        "outputId": "18e43c33-4432-4bc1-b8c9-fa7a7261d51f"
      },
      "source": [
        "print(\"Number of training images: \", np.shape(train_data)[0])\n",
        "print(\"Number of testing images: \", np.shape(test_data)[0])"
      ],
      "execution_count": null,
      "outputs": [
        {
          "output_type": "stream",
          "text": [
            "Number of training images:  7500\n",
            "Number of testing images:  1000\n"
          ],
          "name": "stdout"
        }
      ]
    },
    {
      "cell_type": "markdown",
      "metadata": {
        "id": "H9gYh62U8ceK",
        "colab_type": "text"
      },
      "source": [
        "## Visualizing the data set\n",
        "\n",
        "Checking some training images"
      ]
    },
    {
      "cell_type": "code",
      "metadata": {
        "ExecuteTime": {
          "end_time": "2020-03-17T13:55:01.253145Z",
          "start_time": "2020-03-17T13:55:00.950108Z"
        },
        "id": "gT4D-l-g8ceM",
        "colab_type": "code",
        "colab": {},
        "outputId": "84d74745-fb3d-4854-b200-541f3b6bf29f"
      },
      "source": [
        "fig, axes = plt.subplots(2,2, figsize=(10,10))\n",
        "axes = axes.flatten()\n",
        "idx = np.random.randint(0, len(train_labels), 4)\n",
        "for i, ax in zip(idx,axes):\n",
        "    # Note that the data has the flat image array that needs to be reshabed before being plotted\n",
        "    image_plot(train_data[i].reshape(28,-1), train_labels[i], ax=ax)"
      ],
      "execution_count": null,
      "outputs": [
        {
          "output_type": "display_data",
          "data": {
            "image/png": "[encoded data removed]",
            "text/plain": [
              "<Figure size 720x720 with 4 Axes>"
            ]
          },
          "metadata": {
            "tags": [],
            "needs_background": "light"
          }
        }
      ]
    },
    {
      "cell_type": "markdown",
      "metadata": {
        "id": "Ykyg2xhE8ceR",
        "colab_type": "text"
      },
      "source": [
        "## Choose distance function"
      ]
    },
    {
      "cell_type": "markdown",
      "metadata": {
        "id": "Tg-8rr0P8ceS",
        "colab_type": "text"
      },
      "source": [
        "One option is *Euclidean distance*: for two vectors $x, y \\in \\mathbb{R}^d$:\n",
        "\n",
        "$$\\|x - y\\| = \\sqrt{\\sum_{i=1}^d (x_i - y_i)^2}.$$\n",
        "\n",
        "The square root can be omitted as the distance is used as measure of relative distance, and simply compute _squared Euclidean distance_:\n",
        "\n",
        "$$\\|x - y\\|^2 = \\sum_{i=1}^d (x_i - y_i)^2.$$\n",
        "\n",
        "For the purposes of nearest neighbor computations, the two are equivalent: for three vectors $x, y, z \\in \\mathbb{R}^d$, we have \n",
        "\n",
        "$\\|x - y\\| \\leq \\|x - z\\|$ if and only if $\\|x - y\\|^2 \\leq \\|x - z\\|^2$."
      ]
    },
    {
      "cell_type": "markdown",
      "metadata": {
        "id": "VaAlhQyn8ceU",
        "colab_type": "text"
      },
      "source": [
        "## Nearest neighbor based on squared Euclidean distance"
      ]
    },
    {
      "cell_type": "code",
      "metadata": {
        "ExecuteTime": {
          "end_time": "2020-03-17T13:55:02.232484Z",
          "start_time": "2020-03-17T13:55:02.228473Z"
        },
        "id": "vRw9ucPP8ceV",
        "colab_type": "code",
        "colab": {}
      },
      "source": [
        "def get_nn(input_image, reference_images, reference_labels):\n",
        "    \n",
        "    '''\n",
        "    A naive algorithm to find the nearest neighbor without any sorting\n",
        "    '''\n",
        "    \n",
        "    distances = [get_squared_dist(input_image, ref_image) for ref_image in reference_images]\n",
        "    \n",
        "    return reference_labels[np.argmin(distances)], np.argmin(distances)"
      ],
      "execution_count": null,
      "outputs": []
    },
    {
      "cell_type": "code",
      "metadata": {
        "ExecuteTime": {
          "end_time": "2020-03-17T13:55:02.461704Z",
          "start_time": "2020-03-17T13:55:02.445706Z"
        },
        "id": "4OtIc6td8ced",
        "colab_type": "code",
        "colab": {}
      },
      "source": [
        "test_image_index = widgets.BoundedIntText(\n",
        "    value=1,\n",
        "    min=1,\n",
        "    max=len(test_labels)+1,\n",
        "    step=1,\n",
        "    description='Test Image Index:',\n",
        "    disabled=False,\n",
        "    color='black'\n",
        ")\n",
        "\n",
        "def check_test_image(test_image_index):\n",
        "    \"\"\"\n",
        "    A widget to check test images\n",
        "    \"\"\"\n",
        "    test_image_index = int(test_image_index) - 1\n",
        "    \n",
        "    predicted_digit, predicted_index = get_nn(test_data[test_image_index], train_data, train_labels)\n",
        "    \n",
        "    fig, axes = plt.subplots(1,2, figsize=(12,6))\n",
        "    \n",
        "    image_plot_check(test_data[test_image_index].reshape(28,-1), \n",
        "                     predicted_digit, true_digit = test_labels[test_image_index],\n",
        "                     ax=axes[0])\n",
        "    axes[0].set_title('Predcition')\n",
        "    image_plot(train_data[predicted_index].reshape(28,-1), train_labels[predicted_index], ax=axes[1])\n",
        "    axes[1].set_title('Nearest Neighbor Training Image')"
      ],
      "execution_count": null,
      "outputs": []
    },
    {
      "cell_type": "code",
      "metadata": {
        "ExecuteTime": {
          "end_time": "2020-03-17T13:55:03.220962Z",
          "start_time": "2020-03-17T13:55:02.950938Z"
        },
        "id": "48mpgCYs8cei",
        "colab_type": "code",
        "colab": {
          "referenced_widgets": [
            "74428a280b434c6887f5971725aa5bf2"
          ]
        },
        "outputId": "5940f492-5c7c-439b-b46d-39651759febe"
      },
      "source": [
        "interactive(check_test_image, test_image_index=test_image_index)"
      ],
      "execution_count": null,
      "outputs": [
        {
          "output_type": "display_data",
          "data": {
            "application/vnd.jupyter.widget-view+json": {
              "model_id": "74428a280b434c6887f5971725aa5bf2",
              "version_major": 2,
              "version_minor": 0
            },
            "text/plain": [
              "interactive(children=(BoundedIntText(value=1, description='Test Image Index:', max=1001, min=1), Output()), _d…"
            ]
          },
          "metadata": {
            "tags": []
          }
        }
      ]
    },
    {
      "cell_type": "markdown",
      "metadata": {
        "id": "XVZ_xO3w8cem",
        "colab_type": "text"
      },
      "source": [
        "## Process all test images\n",
        "\n",
        "Evaluate the performance of the naive nearest neighbor search and also calculate the test accuracy."
      ]
    },
    {
      "cell_type": "code",
      "metadata": {
        "ExecuteTime": {
          "end_time": "2020-03-17T13:32:29.991732Z",
          "start_time": "2020-03-17T13:31:06.405291Z"
        },
        "id": "EiTDGxqN8ceo",
        "colab_type": "code",
        "colab": {},
        "outputId": "c5e00124-1781-4f58-b3a1-4455c8612012"
      },
      "source": [
        "## Predict for each test image \n",
        "t_before = time.time()\n",
        "test_predictions = [get_nn(test_data[i],train_data, train_labels)[0] for i in range(len(test_labels))]\n",
        "t_after = time.time()\n",
        "\n",
        "## Compute the accuracy\n",
        "accuracy = np.equal(test_predictions, test_labels)\n",
        "accuracy = float(np.sum(accuracy))/len(test_labels)\n",
        "\n",
        "print(\"Accuracy of nearest neighbor classifier: %{:.2f}\".format(accuracy*100))\n",
        "print(\"Classification time (seconds): \", t_after - t_before)"
      ],
      "execution_count": null,
      "outputs": [
        {
          "output_type": "stream",
          "text": [
            "Accuracy of nearest neighbor classifier: %95.40\n",
            "Classification time (seconds):  83.57841777801514\n"
          ],
          "name": "stdout"
        }
      ]
    },
    {
      "cell_type": "markdown",
      "metadata": {
        "id": "Wq6itsbr8cer",
        "colab_type": "text"
      },
      "source": [
        "# Improving the nearest neighbor performance\n",
        "\n",
        "With the naive implementation of nearest neighbor, we need a full pass through the entire training set in order to classify one image. \n",
        "\n",
        "There are faster algorithm to perform nearest neighbor search that is based on preprocessing the training/reference data set. `scikit-learn` has two useful nearest neighbor search algorithms: the _ball tree_ and the _k-d tree_. "
      ]
    },
    {
      "cell_type": "markdown",
      "metadata": {
        "id": "2snNLCHr8ces",
        "colab_type": "text"
      },
      "source": [
        "## Ball Tree"
      ]
    },
    {
      "cell_type": "code",
      "metadata": {
        "ExecuteTime": {
          "end_time": "2020-03-17T13:46:50.197679Z",
          "start_time": "2020-03-17T13:46:45.542107Z"
        },
        "id": "aaOoC5Xg8ces",
        "colab_type": "code",
        "colab": {},
        "outputId": "ba1325b3-09e3-4aab-f180-5db9b4aa863d"
      },
      "source": [
        "from sklearn.neighbors import BallTree\n",
        "\n",
        "# Build the hyper space partitioning structure (Hyper Spheres). \n",
        "t_before = time.time()\n",
        "ball_tree = BallTree(train_data)\n",
        "t_after = time.time()\n",
        "\n",
        "print(\"Time to build the hyper space partitioning structure(seconds): \", t_after - t_before)"
      ],
      "execution_count": null,
      "outputs": [
        {
          "output_type": "stream",
          "text": [
            "Time to build the hyper space partitioning structure(seconds):  1.245999813079834\n"
          ],
          "name": "stdout"
        }
      ]
    },
    {
      "cell_type": "code",
      "metadata": {
        "ExecuteTime": {
          "end_time": "2020-03-17T13:48:31.289904Z",
          "start_time": "2020-03-17T13:48:22.373909Z"
        },
        "id": "swzCupdc8cew",
        "colab_type": "code",
        "colab": {},
        "outputId": "efc45f3b-55f6-4df0-c5e2-5d39edb38334"
      },
      "source": [
        "## Get nearest neighbor predictions on testing data\n",
        "t_before = time.time()\n",
        "test_neighbors = np.squeeze(ball_tree.query(test_data, k=1, return_distance=False))\n",
        "ball_tree_predictions = train_labels[test_neighbors]\n",
        "t_after = time.time()\n",
        "\n",
        "## Compute the accuracy\n",
        "accuracy = np.equal(ball_tree_predictions, test_labels)\n",
        "accuracy = float(np.sum(accuracy))/len(test_labels)\n",
        "\n",
        "print(\"Accuracy of nearest neighbor classifier: %{:.2f}\".format(accuracy*100))\n",
        "print(\"Classification time (seconds): \", t_after - t_before)"
      ],
      "execution_count": null,
      "outputs": [
        {
          "output_type": "stream",
          "text": [
            "Accuracy of nearest neighbor classifier: %95.40\n",
            "Classification time (seconds):  8.90799617767334\n"
          ],
          "name": "stdout"
        }
      ]
    },
    {
      "cell_type": "markdown",
      "metadata": {
        "id": "aJg1ud7V8ce1",
        "colab_type": "text"
      },
      "source": [
        "AS can be seen above, the ball-tree search provides the same accuracy and is significantly faster than the naive nearest neighbor"
      ]
    },
    {
      "cell_type": "markdown",
      "metadata": {
        "id": "avMDhKdO8ce1",
        "colab_type": "text"
      },
      "source": [
        "## KDTree (k-dimensional tree)"
      ]
    },
    {
      "cell_type": "code",
      "metadata": {
        "ExecuteTime": {
          "end_time": "2020-03-17T13:53:18.216411Z",
          "start_time": "2020-03-17T13:53:18.213409Z"
        },
        "id": "J0rRXJiz8ce2",
        "colab_type": "code",
        "colab": {}
      },
      "source": [
        "from sklearn.neighbors import KDTree"
      ],
      "execution_count": null,
      "outputs": []
    },
    {
      "cell_type": "code",
      "metadata": {
        "ExecuteTime": {
          "end_time": "2020-03-17T16:25:05.508892Z",
          "start_time": "2020-03-17T16:25:03.491874Z"
        },
        "id": "Hr0JN-3D8ce5",
        "colab_type": "code",
        "colab": {},
        "outputId": "bfca19ad-6b74-4ea1-ec46-0703b15c98f1"
      },
      "source": [
        "# Build the hyper space partitioning structure. \n",
        "t_before = time.time()\n",
        "kd_tree = KDTree(train_data, leaf_size=40, metric='minkowski', p=2)\n",
        "t_after = time.time()\n",
        "\n",
        "print(\"Time to build the hyper space partitioning structure(seconds): \", t_after - t_before)"
      ],
      "execution_count": null,
      "outputs": [
        {
          "output_type": "stream",
          "text": [
            "Time to build the hyper space partitioning structure(seconds):  2.0069549083709717\n"
          ],
          "name": "stdout"
        }
      ]
    },
    {
      "cell_type": "code",
      "metadata": {
        "ExecuteTime": {
          "end_time": "2020-03-17T16:25:17.639890Z",
          "start_time": "2020-03-17T16:25:05.513874Z"
        },
        "id": "w_qKSc7X8ce-",
        "colab_type": "code",
        "colab": {},
        "outputId": "9e24c17f-2d2c-40de-d678-bd442516c775"
      },
      "source": [
        "## Get nearest neighbor predictions on testing data\n",
        "t_before = time.time()\n",
        "test_neighbors = np.squeeze(kd_tree.query(test_data, k=1, return_distance=False))\n",
        "ball_tree_predictions = train_labels[test_neighbors]\n",
        "t_after = time.time()\n",
        "\n",
        "## Compute the accuracy\n",
        "accuracy = np.equal(ball_tree_predictions, test_labels)\n",
        "accuracy = float(np.sum(accuracy))/len(test_labels)\n",
        "\n",
        "print(\"Accuracy of nearest neighbor classifier: %{:.2f}\".format(accuracy*100))\n",
        "print(\"Classification time (seconds): \", t_after - t_before)"
      ],
      "execution_count": null,
      "outputs": [
        {
          "output_type": "stream",
          "text": [
            "Accuracy of nearest neighbor classifier: %95.40\n",
            "Classification time (seconds):  12.114993333816528\n"
          ],
          "name": "stdout"
        }
      ]
    },
    {
      "cell_type": "markdown",
      "metadata": {
        "id": "YjzA-cPh8cfA",
        "colab_type": "text"
      },
      "source": [
        "# Improving the nearest neighbor\n",
        "\n",
        "One option is the use multiple nearest neighbors (i.e. KNN) and use the majority rule decision. K-Fold cross-validation analysis can be used to select the optimal number for K.\n",
        "\n",
        "The better approach is to use the proper distance function. For example, for image classification like the MNIST example, Minkowski distances are proper choice as they are sensitive to moving/rotating the target object (e.g. hand written number) in the image. \n",
        "\n",
        "**Tangent distance** is not sensitive to small translations and rotations.\n",
        "\n",
        "**Shape context**, can be used to handle a broader family of natural deformations.\n",
        "\n",
        "Another distance function that is a metric is an edit distance that is the number of insertions, deletions and substitutions to get from instance X to instance y. This kind of distance function is particularly suitable for string arrays."
      ]
    }
  ]
}
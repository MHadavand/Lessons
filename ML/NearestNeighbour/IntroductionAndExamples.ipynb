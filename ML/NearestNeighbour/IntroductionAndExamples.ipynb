{
 "cells": [
  {
   "cell_type": "markdown",
   "metadata": {},
   "source": [
    "# Introduction (Nearest Neighbor )\n",
    "\n",
    "\n",
    "Nearest neighbor is one of the oldest machine learning techniques that is often used for classification. The base idea is to find the closets data record(s) to a target data record based on a measure of distance. Euclidean distance is one the alternatives to define the distance which is one of the Minkowski distance ($L_p$ norms) options where p = 2.\n",
    "\n",
    "\n",
    "$X = (x_1, x_2, x_3, ..., x_n) \\;\\;and\\;\\;  Y = (y_1, y_2, y_3, ..., y_n)$\n",
    "\n",
    "$D(X,Y) = (\\sum | x_i - y_i |^{p})^{\\frac{1}{p}}$ \n",
    "\n",
    "\n",
    "Nearest neighbor can also be used to identify collocated data in a cartezian framework. The idea is very simple and there are different algorithm to make the calculation fast based (e.g. Ball Tree K-d Tree)."
   ]
  },
  {
   "cell_type": "code",
   "execution_count": 62,
   "metadata": {
    "ExecuteTime": {
     "end_time": "2020-03-15T04:37:18.976746Z",
     "start_time": "2020-03-15T04:37:18.972863Z"
    }
   },
   "outputs": [],
   "source": [
    "import numpy as np\n",
    "import matplotlib.pyplot as plt \n",
    "import time\n",
    "from ipywidgets import widgets, interactive"
   ]
  },
  {
   "cell_type": "markdown",
   "metadata": {},
   "source": [
    "# Helper functions/classes"
   ]
  },
  {
   "cell_type": "code",
   "execution_count": 63,
   "metadata": {
    "ExecuteTime": {
     "end_time": "2020-03-15T04:37:19.581773Z",
     "start_time": "2020-03-15T04:37:19.570734Z"
    }
   },
   "outputs": [],
   "source": [
    "def image_plot(image, digit, cmap='bone_r', figsize=(5,5), ax=None):\n",
    "    '''\n",
    "    A function to plot images of hand written digits\n",
    "    '''\n",
    "    \n",
    "    from matplotlib import pyplot as plt\n",
    "    \n",
    "    if ax is None:\n",
    "        fig, ax = plt.subplots(1,1,figsize=figsize)\n",
    "    ax.text(0.1,0.92,'Label : {}'.format(digit), fontsize=10, color ='b', transform=ax.transAxes)\n",
    "    _ = ax.imshow(image, cmap='bone_r')\n",
    "    ax.set_axis_off()\n",
    "\n",
    "def image_plot_check(image, predicted_digit, true_digit, cmap='bone_r', figsize=(6,6)):\n",
    "    '''\n",
    "    A function to plot images of hand written digits\n",
    "    '''\n",
    "    \n",
    "    from matplotlib import pyplot as plt\n",
    "    \n",
    "    fig, ax = plt.subplots(1,1,figsize=figsize)\n",
    "    \n",
    "    color = 'g' if predicted_digit==true_digit else 'r'\n",
    "    \n",
    "    ax.text(0.1,0.92,'Predicted_Label : {}'.format(predicted_digit), fontsize=10, color =color, transform=ax.transAxes)\n",
    "    _ = ax.imshow(image, cmap='bone_r')\n",
    "    \n",
    "    if predicted_digit!=true_digit:\n",
    "        ax.text(0.7,0.92,'Correct_Label : {}'.format(true_digit), fontsize=10, color ='b', transform=ax.transAxes)\n",
    "    ax.set_axis_off()\n",
    "\n",
    "def get_squared_dist(x,y):\n",
    "    '''\n",
    "    computes squared Euclidean distance between two arrays\n",
    "    '''\n",
    "    return np.sum(np.square(x-y))"
   ]
  },
  {
   "cell_type": "markdown",
   "metadata": {},
   "source": [
    "# MNIST Example\n",
    "\n",
    "In this example, nearest neighbor is used to create a classifier that takes images of hand written digits and outputs a label between 0 and 9. MNIST data set is used for this example.\n",
    "\n",
    "MNIST is a classic dataset in machine learning (the hello world example), consisting of 28x28 gray-scale images handwritten digits. The original training set contains 60,000 examples and the test set contains 10,000 examples. In this notebook we will be working with a subset of this data: a training set of 7,500 examples and a test set of 1,000 examples."
   ]
  },
  {
   "cell_type": "code",
   "execution_count": 64,
   "metadata": {
    "ExecuteTime": {
     "end_time": "2020-03-15T04:37:20.237057Z",
     "start_time": "2020-03-15T04:37:20.208831Z"
    }
   },
   "outputs": [],
   "source": [
    "## Load the training set\n",
    "train_data = np.load('../Data/MNIST/train_data.npy')\n",
    "train_labels = np.load('../Data/MNIST/train_labels.npy')\n",
    "\n",
    "## Load the testing set\n",
    "test_data = np.load('../Data/MNIST/test_data.npy')\n",
    "test_labels = np.load('../Data/MNIST/test_labels.npy')"
   ]
  },
  {
   "cell_type": "code",
   "execution_count": 65,
   "metadata": {
    "ExecuteTime": {
     "end_time": "2020-03-15T04:37:20.618469Z",
     "start_time": "2020-03-15T04:37:20.614510Z"
    }
   },
   "outputs": [
    {
     "name": "stdout",
     "output_type": "stream",
     "text": [
      "Number of training images:  7500\n",
      "Number of testing images:  1000\n"
     ]
    }
   ],
   "source": [
    "print(\"Number of training images: \", np.shape(train_data)[0])\n",
    "print(\"Number of testing images: \", np.shape(test_data)[0])"
   ]
  },
  {
   "cell_type": "markdown",
   "metadata": {},
   "source": [
    "## Visualizing the data set\n",
    "\n",
    "Checking some training images"
   ]
  },
  {
   "cell_type": "code",
   "execution_count": 66,
   "metadata": {
    "ExecuteTime": {
     "end_time": "2020-03-15T04:37:22.123013Z",
     "start_time": "2020-03-15T04:37:21.564805Z"
    }
   },
   "outputs": [
    {
     "data": {
      "image/png": "[encoded data removed]",
      "text/plain": [
       "<Figure size 720x720 with 4 Axes>"
      ]
     },
     "metadata": {
      "needs_background": "light"
     },
     "output_type": "display_data"
    }
   ],
   "source": [
    "fig, axes = plt.subplots(2,2, figsize=(10,10))\n",
    "axes = axes.flatten()\n",
    "idx = np.random.randint(0, len(train_labels), 4)\n",
    "for i, ax in zip(idx,axes):\n",
    "    # Note that the data has the flat image array that needs to be reshabed before being plotted\n",
    "    image_plot(train_data[i].reshape(28,-1), train_labels[i], ax=ax)"
   ]
  },
  {
   "cell_type": "markdown",
   "metadata": {},
   "source": [
    "## Choose distance function"
   ]
  },
  {
   "cell_type": "markdown",
   "metadata": {},
   "source": [
    "One option is *Euclidean distance*: for two vectors $x, y \\in \\mathbb{R}^d$:\n",
    "\n",
    "$$\\|x - y\\| = \\sqrt{\\sum_{i=1}^d (x_i - y_i)^2}.$$\n",
    "\n",
    "The square root can be omitted as the distance is used as measure of relative distance, and simply compute _squared Euclidean distance_:\n",
    "\n",
    "$$\\|x - y\\|^2 = \\sum_{i=1}^d (x_i - y_i)^2.$$\n",
    "\n",
    "For the purposes of nearest neighbor computations, the two are equivalent: for three vectors $x, y, z \\in \\mathbb{R}^d$, we have \n",
    "\n",
    "$\\|x - y\\| \\leq \\|x - z\\|$ if and only if $\\|x - y\\|^2 \\leq \\|x - z\\|^2$."
   ]
  },
  {
   "cell_type": "markdown",
   "metadata": {},
   "source": [
    "## Nearest neighbor based on squared Euclidean distance"
   ]
  },
  {
   "cell_type": "code",
   "execution_count": 67,
   "metadata": {
    "ExecuteTime": {
     "end_time": "2020-03-15T04:37:23.419434Z",
     "start_time": "2020-03-15T04:37:23.415036Z"
    }
   },
   "outputs": [],
   "source": [
    "def get_nn(input_image, reference_images, reference_labels):\n",
    "    \n",
    "    '''\n",
    "    A naive algorithm to find the nearest neighbor without any sorting\n",
    "    '''\n",
    "    \n",
    "    distances = [get_squared_dist(input_image, ref_image) for ref_image in reference_images]\n",
    "    \n",
    "    return reference_labels[np.argmin(distances)]"
   ]
  },
  {
   "cell_type": "code",
   "execution_count": 68,
   "metadata": {
    "ExecuteTime": {
     "end_time": "2020-03-15T04:37:23.983507Z",
     "start_time": "2020-03-15T04:37:23.970545Z"
    }
   },
   "outputs": [],
   "source": [
    "test_image_index = widgets.BoundedIntText(\n",
    "    value=1,\n",
    "    min=1,\n",
    "    max=len(test_labels)+1,\n",
    "    step=1,\n",
    "    description='Test Image Index:',\n",
    "    disabled=False,\n",
    "    color='black'\n",
    ")\n",
    "\n",
    "def check_test_image(test_image_index):\n",
    "    \"\"\"\n",
    "    A widget to check test images\n",
    "    \"\"\"\n",
    "    test_image_index = int(test_image_index) - 1\n",
    "    predicted_digit = get_nn(test_data[test_image_index], train_data, train_labels)\n",
    "    image_plot_check(test_data[test_image_index].reshape(28,-1), predicted_digit, true_digit = test_labels[test_image_index])"
   ]
  },
  {
   "cell_type": "code",
   "execution_count": 69,
   "metadata": {
    "ExecuteTime": {
     "end_time": "2020-03-15T04:37:25.040038Z",
     "start_time": "2020-03-15T04:37:24.672402Z"
    }
   },
   "outputs": [
    {
     "data": {
      "application/vnd.jupyter.widget-view+json": {
       "model_id": "f81c09244a3b439bb21b23754d8aa83b",
       "version_major": 2,
       "version_minor": 0
      },
      "text/plain": [
       "interactive(children=(BoundedIntText(value=1, description='Test Image Index:', max=1001, min=1), Output()), _d…"
      ]
     },
     "metadata": {},
     "output_type": "display_data"
    }
   ],
   "source": [
    "interactive(check_test_image, test_image_index=test_image_index)"
   ]
  },
  {
   "cell_type": "markdown",
   "metadata": {},
   "source": [
    "# Improving the nearest neighbor\n",
    "\n",
    "One option is the use multiple nearest neighbors (i.e. KNN) and use the majority rule decision. K-Fold cross-validation analysis can be used to select the optimal number for K.\n",
    "\n",
    "The better approach is to use the proper distance function. For example, for image classification like the MNIST example, Minkowski distances are proper choice as they are sensitive to moving/rotating the target object (e.g. hand written number) in the image. \n",
    "\n",
    "**Tangent distance** is not sensitive to small translations and rotations.\n",
    "\n",
    "**Shape context**, can be used to handle a broader family of natural deformations.\n",
    "\n",
    "Another distance function that is a metric is an edit distance that is the number of insertions, deletions and substitutions to get from instance X to instance y. This kind of distance function is particularly suitable for string arrays."
   ]
  },
  {
   "cell_type": "code",
   "execution_count": null,
   "metadata": {},
   "outputs": [],
   "source": []
  }
 ],
 "metadata": {
  "kernelspec": {
   "display_name": "Python 3",
   "language": "python",
   "name": "python3"
  },
  "language_info": {
   "codemirror_mode": {
    "name": "ipython",
    "version": 3
   },
   "file_extension": ".py",
   "mimetype": "text/x-python",
   "name": "python",
   "nbconvert_exporter": "python",
   "pygments_lexer": "ipython3",
   "version": "3.6.8"
  },
  "toc": {
   "base_numbering": 1,
   "nav_menu": {},
   "number_sections": true,
   "sideBar": true,
   "skip_h1_title": false,
   "title_cell": "Table of Contents",
   "title_sidebar": "Contents",
   "toc_cell": false,
   "toc_position": {},
   "toc_section_display": true,
   "toc_window_display": false
  }
 },
 "nbformat": 4,
 "nbformat_minor": 2
}

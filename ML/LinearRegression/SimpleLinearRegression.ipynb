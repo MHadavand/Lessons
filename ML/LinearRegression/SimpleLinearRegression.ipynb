{
 "cells": [
  {
   "cell_type": "code",
   "execution_count": 1,
   "metadata": {
    "ExecuteTime": {
     "end_time": "2020-05-20T17:35:17.818901Z",
     "start_time": "2020-05-20T17:35:15.047671Z"
    }
   },
   "outputs": [],
   "source": [
    "import matplotlib.pyplot as plt\n",
    "%matplotlib inline\n",
    "from scipy.stats import linregress\n",
    "import pandas as pd\n",
    "import numpy as np\n",
    "plt.style.use('ggplot')"
   ]
  },
  {
   "cell_type": "markdown",
   "metadata": {},
   "source": [
    "# Introduction\n",
    "\n",
    "There are two main ways to implement linear regression in python. It may be regarded as an optimization problem that tries to find an optimal line model that minimizes a cost function (i.e. squared error). Also, there is a mathematical solution. The first example is focused on explaining the concept of finding the line equation while the second example is more aligned with machine learning practices.\n",
    "\n",
    "$$ \n",
    "y_i = \\beta_0 (intercept) + X_i \\times \\beta_1 (slope) \n",
    "$$\n",
    "\n",
    "Note that the mathematical solution is based on least squared error."
   ]
  },
  {
   "cell_type": "markdown",
   "metadata": {},
   "source": [
    "# First Example"
   ]
  },
  {
   "cell_type": "code",
   "execution_count": 3,
   "metadata": {
    "ExecuteTime": {
     "end_time": "2020-05-20T17:36:06.661596Z",
     "start_time": "2020-05-20T17:36:06.603571Z"
    }
   },
   "outputs": [
    {
     "data": {
      "text/html": [
       "<div>\n",
       "<style scoped>\n",
       "    .dataframe tbody tr th:only-of-type {\n",
       "        vertical-align: middle;\n",
       "    }\n",
       "\n",
       "    .dataframe tbody tr th {\n",
       "        vertical-align: top;\n",
       "    }\n",
       "\n",
       "    .dataframe thead th {\n",
       "        text-align: right;\n",
       "    }\n",
       "</style>\n",
       "<table border=\"1\" class=\"dataframe\">\n",
       "  <thead>\n",
       "    <tr style=\"text-align: right;\">\n",
       "      <th></th>\n",
       "      <th>Temp</th>\n",
       "      <th>Sales</th>\n",
       "    </tr>\n",
       "  </thead>\n",
       "  <tbody>\n",
       "    <tr>\n",
       "      <th>count</th>\n",
       "      <td>11.000000</td>\n",
       "      <td>11.000000</td>\n",
       "    </tr>\n",
       "    <tr>\n",
       "      <th>mean</th>\n",
       "      <td>66.727273</td>\n",
       "      <td>400.727273</td>\n",
       "    </tr>\n",
       "    <tr>\n",
       "      <th>std</th>\n",
       "      <td>8.591751</td>\n",
       "      <td>132.052331</td>\n",
       "    </tr>\n",
       "    <tr>\n",
       "      <th>min</th>\n",
       "      <td>52.000000</td>\n",
       "      <td>185.000000</td>\n",
       "    </tr>\n",
       "    <tr>\n",
       "      <th>25%</th>\n",
       "      <td>61.000000</td>\n",
       "      <td>328.500000</td>\n",
       "    </tr>\n",
       "    <tr>\n",
       "      <th>50%</th>\n",
       "      <td>66.000000</td>\n",
       "      <td>408.000000</td>\n",
       "    </tr>\n",
       "    <tr>\n",
       "      <th>75%</th>\n",
       "      <td>74.000000</td>\n",
       "      <td>483.500000</td>\n",
       "    </tr>\n",
       "    <tr>\n",
       "      <th>max</th>\n",
       "      <td>80.000000</td>\n",
       "      <td>614.000000</td>\n",
       "    </tr>\n",
       "  </tbody>\n",
       "</table>\n",
       "</div>"
      ],
      "text/plain": [
       "            Temp       Sales\n",
       "count  11.000000   11.000000\n",
       "mean   66.727273  400.727273\n",
       "std     8.591751  132.052331\n",
       "min    52.000000  185.000000\n",
       "25%    61.000000  328.500000\n",
       "50%    66.000000  408.000000\n",
       "75%    74.000000  483.500000\n",
       "max    80.000000  614.000000"
      ]
     },
     "execution_count": 3,
     "metadata": {},
     "output_type": "execute_result"
    }
   ],
   "source": [
    "data = pd.read_csv('../Data/LinearData.csv')\n",
    "data.describe()"
   ]
  },
  {
   "cell_type": "code",
   "execution_count": 4,
   "metadata": {
    "ExecuteTime": {
     "end_time": "2020-05-20T17:36:07.802539Z",
     "start_time": "2020-05-20T17:36:07.786523Z"
    }
   },
   "outputs": [
    {
     "name": "stdout",
     "output_type": "stream",
     "text": [
      "Slope: 14.864\n",
      "Intercept: -591.093\n"
     ]
    }
   ],
   "source": [
    "X = data.Temp\n",
    "y = data.Sales\n",
    "reg_result = linregress(X,y)\n",
    "print('Slope: {:.3f}\\nIntercept: {:.3f}'.format(reg_result.slope,reg_result.intercept))"
   ]
  },
  {
   "cell_type": "code",
   "execution_count": 5,
   "metadata": {
    "ExecuteTime": {
     "end_time": "2020-05-20T17:36:08.366260Z",
     "start_time": "2020-05-20T17:36:08.355259Z"
    }
   },
   "outputs": [],
   "source": [
    "y_predicted = X * reg_result.slope + reg_result.intercept"
   ]
  },
  {
   "cell_type": "markdown",
   "metadata": {},
   "source": [
    "## Coefficient of Determination R squared\n",
    "\n",
    "R squared is a measure to compare the linear regression results with the expected value (mean of y). It varies from 0 to 1 with 1 being the best regression accuracy.\n",
    "\n",
    "![alt text](../Figures/R2.png \"Obtained from wikipedia\")"
   ]
  },
  {
   "cell_type": "code",
   "execution_count": 6,
   "metadata": {
    "ExecuteTime": {
     "end_time": "2020-05-20T17:36:26.595372Z",
     "start_time": "2020-05-20T17:36:26.590392Z"
    }
   },
   "outputs": [],
   "source": [
    "def r_squared(X,y, y_predicted):\n",
    "    y_mean = np.mean(y)\n",
    "    \n",
    "    sum_m = 0\n",
    "    sum_p = 0\n",
    "    for i in range(len(y)):\n",
    "        sum_m += (y[i]-y_mean)**2\n",
    "        sum_p += (y[i]-y_predicted[i])**2\n",
    "        \n",
    "    return 1 - sum_p/sum_m"
   ]
  },
  {
   "cell_type": "code",
   "execution_count": 7,
   "metadata": {
    "ExecuteTime": {
     "end_time": "2020-05-20T17:36:26.992107Z",
     "start_time": "2020-05-20T17:36:26.981117Z"
    }
   },
   "outputs": [
    {
     "name": "stdout",
     "output_type": "stream",
     "text": [
      "R^2 value: 0.9353\n"
     ]
    }
   ],
   "source": [
    "print(r'R^2 value: {:.4f}'.format(r_squared(X,y, y_predicted)))"
   ]
  },
  {
   "cell_type": "markdown",
   "metadata": {},
   "source": [
    "## Mathematical Solution\n",
    "\n",
    "The mathematical solution relies on statistical measures including covariance, variance and mean values. \n",
    "\n",
    "Slope = $\\frac{C(X,y)}{Var(X)}$ \n",
    "\n",
    "Bias/intercept = $ \\bar{y} - slope . \\bar{X}$"
   ]
  },
  {
   "cell_type": "code",
   "execution_count": 8,
   "metadata": {
    "ExecuteTime": {
     "end_time": "2020-05-20T17:36:28.098216Z",
     "start_time": "2020-05-20T17:36:28.092208Z"
    }
   },
   "outputs": [],
   "source": [
    "slope_math = np.cov(X,y)[0][1]/np.cov(X,y)[0][0] # Covariance(X,y)/Variance(X)\n",
    "intercept_math = np.mean(y)-slope_math*np.mean(X) # mean(y) - slope * mean(X)"
   ]
  },
  {
   "cell_type": "code",
   "execution_count": 9,
   "metadata": {
    "ExecuteTime": {
     "end_time": "2020-05-20T17:36:28.683226Z",
     "start_time": "2020-05-20T17:36:28.677221Z"
    }
   },
   "outputs": [
    {
     "name": "stdout",
     "output_type": "stream",
     "text": [
      "Slope: 14.864\n",
      "Intercept: -591.093\n"
     ]
    }
   ],
   "source": [
    "print('Slope: {:.3f}\\nIntercept: {:.3f}'.format(slope_math,intercept_math))"
   ]
  },
  {
   "cell_type": "code",
   "execution_count": 10,
   "metadata": {
    "ExecuteTime": {
     "end_time": "2020-05-20T17:36:29.472915Z",
     "start_time": "2020-05-20T17:36:29.265913Z"
    }
   },
   "outputs": [
    {
     "data": {
      "text/plain": [
       "Text(0,0.5,'Label')"
      ]
     },
     "execution_count": 10,
     "metadata": {},
     "output_type": "execute_result"
    },
    {
     "data": {
      "image/png": "[encoded data removed]",
      "text/plain": [
       "<Figure size 432x432 with 1 Axes>"
      ]
     },
     "metadata": {},
     "output_type": "display_data"
    }
   ],
   "source": [
    "fig=plt.figure(figsize=(6,6), facecolor='w', edgecolor='k')\n",
    "\n",
    "ax=fig.add_subplot(111)\n",
    "\n",
    "y_predicted = X * slope_math + intercept_math\n",
    "\n",
    "ax.scatter(X, y,color='green',s=80)\n",
    "ax.plot(X, y_predicted, color='blue', linewidth=4)\n",
    "ax.set_xlabel('Feature'); ax.set_ylabel('Label')"
   ]
  },
  {
   "cell_type": "markdown",
   "metadata": {},
   "source": [
    "# Second Example\n",
    "\n",
    "The second example is focused on using a linear regression package as a machine learning technique/algorithm."
   ]
  },
  {
   "cell_type": "code",
   "execution_count": 11,
   "metadata": {
    "ExecuteTime": {
     "end_time": "2020-05-20T17:36:30.918916Z",
     "start_time": "2020-05-20T17:36:30.474912Z"
    }
   },
   "outputs": [],
   "source": [
    "from sklearn.linear_model import LinearRegression\n",
    "from sklearn import datasets\n",
    "\n",
    "# Load the diabetes dataset\n",
    "diabetes = datasets.load_diabetes()\n",
    "\n",
    "diabetes_X = diabetes.data[:, np.newaxis, 2]\n",
    "# Split the data into training/testing sets\n",
    "diabetes_X_train = diabetes_X[:-20]\n",
    "diabetes_X_test = diabetes_X[-20:]\n",
    "\n",
    "# Split the targets into training/testing sets\n",
    "diabetes_y_train = diabetes.target[:-20]\n",
    "diabetes_y_test = diabetes.target[-20:]"
   ]
  },
  {
   "cell_type": "code",
   "execution_count": 12,
   "metadata": {
    "ExecuteTime": {
     "end_time": "2020-05-20T17:36:30.941933Z",
     "start_time": "2020-05-20T17:36:30.920915Z"
    }
   },
   "outputs": [
    {
     "data": {
      "text/plain": [
       "LinearRegression(copy_X=True, fit_intercept=True, n_jobs=None, normalize=False)"
      ]
     },
     "execution_count": 12,
     "metadata": {},
     "output_type": "execute_result"
    }
   ],
   "source": [
    "clf=LinearRegression()\n",
    "clf.fit(diabetes_X_train,diabetes_y_train)"
   ]
  },
  {
   "cell_type": "code",
   "execution_count": 13,
   "metadata": {
    "ExecuteTime": {
     "end_time": "2020-05-20T17:36:31.632276Z",
     "start_time": "2020-05-20T17:36:31.627295Z"
    }
   },
   "outputs": [
    {
     "name": "stdout",
     "output_type": "stream",
     "text": [
      "Coefficients: \n",
      " [938.23786125]\n"
     ]
    }
   ],
   "source": [
    "# The coefficients\n",
    "print('Coefficients: \\n', clf.coef_)"
   ]
  },
  {
   "cell_type": "code",
   "execution_count": 14,
   "metadata": {
    "ExecuteTime": {
     "end_time": "2020-05-20T17:36:32.076194Z",
     "start_time": "2020-05-20T17:36:32.069202Z"
    }
   },
   "outputs": [
    {
     "name": "stdout",
     "output_type": "stream",
     "text": [
      "Mean squared error: 2548.07\n"
     ]
    }
   ],
   "source": [
    "print(\"Mean squared error: %.2f\"\n",
    "      % np.mean((clf.predict(diabetes_X_test) - diabetes_y_test) ** 2))"
   ]
  },
  {
   "cell_type": "code",
   "execution_count": 15,
   "metadata": {
    "ExecuteTime": {
     "end_time": "2020-05-20T17:36:32.711199Z",
     "start_time": "2020-05-20T17:36:32.706194Z"
    }
   },
   "outputs": [
    {
     "name": "stdout",
     "output_type": "stream",
     "text": [
      "Variance score: 0.47\n"
     ]
    }
   ],
   "source": [
    "print('Variance score: %.2f' % clf.score(diabetes_X_test, diabetes_y_test))"
   ]
  },
  {
   "cell_type": "code",
   "execution_count": 18,
   "metadata": {
    "ExecuteTime": {
     "end_time": "2020-05-20T17:38:45.378156Z",
     "start_time": "2020-05-20T17:38:45.203129Z"
    }
   },
   "outputs": [
    {
     "data": {
      "image/png": "[encoded data removed]",
      "text/plain": [
       "<Figure size 432x432 with 1 Axes>"
      ]
     },
     "metadata": {},
     "output_type": "display_data"
    }
   ],
   "source": [
    "fig=plt.figure(figsize=(6,6), facecolor='w', edgecolor='k')\n",
    "\n",
    "ax=fig.add_subplot(111)\n",
    "\n",
    "ax.scatter(diabetes_X_test, diabetes_y_test,  color='red',s=90)\n",
    "ax.plot(diabetes_X_test, clf.predict(diabetes_X_test), color='blue',\n",
    "         linewidth=3)\n",
    "ax.set_xlabel('Feature')\n",
    "_ = ax.set_ylabel('Label')"
   ]
  }
 ],
 "metadata": {
  "anaconda-cloud": {},
  "hide_input": false,
  "kernelspec": {
   "display_name": "Python 3",
   "language": "python",
   "name": "python3"
  },
  "language_info": {
   "codemirror_mode": {
    "name": "ipython",
    "version": 3
   },
   "file_extension": ".py",
   "mimetype": "text/x-python",
   "name": "python",
   "nbconvert_exporter": "python",
   "pygments_lexer": "ipython3",
   "version": "3.6.10"
  },
  "latex_envs": {
   "LaTeX_envs_menu_present": true,
   "autoclose": false,
   "autocomplete": true,
   "bibliofile": "biblio.bib",
   "cite_by": "apalike",
   "current_citInitial": 1,
   "eqLabelWithNumbers": true,
   "eqNumInitial": 0,
   "hotkeys": {
    "equation": "Ctrl-E",
    "itemize": "Ctrl-I"
   },
   "labels_anchors": false,
   "latex_user_defs": false,
   "report_style_numbering": false,
   "user_envs_cfg": false
  },
  "toc": {
   "base_numbering": 1,
   "nav_menu": {},
   "number_sections": true,
   "sideBar": true,
   "skip_h1_title": false,
   "title_cell": "Table of Contents",
   "title_sidebar": "Contents",
   "toc_cell": false,
   "toc_position": {},
   "toc_section_display": "block",
   "toc_window_display": false
  }
 },
 "nbformat": 4,
 "nbformat_minor": 1
}

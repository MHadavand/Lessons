{
 "cells": [
  {
   "cell_type": "code",
   "execution_count": 50,
   "metadata": {
    "ExecuteTime": {
     "end_time": "2020-05-20T22:14:26.379792Z",
     "start_time": "2020-05-20T22:14:23.304661Z"
    }
   },
   "outputs": [
    {
     "name": "stdout",
     "output_type": "stream",
     "text": [
      "Loading default Pygeostat Parameters from C:\\Users\\MostafaHadavand\\.Pygeostat\\Parameters.json\n"
     ]
    }
   ],
   "source": [
    "import pandas as pd\n",
    "import numpy as np\n",
    "import pygeostat as gs # pip install pygeostat\n",
    "from matplotlib import pyplot as plt"
   ]
  },
  {
   "cell_type": "markdown",
   "metadata": {},
   "source": [
    "# Least Square Regression\n",
    "\n",
    "The linear regression is referred to as multiple linear regression when the number of predictors is more than one. The equation is the same as the response is a linear combination of multiple response variables plus a bias term. Consider the following example where the response variable $y$ is predicted by $d$ predictors. \n",
    "\n",
    "$ y^* = w_1.X_1 + w_2.X_1 + ... w_d.X_d) + b $\n",
    "\n",
    "where $y*$ is the prediction of the response variable $y$. The matrix form would be:\n",
    "\n",
    "$ \\pmb{y*} = \\pmb{X} . \\pmb{w} + b$ \n",
    "\n",
    "where $\\pmb{X}$ is $1 \\times d$ and $\\pmb{w}$ is $d\\times 1$. Interesting enough this is similar to a MLP neural network without the activation. Each observation of $X$ can be mapped to a corresponding prediction $y$.In this context, considering all observations, $\\pmb{X}$ is $n \\times d$ and $\\pmb{w}$ is $d\\times 1$ and $n$ is the number of observations.\n",
    "\n",
    "The loss function is given by:\n",
    "\n",
    "$L(w,b) = \\sum (y^{i} - y^{*i})^2 = \\sum (y^{i} - (X^{i}.w+b))^2 \\;\\; i=1,..n$\n",
    "\n",
    "where $n$ is the total number of observations. In order to make this simpler, a 1 is added to each $X$ vector (i.e. each observation). \n",
    "\n",
    "$ X^{i} =  [1, X^i_1, ... X^i_d] \\;\\;\\; i=1,..n$\n",
    "\n",
    "then, the bias is added to the weight matrix\n",
    "\n",
    "$ \\tilde{w} = [b, w_1, ..., w_d]$ \n",
    "\n",
    "$L(\\pmb{w},b) =  \\sum (y^{i} - (\\pmb{X}^{i}.\\pmb{w}+b))^2 \\;\\; i=1,..n$\n",
    "\n",
    "The solution for the weights and bias is \n",
    "\n",
    "$\\tilde{w} = (X^T X)^{-1} (X^TY) $\n",
    "\n",
    "Solving the equation above, provides the $d$ weights and the bias value. The bias is calculated to be:\n",
    "\n",
    "$ b = m_y - \\sum w^j m_x^j \\;\\;\\; j=1,..,d $\n",
    "\n",
    "where $m_y$ and $m_x^j$ are the mean/expected values of the response and predictor variables respectively.\n",
    "\n",
    "The unbiasedness condition $E\\{y\\} = E\\{y*\\}$ would result to the same biased value. In other words, we could use residuals and ignore the bias term. This is the way it is done in simple kriging that is a linear regression method in spatial statistics.\n",
    "\n",
    "Note that the loss function is defined as the least squared error and the optimization is based on minimizing the expected/aggregated squared error for all the training data sets. This is referred to as regular regression."
   ]
  },
  {
   "cell_type": "markdown",
   "metadata": {},
   "source": [
    "# Example"
   ]
  },
  {
   "cell_type": "code",
   "execution_count": 2,
   "metadata": {
    "ExecuteTime": {
     "end_time": "2020-05-20T22:02:40.726166Z",
     "start_time": "2020-05-20T22:02:38.679365Z"
    }
   },
   "outputs": [
    {
     "data": {
      "text/html": [
       "<div>\n",
       "<style scoped>\n",
       "    .dataframe tbody tr th:only-of-type {\n",
       "        vertical-align: middle;\n",
       "    }\n",
       "\n",
       "    .dataframe tbody tr th {\n",
       "        vertical-align: top;\n",
       "    }\n",
       "\n",
       "    .dataframe thead th {\n",
       "        text-align: right;\n",
       "    }\n",
       "</style>\n",
       "<table border=\"1\" class=\"dataframe\">\n",
       "  <thead>\n",
       "    <tr style=\"text-align: right;\">\n",
       "      <th></th>\n",
       "      <th>crim</th>\n",
       "      <th>zn</th>\n",
       "      <th>indus</th>\n",
       "      <th>chas</th>\n",
       "      <th>nox</th>\n",
       "      <th>rm</th>\n",
       "      <th>age</th>\n",
       "      <th>dis</th>\n",
       "      <th>rad</th>\n",
       "      <th>tax</th>\n",
       "      <th>ptratio</th>\n",
       "      <th>b</th>\n",
       "      <th>lstat</th>\n",
       "      <th>medv</th>\n",
       "    </tr>\n",
       "  </thead>\n",
       "  <tbody>\n",
       "    <tr>\n",
       "      <th>0</th>\n",
       "      <td>0.00632</td>\n",
       "      <td>18.0</td>\n",
       "      <td>2.31</td>\n",
       "      <td>0</td>\n",
       "      <td>0.538</td>\n",
       "      <td>6.575</td>\n",
       "      <td>65.2</td>\n",
       "      <td>4.0900</td>\n",
       "      <td>1</td>\n",
       "      <td>296</td>\n",
       "      <td>15.3</td>\n",
       "      <td>396.90</td>\n",
       "      <td>4.98</td>\n",
       "      <td>24.0</td>\n",
       "    </tr>\n",
       "    <tr>\n",
       "      <th>1</th>\n",
       "      <td>0.02731</td>\n",
       "      <td>0.0</td>\n",
       "      <td>7.07</td>\n",
       "      <td>0</td>\n",
       "      <td>0.469</td>\n",
       "      <td>6.421</td>\n",
       "      <td>78.9</td>\n",
       "      <td>4.9671</td>\n",
       "      <td>2</td>\n",
       "      <td>242</td>\n",
       "      <td>17.8</td>\n",
       "      <td>396.90</td>\n",
       "      <td>9.14</td>\n",
       "      <td>21.6</td>\n",
       "    </tr>\n",
       "    <tr>\n",
       "      <th>2</th>\n",
       "      <td>0.02729</td>\n",
       "      <td>0.0</td>\n",
       "      <td>7.07</td>\n",
       "      <td>0</td>\n",
       "      <td>0.469</td>\n",
       "      <td>7.185</td>\n",
       "      <td>61.1</td>\n",
       "      <td>4.9671</td>\n",
       "      <td>2</td>\n",
       "      <td>242</td>\n",
       "      <td>17.8</td>\n",
       "      <td>392.83</td>\n",
       "      <td>4.03</td>\n",
       "      <td>34.7</td>\n",
       "    </tr>\n",
       "    <tr>\n",
       "      <th>3</th>\n",
       "      <td>0.03237</td>\n",
       "      <td>0.0</td>\n",
       "      <td>2.18</td>\n",
       "      <td>0</td>\n",
       "      <td>0.458</td>\n",
       "      <td>6.998</td>\n",
       "      <td>45.8</td>\n",
       "      <td>6.0622</td>\n",
       "      <td>3</td>\n",
       "      <td>222</td>\n",
       "      <td>18.7</td>\n",
       "      <td>394.63</td>\n",
       "      <td>2.94</td>\n",
       "      <td>33.4</td>\n",
       "    </tr>\n",
       "    <tr>\n",
       "      <th>4</th>\n",
       "      <td>0.06905</td>\n",
       "      <td>0.0</td>\n",
       "      <td>2.18</td>\n",
       "      <td>0</td>\n",
       "      <td>0.458</td>\n",
       "      <td>7.147</td>\n",
       "      <td>54.2</td>\n",
       "      <td>6.0622</td>\n",
       "      <td>3</td>\n",
       "      <td>222</td>\n",
       "      <td>18.7</td>\n",
       "      <td>396.90</td>\n",
       "      <td>5.33</td>\n",
       "      <td>36.2</td>\n",
       "    </tr>\n",
       "  </tbody>\n",
       "</table>\n",
       "</div>"
      ],
      "text/plain": [
       "      crim    zn  indus  chas    nox     rm   age     dis  rad  tax  ptratio  \\\n",
       "0  0.00632  18.0   2.31     0  0.538  6.575  65.2  4.0900    1  296     15.3   \n",
       "1  0.02731   0.0   7.07     0  0.469  6.421  78.9  4.9671    2  242     17.8   \n",
       "2  0.02729   0.0   7.07     0  0.469  7.185  61.1  4.9671    2  242     17.8   \n",
       "3  0.03237   0.0   2.18     0  0.458  6.998  45.8  6.0622    3  222     18.7   \n",
       "4  0.06905   0.0   2.18     0  0.458  7.147  54.2  6.0622    3  222     18.7   \n",
       "\n",
       "        b  lstat  medv  \n",
       "0  396.90   4.98  24.0  \n",
       "1  396.90   9.14  21.6  \n",
       "2  392.83   4.03  34.7  \n",
       "3  394.63   2.94  33.4  \n",
       "4  396.90   5.33  36.2  "
      ]
     },
     "execution_count": 2,
     "metadata": {},
     "output_type": "execute_result"
    }
   ],
   "source": [
    "boston_data = pd.read_csv('https://raw.githubusercontent.com/selva86/datasets/master/BostonHousing.csv')\n",
    "boston_data.head()"
   ]
  },
  {
   "cell_type": "markdown",
   "metadata": {},
   "source": [
    "## Create a class to implement multiple linear regression"
   ]
  },
  {
   "cell_type": "code",
   "execution_count": 19,
   "metadata": {
    "ExecuteTime": {
     "end_time": "2020-05-20T22:06:20.239226Z",
     "start_time": "2020-05-20T22:06:20.229226Z"
    }
   },
   "outputs": [],
   "source": [
    "class mlr(object):\n",
    "    \n",
    "    '''\n",
    "    A simple implementation of multiple linear regression\n",
    "    \n",
    "    X: array of n by d where n is the number of observation and d is the number of dimensions/features\n",
    "    Y: array of n by 1 where n is the number of observation\n",
    "    '''\n",
    "    \n",
    "    \n",
    "    def __init__(self):\n",
    "        self.weights = []\n",
    "        \n",
    "        \n",
    "    def fit(self, X, y):\n",
    "        \n",
    "        if len(X.shape) == 1:\n",
    "            X = self._reshape_x(X)\n",
    "            \n",
    "        X = self._concatenate_ones(X)\n",
    "        self.weights = np.linalg.inv(X.transpose().dot(X)).dot(X.transpose().dot(y))\n",
    "        \n",
    "    def predict(self, feature_set):\n",
    "        b = self.weights[0]\n",
    "        w = self.weights[1:]\n",
    "        \n",
    "        prediction = feature_set.dot(w) + b\n",
    "        \n",
    "        return prediction\n",
    "    \n",
    "    def _reshape_x(self, X):\n",
    "        return X.reshape(-1,1)\n",
    "    \n",
    "    def _concatenate_ones(self,X):\n",
    "        ones = np.ones(shape=X.shape[0]).reshape(-1,1)\n",
    "        return np.concatenate((ones,X), 1)"
   ]
  },
  {
   "cell_type": "markdown",
   "metadata": {},
   "source": [
    "## Use the example data and make predictions"
   ]
  },
  {
   "cell_type": "code",
   "execution_count": 20,
   "metadata": {
    "ExecuteTime": {
     "end_time": "2020-05-20T22:06:20.462806Z",
     "start_time": "2020-05-20T22:06:20.456841Z"
    }
   },
   "outputs": [],
   "source": [
    "X = boston_data.drop('medv', axis=1).values\n",
    "y = boston_data['medv'].values"
   ]
  },
  {
   "cell_type": "code",
   "execution_count": 26,
   "metadata": {
    "ExecuteTime": {
     "end_time": "2020-05-20T22:06:46.919427Z",
     "start_time": "2020-05-20T22:06:46.913487Z"
    }
   },
   "outputs": [],
   "source": [
    "model = mlr() \n",
    "model.fit(X,y)"
   ]
  },
  {
   "cell_type": "code",
   "execution_count": 27,
   "metadata": {
    "ExecuteTime": {
     "end_time": "2020-05-20T22:06:54.391882Z",
     "start_time": "2020-05-20T22:06:54.384808Z"
    }
   },
   "outputs": [
    {
     "data": {
      "text/plain": [
       "array([ 3.64594884e+01, -1.08011358e-01,  4.64204584e-02,  2.05586264e-02,\n",
       "        2.68673382e+00, -1.77666112e+01,  3.80986521e+00,  6.92224640e-04,\n",
       "       -1.47556685e+00,  3.06049479e-01, -1.23345939e-02, -9.52747232e-01,\n",
       "        9.31168327e-03, -5.24758378e-01])"
      ]
     },
     "execution_count": 27,
     "metadata": {},
     "output_type": "execute_result"
    }
   ],
   "source": [
    "model.weights"
   ]
  },
  {
   "cell_type": "code",
   "execution_count": 41,
   "metadata": {
    "ExecuteTime": {
     "end_time": "2020-05-20T22:10:18.690837Z",
     "start_time": "2020-05-20T22:10:18.660840Z"
    }
   },
   "outputs": [],
   "source": [
    "boston_data['predicted_medv'] = boston_data[list(boston_data.columns)[:-1]].apply(lambda x: model.predict(x), axis=1)"
   ]
  },
  {
   "cell_type": "code",
   "execution_count": 46,
   "metadata": {
    "ExecuteTime": {
     "end_time": "2020-05-20T22:11:48.491641Z",
     "start_time": "2020-05-20T22:11:48.462659Z"
    }
   },
   "outputs": [],
   "source": [
    "boston_data['SquaredError'] = boston_data[['medv','predicted_medv']].apply(lambda x: (x[0] - x[1])**2, axis=1)"
   ]
  },
  {
   "cell_type": "code",
   "execution_count": 48,
   "metadata": {
    "ExecuteTime": {
     "end_time": "2020-05-20T22:12:08.538925Z",
     "start_time": "2020-05-20T22:12:08.532924Z"
    }
   },
   "outputs": [
    {
     "data": {
      "text/plain": [
       "21.894831181729206"
      ]
     },
     "execution_count": 48,
     "metadata": {},
     "output_type": "execute_result"
    }
   ],
   "source": [
    "boston_data['SquaredError'].mean()"
   ]
  },
  {
   "cell_type": "code",
   "execution_count": 52,
   "metadata": {
    "ExecuteTime": {
     "end_time": "2020-05-20T22:14:53.497187Z",
     "start_time": "2020-05-20T22:14:52.836205Z"
    }
   },
   "outputs": [
    {
     "data": {
      "image/png": "[encoded data removed]",
      "text/plain": [
       "<Figure size 576x576 with 1 Axes>"
      ]
     },
     "metadata": {},
     "output_type": "display_data"
    }
   ],
   "source": [
    "_ = gs.validation_plot(boston_data['predicted_medv'], boston_data['medv'])"
   ]
  },
  {
   "cell_type": "markdown",
   "metadata": {},
   "source": [
    "# Regularization\n",
    "\n",
    "Regularization is based on adding a penalty term to the least squared loss function to penalize effect of weights. In other words, the contribution of training data gets regularized to reduce the emphasis on training data. This results in more generalization and avoid over fitting training data and likely to improve test accuracy. \n",
    "\n",
    "$L(w,b) = \\sum (y^{i} - y^{*i})^2 = \\sum (y^{i} - (X^{i}.w+b))^2 + \\lambda ||W||^p \\;\\; i=1,..n$\n",
    "\n",
    "where $||W||^p$ is the $p$ norm. In this regard, if $\\lambda$ is 0, it is equivalent to least square while very large $\\lambda$ results in weights converging to zero which is a good solution when number of the training data sets are very low. The optimal value of $\\lambda$ may be determined by cross validation and boot strap sampling of the data set.\n",
    "\n",
    "The optimal solution for the weights is given by\n",
    "\n",
    "$ w = (X^T X + \\lambda I)^{-1} (X^T Y) $\n",
    "\n",
    "\n",
    "**Ridge regression**\n",
    "\n",
    "$L(w,b) = \\sum (y^{i} - y^{*i})^2 = \\sum (y^{i} - (X^{i}.w+b))^2 + \\lambda ||W||^2 \\;\\; i=1,..n$\n",
    "\n",
    "\n",
    "**Lasso regression**\n",
    "\n",
    "Tends to produce sparse $w$ which means excluding certain features as certain elements of the weight vector become zero.\n",
    "\n",
    "$L(w,b) = \\sum (y^{i} - y^{*i})^2 = \\sum (y^{i} - (X^{i}.w+b))^2 + \\lambda ||W||^1 \\;\\; i=1,..n$"
   ]
  }
 ],
 "metadata": {
  "kernelspec": {
   "display_name": "Python 3",
   "language": "python",
   "name": "python3"
  },
  "language_info": {
   "codemirror_mode": {
    "name": "ipython",
    "version": 3
   },
   "file_extension": ".py",
   "mimetype": "text/x-python",
   "name": "python",
   "nbconvert_exporter": "python",
   "pygments_lexer": "ipython3",
   "version": "3.7.4"
  },
  "toc": {
   "base_numbering": 1,
   "nav_menu": {},
   "number_sections": true,
   "sideBar": true,
   "skip_h1_title": false,
   "title_cell": "Table of Contents",
   "title_sidebar": "Contents",
   "toc_cell": false,
   "toc_position": {},
   "toc_section_display": true,
   "toc_window_display": false
  }
 },
 "nbformat": 4,
 "nbformat_minor": 4
}

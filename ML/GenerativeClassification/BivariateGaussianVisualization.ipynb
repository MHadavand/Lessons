{
 "cells": [
  {
   "cell_type": "markdown",
   "metadata": {},
   "source": [
    "# Experiments with the bivariate Gaussian\n",
    "\n",
    "In this notebook, bivariate/2 dimensional Gaussian distribution is studied through visualization and random sampling."
   ]
  },
  {
   "cell_type": "code",
   "execution_count": null,
   "metadata": {
    "ExecuteTime": {
     "end_time": "2020-07-27T20:18:51.104710Z",
     "start_time": "2020-07-27T20:18:49.619960Z"
    }
   },
   "outputs": [],
   "source": [
    "import numpy as np\n",
    "import matplotlib.pyplot as plt\n",
    "from scipy.stats import multivariate_normal\n",
    "\n",
    "# installing packages for interactive graphs\n",
    "import ipywidgets as widgets\n",
    "from IPython.display import display\n",
    "from ipywidgets import interact, interactive, fixed, interact_manual, IntSlider"
   ]
  },
  {
   "cell_type": "markdown",
   "metadata": {},
   "source": [
    "The function **bivariate_plot** takes as input three parameters that uniquely specify a 2x2 covariance matrix:\n",
    "\n",
    "* `variance1`, the variance of the first feature, `x1`\n",
    "* `variance2`, the variance of the second feature, `x2`\n",
    "* $\\rho$, the correlation coefficient between `x1` and `x2`\n",
    "\n",
    "It then depicts a 2-d Gaussian with the mean vector located at the origin (0, 0) and the covariance matrix is given by the parameters mentioned. The display consists of 100 points randomly sampled from the Gaussian, as well as three representative contour lines of the density."
   ]
  },
  {
   "cell_type": "code",
   "execution_count": null,
   "metadata": {
    "ExecuteTime": {
     "end_time": "2020-07-27T20:18:52.459705Z",
     "start_time": "2020-07-27T20:18:51.106703Z"
    },
    "scrolled": false
   },
   "outputs": [],
   "source": [
    "@interact(variance1 = (1,9), variance2 = (1,9), rho=(-0.95,0.95,0.05))\n",
    "def bivariate_plot(variance1, variance2, rho):\n",
    "    #\n",
    "    # Set parameters of Gaussian\n",
    "    mu = [0,0]\n",
    "    covariance = rho * np.sqrt(variance1) * np.sqrt(variance2)\n",
    "    sigma = [[variance1,covariance], [covariance,variance2]]\n",
    "    np.set_printoptions(precision=2)\n",
    "    print (\"Covariance matrix:\")\n",
    "    print (np.around(sigma, decimals=2))\n",
    "    #\n",
    "    # Draw samples from the distribution\n",
    "    n = 100\n",
    "    x = np.random.multivariate_normal(mu,sigma,size=n)\n",
    "    #\n",
    "    # Set up a plot for the samples and the density contours\n",
    "    fig, ax = plt.subplots(1,1, figsize = (5,5))\n",
    "    lim = 10.0\n",
    "    ax.set_xlim(-lim, lim) # limit along x1-axis\n",
    "    ax.set_ylim(-lim, lim) # limit along x2-axis    \n",
    "    ax.set_aspect('equal', 'datalim')\n",
    "    #\n",
    "    # Plot the sampled points as blue dots\n",
    "    ax.plot(x[:,0], x[:,1], 'bo')\n",
    "    #\n",
    "    # To display contour lines, first define a fine grid\n",
    "    res = 200\n",
    "    xg = np.linspace(-lim, lim, res)\n",
    "    yg = np.linspace(-lim, lim, res)\n",
    "    z = np.zeros((res,res))\n",
    "    # Compute the density at each grid point\n",
    "    rv = multivariate_normal(mean=mu, cov=sigma)\n",
    "    for i in range(0,res):\n",
    "        for j in range(0,res):\n",
    "            z[j,i] = rv.logpdf([xg[i], yg[j]]) \n",
    "    sign, logdet = np.linalg.slogdet(sigma)\n",
    "    normalizer = -0.5 * (2 * np.log(6.28) + sign * logdet)\n",
    "    \n",
    "    # Now plot a few contour lines of the density\n",
    "    levels = []\n",
    "    for offset in range(1,4):\n",
    "        levels.append(normalizer - offset)\n",
    "        \n",
    "    ax.contour(xg,yg,z, levels=sorted(levels), cmap='viridis', linewidths=2.0, linestyles='solid')\n",
    "    \n",
    "    contourf = ax.contourf(xg, yg, z, alpha=0.5, cmap='viridis',)"
   ]
  }
 ],
 "metadata": {
  "kernelspec": {
   "display_name": "Python 3",
   "language": "python",
   "name": "python3"
  },
  "language_info": {
   "codemirror_mode": {
    "name": "ipython",
    "version": 3
   },
   "file_extension": ".py",
   "mimetype": "text/x-python",
   "name": "python",
   "nbconvert_exporter": "python",
   "pygments_lexer": "ipython3",
   "version": "3.6.10"
  },
  "toc": {
   "base_numbering": 1,
   "nav_menu": {
    "height": "48px",
    "width": "252px"
   },
   "number_sections": false,
   "sideBar": true,
   "skip_h1_title": false,
   "title_cell": "Table of Contents",
   "title_sidebar": "Contents",
   "toc_cell": false,
   "toc_position": {},
   "toc_section_display": "block",
   "toc_window_display": false
  },
  "widgets": {
   "state": {
    "afe25f4699a24d4c8c610d4320d308f1": {
     "views": [
      {
       "cell_index": 5
      }
     ]
    }
   },
   "version": "1.2.0"
  }
 },
 "nbformat": 4,
 "nbformat_minor": 1
}

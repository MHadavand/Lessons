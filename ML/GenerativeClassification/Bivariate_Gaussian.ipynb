{
 "cells": [
  {
   "cell_type": "markdown",
   "metadata": {},
   "source": [
    "# Experiments with the bivariate Gaussian"
   ]
  },
  {
   "cell_type": "markdown",
   "metadata": {},
   "source": [
    "In this notebook, we'll get a feel for the two-dimensional Gaussian by varying the covariance matrix, drawing random samples from the resulting distribution, and plotting contour lines of the density."
   ]
  },
  {
   "cell_type": "markdown",
   "metadata": {},
   "source": [
    "We begin, as always, by loading in standard packages."
   ]
  },
  {
   "cell_type": "code",
   "execution_count": null,
   "metadata": {
    "collapsed": true
   },
   "outputs": [],
   "source": [
    "%matplotlib inline\n",
    "import numpy as np\n",
    "import matplotlib.pyplot as plt\n",
    "from scipy.stats import multivariate_normal\n",
    "# installing packages for interactive graphs\n",
    "import ipywidgets as widgets\n",
    "from IPython.display import display\n",
    "from ipywidgets import interact, interactive, fixed, interact_manual, IntSlider"
   ]
  },
  {
   "cell_type": "markdown",
   "metadata": {},
   "source": [
    "The function **bivariate_plot** takes as input three parameters that uniquely specify a 2x2 covariance matrix:\n",
    "* `var1`, the variance of the first feature, `x1`\n",
    "* `var2`, the variance of the second feature, `x2`\n",
    "* `corr`, the correlation between `x1` and `x2`\n",
    "\n",
    "It then depicts a 2-d Gaussian whose mean is the origin and whose covariance matrix is given by these parameters. The display consists of 100 points randomly sampled from the Gaussian, as well as three representative contour lines of the density.\n",
    "\n",
    "The first line below, **interact_manual**, sets up an interactive widget that allows you to specify the parameters to **bivariate_plot** using sliders, and provides a button to execute the function."
   ]
  },
  {
   "cell_type": "code",
   "execution_count": null,
   "metadata": {},
   "outputs": [],
   "source": [
    "@interact_manual(var1 = (1,9), var2 = (1,9), corr=(-0.95,0.95,0.05))\n",
    "def bivariate_plot(var1, var2, corr):\n",
    "    #\n",
    "    # Set parameters of Gaussian\n",
    "    mu = [0,0]\n",
    "    covariance = corr * np.sqrt(var1) * np.sqrt(var2)\n",
    "    sigma = [[var1,covariance], [covariance,var2]]\n",
    "    np.set_printoptions(precision=2)\n",
    "    print \"Covariance matrix:\"\n",
    "    print np.around(sigma, decimals=2)\n",
    "    #\n",
    "    # Draw samples from the distribution\n",
    "    n = 100\n",
    "    x = np.random.multivariate_normal(mu,sigma,size=n)\n",
    "    #\n",
    "    # Set up a plot for the samples and the density contours\n",
    "    lim = 10.0\n",
    "    plt.xlim(-lim, lim) # limit along x1-axis\n",
    "    plt.ylim(-lim, lim) # limit along x2-axis    \n",
    "    plt.axes().set_aspect('equal', 'datalim')\n",
    "    #\n",
    "    # Plot the sampled points as blue dots\n",
    "    plt.plot(x[:,0], x[:,1], 'bo')\n",
    "    #\n",
    "    # To display contour lines, first define a fine grid\n",
    "    res = 200\n",
    "    xg = np.linspace(-lim, lim, res)\n",
    "    yg = np.linspace(-lim, lim, res)\n",
    "    z = np.zeros((res,res))\n",
    "    # Compute the density at each grid point\n",
    "    rv = multivariate_normal(mean=mu, cov=sigma)\n",
    "    for i in range(0,res):\n",
    "        for j in range(0,res):\n",
    "            z[j,i] = rv.logpdf([xg[i], yg[j]]) \n",
    "    sign, logdet = np.linalg.slogdet(sigma)\n",
    "    normalizer = -0.5 * (2 * np.log(6.28) + sign * logdet)\n",
    "    # Now plot a few contour lines of the density\n",
    "    for offset in range(1,4):\n",
    "        plt.contour(xg,yg,z, levels=[normalizer - offset], colors='r', linewidths=2.0, linestyles='solid')\n",
    "\n",
    "    # Finally, display\n",
    "    plt.show()"
   ]
  },
  {
   "cell_type": "markdown",
   "metadata": {},
   "source": [
    "## <font color=\"magenta\">Quick exercise:</font>\n",
    "Experiment with the widget above to get a sense for how the different parameters influence the shape of the Gaussian. In particular, figure out the answers to the following questions.\n",
    "* Under what conditions does the Gaussian have contour lines that are perfect circles?\n",
    "* Under what conditions is the Gaussian tilted upwards?\n",
    "* Under what conditions is the Gaussian titled downwards?\n",
    "* Suppose the Gaussian has no tilt, and the contour lines are stretched vertically, so that the vertical stretch is twice the horizontal stretch. What can we conclude about the covariance matrix?\n",
    "\n",
    "*Note down the answers to these questions: you will enter them later, as part of this week's assignment.*"
   ]
  }
 ],
 "metadata": {
  "kernelspec": {
   "display_name": "Python 2",
   "language": "python",
   "name": "python2"
  },
  "language_info": {
   "codemirror_mode": {
    "name": "ipython",
    "version": 2
   },
   "file_extension": ".py",
   "mimetype": "text/x-python",
   "name": "python",
   "nbconvert_exporter": "python",
   "pygments_lexer": "ipython2",
   "version": "2.7.13"
  },
  "toc": {
   "colors": {
    "hover_highlight": "#DAA520",
    "navigate_num": "#000000",
    "navigate_text": "#333333",
    "running_highlight": "#FF0000",
    "selected_highlight": "#FFD700",
    "sidebar_border": "#EEEEEE",
    "wrapper_background": "#FFFFFF"
   },
   "moveMenuLeft": true,
   "nav_menu": {
    "height": "48px",
    "width": "252px"
   },
   "navigate_menu": true,
   "number_sections": false,
   "sideBar": true,
   "threshold": 4,
   "toc_cell": false,
   "toc_section_display": "block",
   "toc_window_display": false,
   "widenNotebook": false
  },
  "widgets": {
   "state": {
    "afe25f4699a24d4c8c610d4320d308f1": {
     "views": [
      {
       "cell_index": 5
      }
     ]
    }
   },
   "version": "1.2.0"
  }
 },
 "nbformat": 4,
 "nbformat_minor": 1
}

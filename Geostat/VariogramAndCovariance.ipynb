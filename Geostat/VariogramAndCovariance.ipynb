{
 "cells": [
  {
   "cell_type": "markdown",
   "metadata": {},
   "source": [
    "<h1 style='color:#1B127A;'>\n",
    "Introduction\n",
    "</h1>\n"
   ]
  },
  {
   "cell_type": "code",
   "execution_count": 11,
   "metadata": {
    "ExecuteTime": {
     "end_time": "2020-12-17T17:36:31.685565Z",
     "start_time": "2020-12-17T17:36:31.172535Z"
    }
   },
   "outputs": [],
   "source": [
    "import numpy as np\n",
    "mean = [10, 20]\n",
    "cov = [[1, 0.5], [0.5, 1.5]]\n",
    "x, y = np.random.multivariate_normal(mean, cov, 10000000).T"
   ]
  },
  {
   "cell_type": "code",
   "execution_count": 12,
   "metadata": {
    "ExecuteTime": {
     "end_time": "2020-12-17T17:36:31.997999Z",
     "start_time": "2020-12-17T17:36:31.685565Z"
    }
   },
   "outputs": [
    {
     "data": {
      "text/plain": [
       "(array([[1.00072734, 0.5004859 ],\n",
       "        [0.5004859 , 1.50023943]]),\n",
       " array([[1.       , 0.4084639],\n",
       "        [0.4084639, 1.       ]]),\n",
       " 10.000051957056066,\n",
       " 19.999584023851817)"
      ]
     },
     "execution_count": 12,
     "metadata": {},
     "output_type": "execute_result"
    }
   ],
   "source": [
    "np.cov(x,y), np.corrcoef(x,y), np.mean(x), np.mean(y)"
   ]
  },
  {
   "cell_type": "code",
   "execution_count": 13,
   "metadata": {
    "ExecuteTime": {
     "end_time": "2020-12-17T17:36:32.373110Z",
     "start_time": "2020-12-17T17:36:31.998999Z"
    }
   },
   "outputs": [
    {
     "data": {
      "text/plain": [
       "(array([[1.00072734, 0.5004859 ],\n",
       "        [0.5004859 , 1.50023943]]),\n",
       " array([[1.       , 0.4084639],\n",
       "        [0.4084639, 1.       ]]),\n",
       " 5.000051957056082,\n",
       " 9.999584023851838)"
      ]
     },
     "execution_count": 13,
     "metadata": {},
     "output_type": "execute_result"
    }
   ],
   "source": [
    "x_ = x-5; y_ = y-10\n",
    "np.cov(x_,y_), np.corrcoef(x_,y_), np.mean(x_), np.mean(y_)"
   ]
  },
  {
   "cell_type": "code",
   "execution_count": 14,
   "metadata": {
    "ExecuteTime": {
     "end_time": "2020-12-17T17:36:32.448113Z",
     "start_time": "2020-12-17T17:36:32.374110Z"
    }
   },
   "outputs": [
    {
     "data": {
      "text/plain": [
       "50.74531818782632"
      ]
     },
     "execution_count": 14,
     "metadata": {},
     "output_type": "execute_result"
    }
   ],
   "source": [
    "gamma = 0.5* np.mean((x-y)**2)\n",
    "gamma"
   ]
  },
  {
   "cell_type": "code",
   "execution_count": 15,
   "metadata": {
    "ExecuteTime": {
     "end_time": "2020-12-17T17:36:32.462111Z",
     "start_time": "2020-12-17T17:36:32.459109Z"
    }
   },
   "outputs": [
    {
     "data": {
      "text/plain": [
       "0.5046818121736791"
      ]
     },
     "execution_count": 15,
     "metadata": {},
     "output_type": "execute_result"
    }
   ],
   "source": [
    "(cov[0][0] + cov[1][1] + (mean[0]-mean[1])**2  - 2*gamma)/2"
   ]
  }
 ],
 "metadata": {
  "kernelspec": {
   "display_name": "Python 3",
   "language": "python",
   "name": "python3"
  },
  "language_info": {
   "codemirror_mode": {
    "name": "ipython",
    "version": 3
   },
   "file_extension": ".py",
   "mimetype": "text/x-python",
   "name": "python",
   "nbconvert_exporter": "python",
   "pygments_lexer": "ipython3",
   "version": "3.7.7"
  },
  "toc": {
   "base_numbering": 1,
   "nav_menu": {},
   "number_sections": true,
   "sideBar": true,
   "skip_h1_title": false,
   "title_cell": "Table of Contents",
   "title_sidebar": "Contents",
   "toc_cell": false,
   "toc_position": {},
   "toc_section_display": true,
   "toc_window_display": false
  }
 },
 "nbformat": 4,
 "nbformat_minor": 4
}

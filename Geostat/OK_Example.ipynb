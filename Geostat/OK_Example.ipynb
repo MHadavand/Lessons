{
 "cells": [
  {
   "cell_type": "markdown",
   "id": "7d2950cb",
   "metadata": {},
   "source": [
    "---\n",
    "# <span style='color:#1B127A;'> Setup </span>"
   ]
  },
  {
   "cell_type": "code",
   "execution_count": 1,
   "id": "1c099cb1",
   "metadata": {
    "ExecuteTime": {
     "end_time": "2022-11-19T04:26:00.928937Z",
     "start_time": "2022-11-19T04:25:55.561239Z"
    }
   },
   "outputs": [
    {
     "name": "stdout",
     "output_type": "stream",
     "text": [
      "License 080ebbe4103361ec checked out by hadavand@resmodsol.com to f087b30fe8f0d8d6 expires in 30 minutes. RMSP version 1.8.12 is out of date. There is a new version 1.10.1 featuring smooth univariate and multivariate transformers, isosurfaces for generating meshes from grids, and major speedups to subgrid from solid generation, as well as a number of other optimizations, improvements, and fixes! Visit https://portal.resourcemodelingsolutions.com to download the updated version. After upgrading this message may not update immediately.\n",
      "\n",
      "Python and RMSP Versions Support Information:\n",
      " - python version: sys.version_info(major=3, minor=7, micro=7, releaselevel='final', serial=0)\n",
      " - rmsp version: 1.8.12\n",
      " - numpy version: 1.21.5\n",
      " - pandas version: 1.3.4\n",
      " - matplotlib version: 3.1.3\n",
      " - platform: Windows-10-10.0.19041-SP0\n",
      "\n",
      "For documentation and self service assistance please visit https://portal.resourcemodelingsolutions.com\n",
      "For additional support please contact Resource Modeling Solutions at support@resmodsol.com\n",
      "\n"
     ]
    }
   ],
   "source": [
    "import rmsp\n",
    "rmsp.activate()\n",
    "rmsp.support()"
   ]
  },
  {
   "cell_type": "code",
   "execution_count": 7,
   "id": "21dba977",
   "metadata": {
    "ExecuteTime": {
     "end_time": "2022-11-19T04:59:19.374366Z",
     "start_time": "2022-11-19T04:59:19.283329Z"
    }
   },
   "outputs": [],
   "source": [
    "import numpy as np\n",
    "import pandas as pd\n",
    "import matplotlib as mpl\n",
    "import matplotlib.pyplot as plt\n",
    "import sys, os\n",
    "%load_ext autoreload\n",
    "%autoreload 2"
   ]
  },
  {
   "cell_type": "markdown",
   "id": "888c9022",
   "metadata": {},
   "source": [
    "## <span style='color:#5177F9;'> Setup Data</span>"
   ]
  },
  {
   "cell_type": "code",
   "execution_count": 8,
   "id": "95565737",
   "metadata": {
    "ExecuteTime": {
     "end_time": "2022-11-19T04:59:26.605752Z",
     "start_time": "2022-11-19T04:59:26.506660Z"
    }
   },
   "outputs": [
    {
     "data": {
      "text/html": [
       "<div>\n",
       "<style scoped>\n",
       "    .dataframe tbody tr th:only-of-type {\n",
       "        vertical-align: middle;\n",
       "    }\n",
       "\n",
       "    .dataframe tbody tr th {\n",
       "        vertical-align: top;\n",
       "    }\n",
       "\n",
       "    .dataframe thead th {\n",
       "        text-align: right;\n",
       "    }\n",
       "</style>\n",
       "<table border=\"1\" class=\"dataframe\">\n",
       "  <thead>\n",
       "    <tr style=\"text-align: right;\">\n",
       "      <th></th>\n",
       "      <th>DHID</th>\n",
       "      <th>X</th>\n",
       "      <th>Y</th>\n",
       "      <th>Z</th>\n",
       "      <th>V</th>\n",
       "    </tr>\n",
       "  </thead>\n",
       "  <tbody>\n",
       "    <tr>\n",
       "      <th>0</th>\n",
       "      <td>1</td>\n",
       "      <td>61.0</td>\n",
       "      <td>139.0</td>\n",
       "      <td>0.0</td>\n",
       "      <td>477</td>\n",
       "    </tr>\n",
       "    <tr>\n",
       "      <th>1</th>\n",
       "      <td>2</td>\n",
       "      <td>63.0</td>\n",
       "      <td>140.0</td>\n",
       "      <td>0.0</td>\n",
       "      <td>696</td>\n",
       "    </tr>\n",
       "    <tr>\n",
       "      <th>2</th>\n",
       "      <td>3</td>\n",
       "      <td>64.0</td>\n",
       "      <td>129.0</td>\n",
       "      <td>0.0</td>\n",
       "      <td>227</td>\n",
       "    </tr>\n",
       "    <tr>\n",
       "      <th>3</th>\n",
       "      <td>4</td>\n",
       "      <td>68.0</td>\n",
       "      <td>128.0</td>\n",
       "      <td>0.0</td>\n",
       "      <td>646</td>\n",
       "    </tr>\n",
       "    <tr>\n",
       "      <th>4</th>\n",
       "      <td>5</td>\n",
       "      <td>71.0</td>\n",
       "      <td>140.0</td>\n",
       "      <td>0.0</td>\n",
       "      <td>606</td>\n",
       "    </tr>\n",
       "  </tbody>\n",
       "</table>\n",
       "</div>"
      ],
      "text/plain": [
       "   DHID     X      Y    Z    V\n",
       "0     1  61.0  139.0  0.0  477\n",
       "1     2  63.0  140.0  0.0  696\n",
       "2     3  64.0  129.0  0.0  227\n",
       "3     4  68.0  128.0  0.0  646\n",
       "4     5  71.0  140.0  0.0  606"
      ]
     },
     "execution_count": 8,
     "metadata": {},
     "output_type": "execute_result"
    }
   ],
   "source": [
    "data = rmsp.PointData(\n",
    "    {\n",
    "        \"DHID\": [1, 2, 3, 4, 5, 6, 7],\n",
    "        \"X\": [61, 63, 64, 68, 71, 73, 75],\n",
    "        \"Y\": [139, 140, 129, 128, 140, 141, 128],\n",
    "        \"Z\": [0, 0, 0, 0, 0, 0, 0],\n",
    "        \"V\": [477, 696, 227, 646, 606, 791, 783]\n",
    "    }, x='X', y='Y', z='Z', dhid='DHID'\n",
    ")\n",
    "data.head()"
   ]
  },
  {
   "cell_type": "code",
   "execution_count": 9,
   "id": "c3e7c6eb",
   "metadata": {
    "ExecuteTime": {
     "end_time": "2022-11-19T04:59:27.114345Z",
     "start_time": "2022-11-19T04:59:27.035845Z"
    }
   },
   "outputs": [],
   "source": [
    "location = rmsp.PointData(\n",
    "    {\n",
    "        \"DHID\": [0],\n",
    "        \"X\": [65],\n",
    "        \"Y\": [137],\n",
    "        \"Z\": [0],\n",
    "    }, x='X', y='Y', z='Z', dhid='DHID'\n",
    ")"
   ]
  },
  {
   "cell_type": "markdown",
   "id": "5018d12f",
   "metadata": {},
   "source": [
    "---\n",
    "# <span style='color:#1B127A;'>Estimate </span>"
   ]
  },
  {
   "cell_type": "markdown",
   "id": "f031608f",
   "metadata": {},
   "source": [
    "## <span style='color:#5177F9;'> OK </span>"
   ]
  },
  {
   "cell_type": "code",
   "execution_count": 13,
   "id": "29ed1ae2",
   "metadata": {
    "ExecuteTime": {
     "end_time": "2022-11-19T05:19:09.878954Z",
     "start_time": "2022-11-19T05:19:09.787953Z"
    }
   },
   "outputs": [
    {
     "data": {
      "text/html": [
       "<div>\n",
       "<style scoped>\n",
       "    .dataframe tbody tr th:only-of-type {\n",
       "        vertical-align: middle;\n",
       "    }\n",
       "\n",
       "    .dataframe tbody tr th {\n",
       "        vertical-align: top;\n",
       "    }\n",
       "\n",
       "    .dataframe thead th {\n",
       "        text-align: right;\n",
       "    }\n",
       "</style>\n",
       "<table border=\"1\" class=\"dataframe\">\n",
       "  <thead>\n",
       "    <tr style=\"text-align: right;\">\n",
       "      <th></th>\n",
       "      <th>Nugget</th>\n",
       "      <th>Structure 1</th>\n",
       "    </tr>\n",
       "  </thead>\n",
       "  <tbody>\n",
       "    <tr>\n",
       "      <th>Contribution</th>\n",
       "      <td>0.000</td>\n",
       "      <td>10.000</td>\n",
       "    </tr>\n",
       "    <tr>\n",
       "      <th>Model Shape</th>\n",
       "      <td></td>\n",
       "      <td>exponential</td>\n",
       "    </tr>\n",
       "    <tr>\n",
       "      <th>Angle 1</th>\n",
       "      <td></td>\n",
       "      <td>0.0</td>\n",
       "    </tr>\n",
       "    <tr>\n",
       "      <th>Angle 2</th>\n",
       "      <td></td>\n",
       "      <td>0.0</td>\n",
       "    </tr>\n",
       "    <tr>\n",
       "      <th>Angle 3</th>\n",
       "      <td></td>\n",
       "      <td>0.0</td>\n",
       "    </tr>\n",
       "    <tr>\n",
       "      <th>Range 1</th>\n",
       "      <td></td>\n",
       "      <td>10.0</td>\n",
       "    </tr>\n",
       "    <tr>\n",
       "      <th>Range 2</th>\n",
       "      <td></td>\n",
       "      <td>10.0</td>\n",
       "    </tr>\n",
       "    <tr>\n",
       "      <th>Range 3</th>\n",
       "      <td></td>\n",
       "      <td>10.0</td>\n",
       "    </tr>\n",
       "  </tbody>\n",
       "</table>\n",
       "</div>"
      ],
      "text/plain": [
       "             Nugget  Structure 1\n",
       "Contribution  0.000       10.000\n",
       "Model Shape          exponential\n",
       "Angle 1                      0.0\n",
       "Angle 2                      0.0\n",
       "Angle 3                      0.0\n",
       "Range 1                     10.0\n",
       "Range 2                     10.0\n",
       "Range 3                     10.0"
      ]
     },
     "execution_count": 13,
     "metadata": {},
     "output_type": "execute_result"
    }
   ],
   "source": [
    "varstr = \"\"\"1    0.0                         -nst, nugget effect\n",
    "            2    10  0.0   0.0   0.0        -it,cc,ang1,ang2,ang3\n",
    "            10.0  10.0  10.0            -a_hmax, a_hmin, a_vert\"\"\"\n",
    "variomodel = rmsp.VarioModel(vario_str=varstr)\n",
    "variomodel.to_table()"
   ]
  },
  {
   "cell_type": "code",
   "execution_count": 17,
   "id": "f537ebec",
   "metadata": {
    "ExecuteTime": {
     "end_time": "2022-11-19T05:19:52.872070Z",
     "start_time": "2022-11-19T05:19:52.792087Z"
    }
   },
   "outputs": [],
   "source": [
    "ok_est = rmsp.KrigeEstimator(\n",
    "    ktype=\"ok\",\n",
    "    search=rmsp.Search(ranges=[100] * 3, min_comps=1, max_comps=20),\n",
    "    vario=variomodel,\n",
    ")"
   ]
  },
  {
   "cell_type": "code",
   "execution_count": 31,
   "id": "bda2799a",
   "metadata": {
    "ExecuteTime": {
     "end_time": "2022-11-22T15:33:21.683401Z",
     "start_time": "2022-11-22T15:33:21.591901Z"
    }
   },
   "outputs": [
    {
     "data": {
      "text/html": [
       "<div>\n",
       "<style scoped>\n",
       "    .dataframe tbody tr th:only-of-type {\n",
       "        vertical-align: middle;\n",
       "    }\n",
       "\n",
       "    .dataframe tbody tr th {\n",
       "        vertical-align: top;\n",
       "    }\n",
       "\n",
       "    .dataframe thead th {\n",
       "        text-align: right;\n",
       "    }\n",
       "</style>\n",
       "<table border=\"1\" class=\"dataframe\">\n",
       "  <thead>\n",
       "    <tr style=\"text-align: right;\">\n",
       "      <th></th>\n",
       "      <th>DHID</th>\n",
       "      <th>X</th>\n",
       "      <th>Y</th>\n",
       "      <th>Z</th>\n",
       "      <th>estimate</th>\n",
       "      <th>estimate_var</th>\n",
       "    </tr>\n",
       "  </thead>\n",
       "  <tbody>\n",
       "    <tr>\n",
       "      <th>0</th>\n",
       "      <td>0</td>\n",
       "      <td>65.0</td>\n",
       "      <td>137.0</td>\n",
       "      <td>0.0</td>\n",
       "      <td>592.728943</td>\n",
       "      <td>8.956053</td>\n",
       "    </tr>\n",
       "  </tbody>\n",
       "</table>\n",
       "</div>"
      ],
      "text/plain": [
       "   DHID     X      Y    Z    estimate  estimate_var\n",
       "0     0  65.0  137.0  0.0  592.728943      8.956053"
      ]
     },
     "execution_count": 31,
     "metadata": {},
     "output_type": "execute_result"
    }
   ],
   "source": [
    "ok_est.estimate(\n",
    "    location, data, \"V\", output=[\"estimate\", \"estimate_var\"], accumulate_weights=True\n",
    ")"
   ]
  },
  {
   "cell_type": "code",
   "execution_count": 33,
   "id": "b3793e24",
   "metadata": {
    "ExecuteTime": {
     "end_time": "2022-11-22T15:33:29.064828Z",
     "start_time": "2022-11-22T15:33:28.978829Z"
    }
   },
   "outputs": [
    {
     "data": {
      "text/plain": [
       "0    0.172937\n",
       "1    0.317794\n",
       "2    0.128734\n",
       "3    0.086397\n",
       "4    0.151128\n",
       "5    0.057235\n",
       "6    0.085776\n",
       "dtype: float64"
      ]
     },
     "execution_count": 33,
     "metadata": {},
     "output_type": "execute_result"
    }
   ],
   "source": [
    "ok_est.get_cumulative_weights()"
   ]
  },
  {
   "cell_type": "markdown",
   "id": "aecd68ed",
   "metadata": {},
   "source": [
    "### <span style='color:#51AFF9;'> Scaling variogram </span>\n",
    "\n",
    "Note that this is the scaling of the variogram and not the continuity ranges.\n",
    "\n",
    "$\\gamma_2 = 2\\times \\gamma_1$\n",
    "\n",
    "Therefore, its effect is just focused on increasing the stationary variance."
   ]
  },
  {
   "cell_type": "code",
   "execution_count": 28,
   "id": "376e947a",
   "metadata": {
    "ExecuteTime": {
     "end_time": "2022-11-22T15:28:06.755156Z",
     "start_time": "2022-11-22T15:28:06.469156Z"
    }
   },
   "outputs": [
    {
     "data": {
      "text/plain": [
       "<matplotlib.legend.Legend at 0x256d43eed08>"
      ]
     },
     "execution_count": 28,
     "metadata": {},
     "output_type": "execute_result"
    },
    {
     "data": {
      "image/png": "[encoded data removed]",
      "text/plain": [
       "<Figure size 432x288 with 1 Axes>"
      ]
     },
     "metadata": {
      "needs_background": "light"
     },
     "output_type": "display_data"
    }
   ],
   "source": [
    "varstr_scaled = \"\"\"1    0.0                         -nst, nugget effect\n",
    "            2    20  0.0   0.0   0.0        -it,cc,ang1,ang2,ang3\n",
    "            10.0  10.0  10.0            -a_hmax, a_hmin, a_vert\"\"\"\n",
    "variomodel_scaled = rmsp.VarioModel(vario_str=varstr_scaled)\n",
    "fig,ax = variomodel.plot(c='b', label='Original', ylim=[0,20], sill=None)\n",
    "variomodel_scaled.plot_draw(ax, c='r', label='Scaled: 2x')\n",
    "ax.legend()"
   ]
  },
  {
   "cell_type": "markdown",
   "id": "0f4519b8",
   "metadata": {},
   "source": [
    "Rescaling the variogram values has not affected the ordinary kriging weights or the ordinary kriging estimate; however, it has affected the ordinary kriging variance. These effects will be observed with any rescaling; while the estimate itself is unchanged, the estimation variance increases by the same factor that was used to scale the variogram"
   ]
  },
  {
   "cell_type": "code",
   "execution_count": 35,
   "id": "d11ab3eb",
   "metadata": {
    "ExecuteTime": {
     "end_time": "2022-11-22T15:33:46.391202Z",
     "start_time": "2022-11-22T15:33:46.301203Z"
    }
   },
   "outputs": [
    {
     "data": {
      "text/html": [
       "<div>\n",
       "<style scoped>\n",
       "    .dataframe tbody tr th:only-of-type {\n",
       "        vertical-align: middle;\n",
       "    }\n",
       "\n",
       "    .dataframe tbody tr th {\n",
       "        vertical-align: top;\n",
       "    }\n",
       "\n",
       "    .dataframe thead th {\n",
       "        text-align: right;\n",
       "    }\n",
       "</style>\n",
       "<table border=\"1\" class=\"dataframe\">\n",
       "  <thead>\n",
       "    <tr style=\"text-align: right;\">\n",
       "      <th></th>\n",
       "      <th>DHID</th>\n",
       "      <th>X</th>\n",
       "      <th>Y</th>\n",
       "      <th>Z</th>\n",
       "      <th>estimate</th>\n",
       "      <th>estimate_var</th>\n",
       "    </tr>\n",
       "  </thead>\n",
       "  <tbody>\n",
       "    <tr>\n",
       "      <th>0</th>\n",
       "      <td>0</td>\n",
       "      <td>65.0</td>\n",
       "      <td>137.0</td>\n",
       "      <td>0.0</td>\n",
       "      <td>592.728943</td>\n",
       "      <td>17.912106</td>\n",
       "    </tr>\n",
       "  </tbody>\n",
       "</table>\n",
       "</div>"
      ],
      "text/plain": [
       "   DHID     X      Y    Z    estimate  estimate_var\n",
       "0     0  65.0  137.0  0.0  592.728943     17.912106"
      ]
     },
     "execution_count": 35,
     "metadata": {},
     "output_type": "execute_result"
    }
   ],
   "source": [
    "ok_est_scale = rmsp.KrigeEstimator(\n",
    "    ktype=\"ok\",\n",
    "    search=rmsp.Search(ranges=[100] * 3, min_comps=1, max_comps=20),\n",
    "    vario=variomodel_scaled,\n",
    ")\n",
    "ok_est_scale.estimate(location, data, 'V',output=['estimate', 'estimate_var'], accumulate_weights=True)"
   ]
  },
  {
   "cell_type": "code",
   "execution_count": 36,
   "id": "e7908587",
   "metadata": {
    "ExecuteTime": {
     "end_time": "2022-11-22T15:33:46.577204Z",
     "start_time": "2022-11-22T15:33:46.490705Z"
    }
   },
   "outputs": [
    {
     "data": {
      "text/plain": [
       "0    0.172937\n",
       "1    0.317794\n",
       "2    0.128734\n",
       "3    0.086397\n",
       "4    0.151128\n",
       "5    0.057235\n",
       "6    0.085776\n",
       "dtype: float64"
      ]
     },
     "execution_count": 36,
     "metadata": {},
     "output_type": "execute_result"
    }
   ],
   "source": [
    "ok_est_scale.get_cumulative_weights()"
   ]
  },
  {
   "cell_type": "code",
   "execution_count": null,
   "id": "f02701a9",
   "metadata": {},
   "outputs": [],
   "source": []
  }
 ],
 "metadata": {
  "kernelspec": {
   "display_name": "Python 3",
   "language": "python",
   "name": "python3"
  },
  "language_info": {
   "codemirror_mode": {
    "name": "ipython",
    "version": 3
   },
   "file_extension": ".py",
   "mimetype": "text/x-python",
   "name": "python",
   "nbconvert_exporter": "python",
   "pygments_lexer": "ipython3",
   "version": "3.7.7"
  },
  "toc": {
   "base_numbering": 1,
   "nav_menu": {},
   "number_sections": true,
   "sideBar": true,
   "skip_h1_title": false,
   "title_cell": "Table of Contents",
   "title_sidebar": "Contents",
   "toc_cell": false,
   "toc_position": {},
   "toc_section_display": true,
   "toc_window_display": false
  }
 },
 "nbformat": 4,
 "nbformat_minor": 5
}

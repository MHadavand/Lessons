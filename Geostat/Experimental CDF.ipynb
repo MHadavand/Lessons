{
 "cells": [
  {
   "cell_type": "code",
   "execution_count": 1,
   "metadata": {
    "ExecuteTime": {
     "end_time": "2021-04-09T04:11:37.023755Z",
     "start_time": "2021-04-09T04:11:35.251430Z"
    }
   },
   "outputs": [],
   "source": [
    "import pygeostat as gs\n",
    "import numpy as np\n",
    "from matplotlib import pyplot as plt"
   ]
  },
  {
   "cell_type": "markdown",
   "metadata": {},
   "source": [
    "<h1 style='color:#1B127A;'>\n",
    "Calculating experimental CDF\n",
    "</h1>"
   ]
  },
  {
   "cell_type": "markdown",
   "metadata": {},
   "source": [
    "<h2 style='color:#5177F9;'>\n",
    "Variable and weights setup\n",
    "</h2>"
   ]
  },
  {
   "cell_type": "code",
   "execution_count": 7,
   "metadata": {
    "ExecuteTime": {
     "end_time": "2021-04-09T04:11:48.295954Z",
     "start_time": "2021-04-09T04:11:48.287981Z"
    }
   },
   "outputs": [],
   "source": [
    "var = np.random.normal(0, 1, 50)\n",
    "weights = np.ones(var.shape)\n",
    "\n",
    "weights = weights / np.sum(weights) # normalize weights to sum to 1 (unbiassed mean)"
   ]
  },
  {
   "cell_type": "markdown",
   "metadata": {},
   "source": [
    "<h2 style='color:#5177F9;'>\n",
    "CDF by Simple Cumulative Sum\n",
    "</h2>\n",
    "\n",
    "Calculate the experimental CDF as the average of the previous CDF and the newly incremented one"
   ]
  },
  {
   "cell_type": "code",
   "execution_count": 8,
   "metadata": {
    "ExecuteTime": {
     "end_time": "2021-04-09T04:11:48.735111Z",
     "start_time": "2021-04-09T04:11:48.727113Z"
    }
   },
   "outputs": [],
   "source": [
    "order = var.argsort()\n",
    "midpoints = var[order]\n",
    "cdf = np.cumsum(weights[order])"
   ]
  },
  {
   "cell_type": "markdown",
   "metadata": {},
   "source": [
    "<h2 style='color:#5177F9;'>\n",
    "CDF rolling average of cumulative sum\n",
    "</h2>\n",
    "\n",
    "This provides a representative experimental CDF as it does not consider the highest sample value the highest possible observation."
   ]
  },
  {
   "cell_type": "code",
   "execution_count": 9,
   "metadata": {
    "ExecuteTime": {
     "end_time": "2021-04-09T04:11:49.159590Z",
     "start_time": "2021-04-09T04:11:49.150591Z"
    }
   },
   "outputs": [],
   "source": [
    "cps = []\n",
    "cp_old = 0\n",
    "cp = 0\n",
    "for wt in weights[order]:\n",
    "    cp = cp + wt\n",
    "    cps.append((cp+cp_old)/2)\n",
    "    cp_old = cp\n",
    "cdf_rep= np.array(cps)"
   ]
  },
  {
   "cell_type": "code",
   "execution_count": 10,
   "metadata": {
    "ExecuteTime": {
     "end_time": "2021-04-09T04:11:49.380682Z",
     "start_time": "2021-04-09T04:11:49.374680Z"
    }
   },
   "outputs": [],
   "source": [
    "# or using numpy\n",
    "cum = np.cumsum(weights[order])\n",
    "cum_r = np.roll(cum,1)\n",
    "cum_r[0] = 0.0\n",
    "cdf_rep_np=np.mean([cum, cum_r], axis=0)"
   ]
  },
  {
   "cell_type": "code",
   "execution_count": 12,
   "metadata": {
    "ExecuteTime": {
     "end_time": "2021-04-09T04:11:57.649212Z",
     "start_time": "2021-04-09T04:11:57.538922Z"
    }
   },
   "outputs": [
    {
     "data": {
      "image/png": "[encoded data removed]",
      "text/plain": [
       "<Figure size 432x288 with 1 Axes>"
      ]
     },
     "metadata": {
      "needs_background": "light"
     },
     "output_type": "display_data"
    }
   ],
   "source": [
    "fig, ax = plt.subplots(1,1)\n",
    "ax.plot(midpoints, cdf, ls='--', c='C1', lw=3, label='Simple Cumulative')\n",
    "ax.plot(midpoints, cdf_rep, ls = '-', c='C2', label='Averaged Cumulative')\n",
    "ax.plot(midpoints, cdf_rep_np, ls=':', c='C3', lw=3, label='Averageed Cumulative (fast)')\n",
    "_ = ax.legend(fontsize=12)"
   ]
  }
 ],
 "metadata": {
  "kernelspec": {
   "display_name": "Python 3",
   "language": "python",
   "name": "python3"
  },
  "language_info": {
   "codemirror_mode": {
    "name": "ipython",
    "version": 3
   },
   "file_extension": ".py",
   "mimetype": "text/x-python",
   "name": "python",
   "nbconvert_exporter": "python",
   "pygments_lexer": "ipython3",
   "version": "3.7.7"
  },
  "toc": {
   "base_numbering": 1,
   "nav_menu": {},
   "number_sections": true,
   "sideBar": true,
   "skip_h1_title": false,
   "title_cell": "Table of Contents",
   "title_sidebar": "Contents",
   "toc_cell": false,
   "toc_position": {},
   "toc_section_display": true,
   "toc_window_display": false
  }
 },
 "nbformat": 4,
 "nbformat_minor": 4
}

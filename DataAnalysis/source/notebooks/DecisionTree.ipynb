{
 "cells": [
  {
   "cell_type": "code",
   "execution_count": 1,
   "metadata": {
    "ExecuteTime": {
     "end_time": "2018-07-31T02:46:35.163789Z",
     "start_time": "2018-07-31T02:46:34.410255Z"
    }
   },
   "outputs": [],
   "source": [
    "import pandas as pd\n",
    "import numpy as np\n",
    "import warnings\n",
    "import matplotlib.pyplot as plt\n",
    "warnings.filterwarnings('ignore')\n",
    "%matplotlib inline"
   ]
  },
  {
   "cell_type": "markdown",
   "metadata": {},
   "source": [
    "# Decision Tree and Ensemble Learning"
   ]
  },
  {
   "cell_type": "markdown",
   "metadata": {},
   "source": [
    "## Decision Tree\n",
    "\n",
    "A decision tree may be described as a set of decisions/categorization steps that help you to classify your data into predefined classes. This helps you to solve a classification problem. \n",
    "\n",
    "For example, consider the following data set related to playing tennis in a specific day based on weather condition parameters. Based on the provided parameters, we are need to come up with a decision tree that helps us to decide whether the player plays tennis on a specific day based on four weather related parameters including outlook, temperature, humidity and wind condition."
   ]
  },
  {
   "cell_type": "code",
   "execution_count": 2,
   "metadata": {
    "ExecuteTime": {
     "end_time": "2018-07-31T02:46:35.202766Z",
     "start_time": "2018-07-31T02:46:35.165787Z"
    }
   },
   "outputs": [
    {
     "data": {
      "text/html": [
       "<div>\n",
       "<style scoped>\n",
       "    .dataframe tbody tr th:only-of-type {\n",
       "        vertical-align: middle;\n",
       "    }\n",
       "\n",
       "    .dataframe tbody tr th {\n",
       "        vertical-align: top;\n",
       "    }\n",
       "\n",
       "    .dataframe thead th {\n",
       "        text-align: right;\n",
       "    }\n",
       "</style>\n",
       "<table border=\"1\" class=\"dataframe\">\n",
       "  <thead>\n",
       "    <tr style=\"text-align: right;\">\n",
       "      <th></th>\n",
       "      <th>Outlook</th>\n",
       "      <th>Temperature</th>\n",
       "      <th>Humidity</th>\n",
       "      <th>Wind</th>\n",
       "      <th>PlayTennis</th>\n",
       "    </tr>\n",
       "  </thead>\n",
       "  <tbody>\n",
       "    <tr>\n",
       "      <th>0</th>\n",
       "      <td>Sunny</td>\n",
       "      <td>Hot</td>\n",
       "      <td>High</td>\n",
       "      <td>False</td>\n",
       "      <td>No</td>\n",
       "    </tr>\n",
       "    <tr>\n",
       "      <th>1</th>\n",
       "      <td>Sunny</td>\n",
       "      <td>Hot</td>\n",
       "      <td>High</td>\n",
       "      <td>True</td>\n",
       "      <td>No</td>\n",
       "    </tr>\n",
       "    <tr>\n",
       "      <th>2</th>\n",
       "      <td>Overcast</td>\n",
       "      <td>Hot</td>\n",
       "      <td>High</td>\n",
       "      <td>False</td>\n",
       "      <td>Yes</td>\n",
       "    </tr>\n",
       "    <tr>\n",
       "      <th>3</th>\n",
       "      <td>Rainy</td>\n",
       "      <td>Mild</td>\n",
       "      <td>High</td>\n",
       "      <td>False</td>\n",
       "      <td>Yes</td>\n",
       "    </tr>\n",
       "    <tr>\n",
       "      <th>4</th>\n",
       "      <td>Rainy</td>\n",
       "      <td>Cool</td>\n",
       "      <td>Normal</td>\n",
       "      <td>False</td>\n",
       "      <td>Yes</td>\n",
       "    </tr>\n",
       "    <tr>\n",
       "      <th>5</th>\n",
       "      <td>Rainy</td>\n",
       "      <td>Cool</td>\n",
       "      <td>Normal</td>\n",
       "      <td>True</td>\n",
       "      <td>No</td>\n",
       "    </tr>\n",
       "    <tr>\n",
       "      <th>6</th>\n",
       "      <td>Overcast</td>\n",
       "      <td>Cool</td>\n",
       "      <td>Normal</td>\n",
       "      <td>True</td>\n",
       "      <td>Yes</td>\n",
       "    </tr>\n",
       "    <tr>\n",
       "      <th>7</th>\n",
       "      <td>Sunny</td>\n",
       "      <td>Mild</td>\n",
       "      <td>High</td>\n",
       "      <td>False</td>\n",
       "      <td>No</td>\n",
       "    </tr>\n",
       "    <tr>\n",
       "      <th>8</th>\n",
       "      <td>Sunny</td>\n",
       "      <td>Cool</td>\n",
       "      <td>Normal</td>\n",
       "      <td>False</td>\n",
       "      <td>Yes</td>\n",
       "    </tr>\n",
       "    <tr>\n",
       "      <th>9</th>\n",
       "      <td>Rainy</td>\n",
       "      <td>Mild</td>\n",
       "      <td>Normal</td>\n",
       "      <td>False</td>\n",
       "      <td>Yes</td>\n",
       "    </tr>\n",
       "    <tr>\n",
       "      <th>10</th>\n",
       "      <td>Sunny</td>\n",
       "      <td>Mild</td>\n",
       "      <td>Normal</td>\n",
       "      <td>True</td>\n",
       "      <td>Yes</td>\n",
       "    </tr>\n",
       "    <tr>\n",
       "      <th>11</th>\n",
       "      <td>Overcast</td>\n",
       "      <td>Mild</td>\n",
       "      <td>High</td>\n",
       "      <td>True</td>\n",
       "      <td>Yes</td>\n",
       "    </tr>\n",
       "    <tr>\n",
       "      <th>12</th>\n",
       "      <td>Overcast</td>\n",
       "      <td>Hot</td>\n",
       "      <td>Normal</td>\n",
       "      <td>False</td>\n",
       "      <td>Yes</td>\n",
       "    </tr>\n",
       "    <tr>\n",
       "      <th>13</th>\n",
       "      <td>Rainy</td>\n",
       "      <td>Mild</td>\n",
       "      <td>High</td>\n",
       "      <td>True</td>\n",
       "      <td>No</td>\n",
       "    </tr>\n",
       "  </tbody>\n",
       "</table>\n",
       "</div>"
      ],
      "text/plain": [
       "     Outlook Temperature Humidity   Wind PlayTennis\n",
       "0      Sunny         Hot     High  False         No\n",
       "1      Sunny         Hot     High   True         No\n",
       "2   Overcast         Hot     High  False        Yes\n",
       "3      Rainy        Mild     High  False        Yes\n",
       "4      Rainy        Cool   Normal  False        Yes\n",
       "5      Rainy        Cool   Normal   True         No\n",
       "6   Overcast        Cool   Normal   True        Yes\n",
       "7      Sunny        Mild     High  False         No\n",
       "8      Sunny        Cool   Normal  False        Yes\n",
       "9      Rainy        Mild   Normal  False        Yes\n",
       "10     Sunny        Mild   Normal   True        Yes\n",
       "11  Overcast        Mild     High   True        Yes\n",
       "12  Overcast         Hot   Normal  False        Yes\n",
       "13     Rainy        Mild     High   True         No"
      ]
     },
     "execution_count": 2,
     "metadata": {},
     "output_type": "execute_result"
    }
   ],
   "source": [
    "data_dict = {\n",
    "    'Outlook' : ['Sunny', 'Sunny', 'Overcast', 'Rainy', 'Rainy', 'Rainy', 'Overcast', 'Sunny', 'Sunny','Rainy', 'Sunny', 'Overcast', 'Overcast', 'Rainy']\n",
    "    ,'Temperature': ['Hot', 'Hot', 'Hot', 'Mild', 'Cool', 'Cool', 'Cool', 'Mild', 'Cool', 'Mild','Mild','Mild', 'Hot', 'Mild']\n",
    "    ,'Humidity' : ['High', 'High', 'High', 'High', 'Normal', 'Normal', 'Normal', 'High','Normal','Normal', 'Normal', 'High', 'Normal', 'High']\n",
    "    ,'Wind': ['False', 'True', 'False', 'False', 'False', 'True', 'True', 'False', 'False', 'False', 'True', 'True', 'False', 'True']\n",
    "    ,'PlayTennis': ['No', 'No', 'Yes', 'Yes', 'Yes', 'No', 'Yes', 'No', 'Yes', 'Yes', 'Yes', 'Yes', 'Yes', 'No']\n",
    "}\n",
    "tennis_data = pd.DataFrame(data_dict, columns=data_dict.keys())\n",
    "tennis_data"
   ]
  },
  {
   "cell_type": "markdown",
   "metadata": {},
   "source": [
    "The following decision three helps us to use a set of decisions to solve our classification problem.\n",
    "![alt text](Figures/DT1.jpg \"Decison tree for tennis play problem\")"
   ]
  },
  {
   "cell_type": "markdown",
   "metadata": {},
   "source": [
    "### Order of decision; why Outlook is the first question/decision?\n",
    "\n",
    "The main question is why outlook was chosen as the first decision level. The answer is that the amount of **Information Grain** that is resolved by this decision is higher that the other decisions. This can be quantified using entropy which is a measure of randomness. Higher entropy means higher randomness and the amount of reduction in randomness based on a decision is called information gain."
   ]
  },
  {
   "cell_type": "code",
   "execution_count": 3,
   "metadata": {
    "ExecuteTime": {
     "end_time": "2018-07-31T02:46:35.210759Z",
     "start_time": "2018-07-31T02:46:35.204764Z"
    }
   },
   "outputs": [
    {
     "data": {
      "text/latex": [
       "\n",
       "Entropy = $-\\sum_{i=1}^{n} P_i\\times Log_b(P_i)$"
      ],
      "text/plain": [
       "<IPython.core.display.Latex object>"
      ]
     },
     "metadata": {},
     "output_type": "display_data"
    }
   ],
   "source": [
    "%%latex\n",
    "\n",
    "Entropy = $-\\sum_{i=1}^{n} P_i\\times Log_b(P_i)$"
   ]
  },
  {
   "cell_type": "markdown",
   "metadata": {},
   "source": [
    "Note: corresponding units of entropy are the bits for b = 2, nats for b = e, and bans for b = 10 where b is the base of the logarithm function"
   ]
  },
  {
   "cell_type": "code",
   "execution_count": 4,
   "metadata": {
    "ExecuteTime": {
     "end_time": "2018-07-31T02:46:35.217756Z",
     "start_time": "2018-07-31T02:46:35.212759Z"
    }
   },
   "outputs": [],
   "source": [
    "def entropy_calculate(prob_list):\n",
    "    \n",
    "    entropy = 0\n",
    "    for item in prob_list:\n",
    "        entropy -= item * np.log2(item) \n",
    "    return entropy"
   ]
  },
  {
   "cell_type": "markdown",
   "metadata": {},
   "source": [
    "### Entropy of the entire system\n",
    "Entropy of the entire system:\n",
    "14 observations: 9 Yes and 5 No"
   ]
  },
  {
   "cell_type": "code",
   "execution_count": 5,
   "metadata": {
    "ExecuteTime": {
     "end_time": "2018-07-31T02:46:35.235745Z",
     "start_time": "2018-07-31T02:46:35.220753Z"
    }
   },
   "outputs": [
    {
     "name": "stdout",
     "output_type": "stream",
     "text": [
      "Probabilities of No and Yes are 0.357, 0.643 respectively\n",
      "Entire syetems entropy is 0.940 bits\n"
     ]
    }
   ],
   "source": [
    "cases,counts = np.unique(tennis_data.PlayTennis,return_counts=True)\n",
    "P = [count/len(tennis_data) for count in counts]\n",
    "print('Probabilities of %s and %s are %.3f, %.3f respectively'%(cases[0],cases[1],P[0],P[1]))\n",
    "\n",
    "entropy_entire = entropy_calculate(P)\n",
    "\n",
    "print('Entire syetems entropy is %.3f bits'%entropy_entire)"
   ]
  },
  {
   "cell_type": "markdown",
   "metadata": {},
   "source": [
    "### Information Gain\n",
    "\n",
    "Lets calculate reduction in entropy for each decision. For each decision, entropy is calculated for each case under that decision and the a probability weighted average is calculated."
   ]
  },
  {
   "cell_type": "markdown",
   "metadata": {},
   "source": [
    "#### Outlook decision"
   ]
  },
  {
   "cell_type": "code",
   "execution_count": 6,
   "metadata": {
    "ExecuteTime": {
     "end_time": "2018-07-31T02:46:35.243740Z",
     "start_time": "2018-07-31T02:46:35.238744Z"
    }
   },
   "outputs": [
    {
     "name": "stdout",
     "output_type": "stream",
     "text": [
      "For outlook:\n",
      "\tProbabality of Overcast is 0.286\n",
      "\tProbabality of Rainy is 0.357\n",
      "\tProbabality of Sunny is 0.357\n"
     ]
    }
   ],
   "source": [
    "cases_outlook,counts_outlook= np.unique(tennis_data.Outlook,return_counts=True)\n",
    "P_outlook = [count/len(tennis_data) for count in counts_outlook]\n",
    "print('For outlook:')\n",
    "for case, prob in zip(cases_outlook,P_outlook):\n",
    "    print('\\tProbabality of %s is %.3f'%(case, prob))"
   ]
  },
  {
   "cell_type": "code",
   "execution_count": 7,
   "metadata": {
    "ExecuteTime": {
     "end_time": "2018-07-31T02:46:35.260729Z",
     "start_time": "2018-07-31T02:46:35.245739Z"
    }
   },
   "outputs": [
    {
     "name": "stdout",
     "output_type": "stream",
     "text": [
      "Entropy for Overcast is 0.00\n",
      "Entropy for Rainy is 0.97\n",
      "Entropy for Sunny is 0.97\n",
      "\n",
      "Entropy at Outlook decision level is 0.694\n",
      "\n",
      "Information gain is 0.247\n"
     ]
    }
   ],
   "source": [
    "entropy_outlook={}\n",
    "total_entropy_outlook=0\n",
    "for case, prob in zip(cases_outlook,P_outlook):\n",
    "    cases,counts = np.unique(tennis_data.PlayTennis[tennis_data.Outlook==case],return_counts=True)\n",
    "    P = [count/len(tennis_data[tennis_data.Outlook==case]) for count in counts]\n",
    "    entropy_outlook[case]=entropy_calculate(P)\n",
    "    total_entropy_outlook += entropy_calculate(P)*prob\n",
    "\n",
    "for case, entropy in entropy_outlook.items():\n",
    "    print('Entropy for %s is %.2f'%(case,entropy))\n",
    "print('\\nEntropy at Outlook decision level is %.3f'%total_entropy_outlook)\n",
    "print('\\nInformation gain is %.3f'%(entropy_entire- total_entropy_outlook))"
   ]
  },
  {
   "cell_type": "markdown",
   "metadata": {},
   "source": [
    "#### Temperature Decision"
   ]
  },
  {
   "cell_type": "code",
   "execution_count": 8,
   "metadata": {
    "ExecuteTime": {
     "end_time": "2018-07-31T02:46:35.268726Z",
     "start_time": "2018-07-31T02:46:35.262729Z"
    }
   },
   "outputs": [
    {
     "name": "stdout",
     "output_type": "stream",
     "text": [
      "For temperature:\n",
      "\tProbabality of Cool is 0.286\n",
      "\tProbabality of Hot is 0.286\n",
      "\tProbabality of Mild is 0.429\n"
     ]
    }
   ],
   "source": [
    "cases_temperature,counts_temperature= np.unique(tennis_data.Temperature,return_counts=True)\n",
    "P_temperature = [count/len(tennis_data) for count in counts_temperature]\n",
    "print('For temperature:')\n",
    "for case, prob in zip(cases_temperature,P_temperature):\n",
    "    print('\\tProbabality of %s is %.3f'%(case, prob))"
   ]
  },
  {
   "cell_type": "code",
   "execution_count": 9,
   "metadata": {
    "ExecuteTime": {
     "end_time": "2018-07-31T02:46:35.290710Z",
     "start_time": "2018-07-31T02:46:35.271723Z"
    }
   },
   "outputs": [
    {
     "name": "stdout",
     "output_type": "stream",
     "text": [
      "Entropy for Cool is 0.81\n",
      "Entropy for Hot is 1.00\n",
      "Entropy for Mild is 0.92\n",
      "\n",
      "Entropy at Temperature decision level is 0.911\n",
      "\n",
      "Information gain is 0.029\n"
     ]
    }
   ],
   "source": [
    "entropy_temperature={}\n",
    "total_entropy_temperature=0\n",
    "for case, prob in zip(cases_temperature,P_temperature):\n",
    "    cases,counts = np.unique(tennis_data.PlayTennis[tennis_data.Temperature==case],return_counts=True)\n",
    "    P = [count/len(tennis_data[tennis_data.Temperature==case]) for count in counts]\n",
    "    entropy_temperature[case]=entropy_calculate(P)\n",
    "    total_entropy_temperature += entropy_calculate(P)*prob\n",
    "\n",
    "for case, entropy in entropy_temperature.items():\n",
    "    print('Entropy for %s is %.2f'%(case,entropy))\n",
    "print('\\nEntropy at Temperature decision level is %.3f'%total_entropy_temperature)\n",
    "print('\\nInformation gain is %.3f'%(entropy_entire- total_entropy_temperature))"
   ]
  },
  {
   "cell_type": "markdown",
   "metadata": {},
   "source": [
    "#### Wind Decision"
   ]
  },
  {
   "cell_type": "code",
   "execution_count": 10,
   "metadata": {
    "ExecuteTime": {
     "end_time": "2018-07-31T02:46:35.298705Z",
     "start_time": "2018-07-31T02:46:35.292709Z"
    }
   },
   "outputs": [
    {
     "name": "stdout",
     "output_type": "stream",
     "text": [
      "For wind:\n",
      "\tProbabality of False is 0.571\n",
      "\tProbabality of True is 0.429\n"
     ]
    }
   ],
   "source": [
    "cases_wind,counts_wind= np.unique(tennis_data.Wind,return_counts=True)\n",
    "P_wind = [count/len(tennis_data) for count in counts_wind]\n",
    "print('For wind:')\n",
    "for case, prob in zip(cases_wind,P_wind):\n",
    "    print('\\tProbabality of %s is %.3f'%(case, prob))"
   ]
  },
  {
   "cell_type": "code",
   "execution_count": 11,
   "metadata": {
    "ExecuteTime": {
     "end_time": "2018-07-31T02:46:35.312698Z",
     "start_time": "2018-07-31T02:46:35.300704Z"
    }
   },
   "outputs": [
    {
     "name": "stdout",
     "output_type": "stream",
     "text": [
      "Entropy for False is 0.81\n",
      "Entropy for True is 1.00\n",
      "\n",
      "Entropy at Wind decision level is 0.892\n",
      "\n",
      "Information gain is 0.048\n"
     ]
    }
   ],
   "source": [
    "entropy_wind={}\n",
    "total_entropy_wind=0\n",
    "for case, prob in zip(cases_wind,P_wind):\n",
    "    cases,counts = np.unique(tennis_data.PlayTennis[tennis_data.Wind==case],return_counts=True)\n",
    "    P = [count/len(tennis_data[tennis_data.Wind==case]) for count in counts]\n",
    "    entropy_wind[case]=entropy_calculate(P)\n",
    "    total_entropy_wind += entropy_calculate(P)*prob\n",
    "\n",
    "for case, entropy in entropy_wind.items():\n",
    "    print('Entropy for %s is %.2f'%(case,entropy))\n",
    "print('\\nEntropy at Wind decision level is %.3f'%total_entropy_wind)\n",
    "print('\\nInformation gain is %.3f'%(entropy_entire- total_entropy_wind))"
   ]
  },
  {
   "cell_type": "markdown",
   "metadata": {},
   "source": [
    "#### Humidity Decision"
   ]
  },
  {
   "cell_type": "code",
   "execution_count": 12,
   "metadata": {
    "ExecuteTime": {
     "end_time": "2018-07-31T02:46:35.320692Z",
     "start_time": "2018-07-31T02:46:35.314696Z"
    }
   },
   "outputs": [
    {
     "name": "stdout",
     "output_type": "stream",
     "text": [
      "For humidity:\n",
      "\tProbabality of High is 0.500\n",
      "\tProbabality of Normal is 0.500\n"
     ]
    }
   ],
   "source": [
    "cases_humidity,counts_humidity= np.unique(tennis_data.Humidity,return_counts=True)\n",
    "P_humidity = [count/len(tennis_data) for count in counts_humidity]\n",
    "print('For humidity:')\n",
    "for case, prob in zip(cases_humidity,P_humidity):\n",
    "    print('\\tProbabality of %s is %.3f'%(case, prob))"
   ]
  },
  {
   "cell_type": "code",
   "execution_count": 13,
   "metadata": {
    "ExecuteTime": {
     "end_time": "2018-07-31T02:46:35.336683Z",
     "start_time": "2018-07-31T02:46:35.322691Z"
    }
   },
   "outputs": [
    {
     "name": "stdout",
     "output_type": "stream",
     "text": [
      "Entropy for High is 0.99\n",
      "Entropy for Normal is 0.59\n",
      "\n",
      "Entropy at Humidity decision level is 0.788\n",
      "\n",
      "Information gain is 0.152\n"
     ]
    }
   ],
   "source": [
    "entropy_humidity={}\n",
    "total_entropy_humidity=0\n",
    "for case, prob in zip(cases_humidity,P_humidity):\n",
    "    cases,counts = np.unique(tennis_data.PlayTennis[tennis_data.Humidity==case],return_counts=True)\n",
    "    P = [count/len(tennis_data[tennis_data.Humidity==case]) for count in counts]\n",
    "    entropy_humidity[case]=entropy_calculate(P)\n",
    "    total_entropy_humidity += entropy_calculate(P)*prob\n",
    "\n",
    "for case, entropy in entropy_humidity.items():\n",
    "    print('Entropy for %s is %.2f'%(case,entropy))\n",
    "print('\\nEntropy at Humidity decision level is %.3f'%total_entropy_humidity)\n",
    "print('\\nInformation gain is %.3f'%(entropy_entire- total_entropy_humidity))"
   ]
  },
  {
   "cell_type": "markdown",
   "metadata": {},
   "source": [
    "As shown above, by choosing outlook as the first decision/question, the highest reduction in entropy/randomness is achieved that corresponds to the highest **Information Gain**"
   ]
  },
  {
   "cell_type": "markdown",
   "metadata": {},
   "source": [
    "## Titanic Example"
   ]
  },
  {
   "cell_type": "code",
   "execution_count": 14,
   "metadata": {
    "ExecuteTime": {
     "end_time": "2018-07-31T02:46:35.577533Z",
     "start_time": "2018-07-31T02:46:35.338683Z"
    }
   },
   "outputs": [],
   "source": [
    "import urllib3\n",
    "import pandas as pd\n",
    "import certifi\n",
    "import re\n",
    "from bs4 import BeautifulSoup\n",
    "import warnings\n",
    "warnings.filterwarnings('ignore')"
   ]
  },
  {
   "cell_type": "markdown",
   "metadata": {},
   "source": [
    "### Loading data using BeautifulSoup and urlib3 as the htm client"
   ]
  },
  {
   "cell_type": "code",
   "execution_count": 15,
   "metadata": {
    "ExecuteTime": {
     "end_time": "2018-07-31T02:46:35.583529Z",
     "start_time": "2018-07-31T02:46:35.579533Z"
    }
   },
   "outputs": [],
   "source": [
    "html_address = 'https://www.encyclopedia-titanica.org/titanic-passengers-and-crew/'"
   ]
  },
  {
   "cell_type": "code",
   "execution_count": 16,
   "metadata": {
    "ExecuteTime": {
     "end_time": "2018-07-31T02:46:44.086026Z",
     "start_time": "2018-07-31T02:46:35.587527Z"
    }
   },
   "outputs": [],
   "source": [
    "http = urllib3.PoolManager(maxsize=10, cert_reqs='CERT_REQUIRED',ca_certs=certifi.where())\n",
    "r = http.request('GET', html_address) "
   ]
  },
  {
   "cell_type": "code",
   "execution_count": 17,
   "metadata": {
    "ExecuteTime": {
     "end_time": "2018-07-31T02:46:49.267820Z",
     "start_time": "2018-07-31T02:46:44.088025Z"
    }
   },
   "outputs": [],
   "source": [
    "soup = BeautifulSoup(r.data, 'html.parser')"
   ]
  },
  {
   "cell_type": "code",
   "execution_count": 18,
   "metadata": {
    "ExecuteTime": {
     "end_time": "2018-07-31T02:46:59.244638Z",
     "start_time": "2018-07-31T02:46:49.269816Z"
    }
   },
   "outputs": [
    {
     "data": {
      "text/html": [
       "<div>\n",
       "<style scoped>\n",
       "    .dataframe tbody tr th:only-of-type {\n",
       "        vertical-align: middle;\n",
       "    }\n",
       "\n",
       "    .dataframe tbody tr th {\n",
       "        vertical-align: top;\n",
       "    }\n",
       "\n",
       "    .dataframe thead th {\n",
       "        text-align: right;\n",
       "    }\n",
       "</style>\n",
       "<table border=\"1\" class=\"dataframe\">\n",
       "  <thead>\n",
       "    <tr style=\"text-align: right;\">\n",
       "      <th></th>\n",
       "      <th>Name</th>\n",
       "      <th>Age</th>\n",
       "      <th>Class/Dept</th>\n",
       "      <th>Ticket</th>\n",
       "      <th>Joined</th>\n",
       "      <th>Job</th>\n",
       "      <th>Boat [Body]</th>\n",
       "      <th>Unnamed: 7</th>\n",
       "    </tr>\n",
       "  </thead>\n",
       "  <tbody>\n",
       "    <tr>\n",
       "      <th>0</th>\n",
       "      <td>ABBING, Mr Anthony</td>\n",
       "      <td>42</td>\n",
       "      <td>3rd Class Passenger</td>\n",
       "      <td>5547£7 11s</td>\n",
       "      <td>Southampton</td>\n",
       "      <td>Blacksmith</td>\n",
       "      <td>NaN</td>\n",
       "      <td>NaN</td>\n",
       "    </tr>\n",
       "    <tr>\n",
       "      <th>1</th>\n",
       "      <td>ABBOTT, Mrs Rhoda Mary 'Rosa'</td>\n",
       "      <td>39</td>\n",
       "      <td>3rd Class Passenger</td>\n",
       "      <td>CA2673£20 5s</td>\n",
       "      <td>Southampton</td>\n",
       "      <td>NaN</td>\n",
       "      <td>A</td>\n",
       "      <td>NaN</td>\n",
       "    </tr>\n",
       "    <tr>\n",
       "      <th>2</th>\n",
       "      <td>ABBOTT, Mr Rossmore Edward</td>\n",
       "      <td>16</td>\n",
       "      <td>3rd Class Passenger</td>\n",
       "      <td>CA2673£20 5s</td>\n",
       "      <td>Southampton</td>\n",
       "      <td>Jeweller</td>\n",
       "      <td>[190]</td>\n",
       "      <td>NaN</td>\n",
       "    </tr>\n",
       "    <tr>\n",
       "      <th>3</th>\n",
       "      <td>ABBOTT, Mr Eugene Joseph</td>\n",
       "      <td>13</td>\n",
       "      <td>3rd Class Passenger</td>\n",
       "      <td>CA2673£20 5s</td>\n",
       "      <td>Southampton</td>\n",
       "      <td>Scholar</td>\n",
       "      <td>NaN</td>\n",
       "      <td>NaN</td>\n",
       "    </tr>\n",
       "    <tr>\n",
       "      <th>4</th>\n",
       "      <td>ABBOTT, Mr Ernest Owen</td>\n",
       "      <td>21</td>\n",
       "      <td>Victualling Crew</td>\n",
       "      <td>NaN</td>\n",
       "      <td>Southampton</td>\n",
       "      <td>Lounge Pantry Steward</td>\n",
       "      <td>NaN</td>\n",
       "      <td>NaN</td>\n",
       "    </tr>\n",
       "  </tbody>\n",
       "</table>\n",
       "</div>"
      ],
      "text/plain": [
       "                            Name Age           Class/Dept        Ticket  \\\n",
       "0             ABBING, Mr Anthony  42  3rd Class Passenger    5547£7 11s   \n",
       "1  ABBOTT, Mrs Rhoda Mary 'Rosa'  39  3rd Class Passenger  CA2673£20 5s   \n",
       "2     ABBOTT, Mr Rossmore Edward  16  3rd Class Passenger  CA2673£20 5s   \n",
       "3       ABBOTT, Mr Eugene Joseph  13  3rd Class Passenger  CA2673£20 5s   \n",
       "4         ABBOTT, Mr Ernest Owen  21     Victualling Crew           NaN   \n",
       "\n",
       "        Joined                    Job Boat [Body]  Unnamed: 7  \n",
       "0  Southampton             Blacksmith         NaN         NaN  \n",
       "1  Southampton                    NaN           A         NaN  \n",
       "2  Southampton               Jeweller       [190]         NaN  \n",
       "3  Southampton                Scholar         NaN         NaN  \n",
       "4  Southampton  Lounge Pantry Steward         NaN         NaN  "
      ]
     },
     "execution_count": 18,
     "metadata": {},
     "output_type": "execute_result"
    }
   ],
   "source": [
    "table = soup.find('table')\n",
    "data = pd.read_html(str(table),flavor='bs4')[0] # Note that the flavor cotains information about the encoding as well\n",
    "http.clear()\n",
    "data.head()"
   ]
  },
  {
   "cell_type": "code",
   "execution_count": 19,
   "metadata": {
    "ExecuteTime": {
     "end_time": "2018-07-31T02:46:59.257632Z",
     "start_time": "2018-07-31T02:46:59.246637Z"
    }
   },
   "outputs": [
    {
     "data": {
      "text/html": [
       "<div>\n",
       "<style scoped>\n",
       "    .dataframe tbody tr th:only-of-type {\n",
       "        vertical-align: middle;\n",
       "    }\n",
       "\n",
       "    .dataframe tbody tr th {\n",
       "        vertical-align: top;\n",
       "    }\n",
       "\n",
       "    .dataframe thead th {\n",
       "        text-align: right;\n",
       "    }\n",
       "</style>\n",
       "<table border=\"1\" class=\"dataframe\">\n",
       "  <thead>\n",
       "    <tr style=\"text-align: right;\">\n",
       "      <th></th>\n",
       "      <th>Name</th>\n",
       "      <th>Age</th>\n",
       "      <th>Class/Dept</th>\n",
       "      <th>Boat [Body]</th>\n",
       "    </tr>\n",
       "  </thead>\n",
       "  <tbody>\n",
       "    <tr>\n",
       "      <th>0</th>\n",
       "      <td>ABBING, Mr Anthony</td>\n",
       "      <td>42</td>\n",
       "      <td>3rd Class Passenger</td>\n",
       "      <td>NaN</td>\n",
       "    </tr>\n",
       "    <tr>\n",
       "      <th>1</th>\n",
       "      <td>ABBOTT, Mrs Rhoda Mary 'Rosa'</td>\n",
       "      <td>39</td>\n",
       "      <td>3rd Class Passenger</td>\n",
       "      <td>A</td>\n",
       "    </tr>\n",
       "    <tr>\n",
       "      <th>2</th>\n",
       "      <td>ABBOTT, Mr Rossmore Edward</td>\n",
       "      <td>16</td>\n",
       "      <td>3rd Class Passenger</td>\n",
       "      <td>[190]</td>\n",
       "    </tr>\n",
       "    <tr>\n",
       "      <th>3</th>\n",
       "      <td>ABBOTT, Mr Eugene Joseph</td>\n",
       "      <td>13</td>\n",
       "      <td>3rd Class Passenger</td>\n",
       "      <td>NaN</td>\n",
       "    </tr>\n",
       "    <tr>\n",
       "      <th>4</th>\n",
       "      <td>ABBOTT, Mr Ernest Owen</td>\n",
       "      <td>21</td>\n",
       "      <td>Victualling Crew</td>\n",
       "      <td>NaN</td>\n",
       "    </tr>\n",
       "  </tbody>\n",
       "</table>\n",
       "</div>"
      ],
      "text/plain": [
       "                            Name Age           Class/Dept Boat [Body]\n",
       "0             ABBING, Mr Anthony  42  3rd Class Passenger         NaN\n",
       "1  ABBOTT, Mrs Rhoda Mary 'Rosa'  39  3rd Class Passenger           A\n",
       "2     ABBOTT, Mr Rossmore Edward  16  3rd Class Passenger       [190]\n",
       "3       ABBOTT, Mr Eugene Joseph  13  3rd Class Passenger         NaN\n",
       "4         ABBOTT, Mr Ernest Owen  21     Victualling Crew         NaN"
      ]
     },
     "execution_count": 19,
     "metadata": {},
     "output_type": "execute_result"
    }
   ],
   "source": [
    "data_trim = data[['Name', 'Age', 'Class/Dept', 'Boat [Body]']]\n",
    "data_trim.head()"
   ]
  },
  {
   "cell_type": "markdown",
   "metadata": {},
   "source": [
    "### Processing data\n",
    "\n",
    "Special characters are removed and then the age is change to float and ages below 1 year are converted to a representative float number"
   ]
  },
  {
   "cell_type": "code",
   "execution_count": 20,
   "metadata": {
    "ExecuteTime": {
     "end_time": "2018-07-31T02:46:59.609419Z",
     "start_time": "2018-07-31T02:46:59.259628Z"
    }
   },
   "outputs": [],
   "source": [
    "data_trim['Name'] = data_trim['Name'].map(str).apply(lambda x: x.encode('utf-8').decode('ascii', 'ignore'))\n",
    "data_trim['Boat [Body]'] = data_trim['Boat [Body]'].map(str).apply(lambda x: x.encode('utf-8').decode('ascii', 'ignore'))\n",
    "def process_age(value):\n",
    "    if 'm' in value:\n",
    "        return float(re.findall(r'-?\\d+\\.?\\d*',value)[0])/12\n",
    "    else:\n",
    "        return(float(value)) \n",
    "data_trim['Age'] = data_trim['Age'].map(str).apply(process_age)"
   ]
  },
  {
   "cell_type": "code",
   "execution_count": 21,
   "metadata": {
    "ExecuteTime": {
     "end_time": "2018-07-31T02:46:59.622405Z",
     "start_time": "2018-07-31T02:46:59.611411Z"
    }
   },
   "outputs": [
    {
     "data": {
      "text/html": [
       "<div>\n",
       "<style scoped>\n",
       "    .dataframe tbody tr th:only-of-type {\n",
       "        vertical-align: middle;\n",
       "    }\n",
       "\n",
       "    .dataframe tbody tr th {\n",
       "        vertical-align: top;\n",
       "    }\n",
       "\n",
       "    .dataframe thead th {\n",
       "        text-align: right;\n",
       "    }\n",
       "</style>\n",
       "<table border=\"1\" class=\"dataframe\">\n",
       "  <thead>\n",
       "    <tr style=\"text-align: right;\">\n",
       "      <th></th>\n",
       "      <th>Name</th>\n",
       "      <th>Age</th>\n",
       "      <th>Class/Dept</th>\n",
       "      <th>Boat [Body]</th>\n",
       "    </tr>\n",
       "  </thead>\n",
       "  <tbody>\n",
       "    <tr>\n",
       "      <th>0</th>\n",
       "      <td>ABBING, Mr Anthony</td>\n",
       "      <td>42.0</td>\n",
       "      <td>3rd Class Passenger</td>\n",
       "      <td>nan</td>\n",
       "    </tr>\n",
       "    <tr>\n",
       "      <th>1</th>\n",
       "      <td>ABBOTT, Mrs Rhoda Mary 'Rosa'</td>\n",
       "      <td>39.0</td>\n",
       "      <td>3rd Class Passenger</td>\n",
       "      <td>A</td>\n",
       "    </tr>\n",
       "    <tr>\n",
       "      <th>2</th>\n",
       "      <td>ABBOTT, Mr Rossmore Edward</td>\n",
       "      <td>16.0</td>\n",
       "      <td>3rd Class Passenger</td>\n",
       "      <td>[190]</td>\n",
       "    </tr>\n",
       "    <tr>\n",
       "      <th>3</th>\n",
       "      <td>ABBOTT, Mr Eugene Joseph</td>\n",
       "      <td>13.0</td>\n",
       "      <td>3rd Class Passenger</td>\n",
       "      <td>nan</td>\n",
       "    </tr>\n",
       "    <tr>\n",
       "      <th>4</th>\n",
       "      <td>ABBOTT, Mr Ernest Owen</td>\n",
       "      <td>21.0</td>\n",
       "      <td>Victualling Crew</td>\n",
       "      <td>nan</td>\n",
       "    </tr>\n",
       "  </tbody>\n",
       "</table>\n",
       "</div>"
      ],
      "text/plain": [
       "                            Name   Age           Class/Dept Boat [Body]\n",
       "0             ABBING, Mr Anthony  42.0  3rd Class Passenger         nan\n",
       "1  ABBOTT, Mrs Rhoda Mary 'Rosa'  39.0  3rd Class Passenger           A\n",
       "2     ABBOTT, Mr Rossmore Edward  16.0  3rd Class Passenger       [190]\n",
       "3       ABBOTT, Mr Eugene Joseph  13.0  3rd Class Passenger         nan\n",
       "4         ABBOTT, Mr Ernest Owen  21.0     Victualling Crew         nan"
      ]
     },
     "execution_count": 21,
     "metadata": {},
     "output_type": "execute_result"
    }
   ],
   "source": [
    "data_trim.head()"
   ]
  },
  {
   "cell_type": "markdown",
   "metadata": {},
   "source": [
    "#### Categorize passengers and crews"
   ]
  },
  {
   "cell_type": "code",
   "execution_count": 22,
   "metadata": {
    "ExecuteTime": {
     "end_time": "2018-07-31T02:46:59.717345Z",
     "start_time": "2018-07-31T02:46:59.624404Z"
    }
   },
   "outputs": [
    {
     "data": {
      "text/html": [
       "<div>\n",
       "<style scoped>\n",
       "    .dataframe tbody tr th:only-of-type {\n",
       "        vertical-align: middle;\n",
       "    }\n",
       "\n",
       "    .dataframe tbody tr th {\n",
       "        vertical-align: top;\n",
       "    }\n",
       "\n",
       "    .dataframe thead th {\n",
       "        text-align: right;\n",
       "    }\n",
       "</style>\n",
       "<table border=\"1\" class=\"dataframe\">\n",
       "  <thead>\n",
       "    <tr style=\"text-align: right;\">\n",
       "      <th></th>\n",
       "      <th>Name</th>\n",
       "      <th>Age</th>\n",
       "      <th>Class/Dept</th>\n",
       "      <th>Boat [Body]</th>\n",
       "      <th>Crew/Passenger</th>\n",
       "    </tr>\n",
       "  </thead>\n",
       "  <tbody>\n",
       "    <tr>\n",
       "      <th>0</th>\n",
       "      <td>ABBING, Mr Anthony</td>\n",
       "      <td>42.0</td>\n",
       "      <td>3rd Class Passenger</td>\n",
       "      <td>nan</td>\n",
       "      <td>Passenger</td>\n",
       "    </tr>\n",
       "    <tr>\n",
       "      <th>1</th>\n",
       "      <td>ABBOTT, Mrs Rhoda Mary 'Rosa'</td>\n",
       "      <td>39.0</td>\n",
       "      <td>3rd Class Passenger</td>\n",
       "      <td>A</td>\n",
       "      <td>Passenger</td>\n",
       "    </tr>\n",
       "    <tr>\n",
       "      <th>2</th>\n",
       "      <td>ABBOTT, Mr Rossmore Edward</td>\n",
       "      <td>16.0</td>\n",
       "      <td>3rd Class Passenger</td>\n",
       "      <td>[190]</td>\n",
       "      <td>Passenger</td>\n",
       "    </tr>\n",
       "    <tr>\n",
       "      <th>3</th>\n",
       "      <td>ABBOTT, Mr Eugene Joseph</td>\n",
       "      <td>13.0</td>\n",
       "      <td>3rd Class Passenger</td>\n",
       "      <td>nan</td>\n",
       "      <td>Passenger</td>\n",
       "    </tr>\n",
       "    <tr>\n",
       "      <th>4</th>\n",
       "      <td>ABBOTT, Mr Ernest Owen</td>\n",
       "      <td>21.0</td>\n",
       "      <td>Victualling Crew</td>\n",
       "      <td>nan</td>\n",
       "      <td>Crew</td>\n",
       "    </tr>\n",
       "  </tbody>\n",
       "</table>\n",
       "</div>"
      ],
      "text/plain": [
       "                            Name   Age           Class/Dept Boat [Body]  \\\n",
       "0             ABBING, Mr Anthony  42.0  3rd Class Passenger         nan   \n",
       "1  ABBOTT, Mrs Rhoda Mary 'Rosa'  39.0  3rd Class Passenger           A   \n",
       "2     ABBOTT, Mr Rossmore Edward  16.0  3rd Class Passenger       [190]   \n",
       "3       ABBOTT, Mr Eugene Joseph  13.0  3rd Class Passenger         nan   \n",
       "4         ABBOTT, Mr Ernest Owen  21.0     Victualling Crew         nan   \n",
       "\n",
       "  Crew/Passenger  \n",
       "0      Passenger  \n",
       "1      Passenger  \n",
       "2      Passenger  \n",
       "3      Passenger  \n",
       "4           Crew  "
      ]
     },
     "execution_count": 22,
     "metadata": {},
     "output_type": "execute_result"
    }
   ],
   "source": [
    "def categorizer(value):\n",
    "    if 'PASSENGER' in value.upper():\n",
    "        return 'Passenger'\n",
    "    else:\n",
    "        return 'Crew'\n",
    "data_trim['Crew/Passenger'] = data_trim['Class/Dept'].map(str).apply(categorizer)\n",
    "data_trim.head()"
   ]
  },
  {
   "cell_type": "markdown",
   "metadata": {},
   "source": [
    "#### Check passenger ticket class"
   ]
  },
  {
   "cell_type": "code",
   "execution_count": 23,
   "metadata": {
    "ExecuteTime": {
     "end_time": "2018-07-31T02:46:59.826278Z",
     "start_time": "2018-07-31T02:46:59.720346Z"
    }
   },
   "outputs": [
    {
     "data": {
      "text/html": [
       "<div>\n",
       "<style scoped>\n",
       "    .dataframe tbody tr th:only-of-type {\n",
       "        vertical-align: middle;\n",
       "    }\n",
       "\n",
       "    .dataframe tbody tr th {\n",
       "        vertical-align: top;\n",
       "    }\n",
       "\n",
       "    .dataframe thead th {\n",
       "        text-align: right;\n",
       "    }\n",
       "</style>\n",
       "<table border=\"1\" class=\"dataframe\">\n",
       "  <thead>\n",
       "    <tr style=\"text-align: right;\">\n",
       "      <th></th>\n",
       "      <th>Name</th>\n",
       "      <th>Age</th>\n",
       "      <th>Class/Dept</th>\n",
       "      <th>Boat [Body]</th>\n",
       "      <th>Crew/Passenger</th>\n",
       "      <th>Class</th>\n",
       "    </tr>\n",
       "  </thead>\n",
       "  <tbody>\n",
       "    <tr>\n",
       "      <th>0</th>\n",
       "      <td>ABBING, Mr Anthony</td>\n",
       "      <td>42.0</td>\n",
       "      <td>3rd Class Passenger</td>\n",
       "      <td>nan</td>\n",
       "      <td>Passenger</td>\n",
       "      <td>3rd</td>\n",
       "    </tr>\n",
       "    <tr>\n",
       "      <th>1</th>\n",
       "      <td>ABBOTT, Mrs Rhoda Mary 'Rosa'</td>\n",
       "      <td>39.0</td>\n",
       "      <td>3rd Class Passenger</td>\n",
       "      <td>A</td>\n",
       "      <td>Passenger</td>\n",
       "      <td>3rd</td>\n",
       "    </tr>\n",
       "    <tr>\n",
       "      <th>2</th>\n",
       "      <td>ABBOTT, Mr Rossmore Edward</td>\n",
       "      <td>16.0</td>\n",
       "      <td>3rd Class Passenger</td>\n",
       "      <td>[190]</td>\n",
       "      <td>Passenger</td>\n",
       "      <td>3rd</td>\n",
       "    </tr>\n",
       "    <tr>\n",
       "      <th>3</th>\n",
       "      <td>ABBOTT, Mr Eugene Joseph</td>\n",
       "      <td>13.0</td>\n",
       "      <td>3rd Class Passenger</td>\n",
       "      <td>nan</td>\n",
       "      <td>Passenger</td>\n",
       "      <td>3rd</td>\n",
       "    </tr>\n",
       "    <tr>\n",
       "      <th>4</th>\n",
       "      <td>ABBOTT, Mr Ernest Owen</td>\n",
       "      <td>21.0</td>\n",
       "      <td>Victualling Crew</td>\n",
       "      <td>nan</td>\n",
       "      <td>Crew</td>\n",
       "      <td>Crew</td>\n",
       "    </tr>\n",
       "  </tbody>\n",
       "</table>\n",
       "</div>"
      ],
      "text/plain": [
       "                            Name   Age           Class/Dept Boat [Body]  \\\n",
       "0             ABBING, Mr Anthony  42.0  3rd Class Passenger         nan   \n",
       "1  ABBOTT, Mrs Rhoda Mary 'Rosa'  39.0  3rd Class Passenger           A   \n",
       "2     ABBOTT, Mr Rossmore Edward  16.0  3rd Class Passenger       [190]   \n",
       "3       ABBOTT, Mr Eugene Joseph  13.0  3rd Class Passenger         nan   \n",
       "4         ABBOTT, Mr Ernest Owen  21.0     Victualling Crew         nan   \n",
       "\n",
       "  Crew/Passenger Class  \n",
       "0      Passenger   3rd  \n",
       "1      Passenger   3rd  \n",
       "2      Passenger   3rd  \n",
       "3      Passenger   3rd  \n",
       "4           Crew  Crew  "
      ]
     },
     "execution_count": 23,
     "metadata": {},
     "output_type": "execute_result"
    }
   ],
   "source": [
    "def get_passenger_class(value):\n",
    "    if 'PASSENGER' in value.upper():\n",
    "        return value.split(' ')[0]\n",
    "    else:\n",
    "        return 'Crew'\n",
    "data_trim['Class'] = data_trim['Class/Dept'].map(str).apply(get_passenger_class)\n",
    "data_trim.head()"
   ]
  },
  {
   "cell_type": "markdown",
   "metadata": {},
   "source": [
    "#### Check Adult/Child"
   ]
  },
  {
   "cell_type": "code",
   "execution_count": 24,
   "metadata": {
    "ExecuteTime": {
     "end_time": "2018-07-31T02:46:59.922218Z",
     "start_time": "2018-07-31T02:46:59.828277Z"
    }
   },
   "outputs": [
    {
     "data": {
      "text/html": [
       "<div>\n",
       "<style scoped>\n",
       "    .dataframe tbody tr th:only-of-type {\n",
       "        vertical-align: middle;\n",
       "    }\n",
       "\n",
       "    .dataframe tbody tr th {\n",
       "        vertical-align: top;\n",
       "    }\n",
       "\n",
       "    .dataframe thead th {\n",
       "        text-align: right;\n",
       "    }\n",
       "</style>\n",
       "<table border=\"1\" class=\"dataframe\">\n",
       "  <thead>\n",
       "    <tr style=\"text-align: right;\">\n",
       "      <th></th>\n",
       "      <th>Name</th>\n",
       "      <th>Age</th>\n",
       "      <th>Class/Dept</th>\n",
       "      <th>Boat [Body]</th>\n",
       "      <th>Crew/Passenger</th>\n",
       "      <th>Class</th>\n",
       "      <th>Adult/Child</th>\n",
       "    </tr>\n",
       "  </thead>\n",
       "  <tbody>\n",
       "    <tr>\n",
       "      <th>0</th>\n",
       "      <td>ABBING, Mr Anthony</td>\n",
       "      <td>42.0</td>\n",
       "      <td>3rd Class Passenger</td>\n",
       "      <td>nan</td>\n",
       "      <td>Passenger</td>\n",
       "      <td>3rd</td>\n",
       "      <td>Adult</td>\n",
       "    </tr>\n",
       "    <tr>\n",
       "      <th>1</th>\n",
       "      <td>ABBOTT, Mrs Rhoda Mary 'Rosa'</td>\n",
       "      <td>39.0</td>\n",
       "      <td>3rd Class Passenger</td>\n",
       "      <td>A</td>\n",
       "      <td>Passenger</td>\n",
       "      <td>3rd</td>\n",
       "      <td>Adult</td>\n",
       "    </tr>\n",
       "    <tr>\n",
       "      <th>2</th>\n",
       "      <td>ABBOTT, Mr Rossmore Edward</td>\n",
       "      <td>16.0</td>\n",
       "      <td>3rd Class Passenger</td>\n",
       "      <td>[190]</td>\n",
       "      <td>Passenger</td>\n",
       "      <td>3rd</td>\n",
       "      <td>Child</td>\n",
       "    </tr>\n",
       "    <tr>\n",
       "      <th>3</th>\n",
       "      <td>ABBOTT, Mr Eugene Joseph</td>\n",
       "      <td>13.0</td>\n",
       "      <td>3rd Class Passenger</td>\n",
       "      <td>nan</td>\n",
       "      <td>Passenger</td>\n",
       "      <td>3rd</td>\n",
       "      <td>Child</td>\n",
       "    </tr>\n",
       "    <tr>\n",
       "      <th>4</th>\n",
       "      <td>ABBOTT, Mr Ernest Owen</td>\n",
       "      <td>21.0</td>\n",
       "      <td>Victualling Crew</td>\n",
       "      <td>nan</td>\n",
       "      <td>Crew</td>\n",
       "      <td>Crew</td>\n",
       "      <td>Adult</td>\n",
       "    </tr>\n",
       "  </tbody>\n",
       "</table>\n",
       "</div>"
      ],
      "text/plain": [
       "                            Name   Age           Class/Dept Boat [Body]  \\\n",
       "0             ABBING, Mr Anthony  42.0  3rd Class Passenger         nan   \n",
       "1  ABBOTT, Mrs Rhoda Mary 'Rosa'  39.0  3rd Class Passenger           A   \n",
       "2     ABBOTT, Mr Rossmore Edward  16.0  3rd Class Passenger       [190]   \n",
       "3       ABBOTT, Mr Eugene Joseph  13.0  3rd Class Passenger         nan   \n",
       "4         ABBOTT, Mr Ernest Owen  21.0     Victualling Crew         nan   \n",
       "\n",
       "  Crew/Passenger Class Adult/Child  \n",
       "0      Passenger   3rd       Adult  \n",
       "1      Passenger   3rd       Adult  \n",
       "2      Passenger   3rd       Child  \n",
       "3      Passenger   3rd       Child  \n",
       "4           Crew  Crew       Adult  "
      ]
     },
     "execution_count": 24,
     "metadata": {},
     "output_type": "execute_result"
    }
   ],
   "source": [
    "def check_adult(age):\n",
    "    if age > 18:\n",
    "        return 'Adult'\n",
    "    else:\n",
    "        return 'Child'\n",
    "data_trim['Adult/Child'] = data_trim['Age'].apply(check_adult)\n",
    "data_trim.head()"
   ]
  },
  {
   "cell_type": "markdown",
   "metadata": {},
   "source": [
    "#### Check Gender"
   ]
  },
  {
   "cell_type": "code",
   "execution_count": 25,
   "metadata": {
    "ExecuteTime": {
     "end_time": "2018-07-31T02:47:00.023158Z",
     "start_time": "2018-07-31T02:46:59.925218Z"
    }
   },
   "outputs": [
    {
     "data": {
      "text/html": [
       "<div>\n",
       "<style scoped>\n",
       "    .dataframe tbody tr th:only-of-type {\n",
       "        vertical-align: middle;\n",
       "    }\n",
       "\n",
       "    .dataframe tbody tr th {\n",
       "        vertical-align: top;\n",
       "    }\n",
       "\n",
       "    .dataframe thead th {\n",
       "        text-align: right;\n",
       "    }\n",
       "</style>\n",
       "<table border=\"1\" class=\"dataframe\">\n",
       "  <thead>\n",
       "    <tr style=\"text-align: right;\">\n",
       "      <th></th>\n",
       "      <th>Name</th>\n",
       "      <th>Age</th>\n",
       "      <th>Class/Dept</th>\n",
       "      <th>Boat [Body]</th>\n",
       "      <th>Crew/Passenger</th>\n",
       "      <th>Class</th>\n",
       "      <th>Adult/Child</th>\n",
       "      <th>Gender</th>\n",
       "    </tr>\n",
       "  </thead>\n",
       "  <tbody>\n",
       "    <tr>\n",
       "      <th>0</th>\n",
       "      <td>ABBING, Mr Anthony</td>\n",
       "      <td>42.0</td>\n",
       "      <td>3rd Class Passenger</td>\n",
       "      <td>nan</td>\n",
       "      <td>Passenger</td>\n",
       "      <td>3rd</td>\n",
       "      <td>Adult</td>\n",
       "      <td>Male</td>\n",
       "    </tr>\n",
       "    <tr>\n",
       "      <th>1</th>\n",
       "      <td>ABBOTT, Mrs Rhoda Mary 'Rosa'</td>\n",
       "      <td>39.0</td>\n",
       "      <td>3rd Class Passenger</td>\n",
       "      <td>A</td>\n",
       "      <td>Passenger</td>\n",
       "      <td>3rd</td>\n",
       "      <td>Adult</td>\n",
       "      <td>Female</td>\n",
       "    </tr>\n",
       "    <tr>\n",
       "      <th>2</th>\n",
       "      <td>ABBOTT, Mr Rossmore Edward</td>\n",
       "      <td>16.0</td>\n",
       "      <td>3rd Class Passenger</td>\n",
       "      <td>[190]</td>\n",
       "      <td>Passenger</td>\n",
       "      <td>3rd</td>\n",
       "      <td>Child</td>\n",
       "      <td>Male</td>\n",
       "    </tr>\n",
       "    <tr>\n",
       "      <th>3</th>\n",
       "      <td>ABBOTT, Mr Eugene Joseph</td>\n",
       "      <td>13.0</td>\n",
       "      <td>3rd Class Passenger</td>\n",
       "      <td>nan</td>\n",
       "      <td>Passenger</td>\n",
       "      <td>3rd</td>\n",
       "      <td>Child</td>\n",
       "      <td>Male</td>\n",
       "    </tr>\n",
       "    <tr>\n",
       "      <th>4</th>\n",
       "      <td>ABBOTT, Mr Ernest Owen</td>\n",
       "      <td>21.0</td>\n",
       "      <td>Victualling Crew</td>\n",
       "      <td>nan</td>\n",
       "      <td>Crew</td>\n",
       "      <td>Crew</td>\n",
       "      <td>Adult</td>\n",
       "      <td>Male</td>\n",
       "    </tr>\n",
       "  </tbody>\n",
       "</table>\n",
       "</div>"
      ],
      "text/plain": [
       "                            Name   Age           Class/Dept Boat [Body]  \\\n",
       "0             ABBING, Mr Anthony  42.0  3rd Class Passenger         nan   \n",
       "1  ABBOTT, Mrs Rhoda Mary 'Rosa'  39.0  3rd Class Passenger           A   \n",
       "2     ABBOTT, Mr Rossmore Edward  16.0  3rd Class Passenger       [190]   \n",
       "3       ABBOTT, Mr Eugene Joseph  13.0  3rd Class Passenger         nan   \n",
       "4         ABBOTT, Mr Ernest Owen  21.0     Victualling Crew         nan   \n",
       "\n",
       "  Crew/Passenger Class Adult/Child  Gender  \n",
       "0      Passenger   3rd       Adult    Male  \n",
       "1      Passenger   3rd       Adult  Female  \n",
       "2      Passenger   3rd       Child    Male  \n",
       "3      Passenger   3rd       Child    Male  \n",
       "4           Crew  Crew       Adult    Male  "
      ]
     },
     "execution_count": 25,
     "metadata": {},
     "output_type": "execute_result"
    }
   ],
   "source": [
    "def check_gender(name):\n",
    "    firstname = name[name.index(',')+2:]\n",
    "    salutation = firstname.split(' ')[0]\n",
    "    if salutation.upper() in ['MR', 'MASTER']:\n",
    "        return 'Male'\n",
    "    else:\n",
    "        return 'Female'\n",
    "\n",
    "data_trim['Gender'] = data_trim['Name'].map(str).apply(check_gender)\n",
    "data_trim.head()   "
   ]
  },
  {
   "cell_type": "code",
   "execution_count": 26,
   "metadata": {
    "ExecuteTime": {
     "end_time": "2018-07-31T02:47:00.046143Z",
     "start_time": "2018-07-31T02:47:00.025158Z"
    }
   },
   "outputs": [
    {
     "data": {
      "text/html": [
       "<div>\n",
       "<style scoped>\n",
       "    .dataframe tbody tr th:only-of-type {\n",
       "        vertical-align: middle;\n",
       "    }\n",
       "\n",
       "    .dataframe tbody tr th {\n",
       "        vertical-align: top;\n",
       "    }\n",
       "\n",
       "    .dataframe thead th {\n",
       "        text-align: right;\n",
       "    }\n",
       "</style>\n",
       "<table border=\"1\" class=\"dataframe\">\n",
       "  <thead>\n",
       "    <tr style=\"text-align: right;\">\n",
       "      <th></th>\n",
       "      <th>Name</th>\n",
       "      <th>Age</th>\n",
       "      <th>Class/Dept</th>\n",
       "      <th>Boat [Body]</th>\n",
       "      <th>Crew/Passenger</th>\n",
       "      <th>Class</th>\n",
       "      <th>Adult/Child</th>\n",
       "      <th>Gender</th>\n",
       "      <th>Survival</th>\n",
       "    </tr>\n",
       "  </thead>\n",
       "  <tbody>\n",
       "    <tr>\n",
       "      <th>0</th>\n",
       "      <td>ABBING, Mr Anthony</td>\n",
       "      <td>42.0</td>\n",
       "      <td>3rd Class Passenger</td>\n",
       "      <td>nan</td>\n",
       "      <td>Passenger</td>\n",
       "      <td>3rd</td>\n",
       "      <td>Adult</td>\n",
       "      <td>Male</td>\n",
       "      <td>0</td>\n",
       "    </tr>\n",
       "    <tr>\n",
       "      <th>1</th>\n",
       "      <td>ABBOTT, Mrs Rhoda Mary 'Rosa'</td>\n",
       "      <td>39.0</td>\n",
       "      <td>3rd Class Passenger</td>\n",
       "      <td>A</td>\n",
       "      <td>Passenger</td>\n",
       "      <td>3rd</td>\n",
       "      <td>Adult</td>\n",
       "      <td>Female</td>\n",
       "      <td>1</td>\n",
       "    </tr>\n",
       "    <tr>\n",
       "      <th>2</th>\n",
       "      <td>ABBOTT, Mr Rossmore Edward</td>\n",
       "      <td>16.0</td>\n",
       "      <td>3rd Class Passenger</td>\n",
       "      <td>[190]</td>\n",
       "      <td>Passenger</td>\n",
       "      <td>3rd</td>\n",
       "      <td>Child</td>\n",
       "      <td>Male</td>\n",
       "      <td>0</td>\n",
       "    </tr>\n",
       "    <tr>\n",
       "      <th>3</th>\n",
       "      <td>ABBOTT, Mr Eugene Joseph</td>\n",
       "      <td>13.0</td>\n",
       "      <td>3rd Class Passenger</td>\n",
       "      <td>nan</td>\n",
       "      <td>Passenger</td>\n",
       "      <td>3rd</td>\n",
       "      <td>Child</td>\n",
       "      <td>Male</td>\n",
       "      <td>0</td>\n",
       "    </tr>\n",
       "    <tr>\n",
       "      <th>4</th>\n",
       "      <td>ABBOTT, Mr Ernest Owen</td>\n",
       "      <td>21.0</td>\n",
       "      <td>Victualling Crew</td>\n",
       "      <td>nan</td>\n",
       "      <td>Crew</td>\n",
       "      <td>Crew</td>\n",
       "      <td>Adult</td>\n",
       "      <td>Male</td>\n",
       "      <td>0</td>\n",
       "    </tr>\n",
       "  </tbody>\n",
       "</table>\n",
       "</div>"
      ],
      "text/plain": [
       "                            Name   Age           Class/Dept Boat [Body]  \\\n",
       "0             ABBING, Mr Anthony  42.0  3rd Class Passenger         nan   \n",
       "1  ABBOTT, Mrs Rhoda Mary 'Rosa'  39.0  3rd Class Passenger           A   \n",
       "2     ABBOTT, Mr Rossmore Edward  16.0  3rd Class Passenger       [190]   \n",
       "3       ABBOTT, Mr Eugene Joseph  13.0  3rd Class Passenger         nan   \n",
       "4         ABBOTT, Mr Ernest Owen  21.0     Victualling Crew         nan   \n",
       "\n",
       "  Crew/Passenger Class Adult/Child  Gender  Survival  \n",
       "0      Passenger   3rd       Adult    Male         0  \n",
       "1      Passenger   3rd       Adult  Female         1  \n",
       "2      Passenger   3rd       Child    Male         0  \n",
       "3      Passenger   3rd       Child    Male         0  \n",
       "4           Crew  Crew       Adult    Male         0  "
      ]
     },
     "execution_count": 26,
     "metadata": {},
     "output_type": "execute_result"
    }
   ],
   "source": [
    "def check_survival(value):\n",
    "    if value.strip()=='nan' or '[' in value:\n",
    "        return 0\n",
    "    else:\n",
    "        return 1\n",
    "data_trim['Survival'] = data_trim['Boat [Body]'].map(str).apply(check_survival)\n",
    "data_trim.head()   "
   ]
  },
  {
   "cell_type": "markdown",
   "metadata": {},
   "source": [
    "### Check the importance of each feature"
   ]
  },
  {
   "cell_type": "code",
   "execution_count": 27,
   "metadata": {
    "ExecuteTime": {
     "end_time": "2018-07-31T02:47:00.052140Z",
     "start_time": "2018-07-31T02:47:00.048142Z"
    }
   },
   "outputs": [],
   "source": [
    "def entropy_calculate(prob_list):\n",
    "    \n",
    "    entropy = 0\n",
    "    for item in prob_list:\n",
    "        entropy -= item * np.log2(item) \n",
    "    return entropy"
   ]
  },
  {
   "cell_type": "code",
   "execution_count": 28,
   "metadata": {
    "ExecuteTime": {
     "end_time": "2018-07-31T02:47:00.062132Z",
     "start_time": "2018-07-31T02:47:00.055138Z"
    }
   },
   "outputs": [],
   "source": [
    "def information_gain(feature, data, initial_entropy):\n",
    "    print('Information gain analysis for {}'.format(feature))\n",
    "    probability_l1 = data.groupby([feature])['Survival'].count()/len(data)\n",
    "    entropy_feature=0\n",
    "    for item, probabality in probability_l1.items():\n",
    "        print('\\tProbability of {}:'.format(item), probabality)\n",
    "        probability_l2 = data[data[feature]==item].groupby(['Survival'])['Survival'].count()/len(data[data[feature]==item])\n",
    "\n",
    "        entropy_feature += entropy_calculate(probability_l2) * probabality\n",
    "    print('\\n\\tEntropy of feature: %.3f'%(entropy_feature))\n",
    "    print('\\tInformation gain: %.3f'%(initial_entropy - entropy_feature))"
   ]
  },
  {
   "cell_type": "markdown",
   "metadata": {},
   "source": [
    "### Information gain analysis"
   ]
  },
  {
   "cell_type": "code",
   "execution_count": 29,
   "metadata": {
    "ExecuteTime": {
     "end_time": "2018-07-31T02:47:01.033787Z",
     "start_time": "2018-07-31T02:47:00.064131Z"
    }
   },
   "outputs": [
    {
     "name": "stdout",
     "output_type": "stream",
     "text": [
      "Initial entropy: 0.815\n"
     ]
    }
   ],
   "source": [
    "probability_initial = data_trim.groupby(['Survival'])['Survival'].count()/len(data_trim)\n",
    "initial_entropy = entropy_calculate(probability_initial)\n",
    "print('Initial entropy: %.3f'%(initial_entropy))"
   ]
  },
  {
   "cell_type": "code",
   "execution_count": 30,
   "metadata": {
    "ExecuteTime": {
     "end_time": "2018-07-31T02:47:01.049778Z",
     "start_time": "2018-07-31T02:47:01.035786Z"
    }
   },
   "outputs": [
    {
     "name": "stdout",
     "output_type": "stream",
     "text": [
      "Information gain analysis for Crew/Passenger\n",
      "\tProbability of Crew: 0.4543987086359968\n",
      "\tProbability of Passenger: 0.5456012913640033\n",
      "\n",
      "\tEntropy of feature: 0.772\n",
      "\tInformation gain: 0.043\n"
     ]
    }
   ],
   "source": [
    "information_gain(feature='Crew/Passenger', data=data_trim, initial_entropy=initial_entropy)"
   ]
  },
  {
   "cell_type": "code",
   "execution_count": 31,
   "metadata": {
    "ExecuteTime": {
     "end_time": "2018-07-31T02:47:01.073762Z",
     "start_time": "2018-07-31T02:47:01.051777Z"
    }
   },
   "outputs": [
    {
     "name": "stdout",
     "output_type": "stream",
     "text": [
      "Information gain analysis for Class\n",
      "\tProbability of 1st: 0.14124293785310735\n",
      "\tProbability of 2nd: 0.11824051654560129\n",
      "\tProbability of 3rd: 0.2861178369652946\n",
      "\tProbability of Crew: 0.4543987086359968\n",
      "\n",
      "\tEntropy of feature: 0.738\n",
      "\tInformation gain: 0.077\n"
     ]
    }
   ],
   "source": [
    "information_gain(feature='Class', data=data_trim, initial_entropy=initial_entropy)"
   ]
  },
  {
   "cell_type": "code",
   "execution_count": 32,
   "metadata": {
    "ExecuteTime": {
     "end_time": "2018-07-31T02:47:01.093749Z",
     "start_time": "2018-07-31T02:47:01.075761Z"
    }
   },
   "outputs": [
    {
     "name": "stdout",
     "output_type": "stream",
     "text": [
      "Information gain analysis for Adult/Child\n",
      "\tProbability of Adult: 0.880548829701372\n",
      "\tProbability of Child: 0.11945117029862792\n",
      "\n",
      "\tEntropy of feature: 0.813\n",
      "\tInformation gain: 0.003\n"
     ]
    }
   ],
   "source": [
    "information_gain(feature='Adult/Child', data=data_trim, initial_entropy=initial_entropy)"
   ]
  },
  {
   "cell_type": "code",
   "execution_count": 33,
   "metadata": {
    "ExecuteTime": {
     "end_time": "2018-07-31T02:47:01.110740Z",
     "start_time": "2018-07-31T02:47:01.095750Z"
    }
   },
   "outputs": [
    {
     "name": "stdout",
     "output_type": "stream",
     "text": [
      "Information gain analysis for Gender\n",
      "\tProbability of Female: 0.23284907183212267\n",
      "\tProbability of Male: 0.7671509281678773\n",
      "\n",
      "\tEntropy of feature: 0.702\n",
      "\tInformation gain: 0.113\n"
     ]
    }
   ],
   "source": [
    "information_gain(feature='Gender', data=data_trim, initial_entropy=initial_entropy)"
   ]
  },
  {
   "cell_type": "markdown",
   "metadata": {},
   "source": [
    "### Pick features and lable to construct the decision tree"
   ]
  },
  {
   "cell_type": "code",
   "execution_count": 34,
   "metadata": {
    "ExecuteTime": {
     "end_time": "2018-07-31T02:47:01.128729Z",
     "start_time": "2018-07-31T02:47:01.112739Z"
    }
   },
   "outputs": [
    {
     "data": {
      "text/html": [
       "<div>\n",
       "<style scoped>\n",
       "    .dataframe tbody tr th:only-of-type {\n",
       "        vertical-align: middle;\n",
       "    }\n",
       "\n",
       "    .dataframe tbody tr th {\n",
       "        vertical-align: top;\n",
       "    }\n",
       "\n",
       "    .dataframe thead th {\n",
       "        text-align: right;\n",
       "    }\n",
       "</style>\n",
       "<table border=\"1\" class=\"dataframe\">\n",
       "  <thead>\n",
       "    <tr style=\"text-align: right;\">\n",
       "      <th></th>\n",
       "      <th>Age</th>\n",
       "      <th>Crew/Passenger</th>\n",
       "      <th>Class</th>\n",
       "      <th>Adult/Child</th>\n",
       "      <th>Gender</th>\n",
       "      <th>Survival</th>\n",
       "    </tr>\n",
       "  </thead>\n",
       "  <tbody>\n",
       "    <tr>\n",
       "      <th>0</th>\n",
       "      <td>42.0</td>\n",
       "      <td>Passenger</td>\n",
       "      <td>3rd</td>\n",
       "      <td>Adult</td>\n",
       "      <td>Male</td>\n",
       "      <td>0</td>\n",
       "    </tr>\n",
       "    <tr>\n",
       "      <th>1</th>\n",
       "      <td>39.0</td>\n",
       "      <td>Passenger</td>\n",
       "      <td>3rd</td>\n",
       "      <td>Adult</td>\n",
       "      <td>Female</td>\n",
       "      <td>1</td>\n",
       "    </tr>\n",
       "    <tr>\n",
       "      <th>2</th>\n",
       "      <td>16.0</td>\n",
       "      <td>Passenger</td>\n",
       "      <td>3rd</td>\n",
       "      <td>Child</td>\n",
       "      <td>Male</td>\n",
       "      <td>0</td>\n",
       "    </tr>\n",
       "    <tr>\n",
       "      <th>3</th>\n",
       "      <td>13.0</td>\n",
       "      <td>Passenger</td>\n",
       "      <td>3rd</td>\n",
       "      <td>Child</td>\n",
       "      <td>Male</td>\n",
       "      <td>0</td>\n",
       "    </tr>\n",
       "    <tr>\n",
       "      <th>4</th>\n",
       "      <td>21.0</td>\n",
       "      <td>Crew</td>\n",
       "      <td>Crew</td>\n",
       "      <td>Adult</td>\n",
       "      <td>Male</td>\n",
       "      <td>0</td>\n",
       "    </tr>\n",
       "  </tbody>\n",
       "</table>\n",
       "</div>"
      ],
      "text/plain": [
       "    Age Crew/Passenger Class Adult/Child  Gender  Survival\n",
       "0  42.0      Passenger   3rd       Adult    Male         0\n",
       "1  39.0      Passenger   3rd       Adult  Female         1\n",
       "2  16.0      Passenger   3rd       Child    Male         0\n",
       "3  13.0      Passenger   3rd       Child    Male         0\n",
       "4  21.0           Crew  Crew       Adult    Male         0"
      ]
     },
     "execution_count": 34,
     "metadata": {},
     "output_type": "execute_result"
    }
   ],
   "source": [
    "training_data = data_trim[['Age', 'Crew/Passenger', 'Class', 'Adult/Child', 'Gender','Survival']]\n",
    "training_data.head()"
   ]
  },
  {
   "cell_type": "markdown",
   "metadata": {},
   "source": [
    "### Process categorical variables to numerical"
   ]
  },
  {
   "cell_type": "code",
   "execution_count": 35,
   "metadata": {
    "ExecuteTime": {
     "end_time": "2018-07-31T02:47:01.447534Z",
     "start_time": "2018-07-31T02:47:01.130727Z"
    }
   },
   "outputs": [],
   "source": [
    "category_map ={}\n",
    "for column in ['Crew/Passenger','Class','Adult/Child','Gender']:\n",
    "    category_map[column] = dict( enumerate(training_data[column].astype('category').cat.categories) )\n",
    "    training_data[column] = training_data[column].astype('category').cat.codes"
   ]
  },
  {
   "cell_type": "code",
   "execution_count": 36,
   "metadata": {
    "ExecuteTime": {
     "end_time": "2018-07-31T02:47:01.460523Z",
     "start_time": "2018-07-31T02:47:01.449530Z"
    }
   },
   "outputs": [
    {
     "data": {
      "text/html": [
       "<div>\n",
       "<style scoped>\n",
       "    .dataframe tbody tr th:only-of-type {\n",
       "        vertical-align: middle;\n",
       "    }\n",
       "\n",
       "    .dataframe tbody tr th {\n",
       "        vertical-align: top;\n",
       "    }\n",
       "\n",
       "    .dataframe thead th {\n",
       "        text-align: right;\n",
       "    }\n",
       "</style>\n",
       "<table border=\"1\" class=\"dataframe\">\n",
       "  <thead>\n",
       "    <tr style=\"text-align: right;\">\n",
       "      <th></th>\n",
       "      <th>Age</th>\n",
       "      <th>Crew/Passenger</th>\n",
       "      <th>Class</th>\n",
       "      <th>Adult/Child</th>\n",
       "      <th>Gender</th>\n",
       "      <th>Survival</th>\n",
       "    </tr>\n",
       "  </thead>\n",
       "  <tbody>\n",
       "    <tr>\n",
       "      <th>0</th>\n",
       "      <td>42.0</td>\n",
       "      <td>1</td>\n",
       "      <td>2</td>\n",
       "      <td>0</td>\n",
       "      <td>1</td>\n",
       "      <td>0</td>\n",
       "    </tr>\n",
       "    <tr>\n",
       "      <th>1</th>\n",
       "      <td>39.0</td>\n",
       "      <td>1</td>\n",
       "      <td>2</td>\n",
       "      <td>0</td>\n",
       "      <td>0</td>\n",
       "      <td>1</td>\n",
       "    </tr>\n",
       "    <tr>\n",
       "      <th>2</th>\n",
       "      <td>16.0</td>\n",
       "      <td>1</td>\n",
       "      <td>2</td>\n",
       "      <td>1</td>\n",
       "      <td>1</td>\n",
       "      <td>0</td>\n",
       "    </tr>\n",
       "    <tr>\n",
       "      <th>3</th>\n",
       "      <td>13.0</td>\n",
       "      <td>1</td>\n",
       "      <td>2</td>\n",
       "      <td>1</td>\n",
       "      <td>1</td>\n",
       "      <td>0</td>\n",
       "    </tr>\n",
       "    <tr>\n",
       "      <th>4</th>\n",
       "      <td>21.0</td>\n",
       "      <td>0</td>\n",
       "      <td>3</td>\n",
       "      <td>0</td>\n",
       "      <td>1</td>\n",
       "      <td>0</td>\n",
       "    </tr>\n",
       "  </tbody>\n",
       "</table>\n",
       "</div>"
      ],
      "text/plain": [
       "    Age  Crew/Passenger  Class  Adult/Child  Gender  Survival\n",
       "0  42.0               1      2            0       1         0\n",
       "1  39.0               1      2            0       0         1\n",
       "2  16.0               1      2            1       1         0\n",
       "3  13.0               1      2            1       1         0\n",
       "4  21.0               0      3            0       1         0"
      ]
     },
     "execution_count": 36,
     "metadata": {},
     "output_type": "execute_result"
    }
   ],
   "source": [
    "training_data.head()"
   ]
  },
  {
   "cell_type": "code",
   "execution_count": 37,
   "metadata": {
    "ExecuteTime": {
     "end_time": "2018-07-31T02:47:01.548469Z",
     "start_time": "2018-07-31T02:47:01.462521Z"
    }
   },
   "outputs": [
    {
     "name": "stdout",
     "output_type": "stream",
     "text": [
      "Total number of valid records: 2449\n"
     ]
    }
   ],
   "source": [
    "training_data.dropna(inplace=True)\n",
    "training_data.reset_index(drop=True, inplace=True)\n",
    "print('Total number of valid records: {}'.format(len(training_data)))"
   ]
  },
  {
   "cell_type": "markdown",
   "metadata": {},
   "source": [
    "### Split to train and test data"
   ]
  },
  {
   "cell_type": "code",
   "execution_count": 38,
   "metadata": {
    "ExecuteTime": {
     "end_time": "2018-07-31T02:47:02.092501Z",
     "start_time": "2018-07-31T02:47:01.550467Z"
    }
   },
   "outputs": [],
   "source": [
    "from sklearn.model_selection import train_test_split"
   ]
  },
  {
   "cell_type": "code",
   "execution_count": 39,
   "metadata": {
    "ExecuteTime": {
     "end_time": "2018-07-31T02:47:02.099493Z",
     "start_time": "2018-07-31T02:47:02.094497Z"
    }
   },
   "outputs": [],
   "source": [
    "train, test = train_test_split(training_data, test_size=0.2)\n",
    "train.reset_index(drop=True, inplace=True)\n",
    "test.reset_index(drop=True, inplace=True)"
   ]
  },
  {
   "cell_type": "code",
   "execution_count": 40,
   "metadata": {
    "ExecuteTime": {
     "end_time": "2018-07-31T02:47:02.107489Z",
     "start_time": "2018-07-31T02:47:02.101491Z"
    }
   },
   "outputs": [
    {
     "name": "stdout",
     "output_type": "stream",
     "text": [
      "Total number of records used for training: 1959\n",
      "Total number of records used for testin: 490\n"
     ]
    }
   ],
   "source": [
    "print('Total number of records used for training: {}\\nTotal number of records used for testin: {}'.format(len(train),len(test)))"
   ]
  },
  {
   "cell_type": "markdown",
   "metadata": {},
   "source": [
    "### Build a decision tree"
   ]
  },
  {
   "cell_type": "code",
   "execution_count": 41,
   "metadata": {
    "ExecuteTime": {
     "end_time": "2018-07-31T02:47:02.156457Z",
     "start_time": "2018-07-31T02:47:02.110487Z"
    }
   },
   "outputs": [],
   "source": [
    "from sklearn.tree import DecisionTreeClassifier"
   ]
  },
  {
   "cell_type": "code",
   "execution_count": 42,
   "metadata": {
    "ExecuteTime": {
     "end_time": "2018-07-31T02:47:02.165453Z",
     "start_time": "2018-07-31T02:47:02.158458Z"
    }
   },
   "outputs": [],
   "source": [
    "X = train[['Age', 'Crew/Passenger', 'Class', 'Adult/Child', 'Gender']]\n",
    "y = train[['Survival']]"
   ]
  },
  {
   "cell_type": "code",
   "execution_count": 43,
   "metadata": {
    "ExecuteTime": {
     "end_time": "2018-07-31T02:47:02.171451Z",
     "start_time": "2018-07-31T02:47:02.167451Z"
    }
   },
   "outputs": [],
   "source": [
    "clf = DecisionTreeClassifier(max_leaf_nodes=20, criterion='entropy')"
   ]
  },
  {
   "cell_type": "code",
   "execution_count": 44,
   "metadata": {
    "ExecuteTime": {
     "end_time": "2018-07-31T02:47:02.183442Z",
     "start_time": "2018-07-31T02:47:02.174448Z"
    }
   },
   "outputs": [],
   "source": [
    "clf = clf.fit(X, y)"
   ]
  },
  {
   "cell_type": "code",
   "execution_count": 45,
   "metadata": {
    "ExecuteTime": {
     "end_time": "2018-07-31T02:47:02.192436Z",
     "start_time": "2018-07-31T02:47:02.186439Z"
    }
   },
   "outputs": [
    {
     "data": {
      "text/plain": [
       "DecisionTreeClassifier(class_weight=None, criterion='entropy', max_depth=None,\n",
       "            max_features=None, max_leaf_nodes=20,\n",
       "            min_impurity_decrease=0.0, min_impurity_split=None,\n",
       "            min_samples_leaf=1, min_samples_split=2,\n",
       "            min_weight_fraction_leaf=0.0, presort=False, random_state=None,\n",
       "            splitter='best')"
      ]
     },
     "execution_count": 45,
     "metadata": {},
     "output_type": "execute_result"
    }
   ],
   "source": [
    "clf"
   ]
  },
  {
   "cell_type": "markdown",
   "metadata": {},
   "source": [
    "- class_weight: A dictionary to provide user defined weights for each feature\n",
    "\n",
    "- criterion: The criterion is the method used to decide with label and what decision needs to be made. gini impurity and information gain/entropy are the two main methods\n",
    "\n",
    "- max_depth: It determines the maximum depth/layer from the root of the tree to the finest leaf\n",
    "\n",
    "- max_features: if you want you can ask the algorithm to use a limited number of features based on their importance. This could be a dimension reduction approach that can simplify the tree\n",
    "\n",
    "- max_leaf_nodes: The max number of end nodes that is another stopping criteria for the decision tree\n",
    "\n",
    "- min_impurity_split: The minimum amount of impurity split percentage that result in generating another branch. In case of information gain, this will be measured by the amount/percentage of reduction in entropy.\n",
    "\n",
    "- min_samples_leaf: Minimum number of samples that should exist in a subset created by a decision. If less than this number, the branch gets pruned and the previous level of the tree will be kept\n",
    "\n",
    "- min_samples_split: Minimum number of samples in a tree level to consider further splitting and decision making\n",
    "\n",
    "- min_weight_fraction_leaf: similar to min_samples_leaf but expressed as a fraction of whole data\n",
    "\n",
    "- random_state, presort and splitter are performance related settings and do not affect the algorithm"
   ]
  },
  {
   "cell_type": "code",
   "execution_count": 46,
   "metadata": {
    "ExecuteTime": {
     "end_time": "2018-07-31T02:47:02.200431Z",
     "start_time": "2018-07-31T02:47:02.193434Z"
    }
   },
   "outputs": [
    {
     "data": {
      "text/plain": [
       "array([0.20502926, 0.        , 0.28082862, 0.        , 0.51414211])"
      ]
     },
     "execution_count": 46,
     "metadata": {},
     "output_type": "execute_result"
    }
   ],
   "source": [
    "clf.feature_importances_"
   ]
  },
  {
   "cell_type": "markdown",
   "metadata": {},
   "source": [
    "As can be seen above, the importance analysis confirms the result of information gain analysis that Gender is the most important feature. "
   ]
  },
  {
   "cell_type": "markdown",
   "metadata": {},
   "source": [
    "### Tree visualization"
   ]
  },
  {
   "cell_type": "code",
   "execution_count": 47,
   "metadata": {
    "ExecuteTime": {
     "end_time": "2018-07-31T02:47:02.205429Z",
     "start_time": "2018-07-31T02:47:02.203430Z"
    }
   },
   "outputs": [],
   "source": [
    "from sklearn import tree"
   ]
  },
  {
   "cell_type": "code",
   "execution_count": 48,
   "metadata": {
    "ExecuteTime": {
     "end_time": "2018-07-31T02:47:02.222417Z",
     "start_time": "2018-07-31T02:47:02.207426Z"
    }
   },
   "outputs": [],
   "source": [
    "with open ('Outputs/Titanic.dot', 'w') as f:\n",
    "    f = tree.export_graphviz(clf, feature_names=['Age', 'Crew/Passenger', 'Class', 'Adult/Child', 'Gender'], out_file=f)"
   ]
  },
  {
   "cell_type": "code",
   "execution_count": 49,
   "metadata": {
    "ExecuteTime": {
     "end_time": "2018-07-31T02:47:02.249399Z",
     "start_time": "2018-07-31T02:47:02.224416Z"
    }
   },
   "outputs": [],
   "source": [
    "# conda install -c conda-forge python-graphviz\n",
    "from graphviz import Source"
   ]
  },
  {
   "cell_type": "code",
   "execution_count": 50,
   "metadata": {
    "ExecuteTime": {
     "end_time": "2018-07-31T02:47:02.449277Z",
     "start_time": "2018-07-31T02:47:02.251400Z"
    }
   },
   "outputs": [
    {
     "data": {
      "image/svg+xml": [
       "<?xml version=\"1.0\" encoding=\"UTF-8\" standalone=\"no\"?>\r\n",
       "<!DOCTYPE svg PUBLIC \"-//W3C//DTD SVG 1.1//EN\"\r\n",
       " \"http://www.w3.org/Graphics/SVG/1.1/DTD/svg11.dtd\">\r\n",
       "<!-- Generated by graphviz version 2.38.0 (20140413.2041)\r\n",
       " -->\r\n",
       "<!-- Title: Tree Pages: 1 -->\r\n",
       "<svg width=\"1606pt\" height=\"789pt\"\r\n",
       " viewBox=\"0.00 0.00 1605.50 789.00\" xmlns=\"http://www.w3.org/2000/svg\" xmlns:xlink=\"http://www.w3.org/1999/xlink\">\r\n",
       "<g id=\"graph0\" class=\"graph\" transform=\"scale(1 1) rotate(0) translate(4 785)\">\r\n",
       "<title>Tree</title>\r\n",
       "<polygon fill=\"white\" stroke=\"none\" points=\"-4,4 -4,-785 1601.5,-785 1601.5,4 -4,4\"/>\r\n",
       "<!-- 0 -->\r\n",
       "<g id=\"node1\" class=\"node\"><title>0</title>\r\n",
       "<polygon fill=\"none\" stroke=\"black\" points=\"930.5,-781 805.5,-781 805.5,-713 930.5,-713 930.5,-781\"/>\r\n",
       "<text text-anchor=\"middle\" x=\"868\" y=\"-765.8\" font-family=\"Times New Roman,serif\" font-size=\"14.00\">Gender &lt;= 0.5</text>\r\n",
       "<text text-anchor=\"middle\" x=\"868\" y=\"-750.8\" font-family=\"Times New Roman,serif\" font-size=\"14.00\">entropy = 0.822</text>\r\n",
       "<text text-anchor=\"middle\" x=\"868\" y=\"-735.8\" font-family=\"Times New Roman,serif\" font-size=\"14.00\">samples = 1959</text>\r\n",
       "<text text-anchor=\"middle\" x=\"868\" y=\"-720.8\" font-family=\"Times New Roman,serif\" font-size=\"14.00\">value = [1456, 503]</text>\r\n",
       "</g>\r\n",
       "<!-- 1 -->\r\n",
       "<g id=\"node2\" class=\"node\"><title>1</title>\r\n",
       "<polygon fill=\"none\" stroke=\"black\" points=\"828,-677 710,-677 710,-609 828,-609 828,-677\"/>\r\n",
       "<text text-anchor=\"middle\" x=\"769\" y=\"-661.8\" font-family=\"Times New Roman,serif\" font-size=\"14.00\">Class &lt;= 1.5</text>\r\n",
       "<text text-anchor=\"middle\" x=\"769\" y=\"-646.8\" font-family=\"Times New Roman,serif\" font-size=\"14.00\">entropy = 0.982</text>\r\n",
       "<text text-anchor=\"middle\" x=\"769\" y=\"-631.8\" font-family=\"Times New Roman,serif\" font-size=\"14.00\">samples = 464</text>\r\n",
       "<text text-anchor=\"middle\" x=\"769\" y=\"-616.8\" font-family=\"Times New Roman,serif\" font-size=\"14.00\">value = [195, 269]</text>\r\n",
       "</g>\r\n",
       "<!-- 0&#45;&gt;1 -->\r\n",
       "<g id=\"edge1\" class=\"edge\"><title>0&#45;&gt;1</title>\r\n",
       "<path fill=\"none\" stroke=\"black\" d=\"M835.858,-712.884C827.126,-703.887 817.569,-694.041 808.482,-684.678\"/>\r\n",
       "<polygon fill=\"black\" stroke=\"black\" points=\"810.796,-682.038 801.32,-677.299 805.773,-686.913 810.796,-682.038\"/>\r\n",
       "<text text-anchor=\"middle\" x=\"800.947\" y=\"-698.597\" font-family=\"Times New Roman,serif\" font-size=\"14.00\">True</text>\r\n",
       "</g>\r\n",
       "<!-- 2 -->\r\n",
       "<g id=\"node23\" class=\"node\"><title>2</title>\r\n",
       "<polygon fill=\"none\" stroke=\"black\" points=\"1029.5,-677 904.5,-677 904.5,-609 1029.5,-609 1029.5,-677\"/>\r\n",
       "<text text-anchor=\"middle\" x=\"967\" y=\"-661.8\" font-family=\"Times New Roman,serif\" font-size=\"14.00\">Age &lt;= 12.0</text>\r\n",
       "<text text-anchor=\"middle\" x=\"967\" y=\"-646.8\" font-family=\"Times New Roman,serif\" font-size=\"14.00\">entropy = 0.626</text>\r\n",
       "<text text-anchor=\"middle\" x=\"967\" y=\"-631.8\" font-family=\"Times New Roman,serif\" font-size=\"14.00\">samples = 1495</text>\r\n",
       "<text text-anchor=\"middle\" x=\"967\" y=\"-616.8\" font-family=\"Times New Roman,serif\" font-size=\"14.00\">value = [1261, 234]</text>\r\n",
       "</g>\r\n",
       "<!-- 0&#45;&gt;2 -->\r\n",
       "<g id=\"edge22\" class=\"edge\"><title>0&#45;&gt;2</title>\r\n",
       "<path fill=\"none\" stroke=\"black\" d=\"M900.142,-712.884C908.874,-703.887 918.431,-694.041 927.518,-684.678\"/>\r\n",
       "<polygon fill=\"black\" stroke=\"black\" points=\"930.227,-686.913 934.68,-677.299 925.204,-682.038 930.227,-686.913\"/>\r\n",
       "<text text-anchor=\"middle\" x=\"935.053\" y=\"-698.597\" font-family=\"Times New Roman,serif\" font-size=\"14.00\">False</text>\r\n",
       "</g>\r\n",
       "<!-- 3 -->\r\n",
       "<g id=\"node3\" class=\"node\"><title>3</title>\r\n",
       "<polygon fill=\"none\" stroke=\"black\" points=\"467.5,-573 356.5,-573 356.5,-505 467.5,-505 467.5,-573\"/>\r\n",
       "<text text-anchor=\"middle\" x=\"412\" y=\"-557.8\" font-family=\"Times New Roman,serif\" font-size=\"14.00\">Class &lt;= 0.5</text>\r\n",
       "<text text-anchor=\"middle\" x=\"412\" y=\"-542.8\" font-family=\"Times New Roman,serif\" font-size=\"14.00\">entropy = 0.737</text>\r\n",
       "<text text-anchor=\"middle\" x=\"412\" y=\"-527.8\" font-family=\"Times New Roman,serif\" font-size=\"14.00\">samples = 231</text>\r\n",
       "<text text-anchor=\"middle\" x=\"412\" y=\"-512.8\" font-family=\"Times New Roman,serif\" font-size=\"14.00\">value = [48, 183]</text>\r\n",
       "</g>\r\n",
       "<!-- 1&#45;&gt;3 -->\r\n",
       "<g id=\"edge2\" class=\"edge\"><title>1&#45;&gt;3</title>\r\n",
       "<path fill=\"none\" stroke=\"black\" d=\"M709.648,-625.042C645.622,-606.749 543.957,-577.702 477.601,-558.743\"/>\r\n",
       "<polygon fill=\"black\" stroke=\"black\" points=\"478.247,-555.288 467.671,-555.906 476.324,-562.019 478.247,-555.288\"/>\r\n",
       "</g>\r\n",
       "<!-- 4 -->\r\n",
       "<g id=\"node14\" class=\"node\"><title>4</title>\r\n",
       "<polygon fill=\"none\" stroke=\"black\" points=\"824.5,-573 713.5,-573 713.5,-505 824.5,-505 824.5,-573\"/>\r\n",
       "<text text-anchor=\"middle\" x=\"769\" y=\"-557.8\" font-family=\"Times New Roman,serif\" font-size=\"14.00\">Class &lt;= 2.5</text>\r\n",
       "<text text-anchor=\"middle\" x=\"769\" y=\"-542.8\" font-family=\"Times New Roman,serif\" font-size=\"14.00\">entropy = 0.95</text>\r\n",
       "<text text-anchor=\"middle\" x=\"769\" y=\"-527.8\" font-family=\"Times New Roman,serif\" font-size=\"14.00\">samples = 233</text>\r\n",
       "<text text-anchor=\"middle\" x=\"769\" y=\"-512.8\" font-family=\"Times New Roman,serif\" font-size=\"14.00\">value = [147, 86]</text>\r\n",
       "</g>\r\n",
       "<!-- 1&#45;&gt;4 -->\r\n",
       "<g id=\"edge13\" class=\"edge\"><title>1&#45;&gt;4</title>\r\n",
       "<path fill=\"none\" stroke=\"black\" d=\"M769,-608.884C769,-600.778 769,-591.982 769,-583.472\"/>\r\n",
       "<polygon fill=\"black\" stroke=\"black\" points=\"772.5,-583.299 769,-573.299 765.5,-583.299 772.5,-583.299\"/>\r\n",
       "</g>\r\n",
       "<!-- 21 -->\r\n",
       "<g id=\"node4\" class=\"node\"><title>21</title>\r\n",
       "<polygon fill=\"none\" stroke=\"black\" points=\"284.5,-469 173.5,-469 173.5,-401 284.5,-401 284.5,-469\"/>\r\n",
       "<text text-anchor=\"middle\" x=\"229\" y=\"-453.8\" font-family=\"Times New Roman,serif\" font-size=\"14.00\">Age &lt;= 38.5</text>\r\n",
       "<text text-anchor=\"middle\" x=\"229\" y=\"-438.8\" font-family=\"Times New Roman,serif\" font-size=\"14.00\">entropy = 0.581</text>\r\n",
       "<text text-anchor=\"middle\" x=\"229\" y=\"-423.8\" font-family=\"Times New Roman,serif\" font-size=\"14.00\">samples = 137</text>\r\n",
       "<text text-anchor=\"middle\" x=\"229\" y=\"-408.8\" font-family=\"Times New Roman,serif\" font-size=\"14.00\">value = [19, 118]</text>\r\n",
       "</g>\r\n",
       "<!-- 3&#45;&gt;21 -->\r\n",
       "<g id=\"edge3\" class=\"edge\"><title>3&#45;&gt;21</title>\r\n",
       "<path fill=\"none\" stroke=\"black\" d=\"M356.1,-506.842C336.322,-495.819 313.916,-483.33 293.484,-471.942\"/>\r\n",
       "<polygon fill=\"black\" stroke=\"black\" points=\"294.997,-468.778 284.558,-466.967 291.589,-474.893 294.997,-468.778\"/>\r\n",
       "</g>\r\n",
       "<!-- 22 -->\r\n",
       "<g id=\"node9\" class=\"node\"><title>22</title>\r\n",
       "<polygon fill=\"none\" stroke=\"black\" points=\"465,-469 359,-469 359,-401 465,-401 465,-469\"/>\r\n",
       "<text text-anchor=\"middle\" x=\"412\" y=\"-453.8\" font-family=\"Times New Roman,serif\" font-size=\"14.00\">Age &lt;= 16.0</text>\r\n",
       "<text text-anchor=\"middle\" x=\"412\" y=\"-438.8\" font-family=\"Times New Roman,serif\" font-size=\"14.00\">entropy = 0.891</text>\r\n",
       "<text text-anchor=\"middle\" x=\"412\" y=\"-423.8\" font-family=\"Times New Roman,serif\" font-size=\"14.00\">samples = 94</text>\r\n",
       "<text text-anchor=\"middle\" x=\"412\" y=\"-408.8\" font-family=\"Times New Roman,serif\" font-size=\"14.00\">value = [29, 65]</text>\r\n",
       "</g>\r\n",
       "<!-- 3&#45;&gt;22 -->\r\n",
       "<g id=\"edge8\" class=\"edge\"><title>3&#45;&gt;22</title>\r\n",
       "<path fill=\"none\" stroke=\"black\" d=\"M412,-504.884C412,-496.778 412,-487.982 412,-479.472\"/>\r\n",
       "<polygon fill=\"black\" stroke=\"black\" points=\"415.5,-479.299 412,-469.299 408.5,-479.299 415.5,-479.299\"/>\r\n",
       "</g>\r\n",
       "<!-- 25 -->\r\n",
       "<g id=\"node5\" class=\"node\"><title>25</title>\r\n",
       "<polygon fill=\"none\" stroke=\"black\" points=\"159,-365 53,-365 53,-297 159,-297 159,-365\"/>\r\n",
       "<text text-anchor=\"middle\" x=\"106\" y=\"-349.8\" font-family=\"Times New Roman,serif\" font-size=\"14.00\">Age &lt;= 8.0</text>\r\n",
       "<text text-anchor=\"middle\" x=\"106\" y=\"-334.8\" font-family=\"Times New Roman,serif\" font-size=\"14.00\">entropy = 0.326</text>\r\n",
       "<text text-anchor=\"middle\" x=\"106\" y=\"-319.8\" font-family=\"Times New Roman,serif\" font-size=\"14.00\">samples = 67</text>\r\n",
       "<text text-anchor=\"middle\" x=\"106\" y=\"-304.8\" font-family=\"Times New Roman,serif\" font-size=\"14.00\">value = [4, 63]</text>\r\n",
       "</g>\r\n",
       "<!-- 21&#45;&gt;25 -->\r\n",
       "<g id=\"edge4\" class=\"edge\"><title>21&#45;&gt;25</title>\r\n",
       "<path fill=\"none\" stroke=\"black\" d=\"M189.065,-400.884C177.895,-391.62 165.637,-381.455 154.049,-371.845\"/>\r\n",
       "<polygon fill=\"black\" stroke=\"black\" points=\"156.087,-368.989 146.155,-365.299 151.619,-374.377 156.087,-368.989\"/>\r\n",
       "</g>\r\n",
       "<!-- 26 -->\r\n",
       "<g id=\"node8\" class=\"node\"><title>26</title>\r\n",
       "<polygon fill=\"none\" stroke=\"black\" points=\"281,-357.5 177,-357.5 177,-304.5 281,-304.5 281,-357.5\"/>\r\n",
       "<text text-anchor=\"middle\" x=\"229\" y=\"-342.3\" font-family=\"Times New Roman,serif\" font-size=\"14.00\">entropy = 0.75</text>\r\n",
       "<text text-anchor=\"middle\" x=\"229\" y=\"-327.3\" font-family=\"Times New Roman,serif\" font-size=\"14.00\">samples = 70</text>\r\n",
       "<text text-anchor=\"middle\" x=\"229\" y=\"-312.3\" font-family=\"Times New Roman,serif\" font-size=\"14.00\">value = [15, 55]</text>\r\n",
       "</g>\r\n",
       "<!-- 21&#45;&gt;26 -->\r\n",
       "<g id=\"edge7\" class=\"edge\"><title>21&#45;&gt;26</title>\r\n",
       "<path fill=\"none\" stroke=\"black\" d=\"M229,-400.884C229,-390.326 229,-378.597 229,-367.854\"/>\r\n",
       "<polygon fill=\"black\" stroke=\"black\" points=\"232.5,-367.52 229,-357.52 225.5,-367.52 232.5,-367.52\"/>\r\n",
       "</g>\r\n",
       "<!-- 29 -->\r\n",
       "<g id=\"node6\" class=\"node\"><title>29</title>\r\n",
       "<polygon fill=\"none\" stroke=\"black\" points=\"92,-253.5 0,-253.5 0,-200.5 92,-200.5 92,-253.5\"/>\r\n",
       "<text text-anchor=\"middle\" x=\"46\" y=\"-238.3\" font-family=\"Times New Roman,serif\" font-size=\"14.00\">entropy = 0.0</text>\r\n",
       "<text text-anchor=\"middle\" x=\"46\" y=\"-223.3\" font-family=\"Times New Roman,serif\" font-size=\"14.00\">samples = 1</text>\r\n",
       "<text text-anchor=\"middle\" x=\"46\" y=\"-208.3\" font-family=\"Times New Roman,serif\" font-size=\"14.00\">value = [1, 0]</text>\r\n",
       "</g>\r\n",
       "<!-- 25&#45;&gt;29 -->\r\n",
       "<g id=\"edge5\" class=\"edge\"><title>25&#45;&gt;29</title>\r\n",
       "<path fill=\"none\" stroke=\"black\" d=\"M86.5197,-296.884C79.9857,-285.776 72.6893,-273.372 66.1082,-262.184\"/>\r\n",
       "<polygon fill=\"black\" stroke=\"black\" points=\"69.0987,-260.365 61.0117,-253.52 63.0652,-263.914 69.0987,-260.365\"/>\r\n",
       "</g>\r\n",
       "<!-- 30 -->\r\n",
       "<g id=\"node7\" class=\"node\"><title>30</title>\r\n",
       "<polygon fill=\"none\" stroke=\"black\" points=\"216,-253.5 110,-253.5 110,-200.5 216,-200.5 216,-253.5\"/>\r\n",
       "<text text-anchor=\"middle\" x=\"163\" y=\"-238.3\" font-family=\"Times New Roman,serif\" font-size=\"14.00\">entropy = 0.267</text>\r\n",
       "<text text-anchor=\"middle\" x=\"163\" y=\"-223.3\" font-family=\"Times New Roman,serif\" font-size=\"14.00\">samples = 66</text>\r\n",
       "<text text-anchor=\"middle\" x=\"163\" y=\"-208.3\" font-family=\"Times New Roman,serif\" font-size=\"14.00\">value = [3, 63]</text>\r\n",
       "</g>\r\n",
       "<!-- 25&#45;&gt;30 -->\r\n",
       "<g id=\"edge6\" class=\"edge\"><title>25&#45;&gt;30</title>\r\n",
       "<path fill=\"none\" stroke=\"black\" d=\"M124.506,-296.884C130.652,-285.886 137.508,-273.617 143.711,-262.517\"/>\r\n",
       "<polygon fill=\"black\" stroke=\"black\" points=\"146.916,-263.957 148.739,-253.52 140.805,-260.542 146.916,-263.957\"/>\r\n",
       "</g>\r\n",
       "<!-- 23 -->\r\n",
       "<g id=\"node10\" class=\"node\"><title>23</title>\r\n",
       "<polygon fill=\"none\" stroke=\"black\" points=\"397,-357.5 299,-357.5 299,-304.5 397,-304.5 397,-357.5\"/>\r\n",
       "<text text-anchor=\"middle\" x=\"348\" y=\"-342.3\" font-family=\"Times New Roman,serif\" font-size=\"14.00\">entropy = 0.0</text>\r\n",
       "<text text-anchor=\"middle\" x=\"348\" y=\"-327.3\" font-family=\"Times New Roman,serif\" font-size=\"14.00\">samples = 12</text>\r\n",
       "<text text-anchor=\"middle\" x=\"348\" y=\"-312.3\" font-family=\"Times New Roman,serif\" font-size=\"14.00\">value = [0, 12]</text>\r\n",
       "</g>\r\n",
       "<!-- 22&#45;&gt;23 -->\r\n",
       "<g id=\"edge9\" class=\"edge\"><title>22&#45;&gt;23</title>\r\n",
       "<path fill=\"none\" stroke=\"black\" d=\"M391.221,-400.884C384.251,-389.776 376.469,-377.372 369.449,-366.184\"/>\r\n",
       "<polygon fill=\"black\" stroke=\"black\" points=\"372.292,-364.13 364.013,-357.52 366.363,-367.851 372.292,-364.13\"/>\r\n",
       "</g>\r\n",
       "<!-- 24 -->\r\n",
       "<g id=\"node11\" class=\"node\"><title>24</title>\r\n",
       "<polygon fill=\"none\" stroke=\"black\" points=\"521,-365 415,-365 415,-297 521,-297 521,-365\"/>\r\n",
       "<text text-anchor=\"middle\" x=\"468\" y=\"-349.8\" font-family=\"Times New Roman,serif\" font-size=\"14.00\">Age &lt;= 53.0</text>\r\n",
       "<text text-anchor=\"middle\" x=\"468\" y=\"-334.8\" font-family=\"Times New Roman,serif\" font-size=\"14.00\">entropy = 0.937</text>\r\n",
       "<text text-anchor=\"middle\" x=\"468\" y=\"-319.8\" font-family=\"Times New Roman,serif\" font-size=\"14.00\">samples = 82</text>\r\n",
       "<text text-anchor=\"middle\" x=\"468\" y=\"-304.8\" font-family=\"Times New Roman,serif\" font-size=\"14.00\">value = [29, 53]</text>\r\n",
       "</g>\r\n",
       "<!-- 22&#45;&gt;24 -->\r\n",
       "<g id=\"edge10\" class=\"edge\"><title>22&#45;&gt;24</title>\r\n",
       "<path fill=\"none\" stroke=\"black\" d=\"M430.182,-400.884C434.876,-392.332 439.993,-383.013 444.902,-374.072\"/>\r\n",
       "<polygon fill=\"black\" stroke=\"black\" points=\"447.973,-375.75 449.718,-365.299 441.837,-372.381 447.973,-375.75\"/>\r\n",
       "</g>\r\n",
       "<!-- 35 -->\r\n",
       "<g id=\"node12\" class=\"node\"><title>35</title>\r\n",
       "<polygon fill=\"none\" stroke=\"black\" points=\"397,-253.5 291,-253.5 291,-200.5 397,-200.5 397,-253.5\"/>\r\n",
       "<text text-anchor=\"middle\" x=\"344\" y=\"-238.3\" font-family=\"Times New Roman,serif\" font-size=\"14.00\">entropy = 0.904</text>\r\n",
       "<text text-anchor=\"middle\" x=\"344\" y=\"-223.3\" font-family=\"Times New Roman,serif\" font-size=\"14.00\">samples = 75</text>\r\n",
       "<text text-anchor=\"middle\" x=\"344\" y=\"-208.3\" font-family=\"Times New Roman,serif\" font-size=\"14.00\">value = [24, 51]</text>\r\n",
       "</g>\r\n",
       "<!-- 24&#45;&gt;35 -->\r\n",
       "<g id=\"edge11\" class=\"edge\"><title>24&#45;&gt;35</title>\r\n",
       "<path fill=\"none\" stroke=\"black\" d=\"M427.741,-296.884C413.301,-285.006 397.06,-271.646 382.751,-259.876\"/>\r\n",
       "<polygon fill=\"black\" stroke=\"black\" points=\"384.971,-257.17 375.024,-253.52 380.524,-262.576 384.971,-257.17\"/>\r\n",
       "</g>\r\n",
       "<!-- 36 -->\r\n",
       "<g id=\"node13\" class=\"node\"><title>36</title>\r\n",
       "<polygon fill=\"none\" stroke=\"black\" points=\"521,-253.5 415,-253.5 415,-200.5 521,-200.5 521,-253.5\"/>\r\n",
       "<text text-anchor=\"middle\" x=\"468\" y=\"-238.3\" font-family=\"Times New Roman,serif\" font-size=\"14.00\">entropy = 0.863</text>\r\n",
       "<text text-anchor=\"middle\" x=\"468\" y=\"-223.3\" font-family=\"Times New Roman,serif\" font-size=\"14.00\">samples = 7</text>\r\n",
       "<text text-anchor=\"middle\" x=\"468\" y=\"-208.3\" font-family=\"Times New Roman,serif\" font-size=\"14.00\">value = [5, 2]</text>\r\n",
       "</g>\r\n",
       "<!-- 24&#45;&gt;36 -->\r\n",
       "<g id=\"edge12\" class=\"edge\"><title>24&#45;&gt;36</title>\r\n",
       "<path fill=\"none\" stroke=\"black\" d=\"M468,-296.884C468,-286.326 468,-274.597 468,-263.854\"/>\r\n",
       "<polygon fill=\"black\" stroke=\"black\" points=\"471.5,-263.52 468,-253.52 464.5,-263.52 471.5,-263.52\"/>\r\n",
       "</g>\r\n",
       "<!-- 9 -->\r\n",
       "<g id=\"node15\" class=\"node\"><title>9</title>\r\n",
       "<polygon fill=\"none\" stroke=\"black\" points=\"764,-469 658,-469 658,-401 764,-401 764,-469\"/>\r\n",
       "<text text-anchor=\"middle\" x=\"711\" y=\"-453.8\" font-family=\"Times New Roman,serif\" font-size=\"14.00\">Age &lt;= 38.5</text>\r\n",
       "<text text-anchor=\"middle\" x=\"711\" y=\"-438.8\" font-family=\"Times New Roman,serif\" font-size=\"14.00\">entropy = 0.991</text>\r\n",
       "<text text-anchor=\"middle\" x=\"711\" y=\"-423.8\" font-family=\"Times New Roman,serif\" font-size=\"14.00\">samples = 176</text>\r\n",
       "<text text-anchor=\"middle\" x=\"711\" y=\"-408.8\" font-family=\"Times New Roman,serif\" font-size=\"14.00\">value = [98, 78]</text>\r\n",
       "</g>\r\n",
       "<!-- 4&#45;&gt;9 -->\r\n",
       "<g id=\"edge14\" class=\"edge\"><title>4&#45;&gt;9</title>\r\n",
       "<path fill=\"none\" stroke=\"black\" d=\"M750.169,-504.884C745.307,-496.332 740.008,-487.013 734.923,-478.072\"/>\r\n",
       "<polygon fill=\"black\" stroke=\"black\" points=\"737.921,-476.262 729.935,-469.299 731.835,-479.722 737.921,-476.262\"/>\r\n",
       "</g>\r\n",
       "<!-- 10 -->\r\n",
       "<g id=\"node20\" class=\"node\"><title>10</title>\r\n",
       "<polygon fill=\"none\" stroke=\"black\" points=\"888,-469 782,-469 782,-401 888,-401 888,-469\"/>\r\n",
       "<text text-anchor=\"middle\" x=\"835\" y=\"-453.8\" font-family=\"Times New Roman,serif\" font-size=\"14.00\">Age &lt;= 27.5</text>\r\n",
       "<text text-anchor=\"middle\" x=\"835\" y=\"-438.8\" font-family=\"Times New Roman,serif\" font-size=\"14.00\">entropy = 0.585</text>\r\n",
       "<text text-anchor=\"middle\" x=\"835\" y=\"-423.8\" font-family=\"Times New Roman,serif\" font-size=\"14.00\">samples = 57</text>\r\n",
       "<text text-anchor=\"middle\" x=\"835\" y=\"-408.8\" font-family=\"Times New Roman,serif\" font-size=\"14.00\">value = [49, 8]</text>\r\n",
       "</g>\r\n",
       "<!-- 4&#45;&gt;10 -->\r\n",
       "<g id=\"edge19\" class=\"edge\"><title>4&#45;&gt;10</title>\r\n",
       "<path fill=\"none\" stroke=\"black\" d=\"M790.428,-504.884C796.019,-496.243 802.117,-486.819 807.958,-477.793\"/>\r\n",
       "<polygon fill=\"black\" stroke=\"black\" points=\"810.959,-479.596 813.453,-469.299 805.082,-475.794 810.959,-479.596\"/>\r\n",
       "</g>\r\n",
       "<!-- 13 -->\r\n",
       "<g id=\"node16\" class=\"node\"><title>13</title>\r\n",
       "<polygon fill=\"none\" stroke=\"black\" points=\"644,-365 540,-365 540,-297 644,-297 644,-365\"/>\r\n",
       "<text text-anchor=\"middle\" x=\"592\" y=\"-349.8\" font-family=\"Times New Roman,serif\" font-size=\"14.00\">Age &lt;= 20.5</text>\r\n",
       "<text text-anchor=\"middle\" x=\"592\" y=\"-334.8\" font-family=\"Times New Roman,serif\" font-size=\"14.00\">entropy = 1.0</text>\r\n",
       "<text text-anchor=\"middle\" x=\"592\" y=\"-319.8\" font-family=\"Times New Roman,serif\" font-size=\"14.00\">samples = 155</text>\r\n",
       "<text text-anchor=\"middle\" x=\"592\" y=\"-304.8\" font-family=\"Times New Roman,serif\" font-size=\"14.00\">value = [79, 76]</text>\r\n",
       "</g>\r\n",
       "<!-- 9&#45;&gt;13 -->\r\n",
       "<g id=\"edge15\" class=\"edge\"><title>9&#45;&gt;13</title>\r\n",
       "<path fill=\"none\" stroke=\"black\" d=\"M672.364,-400.884C661.556,-391.62 649.697,-381.455 638.486,-371.845\"/>\r\n",
       "<polygon fill=\"black\" stroke=\"black\" points=\"640.72,-369.15 630.849,-365.299 636.164,-374.465 640.72,-369.15\"/>\r\n",
       "</g>\r\n",
       "<!-- 14 -->\r\n",
       "<g id=\"node19\" class=\"node\"><title>14</title>\r\n",
       "<polygon fill=\"none\" stroke=\"black\" points=\"768,-357.5 662,-357.5 662,-304.5 768,-304.5 768,-357.5\"/>\r\n",
       "<text text-anchor=\"middle\" x=\"715\" y=\"-342.3\" font-family=\"Times New Roman,serif\" font-size=\"14.00\">entropy = 0.454</text>\r\n",
       "<text text-anchor=\"middle\" x=\"715\" y=\"-327.3\" font-family=\"Times New Roman,serif\" font-size=\"14.00\">samples = 21</text>\r\n",
       "<text text-anchor=\"middle\" x=\"715\" y=\"-312.3\" font-family=\"Times New Roman,serif\" font-size=\"14.00\">value = [19, 2]</text>\r\n",
       "</g>\r\n",
       "<!-- 9&#45;&gt;14 -->\r\n",
       "<g id=\"edge18\" class=\"edge\"><title>9&#45;&gt;14</title>\r\n",
       "<path fill=\"none\" stroke=\"black\" d=\"M712.299,-400.884C712.717,-390.216 713.182,-378.352 713.607,-367.519\"/>\r\n",
       "<polygon fill=\"black\" stroke=\"black\" points=\"717.105,-367.649 713.999,-357.52 710.11,-367.375 717.105,-367.649\"/>\r\n",
       "</g>\r\n",
       "<!-- 37 -->\r\n",
       "<g id=\"node17\" class=\"node\"><title>37</title>\r\n",
       "<polygon fill=\"none\" stroke=\"black\" points=\"645,-253.5 539,-253.5 539,-200.5 645,-200.5 645,-253.5\"/>\r\n",
       "<text text-anchor=\"middle\" x=\"592\" y=\"-238.3\" font-family=\"Times New Roman,serif\" font-size=\"14.00\">entropy = 0.977</text>\r\n",
       "<text text-anchor=\"middle\" x=\"592\" y=\"-223.3\" font-family=\"Times New Roman,serif\" font-size=\"14.00\">samples = 73</text>\r\n",
       "<text text-anchor=\"middle\" x=\"592\" y=\"-208.3\" font-family=\"Times New Roman,serif\" font-size=\"14.00\">value = [43, 30]</text>\r\n",
       "</g>\r\n",
       "<!-- 13&#45;&gt;37 -->\r\n",
       "<g id=\"edge16\" class=\"edge\"><title>13&#45;&gt;37</title>\r\n",
       "<path fill=\"none\" stroke=\"black\" d=\"M592,-296.884C592,-286.326 592,-274.597 592,-263.854\"/>\r\n",
       "<polygon fill=\"black\" stroke=\"black\" points=\"595.5,-263.52 592,-253.52 588.5,-263.52 595.5,-263.52\"/>\r\n",
       "</g>\r\n",
       "<!-- 38 -->\r\n",
       "<g id=\"node18\" class=\"node\"><title>38</title>\r\n",
       "<polygon fill=\"none\" stroke=\"black\" points=\"769,-253.5 663,-253.5 663,-200.5 769,-200.5 769,-253.5\"/>\r\n",
       "<text text-anchor=\"middle\" x=\"716\" y=\"-238.3\" font-family=\"Times New Roman,serif\" font-size=\"14.00\">entropy = 0.989</text>\r\n",
       "<text text-anchor=\"middle\" x=\"716\" y=\"-223.3\" font-family=\"Times New Roman,serif\" font-size=\"14.00\">samples = 82</text>\r\n",
       "<text text-anchor=\"middle\" x=\"716\" y=\"-208.3\" font-family=\"Times New Roman,serif\" font-size=\"14.00\">value = [36, 46]</text>\r\n",
       "</g>\r\n",
       "<!-- 13&#45;&gt;38 -->\r\n",
       "<g id=\"edge17\" class=\"edge\"><title>13&#45;&gt;38</title>\r\n",
       "<path fill=\"none\" stroke=\"black\" d=\"M632.259,-296.884C646.699,-285.006 662.94,-271.646 677.249,-259.876\"/>\r\n",
       "<polygon fill=\"black\" stroke=\"black\" points=\"679.476,-262.576 684.976,-253.52 675.029,-257.17 679.476,-262.576\"/>\r\n",
       "</g>\r\n",
       "<!-- 11 -->\r\n",
       "<g id=\"node21\" class=\"node\"><title>11</title>\r\n",
       "<polygon fill=\"none\" stroke=\"black\" points=\"884,-357.5 786,-357.5 786,-304.5 884,-304.5 884,-357.5\"/>\r\n",
       "<text text-anchor=\"middle\" x=\"835\" y=\"-342.3\" font-family=\"Times New Roman,serif\" font-size=\"14.00\">entropy = 0.0</text>\r\n",
       "<text text-anchor=\"middle\" x=\"835\" y=\"-327.3\" font-family=\"Times New Roman,serif\" font-size=\"14.00\">samples = 31</text>\r\n",
       "<text text-anchor=\"middle\" x=\"835\" y=\"-312.3\" font-family=\"Times New Roman,serif\" font-size=\"14.00\">value = [31, 0]</text>\r\n",
       "</g>\r\n",
       "<!-- 10&#45;&gt;11 -->\r\n",
       "<g id=\"edge20\" class=\"edge\"><title>10&#45;&gt;11</title>\r\n",
       "<path fill=\"none\" stroke=\"black\" d=\"M835,-400.884C835,-390.326 835,-378.597 835,-367.854\"/>\r\n",
       "<polygon fill=\"black\" stroke=\"black\" points=\"838.5,-367.52 835,-357.52 831.5,-367.52 838.5,-367.52\"/>\r\n",
       "</g>\r\n",
       "<!-- 12 -->\r\n",
       "<g id=\"node22\" class=\"node\"><title>12</title>\r\n",
       "<polygon fill=\"none\" stroke=\"black\" points=\"1001.5,-357.5 902.5,-357.5 902.5,-304.5 1001.5,-304.5 1001.5,-357.5\"/>\r\n",
       "<text text-anchor=\"middle\" x=\"952\" y=\"-342.3\" font-family=\"Times New Roman,serif\" font-size=\"14.00\">entropy = 0.89</text>\r\n",
       "<text text-anchor=\"middle\" x=\"952\" y=\"-327.3\" font-family=\"Times New Roman,serif\" font-size=\"14.00\">samples = 26</text>\r\n",
       "<text text-anchor=\"middle\" x=\"952\" y=\"-312.3\" font-family=\"Times New Roman,serif\" font-size=\"14.00\">value = [18, 8]</text>\r\n",
       "</g>\r\n",
       "<!-- 10&#45;&gt;12 -->\r\n",
       "<g id=\"edge21\" class=\"edge\"><title>10&#45;&gt;12</title>\r\n",
       "<path fill=\"none\" stroke=\"black\" d=\"M872.987,-400.884C886.485,-389.116 901.651,-375.894 915.061,-364.203\"/>\r\n",
       "<polygon fill=\"black\" stroke=\"black\" points=\"917.489,-366.73 922.727,-357.52 912.889,-361.453 917.489,-366.73\"/>\r\n",
       "</g>\r\n",
       "<!-- 5 -->\r\n",
       "<g id=\"node24\" class=\"node\"><title>5</title>\r\n",
       "<polygon fill=\"none\" stroke=\"black\" points=\"1019,-573 915,-573 915,-505 1019,-505 1019,-573\"/>\r\n",
       "<text text-anchor=\"middle\" x=\"967\" y=\"-557.8\" font-family=\"Times New Roman,serif\" font-size=\"14.00\">Class &lt;= 1.5</text>\r\n",
       "<text text-anchor=\"middle\" x=\"967\" y=\"-542.8\" font-family=\"Times New Roman,serif\" font-size=\"14.00\">entropy = 1.0</text>\r\n",
       "<text text-anchor=\"middle\" x=\"967\" y=\"-527.8\" font-family=\"Times New Roman,serif\" font-size=\"14.00\">samples = 45</text>\r\n",
       "<text text-anchor=\"middle\" x=\"967\" y=\"-512.8\" font-family=\"Times New Roman,serif\" font-size=\"14.00\">value = [22, 23]</text>\r\n",
       "</g>\r\n",
       "<!-- 2&#45;&gt;5 -->\r\n",
       "<g id=\"edge23\" class=\"edge\"><title>2&#45;&gt;5</title>\r\n",
       "<path fill=\"none\" stroke=\"black\" d=\"M967,-608.884C967,-600.778 967,-591.982 967,-583.472\"/>\r\n",
       "<polygon fill=\"black\" stroke=\"black\" points=\"970.5,-583.299 967,-573.299 963.5,-583.299 970.5,-583.299\"/>\r\n",
       "</g>\r\n",
       "<!-- 6 -->\r\n",
       "<g id=\"node27\" class=\"node\"><title>6</title>\r\n",
       "<polygon fill=\"none\" stroke=\"black\" points=\"1269.5,-573 1144.5,-573 1144.5,-505 1269.5,-505 1269.5,-573\"/>\r\n",
       "<text text-anchor=\"middle\" x=\"1207\" y=\"-557.8\" font-family=\"Times New Roman,serif\" font-size=\"14.00\">Class &lt;= 0.5</text>\r\n",
       "<text text-anchor=\"middle\" x=\"1207\" y=\"-542.8\" font-family=\"Times New Roman,serif\" font-size=\"14.00\">entropy = 0.599</text>\r\n",
       "<text text-anchor=\"middle\" x=\"1207\" y=\"-527.8\" font-family=\"Times New Roman,serif\" font-size=\"14.00\">samples = 1450</text>\r\n",
       "<text text-anchor=\"middle\" x=\"1207\" y=\"-512.8\" font-family=\"Times New Roman,serif\" font-size=\"14.00\">value = [1239, 211]</text>\r\n",
       "</g>\r\n",
       "<!-- 2&#45;&gt;6 -->\r\n",
       "<g id=\"edge26\" class=\"edge\"><title>2&#45;&gt;6</title>\r\n",
       "<path fill=\"none\" stroke=\"black\" d=\"M1029.74,-615.334C1061.99,-601.63 1101.44,-584.863 1134.93,-570.63\"/>\r\n",
       "<polygon fill=\"black\" stroke=\"black\" points=\"1136.37,-573.82 1144.21,-566.687 1133.63,-567.378 1136.37,-573.82\"/>\r\n",
       "</g>\r\n",
       "<!-- 17 -->\r\n",
       "<g id=\"node25\" class=\"node\"><title>17</title>\r\n",
       "<polygon fill=\"none\" stroke=\"black\" points=\"1012,-461.5 906,-461.5 906,-408.5 1012,-408.5 1012,-461.5\"/>\r\n",
       "<text text-anchor=\"middle\" x=\"959\" y=\"-446.3\" font-family=\"Times New Roman,serif\" font-size=\"14.00\">entropy = 0.592</text>\r\n",
       "<text text-anchor=\"middle\" x=\"959\" y=\"-431.3\" font-family=\"Times New Roman,serif\" font-size=\"14.00\">samples = 14</text>\r\n",
       "<text text-anchor=\"middle\" x=\"959\" y=\"-416.3\" font-family=\"Times New Roman,serif\" font-size=\"14.00\">value = [2, 12]</text>\r\n",
       "</g>\r\n",
       "<!-- 5&#45;&gt;17 -->\r\n",
       "<g id=\"edge24\" class=\"edge\"><title>5&#45;&gt;17</title>\r\n",
       "<path fill=\"none\" stroke=\"black\" d=\"M964.403,-504.884C963.566,-494.216 962.635,-482.352 961.786,-471.519\"/>\r\n",
       "<polygon fill=\"black\" stroke=\"black\" points=\"965.273,-471.216 961.002,-461.52 958.294,-471.763 965.273,-471.216\"/>\r\n",
       "</g>\r\n",
       "<!-- 18 -->\r\n",
       "<g id=\"node26\" class=\"node\"><title>18</title>\r\n",
       "<polygon fill=\"none\" stroke=\"black\" points=\"1136,-461.5 1030,-461.5 1030,-408.5 1136,-408.5 1136,-461.5\"/>\r\n",
       "<text text-anchor=\"middle\" x=\"1083\" y=\"-446.3\" font-family=\"Times New Roman,serif\" font-size=\"14.00\">entropy = 0.938</text>\r\n",
       "<text text-anchor=\"middle\" x=\"1083\" y=\"-431.3\" font-family=\"Times New Roman,serif\" font-size=\"14.00\">samples = 31</text>\r\n",
       "<text text-anchor=\"middle\" x=\"1083\" y=\"-416.3\" font-family=\"Times New Roman,serif\" font-size=\"14.00\">value = [20, 11]</text>\r\n",
       "</g>\r\n",
       "<!-- 5&#45;&gt;18 -->\r\n",
       "<g id=\"edge25\" class=\"edge\"><title>5&#45;&gt;18</title>\r\n",
       "<path fill=\"none\" stroke=\"black\" d=\"M1004.66,-504.884C1018.04,-493.116 1033.08,-479.894 1046.38,-468.203\"/>\r\n",
       "<polygon fill=\"black\" stroke=\"black\" points=\"1048.78,-470.752 1053.98,-461.52 1044.16,-465.495 1048.78,-470.752\"/>\r\n",
       "</g>\r\n",
       "<!-- 7 -->\r\n",
       "<g id=\"node28\" class=\"node\"><title>7</title>\r\n",
       "<polygon fill=\"none\" stroke=\"black\" points=\"1260,-469 1154,-469 1154,-401 1260,-401 1260,-469\"/>\r\n",
       "<text text-anchor=\"middle\" x=\"1207\" y=\"-453.8\" font-family=\"Times New Roman,serif\" font-size=\"14.00\">Age &lt;= 49.5</text>\r\n",
       "<text text-anchor=\"middle\" x=\"1207\" y=\"-438.8\" font-family=\"Times New Roman,serif\" font-size=\"14.00\">entropy = 0.893</text>\r\n",
       "<text text-anchor=\"middle\" x=\"1207\" y=\"-423.8\" font-family=\"Times New Roman,serif\" font-size=\"14.00\">samples = 142</text>\r\n",
       "<text text-anchor=\"middle\" x=\"1207\" y=\"-408.8\" font-family=\"Times New Roman,serif\" font-size=\"14.00\">value = [98, 44]</text>\r\n",
       "</g>\r\n",
       "<!-- 6&#45;&gt;7 -->\r\n",
       "<g id=\"edge27\" class=\"edge\"><title>6&#45;&gt;7</title>\r\n",
       "<path fill=\"none\" stroke=\"black\" d=\"M1207,-504.884C1207,-496.778 1207,-487.982 1207,-479.472\"/>\r\n",
       "<polygon fill=\"black\" stroke=\"black\" points=\"1210.5,-479.299 1207,-469.299 1203.5,-479.299 1210.5,-479.299\"/>\r\n",
       "</g>\r\n",
       "<!-- 8 -->\r\n",
       "<g id=\"node31\" class=\"node\"><title>8</title>\r\n",
       "<polygon fill=\"none\" stroke=\"black\" points=\"1403.5,-469 1278.5,-469 1278.5,-401 1403.5,-401 1403.5,-469\"/>\r\n",
       "<text text-anchor=\"middle\" x=\"1341\" y=\"-453.8\" font-family=\"Times New Roman,serif\" font-size=\"14.00\">Class &lt;= 1.5</text>\r\n",
       "<text text-anchor=\"middle\" x=\"1341\" y=\"-438.8\" font-family=\"Times New Roman,serif\" font-size=\"14.00\">entropy = 0.551</text>\r\n",
       "<text text-anchor=\"middle\" x=\"1341\" y=\"-423.8\" font-family=\"Times New Roman,serif\" font-size=\"14.00\">samples = 1308</text>\r\n",
       "<text text-anchor=\"middle\" x=\"1341\" y=\"-408.8\" font-family=\"Times New Roman,serif\" font-size=\"14.00\">value = [1141, 167]</text>\r\n",
       "</g>\r\n",
       "<!-- 6&#45;&gt;8 -->\r\n",
       "<g id=\"edge30\" class=\"edge\"><title>6&#45;&gt;8</title>\r\n",
       "<path fill=\"none\" stroke=\"black\" d=\"M1250.51,-504.884C1262.79,-495.531 1276.29,-485.259 1289.02,-475.568\"/>\r\n",
       "<polygon fill=\"black\" stroke=\"black\" points=\"1291.42,-478.141 1297.25,-469.299 1287.18,-472.571 1291.42,-478.141\"/>\r\n",
       "</g>\r\n",
       "<!-- 15 -->\r\n",
       "<g id=\"node29\" class=\"node\"><title>15</title>\r\n",
       "<polygon fill=\"none\" stroke=\"black\" points=\"1139,-357.5 1033,-357.5 1033,-304.5 1139,-304.5 1139,-357.5\"/>\r\n",
       "<text text-anchor=\"middle\" x=\"1086\" y=\"-342.3\" font-family=\"Times New Roman,serif\" font-size=\"14.00\">entropy = 0.955</text>\r\n",
       "<text text-anchor=\"middle\" x=\"1086\" y=\"-327.3\" font-family=\"Times New Roman,serif\" font-size=\"14.00\">samples = 109</text>\r\n",
       "<text text-anchor=\"middle\" x=\"1086\" y=\"-312.3\" font-family=\"Times New Roman,serif\" font-size=\"14.00\">value = [68, 41]</text>\r\n",
       "</g>\r\n",
       "<!-- 7&#45;&gt;15 -->\r\n",
       "<g id=\"edge28\" class=\"edge\"><title>7&#45;&gt;15</title>\r\n",
       "<path fill=\"none\" stroke=\"black\" d=\"M1167.71,-400.884C1153.76,-389.116 1138.07,-375.894 1124.2,-364.203\"/>\r\n",
       "<polygon fill=\"black\" stroke=\"black\" points=\"1126.18,-361.289 1116.27,-357.52 1121.66,-366.641 1126.18,-361.289\"/>\r\n",
       "</g>\r\n",
       "<!-- 16 -->\r\n",
       "<g id=\"node30\" class=\"node\"><title>16</title>\r\n",
       "<polygon fill=\"none\" stroke=\"black\" points=\"1263,-357.5 1157,-357.5 1157,-304.5 1263,-304.5 1263,-357.5\"/>\r\n",
       "<text text-anchor=\"middle\" x=\"1210\" y=\"-342.3\" font-family=\"Times New Roman,serif\" font-size=\"14.00\">entropy = 0.439</text>\r\n",
       "<text text-anchor=\"middle\" x=\"1210\" y=\"-327.3\" font-family=\"Times New Roman,serif\" font-size=\"14.00\">samples = 33</text>\r\n",
       "<text text-anchor=\"middle\" x=\"1210\" y=\"-312.3\" font-family=\"Times New Roman,serif\" font-size=\"14.00\">value = [30, 3]</text>\r\n",
       "</g>\r\n",
       "<!-- 7&#45;&gt;16 -->\r\n",
       "<g id=\"edge29\" class=\"edge\"><title>7&#45;&gt;16</title>\r\n",
       "<path fill=\"none\" stroke=\"black\" d=\"M1207.97,-400.884C1208.29,-390.216 1208.64,-378.352 1208.96,-367.519\"/>\r\n",
       "<polygon fill=\"black\" stroke=\"black\" points=\"1212.45,-367.619 1209.25,-357.52 1205.46,-367.413 1212.45,-367.619\"/>\r\n",
       "</g>\r\n",
       "<!-- 19 -->\r\n",
       "<g id=\"node32\" class=\"node\"><title>19</title>\r\n",
       "<polygon fill=\"none\" stroke=\"black\" points=\"1392,-357.5 1286,-357.5 1286,-304.5 1392,-304.5 1392,-357.5\"/>\r\n",
       "<text text-anchor=\"middle\" x=\"1339\" y=\"-342.3\" font-family=\"Times New Roman,serif\" font-size=\"14.00\">entropy = 0.276</text>\r\n",
       "<text text-anchor=\"middle\" x=\"1339\" y=\"-327.3\" font-family=\"Times New Roman,serif\" font-size=\"14.00\">samples = 126</text>\r\n",
       "<text text-anchor=\"middle\" x=\"1339\" y=\"-312.3\" font-family=\"Times New Roman,serif\" font-size=\"14.00\">value = [120, 6]</text>\r\n",
       "</g>\r\n",
       "<!-- 8&#45;&gt;19 -->\r\n",
       "<g id=\"edge31\" class=\"edge\"><title>8&#45;&gt;19</title>\r\n",
       "<path fill=\"none\" stroke=\"black\" d=\"M1340.35,-400.884C1340.14,-390.216 1339.91,-378.352 1339.7,-367.519\"/>\r\n",
       "<polygon fill=\"black\" stroke=\"black\" points=\"1343.2,-367.449 1339.5,-357.52 1336.2,-367.587 1343.2,-367.449\"/>\r\n",
       "</g>\r\n",
       "<!-- 20 -->\r\n",
       "<g id=\"node33\" class=\"node\"><title>20</title>\r\n",
       "<polygon fill=\"none\" stroke=\"black\" points=\"1535.5,-365 1410.5,-365 1410.5,-297 1535.5,-297 1535.5,-365\"/>\r\n",
       "<text text-anchor=\"middle\" x=\"1473\" y=\"-349.8\" font-family=\"Times New Roman,serif\" font-size=\"14.00\">Age &lt;= 52.5</text>\r\n",
       "<text text-anchor=\"middle\" x=\"1473\" y=\"-334.8\" font-family=\"Times New Roman,serif\" font-size=\"14.00\">entropy = 0.574</text>\r\n",
       "<text text-anchor=\"middle\" x=\"1473\" y=\"-319.8\" font-family=\"Times New Roman,serif\" font-size=\"14.00\">samples = 1182</text>\r\n",
       "<text text-anchor=\"middle\" x=\"1473\" y=\"-304.8\" font-family=\"Times New Roman,serif\" font-size=\"14.00\">value = [1021, 161]</text>\r\n",
       "</g>\r\n",
       "<!-- 8&#45;&gt;20 -->\r\n",
       "<g id=\"edge32\" class=\"edge\"><title>8&#45;&gt;20</title>\r\n",
       "<path fill=\"none\" stroke=\"black\" d=\"M1383.86,-400.884C1395.96,-391.531 1409.25,-381.259 1421.79,-371.568\"/>\r\n",
       "<polygon fill=\"black\" stroke=\"black\" points=\"1424.13,-374.183 1429.91,-365.299 1419.85,-368.644 1424.13,-374.183\"/>\r\n",
       "</g>\r\n",
       "<!-- 27 -->\r\n",
       "<g id=\"node34\" class=\"node\"><title>27</title>\r\n",
       "<polygon fill=\"none\" stroke=\"black\" points=\"1469,-261 1351,-261 1351,-193 1469,-193 1469,-261\"/>\r\n",
       "<text text-anchor=\"middle\" x=\"1410\" y=\"-245.8\" font-family=\"Times New Roman,serif\" font-size=\"14.00\">Age &lt;= 19.5</text>\r\n",
       "<text text-anchor=\"middle\" x=\"1410\" y=\"-230.8\" font-family=\"Times New Roman,serif\" font-size=\"14.00\">entropy = 0.582</text>\r\n",
       "<text text-anchor=\"middle\" x=\"1410\" y=\"-215.8\" font-family=\"Times New Roman,serif\" font-size=\"14.00\">samples = 1158</text>\r\n",
       "<text text-anchor=\"middle\" x=\"1410\" y=\"-200.8\" font-family=\"Times New Roman,serif\" font-size=\"14.00\">value = [997, 161]</text>\r\n",
       "</g>\r\n",
       "<!-- 20&#45;&gt;27 -->\r\n",
       "<g id=\"edge33\" class=\"edge\"><title>20&#45;&gt;27</title>\r\n",
       "<path fill=\"none\" stroke=\"black\" d=\"M1452.55,-296.884C1447.26,-288.332 1441.51,-279.013 1435.99,-270.072\"/>\r\n",
       "<polygon fill=\"black\" stroke=\"black\" points=\"1438.8,-267.968 1430.57,-261.299 1432.84,-271.647 1438.8,-267.968\"/>\r\n",
       "</g>\r\n",
       "<!-- 28 -->\r\n",
       "<g id=\"node39\" class=\"node\"><title>28</title>\r\n",
       "<polygon fill=\"none\" stroke=\"black\" points=\"1585,-253.5 1487,-253.5 1487,-200.5 1585,-200.5 1585,-253.5\"/>\r\n",
       "<text text-anchor=\"middle\" x=\"1536\" y=\"-238.3\" font-family=\"Times New Roman,serif\" font-size=\"14.00\">entropy = 0.0</text>\r\n",
       "<text text-anchor=\"middle\" x=\"1536\" y=\"-223.3\" font-family=\"Times New Roman,serif\" font-size=\"14.00\">samples = 24</text>\r\n",
       "<text text-anchor=\"middle\" x=\"1536\" y=\"-208.3\" font-family=\"Times New Roman,serif\" font-size=\"14.00\">value = [24, 0]</text>\r\n",
       "</g>\r\n",
       "<!-- 20&#45;&gt;28 -->\r\n",
       "<g id=\"edge38\" class=\"edge\"><title>20&#45;&gt;28</title>\r\n",
       "<path fill=\"none\" stroke=\"black\" d=\"M1493.45,-296.884C1500.32,-285.776 1507.98,-273.372 1514.89,-262.184\"/>\r\n",
       "<polygon fill=\"black\" stroke=\"black\" points=\"1517.96,-263.867 1520.24,-253.52 1512,-260.189 1517.96,-263.867\"/>\r\n",
       "</g>\r\n",
       "<!-- 31 -->\r\n",
       "<g id=\"node35\" class=\"node\"><title>31</title>\r\n",
       "<polygon fill=\"none\" stroke=\"black\" points=\"1398,-149.5 1292,-149.5 1292,-96.5 1398,-96.5 1398,-149.5\"/>\r\n",
       "<text text-anchor=\"middle\" x=\"1345\" y=\"-134.3\" font-family=\"Times New Roman,serif\" font-size=\"14.00\">entropy = 0.366</text>\r\n",
       "<text text-anchor=\"middle\" x=\"1345\" y=\"-119.3\" font-family=\"Times New Roman,serif\" font-size=\"14.00\">samples = 100</text>\r\n",
       "<text text-anchor=\"middle\" x=\"1345\" y=\"-104.3\" font-family=\"Times New Roman,serif\" font-size=\"14.00\">value = [93, 7]</text>\r\n",
       "</g>\r\n",
       "<!-- 27&#45;&gt;31 -->\r\n",
       "<g id=\"edge34\" class=\"edge\"><title>27&#45;&gt;31</title>\r\n",
       "<path fill=\"none\" stroke=\"black\" d=\"M1388.9,-192.884C1381.82,-181.776 1373.91,-169.372 1366.78,-158.184\"/>\r\n",
       "<polygon fill=\"black\" stroke=\"black\" points=\"1369.59,-156.072 1361.26,-149.52 1363.69,-159.834 1369.59,-156.072\"/>\r\n",
       "</g>\r\n",
       "<!-- 32 -->\r\n",
       "<g id=\"node36\" class=\"node\"><title>32</title>\r\n",
       "<polygon fill=\"none\" stroke=\"black\" points=\"1534,-157 1416,-157 1416,-89 1534,-89 1534,-157\"/>\r\n",
       "<text text-anchor=\"middle\" x=\"1475\" y=\"-141.8\" font-family=\"Times New Roman,serif\" font-size=\"14.00\">Age &lt;= 33.5</text>\r\n",
       "<text text-anchor=\"middle\" x=\"1475\" y=\"-126.8\" font-family=\"Times New Roman,serif\" font-size=\"14.00\">entropy = 0.599</text>\r\n",
       "<text text-anchor=\"middle\" x=\"1475\" y=\"-111.8\" font-family=\"Times New Roman,serif\" font-size=\"14.00\">samples = 1058</text>\r\n",
       "<text text-anchor=\"middle\" x=\"1475\" y=\"-96.8\" font-family=\"Times New Roman,serif\" font-size=\"14.00\">value = [904, 154]</text>\r\n",
       "</g>\r\n",
       "<!-- 27&#45;&gt;32 -->\r\n",
       "<g id=\"edge35\" class=\"edge\"><title>27&#45;&gt;32</title>\r\n",
       "<path fill=\"none\" stroke=\"black\" d=\"M1431.1,-192.884C1436.61,-184.243 1442.62,-174.819 1448.37,-165.793\"/>\r\n",
       "<polygon fill=\"black\" stroke=\"black\" points=\"1451.36,-167.614 1453.78,-157.299 1445.45,-163.852 1451.36,-167.614\"/>\r\n",
       "</g>\r\n",
       "<!-- 33 -->\r\n",
       "<g id=\"node37\" class=\"node\"><title>33</title>\r\n",
       "<polygon fill=\"none\" stroke=\"black\" points=\"1468,-53 1350,-53 1350,-0 1468,-0 1468,-53\"/>\r\n",
       "<text text-anchor=\"middle\" x=\"1409\" y=\"-37.8\" font-family=\"Times New Roman,serif\" font-size=\"14.00\">entropy = 0.653</text>\r\n",
       "<text text-anchor=\"middle\" x=\"1409\" y=\"-22.8\" font-family=\"Times New Roman,serif\" font-size=\"14.00\">samples = 661</text>\r\n",
       "<text text-anchor=\"middle\" x=\"1409\" y=\"-7.8\" font-family=\"Times New Roman,serif\" font-size=\"14.00\">value = [550, 111]</text>\r\n",
       "</g>\r\n",
       "<!-- 32&#45;&gt;33 -->\r\n",
       "<g id=\"edge36\" class=\"edge\"><title>32&#45;&gt;33</title>\r\n",
       "<path fill=\"none\" stroke=\"black\" d=\"M1451.92,-88.9485C1445.72,-80.0749 1439.01,-70.4648 1432.77,-61.5388\"/>\r\n",
       "<polygon fill=\"black\" stroke=\"black\" points=\"1435.57,-59.4311 1426.97,-53.2367 1429.83,-63.4392 1435.57,-59.4311\"/>\r\n",
       "</g>\r\n",
       "<!-- 34 -->\r\n",
       "<g id=\"node38\" class=\"node\"><title>34</title>\r\n",
       "<polygon fill=\"none\" stroke=\"black\" points=\"1597.5,-53 1486.5,-53 1486.5,-0 1597.5,-0 1597.5,-53\"/>\r\n",
       "<text text-anchor=\"middle\" x=\"1542\" y=\"-37.8\" font-family=\"Times New Roman,serif\" font-size=\"14.00\">entropy = 0.495</text>\r\n",
       "<text text-anchor=\"middle\" x=\"1542\" y=\"-22.8\" font-family=\"Times New Roman,serif\" font-size=\"14.00\">samples = 397</text>\r\n",
       "<text text-anchor=\"middle\" x=\"1542\" y=\"-7.8\" font-family=\"Times New Roman,serif\" font-size=\"14.00\">value = [354, 43]</text>\r\n",
       "</g>\r\n",
       "<!-- 32&#45;&gt;34 -->\r\n",
       "<g id=\"edge37\" class=\"edge\"><title>32&#45;&gt;34</title>\r\n",
       "<path fill=\"none\" stroke=\"black\" d=\"M1498.43,-88.9485C1504.72,-80.0749 1511.54,-70.4648 1517.87,-61.5388\"/>\r\n",
       "<polygon fill=\"black\" stroke=\"black\" points=\"1520.82,-63.4188 1523.75,-53.2367 1515.11,-59.3701 1520.82,-63.4188\"/>\r\n",
       "</g>\r\n",
       "</g>\r\n",
       "</svg>\r\n"
      ],
      "text/plain": [
       "<graphviz.files.Source at 0x1419a36b4e0>"
      ]
     },
     "execution_count": 50,
     "metadata": {},
     "output_type": "execute_result"
    }
   ],
   "source": [
    "s = Source.from_file('Outputs/Titanic.dot')\n",
    "s.render() # saves a pdf file\n",
    "s"
   ]
  },
  {
   "cell_type": "markdown",
   "metadata": {},
   "source": [
    "### Evaluate the tree"
   ]
  },
  {
   "cell_type": "markdown",
   "metadata": {},
   "source": [
    "#### Using train and test data sets"
   ]
  },
  {
   "cell_type": "code",
   "execution_count": 51,
   "metadata": {
    "ExecuteTime": {
     "end_time": "2018-07-31T02:47:02.455273Z",
     "start_time": "2018-07-31T02:47:02.451277Z"
    }
   },
   "outputs": [],
   "source": [
    "from sklearn.metrics import accuracy_score"
   ]
  },
  {
   "cell_type": "code",
   "execution_count": 52,
   "metadata": {
    "ExecuteTime": {
     "end_time": "2018-07-31T02:47:02.463268Z",
     "start_time": "2018-07-31T02:47:02.457271Z"
    }
   },
   "outputs": [],
   "source": [
    "predictions = clf.predict(test.drop(['Survival'], axis=1))"
   ]
  },
  {
   "cell_type": "code",
   "execution_count": 53,
   "metadata": {
    "ExecuteTime": {
     "end_time": "2018-07-31T02:47:02.471264Z",
     "start_time": "2018-07-31T02:47:02.465266Z"
    }
   },
   "outputs": [
    {
     "data": {
      "text/plain": [
       "0.8224489795918367"
      ]
     },
     "execution_count": 53,
     "metadata": {},
     "output_type": "execute_result"
    }
   ],
   "source": [
    "accuracy_score(test['Survival'],predictions)"
   ]
  },
  {
   "cell_type": "markdown",
   "metadata": {},
   "source": [
    "It is possible to tune the decision tree parameters based on the accuracy measure. For example the max_leaf_nodes can be tuned to find the maximum accuracy."
   ]
  },
  {
   "cell_type": "markdown",
   "metadata": {},
   "source": [
    "#### K-fold cross validation"
   ]
  },
  {
   "cell_type": "code",
   "execution_count": 54,
   "metadata": {
    "ExecuteTime": {
     "end_time": "2018-07-31T02:47:02.476261Z",
     "start_time": "2018-07-31T02:47:02.473263Z"
    }
   },
   "outputs": [],
   "source": [
    "from sklearn.model_selection import cross_val_predict, cross_val_score"
   ]
  },
  {
   "cell_type": "code",
   "execution_count": 55,
   "metadata": {
    "ExecuteTime": {
     "end_time": "2018-07-31T02:47:02.485255Z",
     "start_time": "2018-07-31T02:47:02.478260Z"
    }
   },
   "outputs": [],
   "source": [
    "X = training_data[['Age', 'Crew/Passenger', 'Class', 'Adult/Child', 'Gender']]\n",
    "y = training_data[['Survival']]"
   ]
  },
  {
   "cell_type": "code",
   "execution_count": 56,
   "metadata": {
    "ExecuteTime": {
     "end_time": "2018-07-31T02:47:02.514239Z",
     "start_time": "2018-07-31T02:47:02.487255Z"
    }
   },
   "outputs": [
    {
     "data": {
      "text/plain": [
       "array([0.82244898, 0.81428571, 0.79795918, 0.78367347, 0.81799591])"
      ]
     },
     "execution_count": 56,
     "metadata": {},
     "output_type": "execute_result"
    }
   ],
   "source": [
    "cross_val_score(clf, X, y, cv=5)"
   ]
  },
  {
   "cell_type": "markdown",
   "metadata": {},
   "source": [
    "## Ensemble learning to avoid over fitting"
   ]
  },
  {
   "cell_type": "markdown",
   "metadata": {},
   "source": [
    "The ensemble learning relies on using multiple instances of a machine learning algorithm (i.e. decision tree) that are trained with different subsets of the available training data. Also, the algorithm parameters and number of used features may be different for each instance.\n",
    "\n",
    "Each instance might be over/under fitted based on used data. However, the ensemble response is determined based on a majority rule decision.\n",
    "\n",
    "In other words, an ensemble may be defined as a collection of models (even different types) that solve the same problem. However, the final answer is achieved by a combining the response of all the models.\n",
    "\n"
   ]
  },
  {
   "cell_type": "markdown",
   "metadata": {},
   "source": [
    "### Random Forest\n",
    "\n",
    "A collection of decision trees are built and trained independently and the combination provides the final response.\n",
    "\n",
    "- Each tree in ensemble is built from a different subset of the training set (using Bagging (bootstrap aggregating) technique)\n",
    "\n",
    "- Each tree in ensemble is built using a different subset of features (using random subspace technique)\n"
   ]
  },
  {
   "cell_type": "code",
   "execution_count": 90,
   "metadata": {
    "ExecuteTime": {
     "end_time": "2018-07-31T02:47:02.541219Z",
     "start_time": "2018-07-31T02:47:02.516237Z"
    }
   },
   "outputs": [],
   "source": [
    "from sklearn.ensemble import RandomForestClassifier"
   ]
  },
  {
   "cell_type": "code",
   "execution_count": 91,
   "metadata": {
    "ExecuteTime": {
     "end_time": "2018-07-31T02:47:02.549215Z",
     "start_time": "2018-07-31T02:47:02.543219Z"
    }
   },
   "outputs": [
    {
     "data": {
      "text/plain": [
       "RandomForestClassifier(bootstrap=True, class_weight=None, criterion='gini',\n",
       "            max_depth=None, max_features='auto', max_leaf_nodes=None,\n",
       "            min_impurity_decrease=0.0, min_impurity_split=None,\n",
       "            min_samples_leaf=1, min_samples_split=2,\n",
       "            min_weight_fraction_leaf=0.0, n_estimators=10, n_jobs=1,\n",
       "            oob_score=False, random_state=None, verbose=0,\n",
       "            warm_start=False)"
      ]
     },
     "execution_count": 91,
     "metadata": {},
     "output_type": "execute_result"
    }
   ],
   "source": [
    "clf = RandomForestClassifier()\n",
    "clf"
   ]
  },
  {
   "cell_type": "markdown",
   "metadata": {},
   "source": [
    "Most of the parameters are related to settings of a decision tree. Settings related to the ensemble learning (i.e. the random forest) are explained below.\n",
    "\n",
    "- bootstrap: Using the bootstrap technique to randomly select different subsets of data for each tree\n",
    "- n_estimators: number of trees"
   ]
  },
  {
   "cell_type": "code",
   "execution_count": 92,
   "metadata": {},
   "outputs": [
    {
     "name": "stdout",
     "output_type": "stream",
     "text": [
      "Accuracy : 0.81\n"
     ]
    }
   ],
   "source": [
    "clf.fit(X = train[['Age', 'Crew/Passenger', 'Class', 'Adult/Child', 'Gender']], y=train[['Survival']])\n",
    "predictions = clf.predict(test.drop(['Survival'], axis=1))\n",
    "print('Accuracy : %.2f'%(accuracy_score(test['Survival'], predictions)))"
   ]
  },
  {
   "cell_type": "code",
   "execution_count": 93,
   "metadata": {},
   "outputs": [
    {
     "name": "stdout",
     "output_type": "stream",
     "text": [
      "Importance for Age : 0.450\n",
      "Importance for Crew/Passenger : 0.052\n",
      "Importance for Class : 0.185\n",
      "Importance for Adult/Child : 0.009\n",
      "Importance for Gender : 0.304\n"
     ]
    }
   ],
   "source": [
    "for feature, importance in zip(['Age', 'Crew/Passenger', 'Class', 'Adult/Child', 'Gender'],clf.feature_importances_):\n",
    "    print('Importance for {} : {:.3f}'.format(feature,importance))"
   ]
  },
  {
   "cell_type": "code",
   "execution_count": 94,
   "metadata": {
    "ExecuteTime": {
     "end_time": "2018-07-31T02:47:02.557209Z",
     "start_time": "2018-07-31T02:47:02.552214Z"
    }
   },
   "outputs": [],
   "source": [
    "# Using the train/test data\n",
    "def checkAccuracy(n_estimators=10):\n",
    "    clf = RandomForestClassifier(n_estimators=n_estimators, criterion='entropy')\n",
    "    X = train[['Age', 'Crew/Passenger', 'Class', 'Adult/Child', 'Gender']]\n",
    "    y=train[['Survival']]\n",
    "    return np.mean(cross_val_score(clf, X, y, cv=5).mean())"
   ]
  },
  {
   "cell_type": "code",
   "execution_count": 95,
   "metadata": {
    "ExecuteTime": {
     "end_time": "2018-07-31T02:47:05.325497Z",
     "start_time": "2018-07-31T02:47:02.596187Z"
    },
    "scrolled": true
   },
   "outputs": [
    {
     "data": {
      "text/html": [
       "<div>\n",
       "<style scoped>\n",
       "    .dataframe tbody tr th:only-of-type {\n",
       "        vertical-align: middle;\n",
       "    }\n",
       "\n",
       "    .dataframe tbody tr th {\n",
       "        vertical-align: top;\n",
       "    }\n",
       "\n",
       "    .dataframe thead th {\n",
       "        text-align: right;\n",
       "    }\n",
       "</style>\n",
       "<table border=\"1\" class=\"dataframe\">\n",
       "  <thead>\n",
       "    <tr style=\"text-align: right;\">\n",
       "      <th></th>\n",
       "      <th>Number of trees</th>\n",
       "      <th>AccuracyScore</th>\n",
       "    </tr>\n",
       "  </thead>\n",
       "  <tbody>\n",
       "    <tr>\n",
       "      <th>0</th>\n",
       "      <td>1</td>\n",
       "      <td>0.773856</td>\n",
       "    </tr>\n",
       "    <tr>\n",
       "      <th>1</th>\n",
       "      <td>11</td>\n",
       "      <td>0.789191</td>\n",
       "    </tr>\n",
       "    <tr>\n",
       "      <th>2</th>\n",
       "      <td>21</td>\n",
       "      <td>0.792767</td>\n",
       "    </tr>\n",
       "    <tr>\n",
       "      <th>3</th>\n",
       "      <td>31</td>\n",
       "      <td>0.789701</td>\n",
       "    </tr>\n",
       "    <tr>\n",
       "      <th>4</th>\n",
       "      <td>41</td>\n",
       "      <td>0.788175</td>\n",
       "    </tr>\n",
       "  </tbody>\n",
       "</table>\n",
       "</div>"
      ],
      "text/plain": [
       "   Number of trees  AccuracyScore\n",
       "0                1       0.773856\n",
       "1               11       0.789191\n",
       "2               21       0.792767\n",
       "3               31       0.789701\n",
       "4               41       0.788175"
      ]
     },
     "execution_count": 95,
     "metadata": {},
     "output_type": "execute_result"
    }
   ],
   "source": [
    "result ={'Number of trees':[], 'AccuracyScore': []}\n",
    "for n_tree in np.arange(1, 500, 10):\n",
    "    result['Number of trees'].append(n_tree)\n",
    "    result['AccuracyScore'].append(checkAccuracy(n_estimators=n_tree))\n",
    "    \n",
    "result_df = pd.DataFrame.from_dict(result)\n",
    "result_df.head()"
   ]
  },
  {
   "cell_type": "code",
   "execution_count": 96,
   "metadata": {
    "ExecuteTime": {
     "end_time": "2018-07-31T02:47:05.557352Z",
     "start_time": "2018-07-31T02:47:05.327496Z"
    }
   },
   "outputs": [
    {
     "data": {
      "text/plain": [
       "<matplotlib.axes._subplots.AxesSubplot at 0x14197cd6908>"
      ]
     },
     "execution_count": 96,
     "metadata": {},
     "output_type": "execute_result"
    },
    {
     "data": {
      "image/png": "[encoded data removed]",
      "text/plain": [
       "<Figure size 720x360 with 1 Axes>"
      ]
     },
     "metadata": {},
     "output_type": "display_data"
    }
   ],
   "source": [
    "result_df.plot(x='Number of trees', y='AccuracyScore', figsize=(10,5), grid=True, lw=3, color='orange')"
   ]
  },
  {
   "cell_type": "markdown",
   "metadata": {},
   "source": [
    "As can be seen above, adding more trees provides a better classification accuracy on average. However, this doe not mean that adding more tress will necessarily always result in a better accuracy depending on the cross validation population."
   ]
  },
  {
   "cell_type": "markdown",
   "metadata": {},
   "source": [
    "### Gradient Boosted Trees\n",
    "\n",
    "Each tree is built based on learnings of the previous tree\n",
    "\n",
    "Each tree is trained using a different subset of data. However, the Boosting + Gradient Descent techniques are used to pool the subsets. After the bootstrap for one tree, Gradient Descent adjusts the probability of a data point being in the next training set and this continues sequentially. In this context, while the first bootstrap is based on uniform sampling the next one is modified based on what was learned from the previous three classification results. Data points that are classified correctly get lower weight for the next bootstrap. In this way, the likelihood of picking data that are not classified with previous tree increases. Finally, each tree is given a different weight for the final weighting for the majority rule decision.\n",
    "\n",
    "I random forest, there is a \"democracy\" that all trees have the same voting weights. However, in the gradient boosted approach, trees that have a better performance/accuracy get a higher weight. Gradient descent is one of the technique that can be used to quantify the probability of choosing a data point in the train subset based on the result of the previous tree.\n",
    "\n",
    "\n",
    "For window installation:\n",
    "\n",
    "```shell\n",
    "conda install -c anaconda py-xgboost\n",
    "```\n",
    "\n",
    "A rule of thumb is to use a lower number of tree when dealing with a small training data set. "
   ]
  },
  {
   "cell_type": "code",
   "execution_count": 64,
   "metadata": {
    "ExecuteTime": {
     "end_time": "2018-07-31T02:55:18.294710Z",
     "start_time": "2018-07-31T02:55:18.291713Z"
    }
   },
   "outputs": [],
   "source": [
    "from xgboost.sklearn import XGBClassifier"
   ]
  },
  {
   "cell_type": "code",
   "execution_count": 65,
   "metadata": {
    "ExecuteTime": {
     "end_time": "2018-07-31T02:55:18.905034Z",
     "start_time": "2018-07-31T02:55:18.900037Z"
    }
   },
   "outputs": [
    {
     "data": {
      "text/plain": [
       "XGBClassifier(base_score=0.5, booster='gbtree', colsample_bylevel=1,\n",
       "       colsample_bytree=1, gamma=0, learning_rate=0.1, max_delta_step=0,\n",
       "       max_depth=3, min_child_weight=1, missing=None, n_estimators=100,\n",
       "       n_jobs=1, nthread=None, objective='binary:logistic', random_state=0,\n",
       "       reg_alpha=0, reg_lambda=1, scale_pos_weight=1, seed=None,\n",
       "       silent=True, subsample=1)"
      ]
     },
     "execution_count": 65,
     "metadata": {},
     "output_type": "execute_result"
    }
   ],
   "source": [
    "clf = XGBClassifier()\n",
    "clf"
   ]
  },
  {
   "cell_type": "markdown",
   "metadata": {},
   "source": [
    "- colsample_bylevel: Fraction of features used by each tree\n",
    "\n",
    "- learning_rate: Controls the probability manipulation of data records based on the previous tree. Increasing this factor results in an increased focus on data records that were miss-classified.\n",
    "\n",
    "- subsample: Fraction of the provided training data set used for each tree. Lowering this number results in a more distinct difference between training data sets used for each tree\n",
    "\n",
    "- gamma: Minimum reduction in error to split the tree further\n",
    "\n",
    "- n_estimators: Number of trees"
   ]
  },
  {
   "cell_type": "code",
   "execution_count": 66,
   "metadata": {},
   "outputs": [
    {
     "name": "stdout",
     "output_type": "stream",
     "text": [
      "Accuracy : 0.82\n"
     ]
    }
   ],
   "source": [
    "clf.fit(X = train[['Age', 'Crew/Passenger', 'Class', 'Adult/Child', 'Gender']], y=train[['Survival']])\n",
    "predictions = clf.predict(test.drop(['Survival'], axis=1))\n",
    "print('Accuracy : %.2f'%(accuracy_score(test['Survival'], predictions)))"
   ]
  },
  {
   "cell_type": "code",
   "execution_count": 67,
   "metadata": {},
   "outputs": [
    {
     "name": "stdout",
     "output_type": "stream",
     "text": [
      "Importance for Age : 0.629\n",
      "Importance for Crew/Passenger : 0.057\n",
      "Importance for Class : 0.221\n",
      "Importance for Adult/Child : 0.000\n",
      "Importance for Gender : 0.093\n"
     ]
    }
   ],
   "source": [
    "for feature, importance in zip(['Age', 'Crew/Passenger', 'Class', 'Adult/Child', 'Gender'],clf.feature_importances_):\n",
    "    print('Importance for {} : {:.3f}'.format(feature,importance))"
   ]
  },
  {
   "cell_type": "markdown",
   "metadata": {},
   "source": [
    "### Hyper Parameter Tuning\n",
    "\n",
    "Considering the different parameters that affect the performance of a decision tree and also parameters that control the ensemble learning, there are many combinations that should be checked to find the best accuracy for the train/test data set. Hyper parameter tuning uses optimization technique to find an optimal combination."
   ]
  },
  {
   "cell_type": "code",
   "execution_count": 68,
   "metadata": {
    "ExecuteTime": {
     "end_time": "2018-07-31T02:47:07.350556Z",
     "start_time": "2018-07-31T02:47:06.970478Z"
    }
   },
   "outputs": [],
   "source": [
    "# conda install -c jaikumarm hyperopt\n",
    "from hyperopt import fmin, tpe, hp, STATUS_OK, Trials"
   ]
  },
  {
   "cell_type": "code",
   "execution_count": 69,
   "metadata": {
    "ExecuteTime": {
     "end_time": "2018-07-31T02:47:07.360549Z",
     "start_time": "2018-07-31T02:47:07.352552Z"
    }
   },
   "outputs": [],
   "source": [
    "# provide the optimization range/population \n",
    "control = {\n",
    "    'n_estimators': hp.quniform('n_estimators',100,1000,1)\n",
    "    ,'learning_rate': hp.quniform('learning_rate', 0.1,0.4,0.1)\n",
    "    ,'max_depth': hp.quniform('max_depth',1,15,1)\n",
    "    ,'min_child_weight': hp.quniform('min_child_weight',1,6,1)\n",
    "    ,'subsample': hp.quniform('subsample',0.5,1,0.05)\n",
    "    ,'gamma': hp.quniform('gamma', 0.5,1,0.05)\n",
    "    ,'colsample_bytree': hp.quniform('colsample_bytree',0.5,1,0.05)\n",
    "    ,'nthread':5\n",
    "    ,'silent':1              \n",
    "}"
   ]
  },
  {
   "cell_type": "code",
   "execution_count": 70,
   "metadata": {},
   "outputs": [],
   "source": [
    "def scorevalue(clf):\n",
    "    X = train[['Age', 'Crew/Passenger', 'Class', 'Adult/Child', 'Gender']]\n",
    "    y=train[['Survival']]\n",
    "    return np.mean(cross_val_score(clf, X, y, cv=5).mean())"
   ]
  },
  {
   "cell_type": "code",
   "execution_count": 71,
   "metadata": {
    "ExecuteTime": {
     "end_time": "2018-07-31T02:47:07.368542Z",
     "start_time": "2018-07-31T02:47:07.362545Z"
    }
   },
   "outputs": [],
   "source": [
    "# Define a score that gets minimized and provides what you need\n",
    "def score(params):\n",
    "    params['n_estimators'] = int(params['n_estimators'])\n",
    "    params['max_depth'] = int(params['max_depth'])\n",
    "    clf = XGBClassifier(**params)\n",
    "    return {'loss':1-scorevalue(clf), 'status':STATUS_OK}"
   ]
  },
  {
   "cell_type": "code",
   "execution_count": 72,
   "metadata": {
    "ExecuteTime": {
     "end_time": "2018-07-31T02:47:07.374538Z",
     "start_time": "2018-07-31T02:47:07.370540Z"
    }
   },
   "outputs": [],
   "source": [
    "trails=Trials()"
   ]
  },
  {
   "cell_type": "code",
   "execution_count": 73,
   "metadata": {
    "ExecuteTime": {
     "end_time": "2018-07-31T02:51:09.629027Z",
     "start_time": "2018-07-31T02:47:07.376537Z"
    }
   },
   "outputs": [],
   "source": [
    "best_param_set = fmin(score,control,algo=tpe.suggest,trials=trails,max_evals=250)"
   ]
  },
  {
   "cell_type": "code",
   "execution_count": 74,
   "metadata": {
    "ExecuteTime": {
     "end_time": "2018-07-31T02:51:09.639022Z",
     "start_time": "2018-07-31T02:51:09.632024Z"
    }
   },
   "outputs": [
    {
     "name": "stdout",
     "output_type": "stream",
     "text": [
      "Optimized parameters: \n",
      "colsample_bytree = 1.0\n",
      "gamma = 1.0\n",
      "learning_rate = 0.2\n",
      "max_depth = 10.0\n",
      "min_child_weight = 5.0\n",
      "n_estimators = 583.0\n",
      "subsample = 1.0\n"
     ]
    }
   ],
   "source": [
    "print('Optimized parameters: ')\n",
    "for key, value in best_param_set.items():\n",
    "    print('{} = {}'.format(key,value))"
   ]
  },
  {
   "cell_type": "code",
   "execution_count": 75,
   "metadata": {},
   "outputs": [
    {
     "name": "stdout",
     "output_type": "stream",
     "text": [
      "Optimized Accuracy: 0.816\n"
     ]
    }
   ],
   "source": [
    "print('Optimized Accuracy: {:.3f}'.format(1-score(best_param_set)['loss']))"
   ]
  }
 ],
 "metadata": {
  "kernelspec": {
   "display_name": "Python 3",
   "language": "python",
   "name": "python3"
  },
  "language_info": {
   "codemirror_mode": {
    "name": "ipython",
    "version": 3
   },
   "file_extension": ".py",
   "mimetype": "text/x-python",
   "name": "python",
   "nbconvert_exporter": "python",
   "pygments_lexer": "ipython3",
   "version": "3.6.5"
  },
  "toc": {
   "nav_menu": {},
   "number_sections": true,
   "sideBar": true,
   "skip_h1_title": false,
   "toc_cell": false,
   "toc_position": {
    "height": "774px",
    "left": "0px",
    "right": "1452.91px",
    "top": "111px",
    "width": "293px"
   },
   "toc_section_display": true,
   "toc_window_display": true
  }
 },
 "nbformat": 4,
 "nbformat_minor": 2
}
